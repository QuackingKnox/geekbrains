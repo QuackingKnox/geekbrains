{
  "nbformat": 4,
  "nbformat_minor": 0,
  "metadata": {
    "accelerator": "GPU",
    "colab": {
      "name": "nn_4_lesson.ipynb",
      "provenance": [],
      "collapsed_sections": []
    },
    "kernelspec": {
      "display_name": "Python 3",
      "language": "python",
      "name": "python3"
    },
    "language_info": {
      "codemirror_mode": {
        "name": "ipython",
        "version": 3
      },
      "file_extension": ".py",
      "mimetype": "text/x-python",
      "name": "python",
      "nbconvert_exporter": "python",
      "pygments_lexer": "ipython3",
      "version": "3.7.1"
    }
  },
  "cells": [
    {
      "cell_type": "markdown",
      "metadata": {
        "id": "GJqW1sHnm591"
      },
      "source": [
        "# Введение в искусственные нейронные сети\n",
        "# Урок 4. Сверточные нейронные сети"
      ]
    },
    {
      "cell_type": "code",
      "metadata": {
        "id": "iGu1gJYrtSam"
      },
      "source": [
        "import cv2\n",
        "import numpy as np\n",
        "from scipy import misc\n",
        "I = misc.ascent()"
      ],
      "execution_count": 1,
      "outputs": []
    },
    {
      "cell_type": "code",
      "metadata": {
        "id": "jVlE5weZatMB"
      },
      "source": [
        "import numpy as np\n",
        "import os\n",
        "import tensorflow as tf\n",
        "from __future__ import print_function\n",
        "from tensorflow.keras.models import Sequential, Model\n",
        "from tensorflow.keras.layers import Conv2D, Input, Dense, Dropout, Activation, Flatten\n",
        "from tensorflow.keras.layers import GlobalMaxPooling2D, MaxPooling2D, AveragePooling2D, GlobalAveragePooling2D \n",
        "from tensorflow.keras.preprocessing.image import ImageDataGenerator\n",
        "from tensorflow.keras import models, layers\n",
        "from tensorflow.keras.datasets import cifar10\n",
        "import tensorflow.keras as keras\n",
        "from tensorflow.keras.utils import to_categorical"
      ],
      "execution_count": 2,
      "outputs": []
    },
    {
      "cell_type": "code",
      "metadata": {
        "colab": {
          "base_uri": "https://localhost:8080/"
        },
        "id": "CXVFl3AdPrF1",
        "outputId": "a981724a-f8b2-4d5f-ddd4-eca2ee3b4321"
      },
      "source": [
        "# установка параметров нейросети\n",
        "batch_size = 32\n",
        "num_classes = 10\n",
        "epochs = 5\n",
        "data_augmentation = True\n",
        "num_predictions = 20\n",
        "save_dir = os.path.join(os.getcwd(), 'saved_models')\n",
        "model_name = 'keras_cifar10_trained_model.h5'\n",
        "\n",
        "# разделение тренировочной и тестовой выборки\n",
        "(x_train, y_train), (x_test, y_test) = cifar10.load_data()\n",
        "print('x_train shape:', x_train.shape)\n",
        "print(x_train.shape[0], 'тренировочные примеры')\n",
        "print(x_test.shape[0], 'тестовые примеры')\n",
        "\n",
        "# преобразование матрицы чисел 0-9 в бинарную матрицу чисел 0-1\n",
        "y_train = keras.utils.to_categorical(y_train, num_classes)\n",
        "y_test = keras.utils.to_categorical(y_test, num_classes)\n",
        "\n",
        "\n",
        "x_train = x_train.astype('float32')\n",
        "x_test = x_test.astype('float32')\n",
        "x_train /= 255\n",
        "x_test /= 255"
      ],
      "execution_count": 3,
      "outputs": [
        {
          "output_type": "stream",
          "text": [
            "Downloading data from https://www.cs.toronto.edu/~kriz/cifar-10-python.tar.gz\n",
            "170500096/170498071 [==============================] - 11s 0us/step\n",
            "x_train shape: (50000, 32, 32, 3)\n",
            "50000 тренировочные примеры\n",
            "10000 тестовые примеры\n"
          ],
          "name": "stdout"
        }
      ]
    },
    {
      "cell_type": "code",
      "metadata": {
        "colab": {
          "base_uri": "https://localhost:8080/"
        },
        "id": "q_1hNBrl2enw",
        "outputId": "7cb6165c-7fb6-4130-cf0a-957c819a8e90"
      },
      "source": [
        "# инициализация  модели\n",
        "input1= layers.Input(shape=(32,32,3))\n",
        "# первый сверточный слой\n",
        "x1 = layers.Conv2D(32, kernel_size=(5, 5), strides=(1, 1), activation='tanh',  padding=\"valid\")(input1) #2828\n",
        "\n",
        "# второй пуллинговый слой\n",
        "x2 = layers.AveragePooling2D(pool_size=(2, 2), strides=(1, 1),  padding='same')(x1) #2828\n",
        "\n",
        "# третий сверточный слой\n",
        "x3 = layers.Conv2D(64, kernel_size=(5, 5), strides=(1, 1), activation='tanh', padding='valid')(x2)#2424\n",
        "\n",
        "# четвертый пуллинговый слой\n",
        "x4 = layers.AveragePooling2D(pool_size=(2, 2), strides=(2, 2), padding='valid')(x3) #1212\n",
        "\n",
        "# пятый  слой\n",
        "x5 = layers.Conv2D(120, kernel_size=(5, 5), strides=(1, 1), activation='tanh', padding='valid')(x4) #88\n",
        "\n",
        "# сглаживание CNN выхода чтобы можно было его присоединить к полносвязногому слою\n",
        "x6 = layers.Flatten()(x5)\n",
        "\n",
        "# шестой полносвязный слой\n",
        "x7 = layers.Dense(84, activation='tanh')(x6)\n",
        "\n",
        "# выходной слой с функцией активации softmax\n",
        "out_x = layers.Dense(10, activation='softmax')(x7)\n",
        "\n",
        "\n",
        "# Соберем полную модель сети от входа к выходу \n",
        "model1 = Model(inputs = input1, outputs = out_x) \n",
        "\n",
        "# компилияция модели\n",
        "model1.compile(loss=keras.losses.categorical_crossentropy, optimizer='SGD', metrics=[\"accuracy\"])\n",
        "\n",
        "# Обучаем модель\n",
        "hist = model1.fit(x=x_train,y=y_train, epochs=2, batch_size=128, validation_data=(x_test, y_test), verbose=2)\n",
        "\n",
        "test_score = model1.evaluate(x_test, y_test)\n",
        "print(\"Test loss {:.4f}, accuracy {:.2f}%\".format(test_score[0], test_score[1] * 100))"
      ],
      "execution_count": null,
      "outputs": [
        {
          "output_type": "stream",
          "text": [
            "Epoch 1/2\n",
            "391/391 [==============================] - 38s 22ms/step - loss: 2.0193 - accuracy: 0.2762 - val_loss: 1.8532 - val_accuracy: 0.3478\n",
            "Epoch 2/2\n",
            "391/391 [==============================] - 8s 21ms/step - loss: 1.8175 - accuracy: 0.3611 - val_loss: 1.7813 - val_accuracy: 0.3753\n",
            "313/313 [==============================] - 2s 5ms/step - loss: 1.7813 - accuracy: 0.3753\n",
            "Test loss 1.7813, accuracy 37.53%\n"
          ],
          "name": "stdout"
        }
      ]
    },
    {
      "cell_type": "code",
      "metadata": {
        "id": "FXqYlV5ImuiH"
      },
      "source": [
        "def history_last(model):\n",
        "    last = list(model.history.values())[-1][-1]\n",
        "    return last"
      ],
      "execution_count": null,
      "outputs": []
    },
    {
      "cell_type": "code",
      "metadata": {
        "colab": {
          "base_uri": "https://localhost:8080/"
        },
        "id": "betn37NSmT1I",
        "outputId": "2bedabe9-489e-4376-910d-90818668e063"
      },
      "source": [
        "history_last(hist)"
      ],
      "execution_count": null,
      "outputs": [
        {
          "output_type": "execute_result",
          "data": {
            "text/plain": [
              "0.37529999017715454"
            ]
          },
          "metadata": {
            "tags": []
          },
          "execution_count": 9
        }
      ]
    },
    {
      "cell_type": "code",
      "metadata": {
        "id": "fLISGuQemrZi"
      },
      "source": [
        "first_note = [{'kernels': '32, 64, 120', \"layers\": '5/2', 'accuracy': history_last(hist)}]"
      ],
      "execution_count": null,
      "outputs": []
    },
    {
      "cell_type": "code",
      "metadata": {
        "colab": {
          "base_uri": "https://localhost:8080/",
          "height": 80
        },
        "id": "kXXwsHxcnT3l",
        "outputId": "f381da19-7e77-408f-f38b-c9c67f8220b5"
      },
      "source": [
        "import pandas as pd\n",
        "model_df = pd.DataFrame(first_note)\n",
        "model_df"
      ],
      "execution_count": null,
      "outputs": [
        {
          "output_type": "execute_result",
          "data": {
            "text/html": [
              "<div>\n",
              "<style scoped>\n",
              "    .dataframe tbody tr th:only-of-type {\n",
              "        vertical-align: middle;\n",
              "    }\n",
              "\n",
              "    .dataframe tbody tr th {\n",
              "        vertical-align: top;\n",
              "    }\n",
              "\n",
              "    .dataframe thead th {\n",
              "        text-align: right;\n",
              "    }\n",
              "</style>\n",
              "<table border=\"1\" class=\"dataframe\">\n",
              "  <thead>\n",
              "    <tr style=\"text-align: right;\">\n",
              "      <th></th>\n",
              "      <th>kernels</th>\n",
              "      <th>layers</th>\n",
              "      <th>accuracy</th>\n",
              "    </tr>\n",
              "  </thead>\n",
              "  <tbody>\n",
              "    <tr>\n",
              "      <th>0</th>\n",
              "      <td>32, 64, 120</td>\n",
              "      <td>5/2</td>\n",
              "      <td>0.3753</td>\n",
              "    </tr>\n",
              "  </tbody>\n",
              "</table>\n",
              "</div>"
            ],
            "text/plain": [
              "       kernels layers  accuracy\n",
              "0  32, 64, 120    5/2    0.3753"
            ]
          },
          "metadata": {
            "tags": []
          },
          "execution_count": 11
        }
      ]
    },
    {
      "cell_type": "code",
      "metadata": {
        "colab": {
          "base_uri": "https://localhost:8080/",
          "height": 173
        },
        "id": "CFwvsJ04oNfa",
        "outputId": "abb1acdd-b140-46c6-9e4a-6c6ce28ac834"
      },
      "source": [
        "model_df"
      ],
      "execution_count": null,
      "outputs": [
        {
          "output_type": "execute_result",
          "data": {
            "text/html": [
              "<div>\n",
              "<style scoped>\n",
              "    .dataframe tbody tr th:only-of-type {\n",
              "        vertical-align: middle;\n",
              "    }\n",
              "\n",
              "    .dataframe tbody tr th {\n",
              "        vertical-align: top;\n",
              "    }\n",
              "\n",
              "    .dataframe thead th {\n",
              "        text-align: right;\n",
              "    }\n",
              "</style>\n",
              "<table border=\"1\" class=\"dataframe\">\n",
              "  <thead>\n",
              "    <tr style=\"text-align: right;\">\n",
              "      <th></th>\n",
              "      <th>kernels</th>\n",
              "      <th>layers</th>\n",
              "      <th>accuracy</th>\n",
              "    </tr>\n",
              "  </thead>\n",
              "  <tbody>\n",
              "    <tr>\n",
              "      <th>0</th>\n",
              "      <td>32, 64, 120</td>\n",
              "      <td>5/2</td>\n",
              "      <td>0.3619</td>\n",
              "    </tr>\n",
              "    <tr>\n",
              "      <th>1</th>\n",
              "      <td>64, 128, 256</td>\n",
              "      <td>5/2</td>\n",
              "      <td>0.3782</td>\n",
              "    </tr>\n",
              "    <tr>\n",
              "      <th>2</th>\n",
              "      <td>16, 32, 64</td>\n",
              "      <td>5/2</td>\n",
              "      <td>0.3672</td>\n",
              "    </tr>\n",
              "    <tr>\n",
              "      <th>3</th>\n",
              "      <td>32, 64, 32</td>\n",
              "      <td>5/2</td>\n",
              "      <td>0.3535</td>\n",
              "    </tr>\n",
              "  </tbody>\n",
              "</table>\n",
              "</div>"
            ],
            "text/plain": [
              "        kernels layers  accuracy\n",
              "0   32, 64, 120    5/2    0.3619\n",
              "1  64, 128, 256    5/2    0.3782\n",
              "2    16, 32, 64    5/2    0.3672\n",
              "3    32, 64, 32    5/2    0.3535"
            ]
          },
          "metadata": {
            "tags": []
          },
          "execution_count": 86
        }
      ]
    },
    {
      "cell_type": "code",
      "metadata": {
        "colab": {
          "base_uri": "https://localhost:8080/"
        },
        "id": "Q7y4X-dKnT5s",
        "outputId": "2757a2f5-f951-4176-ec4b-4181b16200f6"
      },
      "source": [
        "# инициализация  модели\n",
        "input1= layers.Input(shape=(32,32,3))\n",
        "# первый сверточный слой\n",
        "x1 = layers.Conv2D(64, kernel_size=(5, 5), strides=(1, 1), activation='tanh',  padding=\"valid\")(input1) #2828\n",
        "\n",
        "# второй пуллинговый слой\n",
        "x2 = layers.AveragePooling2D(pool_size=(2, 2), strides=(1, 1),  padding='same')(x1) #2828\n",
        "\n",
        "# третий сверточный слой\n",
        "x3 = layers.Conv2D(128, kernel_size=(5, 5), strides=(1, 1), activation='tanh', padding='valid')(x2)#2424\n",
        "\n",
        "# четвертый пуллинговый слой\n",
        "x4 = layers.AveragePooling2D(pool_size=(2, 2), strides=(2, 2), padding='valid')(x3) #1212\n",
        "\n",
        "# пятый  слой\n",
        "x5 = layers.Conv2D(256, kernel_size=(5, 5), strides=(1, 1), activation='tanh', padding='valid')(x4) #88\n",
        "\n",
        "# сглаживание CNN выхода чтобы можно было его присоединить к полносвязногому слою\n",
        "x6 = layers.Flatten()(x5)\n",
        "\n",
        "# шестой полносвязный слой\n",
        "x7 = layers.Dense(84, activation='tanh')(x6)\n",
        "\n",
        "# выходной слой с функцией активации softmax\n",
        "out_x = layers.Dense(10, activation='softmax')(x7)\n",
        "\n",
        "\n",
        "# Соберем полную модель сети от входа к выходу \n",
        "model1 = Model(inputs = input1, outputs = out_x) \n",
        "\n",
        "# компилияция модели\n",
        "model1.compile(loss=keras.losses.categorical_crossentropy, optimizer='SGD', metrics=[\"accuracy\"])\n",
        "\n",
        "# Обучаем модель\n",
        "hist = model1.fit(x=x_train,y=y_train, epochs=2, batch_size=128, validation_data=(x_test, y_test), verbose=1)\n",
        "\n",
        "test_score = model1.evaluate(x_test, y_test)\n",
        "print(\"Test loss {:.4f}, accuracy {:.2f}%\".format(test_score[0], test_score[1] * 100))"
      ],
      "execution_count": null,
      "outputs": [
        {
          "output_type": "stream",
          "text": [
            "Epoch 1/2\n",
            "391/391 [==============================] - 19s 45ms/step - loss: 1.9895 - accuracy: 0.2865 - val_loss: 1.8420 - val_accuracy: 0.3507\n",
            "Epoch 2/2\n",
            "391/391 [==============================] - 17s 42ms/step - loss: 1.8081 - accuracy: 0.3664 - val_loss: 1.7720 - val_accuracy: 0.3763\n",
            "313/313 [==============================] - 3s 8ms/step - loss: 1.7720 - accuracy: 0.3763\n",
            "Test loss 1.7720, accuracy 37.63%\n"
          ],
          "name": "stdout"
        }
      ]
    },
    {
      "cell_type": "code",
      "metadata": {
        "id": "CjT8MLuFnT7z"
      },
      "source": [
        "model_df.loc[len(model_df)] = [ '64, 128, 256', '5/2', history_last(hist)]"
      ],
      "execution_count": null,
      "outputs": []
    },
    {
      "cell_type": "code",
      "metadata": {
        "colab": {
          "base_uri": "https://localhost:8080/"
        },
        "id": "x_B-fwYxn2yR",
        "outputId": "9bcecc72-1a78-4b8e-d8e2-5a75fe4f6983"
      },
      "source": [
        "# инициализация  модели\n",
        "input1= layers.Input(shape=(32,32,3))\n",
        "# первый сверточный слой\n",
        "x1 = layers.Conv2D(16, kernel_size=(5, 5), strides=(1, 1), activation='tanh',  padding=\"valid\")(input1) #2828\n",
        "\n",
        "# второй пуллинговый слой\n",
        "x2 = layers.AveragePooling2D(pool_size=(2, 2), strides=(1, 1),  padding='same')(x1) #2828\n",
        "\n",
        "# третий сверточный слой\n",
        "x3 = layers.Conv2D(32, kernel_size=(5, 5), strides=(1, 1), activation='tanh', padding='valid')(x2)#2424\n",
        "\n",
        "# четвертый пуллинговый слой\n",
        "x4 = layers.AveragePooling2D(pool_size=(2, 2), strides=(2, 2), padding='valid')(x3) #1212\n",
        "\n",
        "# пятый  слой\n",
        "x5 = layers.Conv2D(64, kernel_size=(5, 5), strides=(1, 1), activation='tanh', padding='valid')(x4) #88\n",
        "\n",
        "# сглаживание CNN выхода чтобы можно было его присоединить к полносвязногому слою\n",
        "x6 = layers.Flatten()(x5)\n",
        "\n",
        "# шестой полносвязный слой\n",
        "x7 = layers.Dense(84, activation='tanh')(x6)\n",
        "\n",
        "# выходной слой с функцией активации softmax\n",
        "out_x = layers.Dense(10, activation='softmax')(x7)\n",
        "\n",
        "\n",
        "# Соберем полную модель сети от входа к выходу \n",
        "model1 = Model(inputs = input1, outputs = out_x) \n",
        "\n",
        "# компилияция модели\n",
        "model1.compile(loss=keras.losses.categorical_crossentropy, optimizer='SGD', metrics=[\"accuracy\"])\n",
        "\n",
        "# Обучаем модель\n",
        "hist = model1.fit(x=x_train,y=y_train, epochs=2, batch_size=128, validation_data=(x_test, y_test), verbose=2)\n",
        "\n",
        "test_score = model1.evaluate(x_test, y_test)\n",
        "print(\"Test loss {:.4f}, accuracy {:.2f}%\".format(test_score[0], test_score[1] * 100))"
      ],
      "execution_count": null,
      "outputs": [
        {
          "output_type": "stream",
          "text": [
            "Epoch 1/2\n",
            "391/391 - 5s - loss: 2.0396 - accuracy: 0.2587 - val_loss: 1.9523 - val_accuracy: 0.3031\n",
            "Epoch 2/2\n",
            "391/391 - 4s - loss: 1.8369 - accuracy: 0.3507 - val_loss: 1.7924 - val_accuracy: 0.3712\n",
            "313/313 [==============================] - 1s 4ms/step - loss: 1.7924 - accuracy: 0.3712\n",
            "Test loss 1.7924, accuracy 37.12%\n"
          ],
          "name": "stdout"
        }
      ]
    },
    {
      "cell_type": "code",
      "metadata": {
        "id": "Spl4JAYWn20R"
      },
      "source": [
        "model_df.loc[len(model_df)] = [ '16, 32, 64', '5/2', history_last(hist)]"
      ],
      "execution_count": null,
      "outputs": []
    },
    {
      "cell_type": "code",
      "metadata": {
        "colab": {
          "base_uri": "https://localhost:8080/"
        },
        "id": "Gk0yx0H9n213",
        "outputId": "78526f2e-6569-4056-b943-67d42ccef797"
      },
      "source": [
        "# инициализация  модели\n",
        "input1= layers.Input(shape=(32,32,3))\n",
        "# первый сверточный слой\n",
        "x1 = layers.Conv2D(32, kernel_size=(5, 5), strides=(1, 1), activation='tanh',  padding=\"valid\")(input1) #2828\n",
        "\n",
        "# второй пуллинговый слой\n",
        "x2 = layers.AveragePooling2D(pool_size=(2, 2), strides=(1, 1),  padding='same')(x1) #2828\n",
        "\n",
        "# третий сверточный слой\n",
        "x3 = layers.Conv2D(64, kernel_size=(5, 5), strides=(1, 1), activation='tanh', padding='valid')(x2)#2424\n",
        "\n",
        "# четвертый пуллинговый слой\n",
        "x4 = layers.AveragePooling2D(pool_size=(2, 2), strides=(2, 2), padding='valid')(x3) #1212\n",
        "\n",
        "# пятый  слой\n",
        "x5 = layers.Conv2D(32, kernel_size=(5, 5), strides=(1, 1), activation='tanh', padding='valid')(x4) #88\n",
        "\n",
        "# сглаживание CNN выхода чтобы можно было его присоединить к полносвязногому слою\n",
        "x6 = layers.Flatten()(x5)\n",
        "\n",
        "# шестой полносвязный слой\n",
        "x7 = layers.Dense(84, activation='tanh')(x6)\n",
        "\n",
        "# выходной слой с функцией активации softmax\n",
        "out_x = layers.Dense(10, activation='softmax')(x7)\n",
        "\n",
        "\n",
        "# Соберем полную модель сети от входа к выходу \n",
        "model1 = Model(inputs = input1, outputs = out_x) \n",
        "\n",
        "# компилияция модели\n",
        "model1.compile(loss=keras.losses.categorical_crossentropy, optimizer='SGD', metrics=[\"accuracy\"])\n",
        "\n",
        "# Обучаем модель\n",
        "hist = model1.fit(x=x_train,y=y_train, epochs=2, batch_size=128, validation_data=(x_test, y_test), verbose=1)\n",
        "\n",
        "test_score = model1.evaluate(x_test, y_test)\n",
        "print(\"Test loss {:.4f}, accuracy {:.2f}%\".format(test_score[0], test_score[1] * 100))"
      ],
      "execution_count": null,
      "outputs": [
        {
          "output_type": "stream",
          "text": [
            "Epoch 1/2\n",
            "391/391 [==============================] - 8s 19ms/step - loss: 2.0233 - accuracy: 0.2698 - val_loss: 1.8829 - val_accuracy: 0.3232\n",
            "Epoch 2/2\n",
            "391/391 [==============================] - 7s 18ms/step - loss: 1.8292 - accuracy: 0.3512 - val_loss: 1.7710 - val_accuracy: 0.3724\n",
            "313/313 [==============================] - 2s 6ms/step - loss: 1.7710 - accuracy: 0.3724\n",
            "Test loss 1.7710, accuracy 37.24%\n"
          ],
          "name": "stdout"
        }
      ]
    },
    {
      "cell_type": "code",
      "metadata": {
        "id": "QwIde3wYoIQ2"
      },
      "source": [
        "model_df.loc[len(model_df)] = [ '32, 64, 32', '5/2', history_last(hist)]"
      ],
      "execution_count": null,
      "outputs": []
    },
    {
      "cell_type": "code",
      "metadata": {
        "colab": {
          "base_uri": "https://localhost:8080/"
        },
        "id": "MJ822tA-oK7g",
        "outputId": "b4128be7-0784-4e39-e8bf-37bfc2f305ea"
      },
      "source": [
        "# инициализация  модели\n",
        "input1= layers.Input(shape=(32,32,3))\n",
        "# первый сверточный слой\n",
        "x1 = layers.Conv2D(64, kernel_size=(5, 5), strides=(1, 1), activation='tanh',  padding=\"valid\")(input1) #28\n",
        "\n",
        "# второй пуллинговый слой\n",
        "x2 = layers.AveragePooling2D(pool_size=(2, 2), strides=(1, 1),  padding='same')(x1) #28\n",
        "\n",
        "# третий сверточный слой\n",
        "x3 = layers.Conv2D(128, kernel_size=(3, 3), strides=(1, 1), activation='tanh', padding='valid')(x2) #2626\n",
        "\n",
        "# четвертый пуллинговый слой\n",
        "x4 = layers.AveragePooling2D(pool_size=(2, 2), strides=(2, 2), padding='valid')(x3) #1313\n",
        "\n",
        "# пятый  слой\n",
        "x5 = layers.Conv2D(128, kernel_size=(4, 4), strides=(1, 1), activation='tanh', padding='valid')(x4) #1111\n",
        "\n",
        "# сглаживание CNN выхода чтобы можно было его присоединить к полносвязногому слою\n",
        "x6 = layers.Flatten()(x5)\n",
        "\n",
        "# шестой полносвязный слой\n",
        "x7 = layers.Dense(84, activation='tanh')(x6)\n",
        "\n",
        "# выходной слой с функцией активации softmax\n",
        "out_x = layers.Dense(10, activation='softmax')(x7)\n",
        "\n",
        "\n",
        "# Соберем полную модель сети от входа к выходу \n",
        "model1 = Model(inputs = input1, outputs = out_x) \n",
        "\n",
        "# компилияция модели\n",
        "model1.compile(loss=keras.losses.categorical_crossentropy, optimizer='SGD', metrics=[\"accuracy\"])\n",
        "\n",
        "# Обучаем модель\n",
        "hist = model1.fit(x=x_train,y=y_train, epochs=2, batch_size=128, validation_data=(x_test, y_test), verbose=1)\n",
        "\n",
        "test_score = model1.evaluate(x_test, y_test)\n",
        "print(\"Test loss {:.4f}, accuracy {:.2f}%\".format(test_score[0], test_score[1] * 100))"
      ],
      "execution_count": null,
      "outputs": [
        {
          "output_type": "stream",
          "text": [
            "Epoch 1/2\n",
            "391/391 [==============================] - 16s 40ms/step - loss: 1.9920 - accuracy: 0.2853 - val_loss: 1.8540 - val_accuracy: 0.3504\n",
            "Epoch 2/2\n",
            "391/391 [==============================] - 15s 39ms/step - loss: 1.7993 - accuracy: 0.3679 - val_loss: 1.7898 - val_accuracy: 0.3678\n",
            "313/313 [==============================] - 2s 7ms/step - loss: 1.7898 - accuracy: 0.3678\n",
            "Test loss 1.7898, accuracy 36.78%\n"
          ],
          "name": "stdout"
        }
      ]
    },
    {
      "cell_type": "code",
      "metadata": {
        "id": "Af5Wx0o3oK9e"
      },
      "source": [
        "model_df.loc[len(model_df)] = [ '64, 128, 128', '5/2', history_last(hist)]"
      ],
      "execution_count": null,
      "outputs": []
    },
    {
      "cell_type": "code",
      "metadata": {
        "colab": {
          "base_uri": "https://localhost:8080/"
        },
        "id": "Wksfa_jqoK_c",
        "outputId": "abe92dbb-ca9d-44b1-8807-c9ba99121e6e"
      },
      "source": [
        "# инициализация  модели\n",
        "input1= layers.Input(shape=(32,32,3))\n",
        "# первый сверточный слой\n",
        "x1 = layers.Conv2D(64, kernel_size=(5, 5), strides=(1, 1), activation='tanh',  padding=\"valid\")(input1) #28\n",
        "\n",
        "# второй пуллинговый слой\n",
        "x2 = layers.AveragePooling2D(pool_size=(2, 2), strides=(2, 2),  padding='same')(x1) #14\n",
        "\n",
        "# третий сверточный слой\n",
        "x3 = layers.Conv2D(128, kernel_size=(5, 5), strides=(1, 1), activation='tanh', padding='valid')(x2) #10\n",
        "\n",
        "# четвертый пуллинговый слой\n",
        "x4 = layers.AveragePooling2D(pool_size=(2, 2), strides=(2, 2), padding='valid')(x3) #55\n",
        "\n",
        "\n",
        "# сглаживание CNN выхода чтобы можно было его присоединить к полносвязногому слою\n",
        "x6 = layers.Flatten()(x4)\n",
        "\n",
        "# шестой полносвязный слой\n",
        "x7 = layers.Dense(84, activation='tanh')(x6)\n",
        "\n",
        "# выходной слой с функцией активации softmax\n",
        "out_x = layers.Dense(10, activation='softmax')(x7)\n",
        "\n",
        "\n",
        "# Соберем полную модель сети от входа к выходу \n",
        "model1 = Model(inputs = input1, outputs = out_x) \n",
        "\n",
        "# компилияция модели\n",
        "model1.compile(loss=keras.losses.categorical_crossentropy, optimizer='SGD', metrics=[\"accuracy\"])\n",
        "\n",
        "# Обучаем модель\n",
        "hist = model1.fit(x=x_train,y=y_train, epochs=2, batch_size=128, validation_data=(x_test, y_test), verbose=1)\n",
        "\n",
        "test_score = model1.evaluate(x_test, y_test)\n",
        "print(\"Test loss {:.4f}, accuracy {:.2f}%\".format(test_score[0], test_score[1] * 100))"
      ],
      "execution_count": null,
      "outputs": [
        {
          "output_type": "stream",
          "text": [
            "Epoch 1/2\n",
            "391/391 [==============================] - 7s 17ms/step - loss: 2.0835 - accuracy: 0.2450 - val_loss: 1.9516 - val_accuracy: 0.3006\n",
            "Epoch 2/2\n",
            "391/391 [==============================] - 6s 16ms/step - loss: 1.9125 - accuracy: 0.3239 - val_loss: 1.8545 - val_accuracy: 0.3487\n",
            "313/313 [==============================] - 1s 4ms/step - loss: 1.8545 - accuracy: 0.3487\n",
            "Test loss 1.8545, accuracy 34.87%\n"
          ],
          "name": "stdout"
        }
      ]
    },
    {
      "cell_type": "code",
      "metadata": {
        "id": "ARBzd_fmpcoh"
      },
      "source": [
        "model_df.loc[len(model_df)] = [ '64, 128', '4/2', history_last(hist)]"
      ],
      "execution_count": null,
      "outputs": []
    },
    {
      "cell_type": "code",
      "metadata": {
        "colab": {
          "base_uri": "https://localhost:8080/"
        },
        "id": "NlY9UIWzdtEu",
        "outputId": "4df5628c-19de-427c-8a0b-2d8729e31106"
      },
      "source": [
        "# инициализация  модели\n",
        "input1= layers.Input(shape=(32,32,3))\n",
        "# первый сверточный слой\n",
        "x1 = layers.Conv2D(64, kernel_size=(5, 5), strides=(1, 1), activation='tanh',  padding=\"valid\")(input1) #28\n",
        "\n",
        "# второй пуллинговый слой\n",
        "x2 = layers.AveragePooling2D(pool_size=(1, 1), strides=(1, 1),  padding='same')(x1) #28\n",
        "\n",
        "# третий сверточный слой\n",
        "x3 = layers.Conv2D(128, kernel_size=(3, 3), strides=(1, 1), activation='tanh', padding='valid')(x2) #26\n",
        "\n",
        "# четвертый пуллинговый слой\n",
        "x4 = layers.AveragePooling2D(pool_size=(2, 2), strides=(1, 1), padding='valid')(x3) #13\n",
        "\n",
        "x5 = layers.Conv2D(128, kernel_size=(4, 4), strides=(1, 1), activation='tanh', padding='valid')(x4) #10\n",
        "\n",
        "# четвертый пуллинговый слой\n",
        "x6 = layers.AveragePooling2D(pool_size=(1, 1), strides=(1, 1), padding='valid')(x5) #11\n",
        "\n",
        "x7 = layers.Conv2D(256, kernel_size=(3, 3), strides=(1, 1), activation='tanh', padding='valid')(x6) #7\n",
        "\n",
        "\n",
        "# сглаживание CNN выхода чтобы можно было его присоединить к полносвязногому слою\n",
        "x6 = layers.Flatten()(x7)\n",
        "\n",
        "# шестой полносвязный слой\n",
        "x7 = layers.Dense(84, activation='tanh')(x6)\n",
        "\n",
        "# выходной слой с функцией активации softmax\n",
        "out_x = layers.Dense(10, activation='softmax')(x7)\n",
        "\n",
        "\n",
        "# Соберем полную модель сети от входа к выходу \n",
        "model1 = Model(inputs = input1, outputs = out_x) \n",
        "\n",
        "# компилияция модели\n",
        "model1.compile(loss=keras.losses.categorical_crossentropy, optimizer='SGD', metrics=[\"accuracy\"])\n",
        "\n",
        "# Обучаем модель\n",
        "hist = model1.fit(x=x_train,y=y_train, epochs=5, batch_size=128, validation_data=(x_test, y_test), verbose=1)\n",
        "\n",
        "test_score = model1.evaluate(x_test, y_test)\n",
        "print(\"Test loss {:.4f}, accuracy {:.2f}%\".format(test_score[0], test_score[1] * 100))"
      ],
      "execution_count": null,
      "outputs": [
        {
          "output_type": "stream",
          "text": [
            "Epoch 1/5\n",
            "391/391 [==============================] - 39s 98ms/step - loss: 1.9317 - accuracy: 0.3162 - val_loss: 1.7875 - val_accuracy: 0.3759\n",
            "Epoch 2/5\n",
            "391/391 [==============================] - 38s 97ms/step - loss: 1.7718 - accuracy: 0.3801 - val_loss: 1.7317 - val_accuracy: 0.3948\n",
            "Epoch 3/5\n",
            "391/391 [==============================] - 38s 97ms/step - loss: 1.7020 - accuracy: 0.4067 - val_loss: 1.6486 - val_accuracy: 0.4221\n",
            "Epoch 4/5\n",
            "391/391 [==============================] - 38s 97ms/step - loss: 1.6165 - accuracy: 0.4354 - val_loss: 1.5934 - val_accuracy: 0.4376\n",
            "Epoch 5/5\n",
            "391/391 [==============================] - 38s 97ms/step - loss: 1.5418 - accuracy: 0.4613 - val_loss: 1.5690 - val_accuracy: 0.4441\n",
            "313/313 [==============================] - 4s 13ms/step - loss: 1.5690 - accuracy: 0.4441\n",
            "Test loss 1.5690, accuracy 44.41%\n"
          ],
          "name": "stdout"
        }
      ]
    },
    {
      "cell_type": "code",
      "metadata": {
        "id": "8mxHyPEteII6"
      },
      "source": [
        "model_df.loc[6] = [ '64, 128, 128', '7/2', history_last(hist)]"
      ],
      "execution_count": null,
      "outputs": []
    },
    {
      "cell_type": "code",
      "metadata": {
        "colab": {
          "base_uri": "https://localhost:8080/",
          "height": 235
        },
        "id": "h4NrpkphrATh",
        "outputId": "514af364-9187-40b9-e8f2-809cb1dd2c1f"
      },
      "source": [
        "model_df"
      ],
      "execution_count": null,
      "outputs": [
        {
          "output_type": "execute_result",
          "data": {
            "text/html": [
              "<div>\n",
              "<style scoped>\n",
              "    .dataframe tbody tr th:only-of-type {\n",
              "        vertical-align: middle;\n",
              "    }\n",
              "\n",
              "    .dataframe tbody tr th {\n",
              "        vertical-align: top;\n",
              "    }\n",
              "\n",
              "    .dataframe thead th {\n",
              "        text-align: right;\n",
              "    }\n",
              "</style>\n",
              "<table border=\"1\" class=\"dataframe\">\n",
              "  <thead>\n",
              "    <tr style=\"text-align: right;\">\n",
              "      <th></th>\n",
              "      <th>kernels</th>\n",
              "      <th>layers</th>\n",
              "      <th>accuracy</th>\n",
              "    </tr>\n",
              "  </thead>\n",
              "  <tbody>\n",
              "    <tr>\n",
              "      <th>0</th>\n",
              "      <td>32, 64, 120</td>\n",
              "      <td>5/2</td>\n",
              "      <td>0.3753</td>\n",
              "    </tr>\n",
              "    <tr>\n",
              "      <th>1</th>\n",
              "      <td>64, 128, 256</td>\n",
              "      <td>5/2</td>\n",
              "      <td>0.3763</td>\n",
              "    </tr>\n",
              "    <tr>\n",
              "      <th>2</th>\n",
              "      <td>16, 32, 64</td>\n",
              "      <td>5/2</td>\n",
              "      <td>0.3712</td>\n",
              "    </tr>\n",
              "    <tr>\n",
              "      <th>3</th>\n",
              "      <td>32, 64, 32</td>\n",
              "      <td>5/2</td>\n",
              "      <td>0.3724</td>\n",
              "    </tr>\n",
              "    <tr>\n",
              "      <th>4</th>\n",
              "      <td>64, 128, 128</td>\n",
              "      <td>5/2</td>\n",
              "      <td>0.3678</td>\n",
              "    </tr>\n",
              "    <tr>\n",
              "      <th>5</th>\n",
              "      <td>64, 128</td>\n",
              "      <td>4/2</td>\n",
              "      <td>0.3487</td>\n",
              "    </tr>\n",
              "  </tbody>\n",
              "</table>\n",
              "</div>"
            ],
            "text/plain": [
              "        kernels layers  accuracy\n",
              "0   32, 64, 120    5/2    0.3753\n",
              "1  64, 128, 256    5/2    0.3763\n",
              "2    16, 32, 64    5/2    0.3712\n",
              "3    32, 64, 32    5/2    0.3724\n",
              "4  64, 128, 128    5/2    0.3678\n",
              "5       64, 128    4/2    0.3487"
            ]
          },
          "metadata": {
            "tags": []
          },
          "execution_count": 22
        }
      ]
    },
    {
      "cell_type": "code",
      "metadata": {
        "colab": {
          "base_uri": "https://localhost:8080/"
        },
        "id": "Ge9n8U6npmCw",
        "outputId": "865f78af-9140-4a99-c89a-2a86726ac882"
      },
      "source": [
        "model2 = Sequential([\n",
        "  Dense(3072, activation='sigmoid', input_shape=(32*32*3,)),\n",
        "  Dense(1024, activation='sigmoid'),\n",
        "  Dense(512, activation='relu'),\n",
        "  Dense(10, activation='softmax'),\n",
        "])\n",
        "\n",
        "\n",
        "model2.compile(\n",
        "  optimizer='SGD',\n",
        "  loss='categorical_crossentropy',\n",
        "  metrics=['accuracy'],\n",
        ")\n",
        "\n",
        "print(model2.summary())\n",
        "\n",
        "model_fit = model2.fit(train_images, y_train, epochs=20, batch_size=128, validation_split=0.2, verbose=1)"
      ],
      "execution_count": null,
      "outputs": [
        {
          "output_type": "stream",
          "text": [
            "Model: \"sequential_16\"\n",
            "_________________________________________________________________\n",
            "Layer (type)                 Output Shape              Param #   \n",
            "=================================================================\n",
            "dense_66 (Dense)             (None, 3072)              9440256   \n",
            "_________________________________________________________________\n",
            "dense_67 (Dense)             (None, 1024)              3146752   \n",
            "_________________________________________________________________\n",
            "dense_68 (Dense)             (None, 512)               524800    \n",
            "_________________________________________________________________\n",
            "dense_69 (Dense)             (None, 10)                5130      \n",
            "=================================================================\n",
            "Total params: 13,116,938\n",
            "Trainable params: 13,116,938\n",
            "Non-trainable params: 0\n",
            "_________________________________________________________________\n",
            "None\n",
            "Epoch 1/20\n",
            "313/313 [==============================] - 4s 11ms/step - loss: 2.2911 - accuracy: 0.1250 - val_loss: 2.2724 - val_accuracy: 0.1474\n",
            "Epoch 2/20\n",
            "313/313 [==============================] - 3s 10ms/step - loss: 2.2443 - accuracy: 0.1698 - val_loss: 2.2158 - val_accuracy: 0.1746\n",
            "Epoch 3/20\n",
            "313/313 [==============================] - 3s 10ms/step - loss: 2.1874 - accuracy: 0.2013 - val_loss: 2.1693 - val_accuracy: 0.1782\n",
            "Epoch 4/20\n",
            "313/313 [==============================] - 3s 10ms/step - loss: 2.1267 - accuracy: 0.2337 - val_loss: 2.1133 - val_accuracy: 0.2358\n",
            "Epoch 5/20\n",
            "313/313 [==============================] - 3s 11ms/step - loss: 2.0771 - accuracy: 0.2507 - val_loss: 2.0501 - val_accuracy: 0.2659\n",
            "Epoch 6/20\n",
            "313/313 [==============================] - 3s 10ms/step - loss: 2.0360 - accuracy: 0.2689 - val_loss: 2.0176 - val_accuracy: 0.2835\n",
            "Epoch 7/20\n",
            "313/313 [==============================] - 3s 10ms/step - loss: 2.0046 - accuracy: 0.2799 - val_loss: 2.0241 - val_accuracy: 0.2505\n",
            "Epoch 8/20\n",
            "313/313 [==============================] - 3s 10ms/step - loss: 1.9810 - accuracy: 0.2844 - val_loss: 1.9704 - val_accuracy: 0.2937\n",
            "Epoch 9/20\n",
            "313/313 [==============================] - 3s 10ms/step - loss: 1.9617 - accuracy: 0.2927 - val_loss: 1.9670 - val_accuracy: 0.2931\n",
            "Epoch 10/20\n",
            "313/313 [==============================] - 3s 10ms/step - loss: 1.9444 - accuracy: 0.3015 - val_loss: 1.9410 - val_accuracy: 0.3076\n",
            "Epoch 11/20\n",
            "313/313 [==============================] - 3s 10ms/step - loss: 1.9316 - accuracy: 0.3083 - val_loss: 1.9351 - val_accuracy: 0.3008\n",
            "Epoch 12/20\n",
            "313/313 [==============================] - 3s 11ms/step - loss: 1.9197 - accuracy: 0.3122 - val_loss: 1.9186 - val_accuracy: 0.3078\n",
            "Epoch 13/20\n",
            "313/313 [==============================] - 3s 10ms/step - loss: 1.9094 - accuracy: 0.3199 - val_loss: 1.9219 - val_accuracy: 0.3152\n",
            "Epoch 14/20\n",
            "313/313 [==============================] - 3s 10ms/step - loss: 1.8987 - accuracy: 0.3201 - val_loss: 1.9027 - val_accuracy: 0.3269\n",
            "Epoch 15/20\n",
            "313/313 [==============================] - 3s 10ms/step - loss: 1.8895 - accuracy: 0.3249 - val_loss: 1.8973 - val_accuracy: 0.3167\n",
            "Epoch 16/20\n",
            "313/313 [==============================] - 3s 10ms/step - loss: 1.8812 - accuracy: 0.3302 - val_loss: 1.8926 - val_accuracy: 0.3169\n",
            "Epoch 17/20\n",
            "313/313 [==============================] - 3s 10ms/step - loss: 1.8739 - accuracy: 0.3333 - val_loss: 1.8799 - val_accuracy: 0.3322\n",
            "Epoch 18/20\n",
            "313/313 [==============================] - 3s 10ms/step - loss: 1.8664 - accuracy: 0.3380 - val_loss: 1.8726 - val_accuracy: 0.3413\n",
            "Epoch 19/20\n",
            "313/313 [==============================] - 3s 10ms/step - loss: 1.8595 - accuracy: 0.3400 - val_loss: 1.8677 - val_accuracy: 0.3437\n",
            "Epoch 20/20\n",
            "313/313 [==============================] - 3s 11ms/step - loss: 1.8526 - accuracy: 0.3439 - val_loss: 1.8537 - val_accuracy: 0.3424\n"
          ],
          "name": "stdout"
        }
      ]
    },
    {
      "cell_type": "code",
      "metadata": {
        "id": "cXLO0hIwcXbx"
      },
      "source": [
        "model_df.loc[7] = [ 'Полносвязная', '4', list(model2.history.history.values())[-1][-1]]"
      ],
      "execution_count": null,
      "outputs": []
    },
    {
      "cell_type": "code",
      "metadata": {
        "colab": {
          "base_uri": "https://localhost:8080/",
          "height": 297
        },
        "id": "9YL0d9iMcmMI",
        "outputId": "45ee575d-dc02-4dfd-833d-2ceaad88085a"
      },
      "source": [
        "model_df"
      ],
      "execution_count": null,
      "outputs": [
        {
          "output_type": "execute_result",
          "data": {
            "text/html": [
              "<div>\n",
              "<style scoped>\n",
              "    .dataframe tbody tr th:only-of-type {\n",
              "        vertical-align: middle;\n",
              "    }\n",
              "\n",
              "    .dataframe tbody tr th {\n",
              "        vertical-align: top;\n",
              "    }\n",
              "\n",
              "    .dataframe thead th {\n",
              "        text-align: right;\n",
              "    }\n",
              "</style>\n",
              "<table border=\"1\" class=\"dataframe\">\n",
              "  <thead>\n",
              "    <tr style=\"text-align: right;\">\n",
              "      <th></th>\n",
              "      <th>kernels</th>\n",
              "      <th>layers</th>\n",
              "      <th>accuracy</th>\n",
              "    </tr>\n",
              "  </thead>\n",
              "  <tbody>\n",
              "    <tr>\n",
              "      <th>0</th>\n",
              "      <td>32, 64, 120</td>\n",
              "      <td>5/2</td>\n",
              "      <td>0.3753</td>\n",
              "    </tr>\n",
              "    <tr>\n",
              "      <th>1</th>\n",
              "      <td>64, 128, 256</td>\n",
              "      <td>5/2</td>\n",
              "      <td>0.3763</td>\n",
              "    </tr>\n",
              "    <tr>\n",
              "      <th>2</th>\n",
              "      <td>16, 32, 64</td>\n",
              "      <td>5/2</td>\n",
              "      <td>0.3712</td>\n",
              "    </tr>\n",
              "    <tr>\n",
              "      <th>3</th>\n",
              "      <td>32, 64, 32</td>\n",
              "      <td>5/2</td>\n",
              "      <td>0.3724</td>\n",
              "    </tr>\n",
              "    <tr>\n",
              "      <th>4</th>\n",
              "      <td>64, 128, 128</td>\n",
              "      <td>5/2</td>\n",
              "      <td>0.3678</td>\n",
              "    </tr>\n",
              "    <tr>\n",
              "      <th>5</th>\n",
              "      <td>64, 128</td>\n",
              "      <td>4/2</td>\n",
              "      <td>0.3487</td>\n",
              "    </tr>\n",
              "    <tr>\n",
              "      <th>6</th>\n",
              "      <td>64, 128, 128</td>\n",
              "      <td>7/2</td>\n",
              "      <td>0.2696</td>\n",
              "    </tr>\n",
              "    <tr>\n",
              "      <th>7</th>\n",
              "      <td>Полносвязная</td>\n",
              "      <td>4</td>\n",
              "      <td>0.3424</td>\n",
              "    </tr>\n",
              "  </tbody>\n",
              "</table>\n",
              "</div>"
            ],
            "text/plain": [
              "        kernels layers  accuracy\n",
              "0   32, 64, 120    5/2    0.3753\n",
              "1  64, 128, 256    5/2    0.3763\n",
              "2    16, 32, 64    5/2    0.3712\n",
              "3    32, 64, 32    5/2    0.3724\n",
              "4  64, 128, 128    5/2    0.3678\n",
              "5       64, 128    4/2    0.3487\n",
              "6  64, 128, 128    7/2    0.2696\n",
              "7  Полносвязная      4    0.3424"
            ]
          },
          "metadata": {
            "tags": []
          },
          "execution_count": 93
        }
      ]
    },
    {
      "cell_type": "markdown",
      "metadata": {
        "id": "mgNpEDM4dRYu"
      },
      "source": [
        "## Вывод: \n",
        "Была построена модель сверточной нейросети на подобии AlexNet. При увеличении количества ядер, точность модели увеличивается, так же, как и при увеличении слоев. Полносвязная модель показала чуть ниже значение, чем сверточная нейронная сеть."
      ]
    },
    {
      "cell_type": "code",
      "metadata": {
        "id": "kiRCJY0WdGph"
      },
      "source": [
        "classes=['самолет', 'автомобиль', 'птица', 'кот', 'олень', 'собака', 'лягушка', 'лошадь', 'корабль', 'грузовик']"
      ],
      "execution_count": 4,
      "outputs": []
    },
    {
      "cell_type": "code",
      "metadata": {
        "colab": {
          "base_uri": "https://localhost:8080/"
        },
        "id": "H4Ob9X-gm5-W",
        "outputId": "c709f02f-1d34-4318-ae40-b63d9a7fbeaa"
      },
      "source": [
        "# конфигурирование слоев нейросети\n",
        "model = Sequential()\n",
        "\n",
        "# слои нейросети отвественные за свертку и max-pooling\n",
        "model.add(Conv2D(32, (5, 5), padding='same', strides=(1,1), #28x28\n",
        "                 input_shape=x_train.shape[1:]))\n",
        "model.add(Activation('relu'))\n",
        "model.add(Conv2D(32, (3, 3)))\n",
        "model.add(Activation('relu'))\n",
        "model.add(MaxPooling2D(pool_size=(2, 2)))\n",
        "model.add(Dropout( 0.25))\n",
        "\n",
        "model.add(Conv2D(64, (3, 3), padding='same'))\n",
        "model.add(Activation('relu'))\n",
        "model.add(Conv2D(64, (3, 3)))\n",
        "model.add(Activation('relu'))\n",
        "model.add(MaxPooling2D(pool_size=(2, 2)))\n",
        "model.add(Dropout(0.25))\n",
        "\n",
        "# полносвязные слои нейронной сети\n",
        "model.add(Flatten())\n",
        "model.add(Dense(512))\n",
        "model.add(Activation('relu'))\n",
        "model.add(Dropout(0.5))\n",
        "model.add(Dense(num_classes))\n",
        "model.add(Activation('softmax'))\n",
        "\n",
        "# инициализация RMSprop optimizer\n",
        "#opt = tensorflow.keras.optimizers.RMSprop(lr=0.0001, decay=1e-6)\n",
        "\n",
        "# компиляция модели\n",
        "model.compile(loss='categorical_crossentropy',\n",
        "              optimizer='SGD',\n",
        "              metrics=['accuracy'])\n",
        "\n",
        "\n",
        "\n",
        "if not data_augmentation:\n",
        "    print('Не используется data augmentation')\n",
        "    model.fit(x_train, y_train,\n",
        "              batch_size=batch_size,\n",
        "              epochs=epochs,\n",
        "              validation_data=(x_test, y_test),\n",
        "              shuffle=True)\n",
        "else:\n",
        "    print('Использование data augmentation в реальном времени')\n",
        "    # Препроцессинг и data augmentation в реальном времени:\n",
        "    datagen = ImageDataGenerator(\n",
        "        featurewise_center=False,\n",
        "        samplewise_center=False,\n",
        "        featurewise_std_normalization=False,\n",
        "        samplewise_std_normalization=False,\n",
        "        zca_whitening=False, \n",
        "        zca_epsilon=1e-06, \n",
        "        rotation_range=0, \n",
        "        width_shift_range=0.1,\n",
        "        height_shift_range=0.1,\n",
        "        shear_range=0., \n",
        "        zoom_range=0., \n",
        "        channel_shift_range=0.,\n",
        "        fill_mode='nearest',\n",
        "        cval=0.,\n",
        "        horizontal_flip=True,\n",
        "        vertical_flip=False,\n",
        "        rescale=None,\n",
        "        preprocessing_function=None,\n",
        "        data_format=None,\n",
        "        validation_split=0.0)\n",
        "\n",
        "    # запуск data augmentation через fit\n",
        "    #datagen.fit(x_train)\n",
        "\n",
        "    # запуск data augmentation через fit_generator\n",
        "    model.fit_generator(datagen.flow(x_train, y_train,\n",
        "                                     batch_size=batch_size),\n",
        "                        epochs=epochs,\n",
        "                        validation_data=(x_test, y_test),\n",
        "                        workers=4)\n",
        "\n",
        "# сохранение модели и весов\n",
        "if not os.path.isdir(save_dir):\n",
        "    os.makedirs(save_dir)\n",
        "model_path = os.path.join(save_dir, model_name)\n",
        "model.save(model_path)\n",
        "print('сохранить обученную модель как %s ' % model_path)\n",
        "\n",
        "# проверка работы обученной модели\n",
        "scores = model.evaluate(x_test, y_test, verbose=1)\n",
        "print('Test loss:', scores[0])\n",
        "print('Test accuracy:', scores[1])"
      ],
      "execution_count": null,
      "outputs": [
        {
          "output_type": "stream",
          "text": [
            "Использование data augmentation в реальном времени\n",
            "Epoch 1/5\n"
          ],
          "name": "stdout"
        },
        {
          "output_type": "stream",
          "text": [
            "/usr/local/lib/python3.7/dist-packages/tensorflow/python/keras/engine/training.py:1940: UserWarning: `Model.fit_generator` is deprecated and will be removed in a future version. Please use `Model.fit`, which supports generators.\n",
            "  warnings.warn('`Model.fit_generator` is deprecated and '\n"
          ],
          "name": "stderr"
        },
        {
          "output_type": "stream",
          "text": [
            "1563/1563 [==============================] - 32s 20ms/step - loss: 2.1427 - accuracy: 0.1928 - val_loss: 1.9070 - val_accuracy: 0.3141\n",
            "Epoch 2/5\n",
            "1563/1563 [==============================] - 32s 20ms/step - loss: 1.8572 - accuracy: 0.3209 - val_loss: 1.6707 - val_accuracy: 0.3918\n",
            "Epoch 3/5\n",
            "1563/1563 [==============================] - 32s 20ms/step - loss: 1.7123 - accuracy: 0.3710 - val_loss: 1.5867 - val_accuracy: 0.4237\n",
            "Epoch 4/5\n",
            "1563/1563 [==============================] - 32s 20ms/step - loss: 1.6234 - accuracy: 0.4039 - val_loss: 1.4536 - val_accuracy: 0.4715\n",
            "Epoch 5/5\n",
            "1563/1563 [==============================] - 32s 21ms/step - loss: 1.5396 - accuracy: 0.4365 - val_loss: 1.3824 - val_accuracy: 0.5044\n",
            "сохранить обученную модель как /content/saved_models/keras_cifar10_trained_model.h5 \n",
            "313/313 [==============================] - 1s 3ms/step - loss: 1.3824 - accuracy: 0.5044\n",
            "Test loss: 1.3824222087860107\n",
            "Test accuracy: 0.5044000148773193\n"
          ],
          "name": "stdout"
        }
      ]
    },
    {
      "cell_type": "markdown",
      "metadata": {
        "id": "WEWU08zQ04SN"
      },
      "source": [
        "Что вернет ImageDataGenerator"
      ]
    },
    {
      "cell_type": "code",
      "metadata": {
        "colab": {
          "base_uri": "https://localhost:8080/"
        },
        "id": "K_VqY4kFwE0R",
        "outputId": "30e3689e-ee79-4097-93c2-ac4aec27aa0e"
      },
      "source": [
        " model.fit_generator(datagen.flow(x_train, y_train,\n",
        "                                     batch_size=batch_size),\n",
        "                        epochs=epochs,\n",
        "                        validation_data=(x_test, y_test))"
      ],
      "execution_count": null,
      "outputs": [
        {
          "output_type": "stream",
          "text": [
            "Epoch 1/5\n",
            "   9/1563 [..............................] - ETA: 23s - loss: 1.5147 - accuracy: 0.4236"
          ],
          "name": "stdout"
        },
        {
          "output_type": "stream",
          "text": [
            "/usr/local/lib/python3.7/dist-packages/tensorflow/python/keras/engine/training.py:1940: UserWarning: `Model.fit_generator` is deprecated and will be removed in a future version. Please use `Model.fit`, which supports generators.\n",
            "  warnings.warn('`Model.fit_generator` is deprecated and '\n"
          ],
          "name": "stderr"
        },
        {
          "output_type": "stream",
          "text": [
            "1563/1563 [==============================] - 26s 17ms/step - loss: 1.4752 - accuracy: 0.4614 - val_loss: 1.4024 - val_accuracy: 0.5024\n",
            "Epoch 2/5\n",
            "1563/1563 [==============================] - 26s 16ms/step - loss: 1.4256 - accuracy: 0.4816 - val_loss: 1.2786 - val_accuracy: 0.5494\n",
            "Epoch 3/5\n",
            "1563/1563 [==============================] - 26s 16ms/step - loss: 1.3890 - accuracy: 0.4979 - val_loss: 1.2230 - val_accuracy: 0.5676\n",
            "Epoch 4/5\n",
            "1563/1563 [==============================] - 26s 16ms/step - loss: 1.3523 - accuracy: 0.5131 - val_loss: 1.2604 - val_accuracy: 0.5575\n",
            "Epoch 5/5\n",
            "1563/1563 [==============================] - 26s 16ms/step - loss: 1.3225 - accuracy: 0.5244 - val_loss: 1.1823 - val_accuracy: 0.5722\n"
          ],
          "name": "stdout"
        },
        {
          "output_type": "execute_result",
          "data": {
            "text/plain": [
              "<tensorflow.python.keras.callbacks.History at 0x7f29d019dad0>"
            ]
          },
          "metadata": {
            "tags": []
          },
          "execution_count": 105
        }
      ]
    },
    {
      "cell_type": "code",
      "metadata": {
        "colab": {
          "base_uri": "https://localhost:8080/",
          "height": 281
        },
        "id": "D3_01HTZmewa",
        "outputId": "d7625022-dd8b-4e35-d802-c3287b6337b3"
      },
      "source": [
        "N = 30\n",
        "y_p=model.predict(x_test[N:N+1][:,:,:])\n",
        "y_t = np.argmax(y_test[N:N+1], axis = 1 )\n",
        "y_i = np.argmax(y_p, axis = 1 )\n",
        "plt.imshow(x_test[N][:,:,:])\n",
        "plt.title('это : '+classes[y_t[0]]+'- опознан как : '+classes[y_i[0]])\n",
        "plt.show()"
      ],
      "execution_count": null,
      "outputs": [
        {
          "output_type": "display_data",
          "data": {
            "image/png": "[encoded data removed]",
            "text/plain": [
              "<Figure size 432x288 with 1 Axes>"
            ]
          },
          "metadata": {
            "tags": [],
            "needs_background": "light"
          }
        }
      ]
    }
  ]
}
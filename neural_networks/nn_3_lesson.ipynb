{
  "nbformat": 4,
  "nbformat_minor": 0,
  "metadata": {
    "colab": {
      "name": "nn_3_lesson.ipynb",
      "provenance": [],
      "collapsed_sections": []
    },
    "kernelspec": {
      "display_name": "Python 3",
      "language": "python",
      "name": "python3"
    },
    "language_info": {
      "codemirror_mode": {
        "name": "ipython",
        "version": 3
      },
      "file_extension": ".py",
      "mimetype": "text/x-python",
      "name": "python",
      "nbconvert_exporter": "python",
      "pygments_lexer": "ipython3",
      "version": "3.7.6"
    },
    "accelerator": "GPU"
  },
  "cells": [
    {
      "cell_type": "markdown",
      "metadata": {
        "id": "qvoqM_UtHzoD"
      },
      "source": [
        "## Домашняя работа №3"
      ]
    },
    {
      "cell_type": "code",
      "metadata": {
        "id": "un6tj_GQH7KA"
      },
      "source": [
        "import numpy as np\n",
        "import pandas as pd\n",
        "\n",
        "from sklearn.datasets import load_boston\n",
        "from sklearn.model_selection import train_test_split\n",
        "\n",
        "import tensorflow as tf\n",
        "from tensorflow.keras.layers.experimental import preprocessing\n",
        "from tensorflow.keras.layers import Dense, InputLayer\n",
        "from tensorflow.keras.models import Sequential\n",
        "import tensorflow.keras.metrics"
      ],
      "execution_count": 1,
      "outputs": []
    },
    {
      "cell_type": "code",
      "metadata": {
        "colab": {
          "base_uri": "https://localhost:8080/"
        },
        "id": "Vcjsy9RoHzra",
        "outputId": "f9fc896a-e10a-45be-b0df-e09759b7e96b"
      },
      "source": [
        "print('TensorFlow version is ' + tf.__version__)"
      ],
      "execution_count": null,
      "outputs": [
        {
          "output_type": "stream",
          "text": [
            "TensorFlow version is 2.5.0\n"
          ],
          "name": "stdout"
        }
      ]
    },
    {
      "cell_type": "code",
      "metadata": {
        "colab": {
          "base_uri": "https://localhost:8080/",
          "height": 204
        },
        "id": "awOpoqFXJB3E",
        "outputId": "4ef640ad-a60d-4f5b-bfa2-4b8002c979cf"
      },
      "source": [
        "boston_data = load_boston()\n",
        "df_boston = pd.DataFrame(boston_data.data, columns=boston_data.feature_names)\n",
        "df_boston['target'] = pd.Series(boston_data.target)\n",
        "df_boston.head()"
      ],
      "execution_count": 2,
      "outputs": [
        {
          "output_type": "execute_result",
          "data": {
            "text/html": [
              "<div>\n",
              "<style scoped>\n",
              "    .dataframe tbody tr th:only-of-type {\n",
              "        vertical-align: middle;\n",
              "    }\n",
              "\n",
              "    .dataframe tbody tr th {\n",
              "        vertical-align: top;\n",
              "    }\n",
              "\n",
              "    .dataframe thead th {\n",
              "        text-align: right;\n",
              "    }\n",
              "</style>\n",
              "<table border=\"1\" class=\"dataframe\">\n",
              "  <thead>\n",
              "    <tr style=\"text-align: right;\">\n",
              "      <th></th>\n",
              "      <th>CRIM</th>\n",
              "      <th>ZN</th>\n",
              "      <th>INDUS</th>\n",
              "      <th>CHAS</th>\n",
              "      <th>NOX</th>\n",
              "      <th>RM</th>\n",
              "      <th>AGE</th>\n",
              "      <th>DIS</th>\n",
              "      <th>RAD</th>\n",
              "      <th>TAX</th>\n",
              "      <th>PTRATIO</th>\n",
              "      <th>B</th>\n",
              "      <th>LSTAT</th>\n",
              "      <th>target</th>\n",
              "    </tr>\n",
              "  </thead>\n",
              "  <tbody>\n",
              "    <tr>\n",
              "      <th>0</th>\n",
              "      <td>0.00632</td>\n",
              "      <td>18.0</td>\n",
              "      <td>2.31</td>\n",
              "      <td>0.0</td>\n",
              "      <td>0.538</td>\n",
              "      <td>6.575</td>\n",
              "      <td>65.2</td>\n",
              "      <td>4.0900</td>\n",
              "      <td>1.0</td>\n",
              "      <td>296.0</td>\n",
              "      <td>15.3</td>\n",
              "      <td>396.90</td>\n",
              "      <td>4.98</td>\n",
              "      <td>24.0</td>\n",
              "    </tr>\n",
              "    <tr>\n",
              "      <th>1</th>\n",
              "      <td>0.02731</td>\n",
              "      <td>0.0</td>\n",
              "      <td>7.07</td>\n",
              "      <td>0.0</td>\n",
              "      <td>0.469</td>\n",
              "      <td>6.421</td>\n",
              "      <td>78.9</td>\n",
              "      <td>4.9671</td>\n",
              "      <td>2.0</td>\n",
              "      <td>242.0</td>\n",
              "      <td>17.8</td>\n",
              "      <td>396.90</td>\n",
              "      <td>9.14</td>\n",
              "      <td>21.6</td>\n",
              "    </tr>\n",
              "    <tr>\n",
              "      <th>2</th>\n",
              "      <td>0.02729</td>\n",
              "      <td>0.0</td>\n",
              "      <td>7.07</td>\n",
              "      <td>0.0</td>\n",
              "      <td>0.469</td>\n",
              "      <td>7.185</td>\n",
              "      <td>61.1</td>\n",
              "      <td>4.9671</td>\n",
              "      <td>2.0</td>\n",
              "      <td>242.0</td>\n",
              "      <td>17.8</td>\n",
              "      <td>392.83</td>\n",
              "      <td>4.03</td>\n",
              "      <td>34.7</td>\n",
              "    </tr>\n",
              "    <tr>\n",
              "      <th>3</th>\n",
              "      <td>0.03237</td>\n",
              "      <td>0.0</td>\n",
              "      <td>2.18</td>\n",
              "      <td>0.0</td>\n",
              "      <td>0.458</td>\n",
              "      <td>6.998</td>\n",
              "      <td>45.8</td>\n",
              "      <td>6.0622</td>\n",
              "      <td>3.0</td>\n",
              "      <td>222.0</td>\n",
              "      <td>18.7</td>\n",
              "      <td>394.63</td>\n",
              "      <td>2.94</td>\n",
              "      <td>33.4</td>\n",
              "    </tr>\n",
              "    <tr>\n",
              "      <th>4</th>\n",
              "      <td>0.06905</td>\n",
              "      <td>0.0</td>\n",
              "      <td>2.18</td>\n",
              "      <td>0.0</td>\n",
              "      <td>0.458</td>\n",
              "      <td>7.147</td>\n",
              "      <td>54.2</td>\n",
              "      <td>6.0622</td>\n",
              "      <td>3.0</td>\n",
              "      <td>222.0</td>\n",
              "      <td>18.7</td>\n",
              "      <td>396.90</td>\n",
              "      <td>5.33</td>\n",
              "      <td>36.2</td>\n",
              "    </tr>\n",
              "  </tbody>\n",
              "</table>\n",
              "</div>"
            ],
            "text/plain": [
              "      CRIM    ZN  INDUS  CHAS    NOX  ...    TAX  PTRATIO       B  LSTAT  target\n",
              "0  0.00632  18.0   2.31   0.0  0.538  ...  296.0     15.3  396.90   4.98    24.0\n",
              "1  0.02731   0.0   7.07   0.0  0.469  ...  242.0     17.8  396.90   9.14    21.6\n",
              "2  0.02729   0.0   7.07   0.0  0.469  ...  242.0     17.8  392.83   4.03    34.7\n",
              "3  0.03237   0.0   2.18   0.0  0.458  ...  222.0     18.7  394.63   2.94    33.4\n",
              "4  0.06905   0.0   2.18   0.0  0.458  ...  222.0     18.7  396.90   5.33    36.2\n",
              "\n",
              "[5 rows x 14 columns]"
            ]
          },
          "metadata": {
            "tags": []
          },
          "execution_count": 2
        }
      ]
    },
    {
      "cell_type": "code",
      "metadata": {
        "colab": {
          "base_uri": "https://localhost:8080/"
        },
        "id": "pSpiWH_Igq2e",
        "outputId": "0c786c16-e17e-4e66-9b5e-9855c7b5f092"
      },
      "source": [
        "X, y = load_boston(return_X_y=True)\n",
        "print(y.shape)"
      ],
      "execution_count": 3,
      "outputs": [
        {
          "output_type": "stream",
          "text": [
            "(506,)\n"
          ],
          "name": "stdout"
        }
      ]
    },
    {
      "cell_type": "code",
      "metadata": {
        "id": "aIX6iYmTjl0x"
      },
      "source": [
        "X_train, X_test, y_train, y_test = train_test_split(X, y, test_size=0.30, random_state=42)"
      ],
      "execution_count": 4,
      "outputs": []
    },
    {
      "cell_type": "code",
      "metadata": {
        "id": "pNtPzjZ92aCM"
      },
      "source": [
        "X = tf.constant( X_train , dtype=tf.float32 )\n",
        "Y = tf.constant( y_train , dtype=tf.float32 ) "
      ],
      "execution_count": 5,
      "outputs": []
    },
    {
      "cell_type": "code",
      "metadata": {
        "id": "bagG5jo0jv2J"
      },
      "source": [
        "num_features = X_train.shape[1]\n",
        "num_classes = len(np.unique(y_train))"
      ],
      "execution_count": 6,
      "outputs": []
    },
    {
      "cell_type": "code",
      "metadata": {
        "id": "oEwIVRJfmhSU"
      },
      "source": [
        "normalizer = preprocessing.Normalization(axis=-1)\n",
        "normalizer.adapt(np.array(X))"
      ],
      "execution_count": 7,
      "outputs": []
    },
    {
      "cell_type": "code",
      "metadata": {
        "colab": {
          "base_uri": "https://localhost:8080/"
        },
        "id": "zwZMmU3bmjHQ",
        "outputId": "c66a38e5-1638-43b3-d034-d4d7ca94bb9b"
      },
      "source": [
        "first = np.array(X_train[:1])\n",
        "\n",
        "with np.printoptions(precision=2, suppress=True):\n",
        "  print('First example:', first)\n",
        "  print()\n",
        "  print('Normalized:', normalizer(first).numpy())"
      ],
      "execution_count": null,
      "outputs": [
        {
          "output_type": "stream",
          "text": [
            "First example: [[  0.03   0.     2.18   0.     0.46   6.43  58.7    6.06   3.   222.\n",
            "   18.7  394.12   5.21]]\n",
            "\n",
            "Normalized: [[-0.41 -0.51 -1.29 -0.28 -0.85  0.15 -0.37  1.08 -0.75 -1.11  0.19  0.4\n",
            "  -1.02]]\n"
          ],
          "name": "stdout"
        }
      ]
    },
    {
      "cell_type": "markdown",
      "metadata": {
        "id": "FxSwt_LgJLZP"
      },
      "source": [
        "Построение первой модели"
      ]
    },
    {
      "cell_type": "code",
      "metadata": {
        "id": "x2TBpLyyoouZ"
      },
      "source": [
        "model = Sequential([\n",
        "  normalizer,\n",
        "  Dense(128, activation='tanh', input_shape=(num_features,)),\n",
        "  Dense(128, activation='tanh'),\n",
        "  Dense(1),\n",
        "])\n",
        "\n",
        "\n",
        "model.compile(\n",
        "  optimizer='SGD',\n",
        "  loss='mean_squared_error',\n",
        "  metrics=['mae'],\n",
        ")\n",
        "\n",
        "model_fit = model.fit(X, Y, epochs=50, batch_size=15, validation_split=0.2, verbose=0)"
      ],
      "execution_count": 10,
      "outputs": []
    },
    {
      "cell_type": "code",
      "metadata": {
        "id": "L8s4S7MZMByu"
      },
      "source": [
        "def history_last(model):\n",
        "    last = list(model.history.history.values())[-1][-1]\n",
        "    return last"
      ],
      "execution_count": 11,
      "outputs": []
    },
    {
      "cell_type": "code",
      "metadata": {
        "id": "RBm7jq1oGzcO"
      },
      "source": [
        "first_note = [{\"name\": 'model', \"loss\": 'mse', 'metrics': 'mae', 'metric_value': history_last(model)}]"
      ],
      "execution_count": 12,
      "outputs": []
    },
    {
      "cell_type": "code",
      "metadata": {
        "id": "eMJCPJZ4G1xR"
      },
      "source": [
        "model_df = pd.DataFrame(first_note)"
      ],
      "execution_count": 13,
      "outputs": []
    },
    {
      "cell_type": "code",
      "metadata": {
        "colab": {
          "base_uri": "https://localhost:8080/",
          "height": 297
        },
        "id": "U_9ve5URG3-D",
        "outputId": "c9b984d3-6073-427a-f18e-0343944e8263"
      },
      "source": [
        "model_df"
      ],
      "execution_count": null,
      "outputs": [
        {
          "output_type": "execute_result",
          "data": {
            "text/html": [
              "<div>\n",
              "<style scoped>\n",
              "    .dataframe tbody tr th:only-of-type {\n",
              "        vertical-align: middle;\n",
              "    }\n",
              "\n",
              "    .dataframe tbody tr th {\n",
              "        vertical-align: top;\n",
              "    }\n",
              "\n",
              "    .dataframe thead th {\n",
              "        text-align: right;\n",
              "    }\n",
              "</style>\n",
              "<table border=\"1\" class=\"dataframe\">\n",
              "  <thead>\n",
              "    <tr style=\"text-align: right;\">\n",
              "      <th></th>\n",
              "      <th>name</th>\n",
              "      <th>loss</th>\n",
              "      <th>metrics</th>\n",
              "      <th>metric_value</th>\n",
              "    </tr>\n",
              "  </thead>\n",
              "  <tbody>\n",
              "    <tr>\n",
              "      <th>0</th>\n",
              "      <td>model</td>\n",
              "      <td>mse</td>\n",
              "      <td>mae</td>\n",
              "      <td>2.251323</td>\n",
              "    </tr>\n",
              "    <tr>\n",
              "      <th>1</th>\n",
              "      <td>model1</td>\n",
              "      <td>logcosh</td>\n",
              "      <td>mae</td>\n",
              "      <td>2.578054</td>\n",
              "    </tr>\n",
              "    <tr>\n",
              "      <th>2</th>\n",
              "      <td>model2</td>\n",
              "      <td>mse</td>\n",
              "      <td>mae</td>\n",
              "      <td>2.217207</td>\n",
              "    </tr>\n",
              "    <tr>\n",
              "      <th>3</th>\n",
              "      <td>model3</td>\n",
              "      <td>msle</td>\n",
              "      <td>mae</td>\n",
              "      <td>4.075542</td>\n",
              "    </tr>\n",
              "    <tr>\n",
              "      <th>4</th>\n",
              "      <td>model4</td>\n",
              "      <td>msle</td>\n",
              "      <td>mae</td>\n",
              "      <td>3.881510</td>\n",
              "    </tr>\n",
              "    <tr>\n",
              "      <th>5</th>\n",
              "      <td>model5</td>\n",
              "      <td>mse</td>\n",
              "      <td>mape</td>\n",
              "      <td>11.108685</td>\n",
              "    </tr>\n",
              "    <tr>\n",
              "      <th>6</th>\n",
              "      <td>model6</td>\n",
              "      <td>mse</td>\n",
              "      <td>rmse</td>\n",
              "      <td>3.328029</td>\n",
              "    </tr>\n",
              "    <tr>\n",
              "      <th>7</th>\n",
              "      <td>model7</td>\n",
              "      <td>mae</td>\n",
              "      <td>mae</td>\n",
              "      <td>2.534641</td>\n",
              "    </tr>\n",
              "  </tbody>\n",
              "</table>\n",
              "</div>"
            ],
            "text/plain": [
              "     name     loss metrics  metric_value\n",
              "0   model      mse     mae      2.251323\n",
              "1  model1  logcosh     mae      2.578054\n",
              "2  model2      mse     mae      2.217207\n",
              "3  model3     msle     mae      4.075542\n",
              "4  model4     msle     mae      3.881510\n",
              "5  model5      mse    mape     11.108685\n",
              "6  model6      mse    rmse      3.328029\n",
              "7  model7      mae     mae      2.534641"
            ]
          },
          "metadata": {
            "tags": []
          },
          "execution_count": 35
        }
      ]
    },
    {
      "cell_type": "code",
      "metadata": {
        "id": "lpX6TuFgLuCe"
      },
      "source": [
        "model1 = Sequential([\n",
        "  normalizer,\n",
        "  Dense(128, activation='relu', input_shape=(num_features,)),\n",
        "  Dense(128, activation='tanh'),\n",
        "  Dense(1),\n",
        "])\n",
        "\n",
        "\n",
        "model1.compile(\n",
        "  optimizer='SGD',\n",
        "  loss='logcosh',\n",
        "  metrics=['mae'],\n",
        ")\n",
        "\n",
        "model_fit = model1.fit(X, Y, epochs=50, batch_size=15, validation_split=0.2, verbose=0)"
      ],
      "execution_count": 14,
      "outputs": []
    },
    {
      "cell_type": "code",
      "metadata": {
        "id": "fw7l1NJFLuEr"
      },
      "source": [
        "model_df.loc[len(model_df)] = ['model1', 'logcosh', 'mae', history_last(model1)]"
      ],
      "execution_count": 15,
      "outputs": []
    },
    {
      "cell_type": "code",
      "metadata": {
        "id": "fMfafbvWLuHB"
      },
      "source": [
        "model2 = Sequential([\n",
        "  normalizer,\n",
        "  Dense(128, activation='relu', input_shape=(num_features,)),\n",
        "  Dense(128, activation='relu'),\n",
        "  Dense(1),\n",
        "])\n",
        "\n",
        "\n",
        "model2.compile(\n",
        "  optimizer='SGD',\n",
        "  loss='mean_squared_error',\n",
        "  metrics=['mae'],\n",
        ")\n",
        "\n",
        "model_fit = model2.fit(X, Y, epochs=50, batch_size=15, validation_split=0.2, verbose=0)"
      ],
      "execution_count": 16,
      "outputs": []
    },
    {
      "cell_type": "code",
      "metadata": {
        "id": "xoPrlI6CLuI7"
      },
      "source": [
        "model_df.loc[len(model_df)] = ['model2', 'mse', 'mae', history_last(model2)]"
      ],
      "execution_count": 17,
      "outputs": []
    },
    {
      "cell_type": "code",
      "metadata": {
        "id": "A-JNkIKOLuK6"
      },
      "source": [
        "model3 = Sequential([\n",
        "  normalizer,\n",
        "  Dense(128, activation='relu', input_shape=(num_features,)),\n",
        "  Dense(128, activation='relu'),\n",
        "  Dense(1),\n",
        "])\n",
        "\n",
        "\n",
        "model3.compile(\n",
        "  optimizer='SGD',\n",
        "  loss='mean_squared_logarithmic_error',\n",
        "  metrics=['mae'],\n",
        ")\n",
        "\n",
        "model_fit = model3.fit(X, Y, epochs=50, batch_size=15, validation_split=0.2, verbose=0)"
      ],
      "execution_count": 18,
      "outputs": []
    },
    {
      "cell_type": "code",
      "metadata": {
        "id": "arl4B4nsLuM_"
      },
      "source": [
        "model_df.loc[len(model_df)] = ['model3', 'msle', 'mae', history_last(model3)]"
      ],
      "execution_count": 19,
      "outputs": []
    },
    {
      "cell_type": "code",
      "metadata": {
        "colab": {
          "base_uri": "https://localhost:8080/"
        },
        "id": "fEj-0nTG-stZ",
        "outputId": "b9eacb4e-c80d-4be2-a482-cf946a48d10d"
      },
      "source": [
        "model4 = Sequential([\n",
        "  normalizer,\n",
        "  Dense(128, activation='linear', input_shape=(num_features,)),\n",
        "  Dense(128, activation='relu'),\n",
        "  Dense(1),\n",
        "])\n",
        "\n",
        "\n",
        "model4.compile(\n",
        "  optimizer='SGD',\n",
        "  loss='mae',\n",
        "  metrics=['mae'],\n",
        ")\n",
        "\n",
        "model_fit = model4.fit(X, Y, epochs=50, batch_size=15, validation_split=0.2)"
      ],
      "execution_count": 35,
      "outputs": [
        {
          "output_type": "stream",
          "text": [
            "Epoch 1/50\n",
            "19/19 [==============================] - 1s 11ms/step - loss: 22.1919 - mae: 22.1919 - val_loss: 20.9397 - val_mae: 20.9397\n",
            "Epoch 2/50\n",
            "19/19 [==============================] - 0s 3ms/step - loss: 19.7619 - mae: 19.7619 - val_loss: 17.7259 - val_mae: 17.7259\n",
            "Epoch 3/50\n",
            "19/19 [==============================] - 0s 4ms/step - loss: 14.8673 - mae: 14.8673 - val_loss: 10.6225 - val_mae: 10.6225\n",
            "Epoch 4/50\n",
            "19/19 [==============================] - 0s 4ms/step - loss: 9.7912 - mae: 9.7912 - val_loss: 8.1081 - val_mae: 8.1081\n",
            "Epoch 5/50\n",
            "19/19 [==============================] - 0s 3ms/step - loss: 7.5315 - mae: 7.5315 - val_loss: 6.2381 - val_mae: 6.2381\n",
            "Epoch 6/50\n",
            "19/19 [==============================] - 0s 4ms/step - loss: 5.3246 - mae: 5.3246 - val_loss: 5.5042 - val_mae: 5.5042\n",
            "Epoch 7/50\n",
            "19/19 [==============================] - 0s 4ms/step - loss: 4.5381 - mae: 4.5381 - val_loss: 4.6669 - val_mae: 4.6669\n",
            "Epoch 8/50\n",
            "19/19 [==============================] - 0s 3ms/step - loss: 4.1234 - mae: 4.1234 - val_loss: 4.3305 - val_mae: 4.3305\n",
            "Epoch 9/50\n",
            "19/19 [==============================] - 0s 5ms/step - loss: 3.8971 - mae: 3.8971 - val_loss: 4.0150 - val_mae: 4.0150\n",
            "Epoch 10/50\n",
            "19/19 [==============================] - 0s 3ms/step - loss: 3.7103 - mae: 3.7103 - val_loss: 3.9622 - val_mae: 3.9622\n",
            "Epoch 11/50\n",
            "19/19 [==============================] - 0s 4ms/step - loss: 3.5236 - mae: 3.5236 - val_loss: 3.7031 - val_mae: 3.7031\n",
            "Epoch 12/50\n",
            "19/19 [==============================] - 0s 3ms/step - loss: 3.3849 - mae: 3.3849 - val_loss: 3.6622 - val_mae: 3.6622\n",
            "Epoch 13/50\n",
            "19/19 [==============================] - 0s 4ms/step - loss: 3.3379 - mae: 3.3379 - val_loss: 3.4526 - val_mae: 3.4526\n",
            "Epoch 14/50\n",
            "19/19 [==============================] - 0s 4ms/step - loss: 3.1813 - mae: 3.1813 - val_loss: 3.1798 - val_mae: 3.1798\n",
            "Epoch 15/50\n",
            "19/19 [==============================] - 0s 3ms/step - loss: 3.0776 - mae: 3.0776 - val_loss: 3.1609 - val_mae: 3.1609\n",
            "Epoch 16/50\n",
            "19/19 [==============================] - 0s 4ms/step - loss: 2.9863 - mae: 2.9863 - val_loss: 3.0072 - val_mae: 3.0072\n",
            "Epoch 17/50\n",
            "19/19 [==============================] - 0s 3ms/step - loss: 2.8654 - mae: 2.8654 - val_loss: 2.9167 - val_mae: 2.9167\n",
            "Epoch 18/50\n",
            "19/19 [==============================] - 0s 3ms/step - loss: 2.7772 - mae: 2.7772 - val_loss: 2.9273 - val_mae: 2.9273\n",
            "Epoch 19/50\n",
            "19/19 [==============================] - 0s 4ms/step - loss: 2.6208 - mae: 2.6208 - val_loss: 2.6537 - val_mae: 2.6537\n",
            "Epoch 20/50\n",
            "19/19 [==============================] - 0s 3ms/step - loss: 2.7121 - mae: 2.7121 - val_loss: 2.8765 - val_mae: 2.8765\n",
            "Epoch 21/50\n",
            "19/19 [==============================] - 0s 4ms/step - loss: 2.6178 - mae: 2.6178 - val_loss: 2.8494 - val_mae: 2.8494\n",
            "Epoch 22/50\n",
            "19/19 [==============================] - 0s 4ms/step - loss: 2.5367 - mae: 2.5367 - val_loss: 2.7873 - val_mae: 2.7873\n",
            "Epoch 23/50\n",
            "19/19 [==============================] - 0s 3ms/step - loss: 2.4795 - mae: 2.4795 - val_loss: 2.9549 - val_mae: 2.9549\n",
            "Epoch 24/50\n",
            "19/19 [==============================] - 0s 4ms/step - loss: 2.4718 - mae: 2.4718 - val_loss: 2.5546 - val_mae: 2.5546\n",
            "Epoch 25/50\n",
            "19/19 [==============================] - 0s 4ms/step - loss: 2.4715 - mae: 2.4715 - val_loss: 2.5215 - val_mae: 2.5215\n",
            "Epoch 26/50\n",
            "19/19 [==============================] - 0s 4ms/step - loss: 2.4113 - mae: 2.4113 - val_loss: 2.5912 - val_mae: 2.5912\n",
            "Epoch 27/50\n",
            "19/19 [==============================] - 0s 4ms/step - loss: 2.4110 - mae: 2.4110 - val_loss: 2.9014 - val_mae: 2.9014\n",
            "Epoch 28/50\n",
            "19/19 [==============================] - 0s 4ms/step - loss: 2.3920 - mae: 2.3920 - val_loss: 3.0420 - val_mae: 3.0420\n",
            "Epoch 29/50\n",
            "19/19 [==============================] - 0s 4ms/step - loss: 2.2869 - mae: 2.2869 - val_loss: 2.7303 - val_mae: 2.7303\n",
            "Epoch 30/50\n",
            "19/19 [==============================] - 0s 4ms/step - loss: 2.3766 - mae: 2.3766 - val_loss: 2.5731 - val_mae: 2.5731\n",
            "Epoch 31/50\n",
            "19/19 [==============================] - 0s 3ms/step - loss: 2.3336 - mae: 2.3336 - val_loss: 2.8033 - val_mae: 2.8033\n",
            "Epoch 32/50\n",
            "19/19 [==============================] - 0s 4ms/step - loss: 2.3514 - mae: 2.3514 - val_loss: 2.6158 - val_mae: 2.6158\n",
            "Epoch 33/50\n",
            "19/19 [==============================] - 0s 4ms/step - loss: 2.2948 - mae: 2.2948 - val_loss: 2.6934 - val_mae: 2.6934\n",
            "Epoch 34/50\n",
            "19/19 [==============================] - 0s 3ms/step - loss: 2.2316 - mae: 2.2316 - val_loss: 2.6993 - val_mae: 2.6993\n",
            "Epoch 35/50\n",
            "19/19 [==============================] - 0s 4ms/step - loss: 2.2256 - mae: 2.2256 - val_loss: 3.0478 - val_mae: 3.0478\n",
            "Epoch 36/50\n",
            "19/19 [==============================] - 0s 4ms/step - loss: 2.2138 - mae: 2.2138 - val_loss: 2.7528 - val_mae: 2.7528\n",
            "Epoch 37/50\n",
            "19/19 [==============================] - 0s 4ms/step - loss: 2.2470 - mae: 2.2470 - val_loss: 2.8160 - val_mae: 2.8160\n",
            "Epoch 38/50\n",
            "19/19 [==============================] - 0s 4ms/step - loss: 2.2424 - mae: 2.2424 - val_loss: 2.3822 - val_mae: 2.3822\n",
            "Epoch 39/50\n",
            "19/19 [==============================] - 0s 4ms/step - loss: 2.1939 - mae: 2.1939 - val_loss: 2.8517 - val_mae: 2.8517\n",
            "Epoch 40/50\n",
            "19/19 [==============================] - 0s 3ms/step - loss: 2.1994 - mae: 2.1994 - val_loss: 2.6996 - val_mae: 2.6996\n",
            "Epoch 41/50\n",
            "19/19 [==============================] - 0s 3ms/step - loss: 2.2217 - mae: 2.2217 - val_loss: 2.5459 - val_mae: 2.5459\n",
            "Epoch 42/50\n",
            "19/19 [==============================] - 0s 5ms/step - loss: 2.1740 - mae: 2.1740 - val_loss: 2.5710 - val_mae: 2.5710\n",
            "Epoch 43/50\n",
            "19/19 [==============================] - 0s 4ms/step - loss: 2.1126 - mae: 2.1126 - val_loss: 2.9105 - val_mae: 2.9105\n",
            "Epoch 44/50\n",
            "19/19 [==============================] - 0s 4ms/step - loss: 2.2213 - mae: 2.2213 - val_loss: 2.6836 - val_mae: 2.6836\n",
            "Epoch 45/50\n",
            "19/19 [==============================] - 0s 3ms/step - loss: 2.1847 - mae: 2.1847 - val_loss: 2.6540 - val_mae: 2.6540\n",
            "Epoch 46/50\n",
            "19/19 [==============================] - 0s 3ms/step - loss: 2.1374 - mae: 2.1374 - val_loss: 2.5946 - val_mae: 2.5946\n",
            "Epoch 47/50\n",
            "19/19 [==============================] - 0s 4ms/step - loss: 2.1314 - mae: 2.1314 - val_loss: 2.5860 - val_mae: 2.5860\n",
            "Epoch 48/50\n",
            "19/19 [==============================] - 0s 4ms/step - loss: 2.1318 - mae: 2.1318 - val_loss: 2.5838 - val_mae: 2.5838\n",
            "Epoch 49/50\n",
            "19/19 [==============================] - 0s 4ms/step - loss: 2.0966 - mae: 2.0966 - val_loss: 2.6080 - val_mae: 2.6080\n",
            "Epoch 50/50\n",
            "19/19 [==============================] - 0s 4ms/step - loss: 2.1829 - mae: 2.1829 - val_loss: 2.6095 - val_mae: 2.6095\n"
          ],
          "name": "stdout"
        }
      ]
    },
    {
      "cell_type": "code",
      "metadata": {
        "id": "DqDTmFkZ-s0q"
      },
      "source": [
        "model_df.loc[len(model_df)] = ['model4', 'mae', 'mae', history_last(model4)]"
      ],
      "execution_count": 36,
      "outputs": []
    },
    {
      "cell_type": "code",
      "metadata": {
        "colab": {
          "base_uri": "https://localhost:8080/"
        },
        "id": "4-6V--IgMzvF",
        "outputId": "3b22d2cb-9394-420b-f674-54a1ff4731fc"
      },
      "source": [
        "model5 = Sequential([\n",
        "  normalizer,\n",
        "  Dense(128, activation='relu', input_shape=(num_features,)),\n",
        "  Dense(128, activation='relu'),\n",
        "  Dense(1),\n",
        "])\n",
        "\n",
        "\n",
        "model5.compile(\n",
        "  optimizer='SGD',\n",
        "  loss='mean_squared_error',\n",
        "  metrics=[tf.keras.metrics.MeanAbsolutePercentageError()],\n",
        ")\n",
        "\n",
        "model_fit = model5.fit(X, Y, epochs=50, batch_size=15, validation_split=0.2)"
      ],
      "execution_count": 37,
      "outputs": [
        {
          "output_type": "stream",
          "text": [
            "Epoch 1/50\n",
            "19/19 [==============================] - 1s 11ms/step - loss: 464.2149 - mean_absolute_percentage_error: 84.4837 - val_loss: 379.9748 - val_mean_absolute_percentage_error: 75.1527\n",
            "Epoch 2/50\n",
            "19/19 [==============================] - 0s 5ms/step - loss: 324.3831 - mean_absolute_percentage_error: 63.7824 - val_loss: 303.2720 - val_mean_absolute_percentage_error: 62.6729\n",
            "Epoch 3/50\n",
            "19/19 [==============================] - 0s 4ms/step - loss: 192.9001 - mean_absolute_percentage_error: 41.6667 - val_loss: 21.2807 - val_mean_absolute_percentage_error: 12.7321\n",
            "Epoch 4/50\n",
            "19/19 [==============================] - 0s 4ms/step - loss: 29.6777 - mean_absolute_percentage_error: 17.9928 - val_loss: 24.7785 - val_mean_absolute_percentage_error: 16.3182\n",
            "Epoch 5/50\n",
            "19/19 [==============================] - 0s 4ms/step - loss: 87.5693 - mean_absolute_percentage_error: 26.1901 - val_loss: 56.8368 - val_mean_absolute_percentage_error: 20.9838\n",
            "Epoch 6/50\n",
            "19/19 [==============================] - 0s 4ms/step - loss: 33.3264 - mean_absolute_percentage_error: 17.3721 - val_loss: 20.5359 - val_mean_absolute_percentage_error: 13.2238\n",
            "Epoch 7/50\n",
            "19/19 [==============================] - 0s 4ms/step - loss: 17.7785 - mean_absolute_percentage_error: 14.4311 - val_loss: 29.2742 - val_mean_absolute_percentage_error: 18.7647\n",
            "Epoch 8/50\n",
            "19/19 [==============================] - 0s 3ms/step - loss: 20.7540 - mean_absolute_percentage_error: 14.2465 - val_loss: 32.7402 - val_mean_absolute_percentage_error: 15.9964\n",
            "Epoch 9/50\n",
            "19/19 [==============================] - 0s 3ms/step - loss: 16.3996 - mean_absolute_percentage_error: 13.6431 - val_loss: 18.2981 - val_mean_absolute_percentage_error: 13.0439\n",
            "Epoch 10/50\n",
            "19/19 [==============================] - 0s 4ms/step - loss: 15.3216 - mean_absolute_percentage_error: 13.9616 - val_loss: 39.6221 - val_mean_absolute_percentage_error: 20.1516\n",
            "Epoch 11/50\n",
            "19/19 [==============================] - 0s 4ms/step - loss: 24.1335 - mean_absolute_percentage_error: 14.0272 - val_loss: 125.1231 - val_mean_absolute_percentage_error: 33.5965\n",
            "Epoch 12/50\n",
            "19/19 [==============================] - 0s 4ms/step - loss: 39.7848 - mean_absolute_percentage_error: 18.5757 - val_loss: 14.7825 - val_mean_absolute_percentage_error: 13.8351\n",
            "Epoch 13/50\n",
            "19/19 [==============================] - 0s 4ms/step - loss: 17.7972 - mean_absolute_percentage_error: 12.9091 - val_loss: 15.7245 - val_mean_absolute_percentage_error: 13.6030\n",
            "Epoch 14/50\n",
            "19/19 [==============================] - 0s 4ms/step - loss: 17.1521 - mean_absolute_percentage_error: 13.1829 - val_loss: 16.0499 - val_mean_absolute_percentage_error: 13.5506\n",
            "Epoch 15/50\n",
            "19/19 [==============================] - 0s 4ms/step - loss: 10.0301 - mean_absolute_percentage_error: 11.4988 - val_loss: 24.5020 - val_mean_absolute_percentage_error: 16.8462\n",
            "Epoch 16/50\n",
            "19/19 [==============================] - 0s 4ms/step - loss: 12.9575 - mean_absolute_percentage_error: 11.8505 - val_loss: 28.1808 - val_mean_absolute_percentage_error: 15.6223\n",
            "Epoch 17/50\n",
            "19/19 [==============================] - 0s 4ms/step - loss: 11.7441 - mean_absolute_percentage_error: 11.6176 - val_loss: 19.4675 - val_mean_absolute_percentage_error: 13.8939\n",
            "Epoch 18/50\n",
            "19/19 [==============================] - 0s 5ms/step - loss: 8.5144 - mean_absolute_percentage_error: 10.6923 - val_loss: 13.8024 - val_mean_absolute_percentage_error: 12.9960\n",
            "Epoch 19/50\n",
            "19/19 [==============================] - 0s 4ms/step - loss: 6.9304 - mean_absolute_percentage_error: 9.8157 - val_loss: 19.3437 - val_mean_absolute_percentage_error: 15.7257\n",
            "Epoch 20/50\n",
            "19/19 [==============================] - 0s 4ms/step - loss: 8.5118 - mean_absolute_percentage_error: 10.4714 - val_loss: 14.0831 - val_mean_absolute_percentage_error: 14.6355\n",
            "Epoch 21/50\n",
            "19/19 [==============================] - 0s 4ms/step - loss: 13.7442 - mean_absolute_percentage_error: 11.7076 - val_loss: 10.1022 - val_mean_absolute_percentage_error: 12.4697\n",
            "Epoch 22/50\n",
            "19/19 [==============================] - 0s 5ms/step - loss: 8.4646 - mean_absolute_percentage_error: 10.6828 - val_loss: 13.3628 - val_mean_absolute_percentage_error: 13.0868\n",
            "Epoch 23/50\n",
            "19/19 [==============================] - 0s 4ms/step - loss: 7.3392 - mean_absolute_percentage_error: 9.7934 - val_loss: 29.0470 - val_mean_absolute_percentage_error: 16.1220\n",
            "Epoch 24/50\n",
            "19/19 [==============================] - 0s 4ms/step - loss: 9.7138 - mean_absolute_percentage_error: 10.5953 - val_loss: 13.3388 - val_mean_absolute_percentage_error: 11.3591\n",
            "Epoch 25/50\n",
            "19/19 [==============================] - 0s 3ms/step - loss: 10.6419 - mean_absolute_percentage_error: 10.5907 - val_loss: 9.5501 - val_mean_absolute_percentage_error: 11.8536\n",
            "Epoch 26/50\n",
            "19/19 [==============================] - 0s 4ms/step - loss: 9.6998 - mean_absolute_percentage_error: 10.8261 - val_loss: 15.4069 - val_mean_absolute_percentage_error: 12.4885\n",
            "Epoch 27/50\n",
            "19/19 [==============================] - 0s 4ms/step - loss: 7.3000 - mean_absolute_percentage_error: 9.6287 - val_loss: 8.9815 - val_mean_absolute_percentage_error: 10.5458\n",
            "Epoch 28/50\n",
            "19/19 [==============================] - 0s 4ms/step - loss: 6.0136 - mean_absolute_percentage_error: 9.2346 - val_loss: 10.2469 - val_mean_absolute_percentage_error: 11.5915\n",
            "Epoch 29/50\n",
            "19/19 [==============================] - 0s 4ms/step - loss: 4.9089 - mean_absolute_percentage_error: 8.5270 - val_loss: 15.1871 - val_mean_absolute_percentage_error: 14.2861\n",
            "Epoch 30/50\n",
            "19/19 [==============================] - 0s 4ms/step - loss: 5.8613 - mean_absolute_percentage_error: 8.9100 - val_loss: 9.4576 - val_mean_absolute_percentage_error: 10.4924\n",
            "Epoch 31/50\n",
            "19/19 [==============================] - 0s 4ms/step - loss: 5.3341 - mean_absolute_percentage_error: 8.6375 - val_loss: 9.7207 - val_mean_absolute_percentage_error: 11.7396\n",
            "Epoch 32/50\n",
            "19/19 [==============================] - 0s 4ms/step - loss: 4.5595 - mean_absolute_percentage_error: 8.5176 - val_loss: 9.6891 - val_mean_absolute_percentage_error: 11.9564\n",
            "Epoch 33/50\n",
            "19/19 [==============================] - 0s 4ms/step - loss: 5.1325 - mean_absolute_percentage_error: 8.0722 - val_loss: 9.0120 - val_mean_absolute_percentage_error: 11.1354\n",
            "Epoch 34/50\n",
            "19/19 [==============================] - 0s 4ms/step - loss: 4.7410 - mean_absolute_percentage_error: 7.9049 - val_loss: 9.0683 - val_mean_absolute_percentage_error: 11.4544\n",
            "Epoch 35/50\n",
            "19/19 [==============================] - 0s 4ms/step - loss: 10.5077 - mean_absolute_percentage_error: 10.0125 - val_loss: 12.9863 - val_mean_absolute_percentage_error: 13.2524\n",
            "Epoch 36/50\n",
            "19/19 [==============================] - 0s 4ms/step - loss: 4.8689 - mean_absolute_percentage_error: 8.4353 - val_loss: 10.1979 - val_mean_absolute_percentage_error: 10.8692\n",
            "Epoch 37/50\n",
            "19/19 [==============================] - 0s 4ms/step - loss: 3.8829 - mean_absolute_percentage_error: 7.6920 - val_loss: 12.3173 - val_mean_absolute_percentage_error: 12.7576\n",
            "Epoch 38/50\n",
            "19/19 [==============================] - 0s 4ms/step - loss: 4.1458 - mean_absolute_percentage_error: 7.6805 - val_loss: 8.5649 - val_mean_absolute_percentage_error: 10.9911\n",
            "Epoch 39/50\n",
            "19/19 [==============================] - 0s 4ms/step - loss: 3.9877 - mean_absolute_percentage_error: 7.5538 - val_loss: 10.4734 - val_mean_absolute_percentage_error: 11.7925\n",
            "Epoch 40/50\n",
            "19/19 [==============================] - 0s 5ms/step - loss: 3.6404 - mean_absolute_percentage_error: 7.2705 - val_loss: 9.3159 - val_mean_absolute_percentage_error: 11.5549\n",
            "Epoch 41/50\n",
            "19/19 [==============================] - 0s 3ms/step - loss: 4.4270 - mean_absolute_percentage_error: 7.7336 - val_loss: 8.2963 - val_mean_absolute_percentage_error: 10.8629\n",
            "Epoch 42/50\n",
            "19/19 [==============================] - 0s 4ms/step - loss: 4.2712 - mean_absolute_percentage_error: 7.6009 - val_loss: 9.4035 - val_mean_absolute_percentage_error: 11.4473\n",
            "Epoch 43/50\n",
            "19/19 [==============================] - 0s 3ms/step - loss: 3.2224 - mean_absolute_percentage_error: 6.9336 - val_loss: 8.9713 - val_mean_absolute_percentage_error: 10.5568\n",
            "Epoch 44/50\n",
            "19/19 [==============================] - 0s 3ms/step - loss: 3.7114 - mean_absolute_percentage_error: 7.1790 - val_loss: 8.8723 - val_mean_absolute_percentage_error: 10.8733\n",
            "Epoch 45/50\n",
            "19/19 [==============================] - 0s 4ms/step - loss: 4.2313 - mean_absolute_percentage_error: 7.5267 - val_loss: 9.3423 - val_mean_absolute_percentage_error: 11.7509\n",
            "Epoch 46/50\n",
            "19/19 [==============================] - 0s 4ms/step - loss: 5.1600 - mean_absolute_percentage_error: 8.0160 - val_loss: 8.8725 - val_mean_absolute_percentage_error: 11.8567\n",
            "Epoch 47/50\n",
            "19/19 [==============================] - 0s 5ms/step - loss: 4.1405 - mean_absolute_percentage_error: 7.1579 - val_loss: 9.0148 - val_mean_absolute_percentage_error: 10.7219\n",
            "Epoch 48/50\n",
            "19/19 [==============================] - 0s 4ms/step - loss: 3.8059 - mean_absolute_percentage_error: 7.4312 - val_loss: 8.7044 - val_mean_absolute_percentage_error: 10.6128\n",
            "Epoch 49/50\n",
            "19/19 [==============================] - 0s 5ms/step - loss: 3.9814 - mean_absolute_percentage_error: 7.1974 - val_loss: 9.6880 - val_mean_absolute_percentage_error: 12.1140\n",
            "Epoch 50/50\n",
            "19/19 [==============================] - 0s 4ms/step - loss: 3.9083 - mean_absolute_percentage_error: 7.3053 - val_loss: 11.8482 - val_mean_absolute_percentage_error: 13.0887\n"
          ],
          "name": "stdout"
        }
      ]
    },
    {
      "cell_type": "code",
      "metadata": {
        "id": "9r0WQOwjMzxC"
      },
      "source": [
        "model_df.loc[len(model_df)] = ['model5', 'mse', 'mape', history_last(model5)]"
      ],
      "execution_count": 38,
      "outputs": []
    },
    {
      "cell_type": "code",
      "metadata": {
        "id": "hzGlV_DAMzyz",
        "colab": {
          "base_uri": "https://localhost:8080/"
        },
        "outputId": "c56a3045-3283-47b9-85ff-d1fe2487224e"
      },
      "source": [
        "model6 = Sequential([\n",
        "  normalizer,\n",
        "  Dense(128, activation='relu', input_shape=(num_features,)),\n",
        "  Dense(128, activation='relu'),\n",
        "  Dense(1),\n",
        "])\n",
        "\n",
        "\n",
        "model6.compile(\n",
        "  optimizer='SGD',\n",
        "  loss='mean_squared_error',\n",
        "  metrics=[tf.keras.metrics.RootMeanSquaredError()],\n",
        ")\n",
        "\n",
        "model_fit = model6.fit(X, Y, epochs=50, batch_size=15, validation_split=0.2, verbose=0)"
      ],
      "execution_count": 39,
      "outputs": [
        {
          "output_type": "stream",
          "text": [
            "Epoch 1/50\n",
            "19/19 [==============================] - 0s 10ms/step - loss: 389.3636 - root_mean_squared_error: 19.7323 - val_loss: 364.0063 - val_root_mean_squared_error: 19.0789\n",
            "Epoch 2/50\n",
            "19/19 [==============================] - 0s 4ms/step - loss: 155.2312 - root_mean_squared_error: 12.4592 - val_loss: 550.4827 - val_root_mean_squared_error: 23.4624\n",
            "Epoch 3/50\n",
            "19/19 [==============================] - 0s 4ms/step - loss: 258.5624 - root_mean_squared_error: 16.0799 - val_loss: 271.1424 - val_root_mean_squared_error: 16.4664\n",
            "Epoch 4/50\n",
            "19/19 [==============================] - 0s 4ms/step - loss: 191.6046 - root_mean_squared_error: 13.8421 - val_loss: 27.6225 - val_root_mean_squared_error: 5.2557\n",
            "Epoch 5/50\n",
            "19/19 [==============================] - 0s 5ms/step - loss: 62.8342 - root_mean_squared_error: 7.9268 - val_loss: 28.5764 - val_root_mean_squared_error: 5.3457\n",
            "Epoch 6/50\n",
            "19/19 [==============================] - 0s 4ms/step - loss: 43.1898 - root_mean_squared_error: 6.5719 - val_loss: 38.8243 - val_root_mean_squared_error: 6.2309\n",
            "Epoch 7/50\n",
            "19/19 [==============================] - 0s 3ms/step - loss: 24.6597 - root_mean_squared_error: 4.9658 - val_loss: 20.6228 - val_root_mean_squared_error: 4.5412\n",
            "Epoch 8/50\n",
            "19/19 [==============================] - 0s 4ms/step - loss: 23.4233 - root_mean_squared_error: 4.8398 - val_loss: 23.8552 - val_root_mean_squared_error: 4.8842\n",
            "Epoch 9/50\n",
            "19/19 [==============================] - 0s 4ms/step - loss: 29.9735 - root_mean_squared_error: 5.4748 - val_loss: 22.8108 - val_root_mean_squared_error: 4.7761\n",
            "Epoch 10/50\n",
            "19/19 [==============================] - 0s 4ms/step - loss: 18.8232 - root_mean_squared_error: 4.3386 - val_loss: 11.1908 - val_root_mean_squared_error: 3.3453\n",
            "Epoch 11/50\n",
            "19/19 [==============================] - 0s 4ms/step - loss: 26.0644 - root_mean_squared_error: 5.1053 - val_loss: 23.2181 - val_root_mean_squared_error: 4.8185\n",
            "Epoch 12/50\n",
            "19/19 [==============================] - 0s 3ms/step - loss: 21.8870 - root_mean_squared_error: 4.6784 - val_loss: 25.0857 - val_root_mean_squared_error: 5.0086\n",
            "Epoch 13/50\n",
            "19/19 [==============================] - 0s 4ms/step - loss: 24.9879 - root_mean_squared_error: 4.9988 - val_loss: 16.9116 - val_root_mean_squared_error: 4.1124\n",
            "Epoch 14/50\n",
            "19/19 [==============================] - 0s 4ms/step - loss: 11.6226 - root_mean_squared_error: 3.4092 - val_loss: 19.8193 - val_root_mean_squared_error: 4.4519\n",
            "Epoch 15/50\n",
            "19/19 [==============================] - 0s 4ms/step - loss: 10.6434 - root_mean_squared_error: 3.2624 - val_loss: 14.3431 - val_root_mean_squared_error: 3.7872\n",
            "Epoch 16/50\n",
            "19/19 [==============================] - 0s 3ms/step - loss: 9.1412 - root_mean_squared_error: 3.0234 - val_loss: 16.4661 - val_root_mean_squared_error: 4.0578\n",
            "Epoch 17/50\n",
            "19/19 [==============================] - 0s 3ms/step - loss: 9.4226 - root_mean_squared_error: 3.0696 - val_loss: 12.0601 - val_root_mean_squared_error: 3.4728\n",
            "Epoch 18/50\n",
            "19/19 [==============================] - 0s 4ms/step - loss: 13.3432 - root_mean_squared_error: 3.6528 - val_loss: 14.6018 - val_root_mean_squared_error: 3.8212\n",
            "Epoch 19/50\n",
            "19/19 [==============================] - 0s 4ms/step - loss: 8.5407 - root_mean_squared_error: 2.9224 - val_loss: 14.8917 - val_root_mean_squared_error: 3.8590\n",
            "Epoch 20/50\n",
            "19/19 [==============================] - 0s 3ms/step - loss: 7.8333 - root_mean_squared_error: 2.7988 - val_loss: 12.5210 - val_root_mean_squared_error: 3.5385\n",
            "Epoch 21/50\n",
            "19/19 [==============================] - 0s 3ms/step - loss: 6.6253 - root_mean_squared_error: 2.5740 - val_loss: 13.3372 - val_root_mean_squared_error: 3.6520\n",
            "Epoch 22/50\n",
            "19/19 [==============================] - 0s 4ms/step - loss: 6.4734 - root_mean_squared_error: 2.5443 - val_loss: 13.9015 - val_root_mean_squared_error: 3.7285\n",
            "Epoch 23/50\n",
            "19/19 [==============================] - 0s 4ms/step - loss: 8.1597 - root_mean_squared_error: 2.8565 - val_loss: 12.6838 - val_root_mean_squared_error: 3.5614\n",
            "Epoch 24/50\n",
            "19/19 [==============================] - 0s 4ms/step - loss: 5.9834 - root_mean_squared_error: 2.4461 - val_loss: 11.7248 - val_root_mean_squared_error: 3.4242\n",
            "Epoch 25/50\n",
            "19/19 [==============================] - 0s 4ms/step - loss: 7.0143 - root_mean_squared_error: 2.6485 - val_loss: 12.3256 - val_root_mean_squared_error: 3.5108\n",
            "Epoch 26/50\n",
            "19/19 [==============================] - 0s 4ms/step - loss: 7.3956 - root_mean_squared_error: 2.7195 - val_loss: 20.0117 - val_root_mean_squared_error: 4.4734\n",
            "Epoch 27/50\n",
            "19/19 [==============================] - 0s 4ms/step - loss: 11.2124 - root_mean_squared_error: 3.3485 - val_loss: 28.9165 - val_root_mean_squared_error: 5.3774\n",
            "Epoch 28/50\n",
            "19/19 [==============================] - 0s 4ms/step - loss: 8.6990 - root_mean_squared_error: 2.9494 - val_loss: 13.5716 - val_root_mean_squared_error: 3.6840\n",
            "Epoch 29/50\n",
            "19/19 [==============================] - 0s 4ms/step - loss: 6.1363 - root_mean_squared_error: 2.4772 - val_loss: 13.7472 - val_root_mean_squared_error: 3.7077\n",
            "Epoch 30/50\n",
            "19/19 [==============================] - 0s 4ms/step - loss: 6.7851 - root_mean_squared_error: 2.6048 - val_loss: 8.6878 - val_root_mean_squared_error: 2.9475\n",
            "Epoch 31/50\n",
            "19/19 [==============================] - 0s 4ms/step - loss: 5.6948 - root_mean_squared_error: 2.3864 - val_loss: 10.6508 - val_root_mean_squared_error: 3.2636\n",
            "Epoch 32/50\n",
            "19/19 [==============================] - 0s 4ms/step - loss: 5.5764 - root_mean_squared_error: 2.3614 - val_loss: 10.1531 - val_root_mean_squared_error: 3.1864\n",
            "Epoch 33/50\n",
            "19/19 [==============================] - 0s 4ms/step - loss: 4.4801 - root_mean_squared_error: 2.1166 - val_loss: 14.6905 - val_root_mean_squared_error: 3.8328\n",
            "Epoch 34/50\n",
            "19/19 [==============================] - 0s 4ms/step - loss: 6.0583 - root_mean_squared_error: 2.4614 - val_loss: 10.7792 - val_root_mean_squared_error: 3.2832\n",
            "Epoch 35/50\n",
            "19/19 [==============================] - 0s 4ms/step - loss: 8.6283 - root_mean_squared_error: 2.9374 - val_loss: 16.2691 - val_root_mean_squared_error: 4.0335\n",
            "Epoch 36/50\n",
            "19/19 [==============================] - 0s 4ms/step - loss: 7.1621 - root_mean_squared_error: 2.6762 - val_loss: 11.0721 - val_root_mean_squared_error: 3.3275\n",
            "Epoch 37/50\n",
            "19/19 [==============================] - 0s 3ms/step - loss: 5.8216 - root_mean_squared_error: 2.4128 - val_loss: 10.6038 - val_root_mean_squared_error: 3.2563\n",
            "Epoch 38/50\n",
            "19/19 [==============================] - 0s 4ms/step - loss: 5.4772 - root_mean_squared_error: 2.3403 - val_loss: 11.1131 - val_root_mean_squared_error: 3.3336\n",
            "Epoch 39/50\n",
            "19/19 [==============================] - 0s 3ms/step - loss: 9.7356 - root_mean_squared_error: 3.1202 - val_loss: 25.7738 - val_root_mean_squared_error: 5.0768\n",
            "Epoch 40/50\n",
            "19/19 [==============================] - 0s 4ms/step - loss: 9.0317 - root_mean_squared_error: 3.0053 - val_loss: 10.0222 - val_root_mean_squared_error: 3.1658\n",
            "Epoch 41/50\n",
            "19/19 [==============================] - 0s 5ms/step - loss: 4.9472 - root_mean_squared_error: 2.2242 - val_loss: 9.5626 - val_root_mean_squared_error: 3.0924\n",
            "Epoch 42/50\n",
            "19/19 [==============================] - 0s 4ms/step - loss: 7.2792 - root_mean_squared_error: 2.6980 - val_loss: 10.0634 - val_root_mean_squared_error: 3.1723\n",
            "Epoch 43/50\n",
            "19/19 [==============================] - 0s 4ms/step - loss: 4.0980 - root_mean_squared_error: 2.0243 - val_loss: 9.9716 - val_root_mean_squared_error: 3.1578\n",
            "Epoch 44/50\n",
            "19/19 [==============================] - 0s 4ms/step - loss: 5.5921 - root_mean_squared_error: 2.3648 - val_loss: 9.8844 - val_root_mean_squared_error: 3.1440\n",
            "Epoch 45/50\n",
            "19/19 [==============================] - 0s 4ms/step - loss: 7.8857 - root_mean_squared_error: 2.8081 - val_loss: 22.3798 - val_root_mean_squared_error: 4.7307\n",
            "Epoch 46/50\n",
            "19/19 [==============================] - 0s 3ms/step - loss: 11.6348 - root_mean_squared_error: 3.4110 - val_loss: 11.2111 - val_root_mean_squared_error: 3.3483\n",
            "Epoch 47/50\n",
            "19/19 [==============================] - 0s 4ms/step - loss: 4.8964 - root_mean_squared_error: 2.2128 - val_loss: 10.2221 - val_root_mean_squared_error: 3.1972\n",
            "Epoch 48/50\n",
            "19/19 [==============================] - 0s 3ms/step - loss: 5.7780 - root_mean_squared_error: 2.4038 - val_loss: 13.6483 - val_root_mean_squared_error: 3.6944\n",
            "Epoch 49/50\n",
            "19/19 [==============================] - 0s 4ms/step - loss: 4.7607 - root_mean_squared_error: 2.1819 - val_loss: 11.5162 - val_root_mean_squared_error: 3.3936\n",
            "Epoch 50/50\n",
            "19/19 [==============================] - 0s 4ms/step - loss: 6.9465 - root_mean_squared_error: 2.6356 - val_loss: 10.7388 - val_root_mean_squared_error: 3.2770\n"
          ],
          "name": "stdout"
        }
      ]
    },
    {
      "cell_type": "code",
      "metadata": {
        "id": "F8dd37GQnofA"
      },
      "source": [
        "model_df.loc[len(model_df)] = ['model6', 'mse', 'rmse', history_last(model6)]"
      ],
      "execution_count": 40,
      "outputs": []
    },
    {
      "cell_type": "code",
      "metadata": {
        "id": "y1XCPXhcnoh-"
      },
      "source": [
        "model7 = Sequential([\n",
        "  normalizer,\n",
        "  Dense(128, activation='relu', input_shape=(num_features,)),\n",
        "  Dense(128, activation='relu'),\n",
        "  Dense(1),\n",
        "])\n",
        "\n",
        "\n",
        "model7.compile(\n",
        "  optimizer='SGD',\n",
        "  loss='mae',\n",
        "  metrics=['mae'],\n",
        ")\n",
        "\n",
        "model_fit = model7.fit(X, Y, epochs=50, batch_size=15, validation_split=0.2, verbose=0)"
      ],
      "execution_count": 41,
      "outputs": []
    },
    {
      "cell_type": "code",
      "metadata": {
        "id": "Gy5po1qhnokX"
      },
      "source": [
        "model_df.loc[len(model_df)] = ['model7', 'mae', 'mae', history_last(model7)]"
      ],
      "execution_count": 42,
      "outputs": []
    },
    {
      "cell_type": "code",
      "metadata": {
        "colab": {
          "base_uri": "https://localhost:8080/"
        },
        "id": "sR60UOCcnonG",
        "outputId": "8614db41-77a2-4ab0-9191-391da4dd3440"
      },
      "source": [
        "model8 = Sequential([\n",
        "  normalizer,\n",
        "  Dense(128, activation='relu', input_shape=(num_features,)),\n",
        "  Dense(128, activation='relu'),\n",
        "  Dense(1),\n",
        "])\n",
        "\n",
        "\n",
        "model8.compile(\n",
        "  optimizer='SGD',\n",
        "  loss='mae',\n",
        "  metrics=[tf.keras.metrics.MeanAbsolutePercentageError()],\n",
        ")\n",
        "\n",
        "model_fit = model8.fit(X, Y, epochs=50, batch_size=15, validation_split=0.2)"
      ],
      "execution_count": 43,
      "outputs": [
        {
          "output_type": "stream",
          "text": [
            "Epoch 1/50\n",
            "19/19 [==============================] - 1s 28ms/step - loss: 22.4664 - mean_absolute_percentage_error: 96.9558 - val_loss: 21.4038 - val_mean_absolute_percentage_error: 93.3316\n",
            "Epoch 2/50\n",
            "19/19 [==============================] - 0s 4ms/step - loss: 20.5901 - mean_absolute_percentage_error: 87.0346 - val_loss: 18.8156 - val_mean_absolute_percentage_error: 80.2189\n",
            "Epoch 3/50\n",
            "19/19 [==============================] - 0s 4ms/step - loss: 16.2172 - mean_absolute_percentage_error: 65.4155 - val_loss: 11.8867 - val_mean_absolute_percentage_error: 49.2851\n",
            "Epoch 4/50\n",
            "19/19 [==============================] - 0s 4ms/step - loss: 8.6477 - mean_absolute_percentage_error: 37.2079 - val_loss: 5.6433 - val_mean_absolute_percentage_error: 24.8081\n",
            "Epoch 5/50\n",
            "19/19 [==============================] - 0s 4ms/step - loss: 5.2538 - mean_absolute_percentage_error: 24.1818 - val_loss: 4.2899 - val_mean_absolute_percentage_error: 19.8344\n",
            "Epoch 6/50\n",
            "19/19 [==============================] - 0s 4ms/step - loss: 3.9921 - mean_absolute_percentage_error: 19.5433 - val_loss: 3.9368 - val_mean_absolute_percentage_error: 17.8216\n",
            "Epoch 7/50\n",
            "19/19 [==============================] - 0s 4ms/step - loss: 3.5505 - mean_absolute_percentage_error: 16.8635 - val_loss: 3.6384 - val_mean_absolute_percentage_error: 16.7158\n",
            "Epoch 8/50\n",
            "19/19 [==============================] - 0s 4ms/step - loss: 3.3204 - mean_absolute_percentage_error: 15.8014 - val_loss: 3.3661 - val_mean_absolute_percentage_error: 15.2327\n",
            "Epoch 9/50\n",
            "19/19 [==============================] - 0s 4ms/step - loss: 3.0838 - mean_absolute_percentage_error: 14.9538 - val_loss: 3.5117 - val_mean_absolute_percentage_error: 16.0322\n",
            "Epoch 10/50\n",
            "19/19 [==============================] - 0s 4ms/step - loss: 2.9446 - mean_absolute_percentage_error: 13.7604 - val_loss: 3.1199 - val_mean_absolute_percentage_error: 14.5155\n",
            "Epoch 11/50\n",
            "19/19 [==============================] - 0s 4ms/step - loss: 2.8639 - mean_absolute_percentage_error: 13.7003 - val_loss: 3.0410 - val_mean_absolute_percentage_error: 14.0874\n",
            "Epoch 12/50\n",
            "19/19 [==============================] - 0s 4ms/step - loss: 2.6731 - mean_absolute_percentage_error: 12.5994 - val_loss: 2.9233 - val_mean_absolute_percentage_error: 13.7762\n",
            "Epoch 13/50\n",
            "19/19 [==============================] - 0s 4ms/step - loss: 2.6017 - mean_absolute_percentage_error: 12.2043 - val_loss: 2.9712 - val_mean_absolute_percentage_error: 13.6419\n",
            "Epoch 14/50\n",
            "19/19 [==============================] - 0s 4ms/step - loss: 2.5276 - mean_absolute_percentage_error: 11.9971 - val_loss: 3.0075 - val_mean_absolute_percentage_error: 13.8328\n",
            "Epoch 15/50\n",
            "19/19 [==============================] - 0s 4ms/step - loss: 2.5505 - mean_absolute_percentage_error: 11.8253 - val_loss: 3.1889 - val_mean_absolute_percentage_error: 14.7357\n",
            "Epoch 16/50\n",
            "19/19 [==============================] - 0s 4ms/step - loss: 2.4811 - mean_absolute_percentage_error: 11.4352 - val_loss: 2.8224 - val_mean_absolute_percentage_error: 12.9515\n",
            "Epoch 17/50\n",
            "19/19 [==============================] - 0s 4ms/step - loss: 2.4425 - mean_absolute_percentage_error: 11.2548 - val_loss: 2.6920 - val_mean_absolute_percentage_error: 12.6136\n",
            "Epoch 18/50\n",
            "19/19 [==============================] - 0s 4ms/step - loss: 2.4350 - mean_absolute_percentage_error: 11.2717 - val_loss: 3.0723 - val_mean_absolute_percentage_error: 14.2722\n",
            "Epoch 19/50\n",
            "19/19 [==============================] - 0s 4ms/step - loss: 2.4567 - mean_absolute_percentage_error: 11.4352 - val_loss: 3.0800 - val_mean_absolute_percentage_error: 14.0511\n",
            "Epoch 20/50\n",
            "19/19 [==============================] - 0s 4ms/step - loss: 2.3183 - mean_absolute_percentage_error: 10.8414 - val_loss: 2.7897 - val_mean_absolute_percentage_error: 13.4119\n",
            "Epoch 21/50\n",
            "19/19 [==============================] - 0s 4ms/step - loss: 2.3656 - mean_absolute_percentage_error: 11.2864 - val_loss: 2.7812 - val_mean_absolute_percentage_error: 12.9472\n",
            "Epoch 22/50\n",
            "19/19 [==============================] - 0s 4ms/step - loss: 2.3043 - mean_absolute_percentage_error: 10.8442 - val_loss: 2.8386 - val_mean_absolute_percentage_error: 13.1961\n",
            "Epoch 23/50\n",
            "19/19 [==============================] - 0s 4ms/step - loss: 2.3547 - mean_absolute_percentage_error: 10.9051 - val_loss: 2.6834 - val_mean_absolute_percentage_error: 12.6664\n",
            "Epoch 24/50\n",
            "19/19 [==============================] - 0s 3ms/step - loss: 2.2754 - mean_absolute_percentage_error: 10.5474 - val_loss: 2.6776 - val_mean_absolute_percentage_error: 12.6635\n",
            "Epoch 25/50\n",
            "19/19 [==============================] - 0s 4ms/step - loss: 2.2057 - mean_absolute_percentage_error: 10.2358 - val_loss: 2.7017 - val_mean_absolute_percentage_error: 12.4953\n",
            "Epoch 26/50\n",
            "19/19 [==============================] - 0s 4ms/step - loss: 2.2381 - mean_absolute_percentage_error: 10.3033 - val_loss: 2.6643 - val_mean_absolute_percentage_error: 12.3421\n",
            "Epoch 27/50\n",
            "19/19 [==============================] - 0s 4ms/step - loss: 2.2250 - mean_absolute_percentage_error: 10.1892 - val_loss: 2.7451 - val_mean_absolute_percentage_error: 13.0105\n",
            "Epoch 28/50\n",
            "19/19 [==============================] - 0s 4ms/step - loss: 2.1922 - mean_absolute_percentage_error: 10.4138 - val_loss: 2.7187 - val_mean_absolute_percentage_error: 12.7538\n",
            "Epoch 29/50\n",
            "19/19 [==============================] - 0s 4ms/step - loss: 2.2590 - mean_absolute_percentage_error: 10.4095 - val_loss: 2.7723 - val_mean_absolute_percentage_error: 13.1230\n",
            "Epoch 30/50\n",
            "19/19 [==============================] - 0s 5ms/step - loss: 2.2471 - mean_absolute_percentage_error: 10.5282 - val_loss: 2.7065 - val_mean_absolute_percentage_error: 13.0109\n",
            "Epoch 31/50\n",
            "19/19 [==============================] - 0s 5ms/step - loss: 2.2235 - mean_absolute_percentage_error: 10.3944 - val_loss: 2.7554 - val_mean_absolute_percentage_error: 12.8334\n",
            "Epoch 32/50\n",
            "19/19 [==============================] - 0s 4ms/step - loss: 2.1308 - mean_absolute_percentage_error: 10.0357 - val_loss: 2.6767 - val_mean_absolute_percentage_error: 12.6806\n",
            "Epoch 33/50\n",
            "19/19 [==============================] - 0s 4ms/step - loss: 2.0827 - mean_absolute_percentage_error: 9.8834 - val_loss: 2.9607 - val_mean_absolute_percentage_error: 13.8391\n",
            "Epoch 34/50\n",
            "19/19 [==============================] - 0s 4ms/step - loss: 2.1869 - mean_absolute_percentage_error: 10.1711 - val_loss: 2.6090 - val_mean_absolute_percentage_error: 12.5511\n",
            "Epoch 35/50\n",
            "19/19 [==============================] - 0s 4ms/step - loss: 2.0743 - mean_absolute_percentage_error: 9.7584 - val_loss: 2.6008 - val_mean_absolute_percentage_error: 12.1698\n",
            "Epoch 36/50\n",
            "19/19 [==============================] - 0s 3ms/step - loss: 2.1746 - mean_absolute_percentage_error: 10.1487 - val_loss: 2.5496 - val_mean_absolute_percentage_error: 11.9744\n",
            "Epoch 37/50\n",
            "19/19 [==============================] - 0s 4ms/step - loss: 2.0771 - mean_absolute_percentage_error: 9.7767 - val_loss: 2.6952 - val_mean_absolute_percentage_error: 13.1017\n",
            "Epoch 38/50\n",
            "19/19 [==============================] - 0s 4ms/step - loss: 2.0913 - mean_absolute_percentage_error: 9.6993 - val_loss: 2.5121 - val_mean_absolute_percentage_error: 12.0855\n",
            "Epoch 39/50\n",
            "19/19 [==============================] - 0s 4ms/step - loss: 2.0675 - mean_absolute_percentage_error: 9.6783 - val_loss: 2.6183 - val_mean_absolute_percentage_error: 12.4482\n",
            "Epoch 40/50\n",
            "19/19 [==============================] - 0s 4ms/step - loss: 2.0860 - mean_absolute_percentage_error: 9.7522 - val_loss: 2.6008 - val_mean_absolute_percentage_error: 12.4481\n",
            "Epoch 41/50\n",
            "19/19 [==============================] - 0s 4ms/step - loss: 1.9818 - mean_absolute_percentage_error: 9.3091 - val_loss: 2.6263 - val_mean_absolute_percentage_error: 12.3360\n",
            "Epoch 42/50\n",
            "19/19 [==============================] - 0s 5ms/step - loss: 2.1326 - mean_absolute_percentage_error: 9.8979 - val_loss: 2.6129 - val_mean_absolute_percentage_error: 12.6589\n",
            "Epoch 43/50\n",
            "19/19 [==============================] - 0s 4ms/step - loss: 2.0752 - mean_absolute_percentage_error: 9.6178 - val_loss: 2.7834 - val_mean_absolute_percentage_error: 13.5702\n",
            "Epoch 44/50\n",
            "19/19 [==============================] - 0s 4ms/step - loss: 2.0179 - mean_absolute_percentage_error: 9.4425 - val_loss: 2.5330 - val_mean_absolute_percentage_error: 12.3238\n",
            "Epoch 45/50\n",
            "19/19 [==============================] - 0s 4ms/step - loss: 2.0427 - mean_absolute_percentage_error: 9.4834 - val_loss: 2.5036 - val_mean_absolute_percentage_error: 12.0955\n",
            "Epoch 46/50\n",
            "19/19 [==============================] - 0s 4ms/step - loss: 1.9708 - mean_absolute_percentage_error: 9.2308 - val_loss: 2.3882 - val_mean_absolute_percentage_error: 11.4764\n",
            "Epoch 47/50\n",
            "19/19 [==============================] - 0s 5ms/step - loss: 2.1366 - mean_absolute_percentage_error: 9.8553 - val_loss: 2.6153 - val_mean_absolute_percentage_error: 12.6045\n",
            "Epoch 48/50\n",
            "19/19 [==============================] - 0s 4ms/step - loss: 2.0338 - mean_absolute_percentage_error: 9.4709 - val_loss: 3.0851 - val_mean_absolute_percentage_error: 14.7432\n",
            "Epoch 49/50\n",
            "19/19 [==============================] - 0s 4ms/step - loss: 2.0557 - mean_absolute_percentage_error: 9.7610 - val_loss: 2.6436 - val_mean_absolute_percentage_error: 12.6114\n",
            "Epoch 50/50\n",
            "19/19 [==============================] - 0s 4ms/step - loss: 1.9602 - mean_absolute_percentage_error: 9.3070 - val_loss: 2.6479 - val_mean_absolute_percentage_error: 12.5102\n"
          ],
          "name": "stdout"
        }
      ]
    },
    {
      "cell_type": "code",
      "metadata": {
        "id": "cz-ZNaSMnopJ"
      },
      "source": [
        "model_df.loc[len(model_df)] = ['model8', 'mae', 'mape', history_last(model8)]"
      ],
      "execution_count": 44,
      "outputs": []
    },
    {
      "cell_type": "code",
      "metadata": {
        "colab": {
          "base_uri": "https://localhost:8080/"
        },
        "id": "qbk_AnTg_i1L",
        "outputId": "4c578375-3263-4203-f7e0-ae3dc618decb"
      },
      "source": [
        "model9 = Sequential([\n",
        "  normalizer,\n",
        "  Dense(128, activation='linear', input_shape=(num_features,)),\n",
        "  Dense(128, activation='tanh'),\n",
        "  Dense(1),\n",
        "])\n",
        "\n",
        "\n",
        "model9.compile(\n",
        "  optimizer='adam',\n",
        "  loss='mae',\n",
        "  metrics=['mae'],\n",
        ")\n",
        "\n",
        "model_fit = model9.fit(X, Y, epochs=50, batch_size=15, validation_split=0.2)"
      ],
      "execution_count": 50,
      "outputs": [
        {
          "output_type": "stream",
          "text": [
            "Epoch 1/50\n",
            "19/19 [==============================] - 1s 10ms/step - loss: 22.8885 - mae: 22.8885 - val_loss: 22.1221 - val_mae: 22.1221\n",
            "Epoch 2/50\n",
            "19/19 [==============================] - 0s 3ms/step - loss: 22.0907 - mae: 22.0907 - val_loss: 21.1175 - val_mae: 21.1175\n",
            "Epoch 3/50\n",
            "19/19 [==============================] - 0s 3ms/step - loss: 20.6868 - mae: 20.6868 - val_loss: 18.9623 - val_mae: 18.9623\n",
            "Epoch 4/50\n",
            "19/19 [==============================] - 0s 4ms/step - loss: 17.5709 - mae: 17.5709 - val_loss: 14.3364 - val_mae: 14.3364\n",
            "Epoch 5/50\n",
            "19/19 [==============================] - 0s 4ms/step - loss: 11.8982 - mae: 11.8982 - val_loss: 7.8732 - val_mae: 7.8732\n",
            "Epoch 6/50\n",
            "19/19 [==============================] - 0s 4ms/step - loss: 6.6755 - mae: 6.6755 - val_loss: 4.4603 - val_mae: 4.4603\n",
            "Epoch 7/50\n",
            "19/19 [==============================] - 0s 4ms/step - loss: 4.8145 - mae: 4.8145 - val_loss: 4.2796 - val_mae: 4.2796\n",
            "Epoch 8/50\n",
            "19/19 [==============================] - 0s 4ms/step - loss: 4.4066 - mae: 4.4066 - val_loss: 4.0589 - val_mae: 4.0589\n",
            "Epoch 9/50\n",
            "19/19 [==============================] - 0s 4ms/step - loss: 4.2487 - mae: 4.2487 - val_loss: 3.6774 - val_mae: 3.6774\n",
            "Epoch 10/50\n",
            "19/19 [==============================] - 0s 4ms/step - loss: 4.1831 - mae: 4.1831 - val_loss: 3.8898 - val_mae: 3.8898\n",
            "Epoch 11/50\n",
            "19/19 [==============================] - 0s 4ms/step - loss: 4.1616 - mae: 4.1616 - val_loss: 3.6714 - val_mae: 3.6714\n",
            "Epoch 12/50\n",
            "19/19 [==============================] - 0s 4ms/step - loss: 3.9869 - mae: 3.9869 - val_loss: 3.6193 - val_mae: 3.6193\n",
            "Epoch 13/50\n",
            "19/19 [==============================] - 0s 4ms/step - loss: 3.9129 - mae: 3.9129 - val_loss: 3.6271 - val_mae: 3.6271\n",
            "Epoch 14/50\n",
            "19/19 [==============================] - 0s 4ms/step - loss: 3.8628 - mae: 3.8628 - val_loss: 3.6716 - val_mae: 3.6716\n",
            "Epoch 15/50\n",
            "19/19 [==============================] - 0s 5ms/step - loss: 3.6840 - mae: 3.6840 - val_loss: 3.4149 - val_mae: 3.4149\n",
            "Epoch 16/50\n",
            "19/19 [==============================] - 0s 4ms/step - loss: 3.6027 - mae: 3.6027 - val_loss: 3.6055 - val_mae: 3.6055\n",
            "Epoch 17/50\n",
            "19/19 [==============================] - 0s 4ms/step - loss: 3.5598 - mae: 3.5598 - val_loss: 3.1675 - val_mae: 3.1675\n",
            "Epoch 18/50\n",
            "19/19 [==============================] - 0s 4ms/step - loss: 3.5093 - mae: 3.5093 - val_loss: 3.1127 - val_mae: 3.1127\n",
            "Epoch 19/50\n",
            "19/19 [==============================] - 0s 4ms/step - loss: 3.3715 - mae: 3.3715 - val_loss: 3.2939 - val_mae: 3.2939\n",
            "Epoch 20/50\n",
            "19/19 [==============================] - 0s 4ms/step - loss: 3.2894 - mae: 3.2894 - val_loss: 3.3066 - val_mae: 3.3066\n",
            "Epoch 21/50\n",
            "19/19 [==============================] - 0s 4ms/step - loss: 3.2735 - mae: 3.2735 - val_loss: 3.0408 - val_mae: 3.0408\n",
            "Epoch 22/50\n",
            "19/19 [==============================] - 0s 4ms/step - loss: 3.2756 - mae: 3.2756 - val_loss: 3.1579 - val_mae: 3.1579\n",
            "Epoch 23/50\n",
            "19/19 [==============================] - 0s 4ms/step - loss: 3.3025 - mae: 3.3025 - val_loss: 3.2483 - val_mae: 3.2483\n",
            "Epoch 24/50\n",
            "19/19 [==============================] - 0s 4ms/step - loss: 3.1243 - mae: 3.1243 - val_loss: 2.9547 - val_mae: 2.9547\n",
            "Epoch 25/50\n",
            "19/19 [==============================] - 0s 4ms/step - loss: 3.1798 - mae: 3.1798 - val_loss: 3.0100 - val_mae: 3.0100\n",
            "Epoch 26/50\n",
            "19/19 [==============================] - 0s 4ms/step - loss: 3.0764 - mae: 3.0764 - val_loss: 3.0372 - val_mae: 3.0372\n",
            "Epoch 27/50\n",
            "19/19 [==============================] - 0s 3ms/step - loss: 3.1143 - mae: 3.1143 - val_loss: 3.2039 - val_mae: 3.2039\n",
            "Epoch 28/50\n",
            "19/19 [==============================] - 0s 4ms/step - loss: 3.0580 - mae: 3.0580 - val_loss: 2.9816 - val_mae: 2.9816\n",
            "Epoch 29/50\n",
            "19/19 [==============================] - 0s 4ms/step - loss: 2.9652 - mae: 2.9652 - val_loss: 2.8891 - val_mae: 2.8891\n",
            "Epoch 30/50\n",
            "19/19 [==============================] - 0s 5ms/step - loss: 3.0784 - mae: 3.0784 - val_loss: 2.8652 - val_mae: 2.8652\n",
            "Epoch 31/50\n",
            "19/19 [==============================] - 0s 5ms/step - loss: 2.9734 - mae: 2.9734 - val_loss: 2.8650 - val_mae: 2.8650\n",
            "Epoch 32/50\n",
            "19/19 [==============================] - 0s 4ms/step - loss: 2.9224 - mae: 2.9224 - val_loss: 2.7823 - val_mae: 2.7823\n",
            "Epoch 33/50\n",
            "19/19 [==============================] - 0s 3ms/step - loss: 2.9242 - mae: 2.9242 - val_loss: 2.7490 - val_mae: 2.7490\n",
            "Epoch 34/50\n",
            "19/19 [==============================] - 0s 4ms/step - loss: 2.8983 - mae: 2.8983 - val_loss: 2.7577 - val_mae: 2.7577\n",
            "Epoch 35/50\n",
            "19/19 [==============================] - 0s 4ms/step - loss: 2.8966 - mae: 2.8966 - val_loss: 2.7948 - val_mae: 2.7948\n",
            "Epoch 36/50\n",
            "19/19 [==============================] - 0s 4ms/step - loss: 2.8663 - mae: 2.8663 - val_loss: 2.9798 - val_mae: 2.9798\n",
            "Epoch 37/50\n",
            "19/19 [==============================] - 0s 4ms/step - loss: 2.8307 - mae: 2.8307 - val_loss: 2.7272 - val_mae: 2.7272\n",
            "Epoch 38/50\n",
            "19/19 [==============================] - 0s 4ms/step - loss: 2.8323 - mae: 2.8323 - val_loss: 2.7838 - val_mae: 2.7838\n",
            "Epoch 39/50\n",
            "19/19 [==============================] - 0s 4ms/step - loss: 2.7648 - mae: 2.7648 - val_loss: 2.6566 - val_mae: 2.6566\n",
            "Epoch 40/50\n",
            "19/19 [==============================] - 0s 4ms/step - loss: 2.7713 - mae: 2.7713 - val_loss: 2.7024 - val_mae: 2.7024\n",
            "Epoch 41/50\n",
            "19/19 [==============================] - 0s 4ms/step - loss: 2.7940 - mae: 2.7940 - val_loss: 2.7286 - val_mae: 2.7286\n",
            "Epoch 42/50\n",
            "19/19 [==============================] - 0s 5ms/step - loss: 2.7675 - mae: 2.7675 - val_loss: 2.6581 - val_mae: 2.6581\n",
            "Epoch 43/50\n",
            "19/19 [==============================] - 0s 4ms/step - loss: 2.6723 - mae: 2.6723 - val_loss: 2.5943 - val_mae: 2.5943\n",
            "Epoch 44/50\n",
            "19/19 [==============================] - 0s 5ms/step - loss: 2.6568 - mae: 2.6568 - val_loss: 2.7100 - val_mae: 2.7100\n",
            "Epoch 45/50\n",
            "19/19 [==============================] - 0s 4ms/step - loss: 2.5921 - mae: 2.5921 - val_loss: 2.7451 - val_mae: 2.7451\n",
            "Epoch 46/50\n",
            "19/19 [==============================] - 0s 4ms/step - loss: 2.6588 - mae: 2.6588 - val_loss: 2.6868 - val_mae: 2.6868\n",
            "Epoch 47/50\n",
            "19/19 [==============================] - 0s 4ms/step - loss: 2.6201 - mae: 2.6201 - val_loss: 2.6669 - val_mae: 2.6669\n",
            "Epoch 48/50\n",
            "19/19 [==============================] - 0s 4ms/step - loss: 2.5179 - mae: 2.5179 - val_loss: 2.6952 - val_mae: 2.6952\n",
            "Epoch 49/50\n",
            "19/19 [==============================] - 0s 4ms/step - loss: 2.5046 - mae: 2.5046 - val_loss: 2.9453 - val_mae: 2.9453\n",
            "Epoch 50/50\n",
            "19/19 [==============================] - 0s 4ms/step - loss: 2.5065 - mae: 2.5065 - val_loss: 2.6892 - val_mae: 2.6892\n"
          ],
          "name": "stdout"
        }
      ]
    },
    {
      "cell_type": "code",
      "metadata": {
        "id": "jvIgltuX_pFj"
      },
      "source": [
        "model_df.loc[9] = ['lintanh', 'mae', 'mae', history_last(model9)]"
      ],
      "execution_count": 55,
      "outputs": []
    },
    {
      "cell_type": "code",
      "metadata": {
        "colab": {
          "base_uri": "https://localhost:8080/",
          "height": 359
        },
        "id": "NUuigH11norZ",
        "outputId": "153d5019-9af7-4cc0-ddfe-b7d2dd074f3f"
      },
      "source": [
        "model_df"
      ],
      "execution_count": 56,
      "outputs": [
        {
          "output_type": "execute_result",
          "data": {
            "text/html": [
              "<div>\n",
              "<style scoped>\n",
              "    .dataframe tbody tr th:only-of-type {\n",
              "        vertical-align: middle;\n",
              "    }\n",
              "\n",
              "    .dataframe tbody tr th {\n",
              "        vertical-align: top;\n",
              "    }\n",
              "\n",
              "    .dataframe thead th {\n",
              "        text-align: right;\n",
              "    }\n",
              "</style>\n",
              "<table border=\"1\" class=\"dataframe\">\n",
              "  <thead>\n",
              "    <tr style=\"text-align: right;\">\n",
              "      <th></th>\n",
              "      <th>name</th>\n",
              "      <th>loss</th>\n",
              "      <th>metrics</th>\n",
              "      <th>metric_value</th>\n",
              "    </tr>\n",
              "  </thead>\n",
              "  <tbody>\n",
              "    <tr>\n",
              "      <th>0</th>\n",
              "      <td>model</td>\n",
              "      <td>mse</td>\n",
              "      <td>mae</td>\n",
              "      <td>2.088878</td>\n",
              "    </tr>\n",
              "    <tr>\n",
              "      <th>1</th>\n",
              "      <td>model1</td>\n",
              "      <td>logcosh</td>\n",
              "      <td>mae</td>\n",
              "      <td>2.624208</td>\n",
              "    </tr>\n",
              "    <tr>\n",
              "      <th>2</th>\n",
              "      <td>model2</td>\n",
              "      <td>mse</td>\n",
              "      <td>mae</td>\n",
              "      <td>2.551961</td>\n",
              "    </tr>\n",
              "    <tr>\n",
              "      <th>3</th>\n",
              "      <td>model3</td>\n",
              "      <td>msle</td>\n",
              "      <td>mae</td>\n",
              "      <td>3.993636</td>\n",
              "    </tr>\n",
              "    <tr>\n",
              "      <th>4</th>\n",
              "      <td>model4</td>\n",
              "      <td>mae</td>\n",
              "      <td>mae</td>\n",
              "      <td>2.609521</td>\n",
              "    </tr>\n",
              "    <tr>\n",
              "      <th>5</th>\n",
              "      <td>model5</td>\n",
              "      <td>mse</td>\n",
              "      <td>mape</td>\n",
              "      <td>13.088747</td>\n",
              "    </tr>\n",
              "    <tr>\n",
              "      <th>6</th>\n",
              "      <td>model6</td>\n",
              "      <td>mse</td>\n",
              "      <td>rmse</td>\n",
              "      <td>3.277014</td>\n",
              "    </tr>\n",
              "    <tr>\n",
              "      <th>7</th>\n",
              "      <td>model7</td>\n",
              "      <td>mae</td>\n",
              "      <td>mae</td>\n",
              "      <td>2.317484</td>\n",
              "    </tr>\n",
              "    <tr>\n",
              "      <th>8</th>\n",
              "      <td>model8</td>\n",
              "      <td>mae</td>\n",
              "      <td>mape</td>\n",
              "      <td>12.510179</td>\n",
              "    </tr>\n",
              "    <tr>\n",
              "      <th>9</th>\n",
              "      <td>lintanh</td>\n",
              "      <td>mae</td>\n",
              "      <td>mae</td>\n",
              "      <td>2.689232</td>\n",
              "    </tr>\n",
              "  </tbody>\n",
              "</table>\n",
              "</div>"
            ],
            "text/plain": [
              "      name     loss metrics  metric_value\n",
              "0    model      mse     mae      2.088878\n",
              "1   model1  logcosh     mae      2.624208\n",
              "2   model2      mse     mae      2.551961\n",
              "3   model3     msle     mae      3.993636\n",
              "4   model4      mae     mae      2.609521\n",
              "5   model5      mse    mape     13.088747\n",
              "6   model6      mse    rmse      3.277014\n",
              "7   model7      mae     mae      2.317484\n",
              "8   model8      mae    mape     12.510179\n",
              "9  lintanh      mae     mae      2.689232"
            ]
          },
          "metadata": {
            "tags": []
          },
          "execution_count": 56
        }
      ]
    },
    {
      "cell_type": "markdown",
      "metadata": {
        "id": "EssmnGt-pgyC"
      },
      "source": [
        "Из документации взял команды нормализации, так же очень много посидел в разделах Loss и metrics, понял что многие метрики не подходят для задачи регрессии (напрмиер, такие как, accuracy). \n",
        "\n",
        "Лучше всего себя показали модели с линейными функциями активации."
      ]
    },
    {
      "cell_type": "code",
      "metadata": {
        "id": "7Qs-6b9sAfb3"
      },
      "source": [
        ""
      ],
      "execution_count": null,
      "outputs": []
    }
  ]
}
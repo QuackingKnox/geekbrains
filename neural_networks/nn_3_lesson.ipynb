{
  "nbformat": 4,
  "nbformat_minor": 0,
  "metadata": {
    "colab": {
      "name": "nn_3_lesson.ipynb",
      "provenance": [],
      "collapsed_sections": []
    },
    "kernelspec": {
      "display_name": "Python 3",
      "language": "python",
      "name": "python3"
    },
    "language_info": {
      "codemirror_mode": {
        "name": "ipython",
        "version": 3
      },
      "file_extension": ".py",
      "mimetype": "text/x-python",
      "name": "python",
      "nbconvert_exporter": "python",
      "pygments_lexer": "ipython3",
      "version": "3.7.6"
    },
    "accelerator": "GPU"
  },
  "cells": [
    {
      "cell_type": "markdown",
      "metadata": {
        "id": "qvoqM_UtHzoD"
      },
      "source": [
        "## Домашняя работа №3"
      ]
    },
    {
      "cell_type": "code",
      "metadata": {
        "id": "un6tj_GQH7KA"
      },
      "source": [
        "import numpy as np\n",
        "import pandas as pd\n",
        "\n",
        "from sklearn.datasets import load_boston\n",
        "from sklearn.model_selection import train_test_split\n",
        "\n",
        "import tensorflow as tf\n",
        "from tensorflow.keras.layers.experimental import preprocessing\n",
        "from tensorflow.keras.layers import Dense, InputLayer\n",
        "from tensorflow.keras.models import Sequential\n",
        "import tensorflow.keras.metrics"
      ],
      "execution_count": 1,
      "outputs": []
    },
    {
      "cell_type": "code",
      "metadata": {
        "colab": {
          "base_uri": "https://localhost:8080/"
        },
        "id": "Vcjsy9RoHzra",
        "outputId": "f9fc896a-e10a-45be-b0df-e09759b7e96b"
      },
      "source": [
        "print('TensorFlow version is ' + tf.__version__)"
      ],
      "execution_count": 2,
      "outputs": [
        {
          "output_type": "stream",
          "text": [
            "TensorFlow version is 2.5.0\n"
          ],
          "name": "stdout"
        }
      ]
    },
    {
      "cell_type": "code",
      "metadata": {
        "colab": {
          "base_uri": "https://localhost:8080/",
          "height": 204
        },
        "id": "awOpoqFXJB3E",
        "outputId": "b7ba52d9-d94a-4f16-c551-ea2c77adc779"
      },
      "source": [
        "boston_data = load_boston()\n",
        "df_boston = pd.DataFrame(boston_data.data, columns=boston_data.feature_names)\n",
        "df_boston['target'] = pd.Series(boston_data.target)\n",
        "df_boston.head()"
      ],
      "execution_count": 3,
      "outputs": [
        {
          "output_type": "execute_result",
          "data": {
            "text/html": [
              "<div>\n",
              "<style scoped>\n",
              "    .dataframe tbody tr th:only-of-type {\n",
              "        vertical-align: middle;\n",
              "    }\n",
              "\n",
              "    .dataframe tbody tr th {\n",
              "        vertical-align: top;\n",
              "    }\n",
              "\n",
              "    .dataframe thead th {\n",
              "        text-align: right;\n",
              "    }\n",
              "</style>\n",
              "<table border=\"1\" class=\"dataframe\">\n",
              "  <thead>\n",
              "    <tr style=\"text-align: right;\">\n",
              "      <th></th>\n",
              "      <th>CRIM</th>\n",
              "      <th>ZN</th>\n",
              "      <th>INDUS</th>\n",
              "      <th>CHAS</th>\n",
              "      <th>NOX</th>\n",
              "      <th>RM</th>\n",
              "      <th>AGE</th>\n",
              "      <th>DIS</th>\n",
              "      <th>RAD</th>\n",
              "      <th>TAX</th>\n",
              "      <th>PTRATIO</th>\n",
              "      <th>B</th>\n",
              "      <th>LSTAT</th>\n",
              "      <th>target</th>\n",
              "    </tr>\n",
              "  </thead>\n",
              "  <tbody>\n",
              "    <tr>\n",
              "      <th>0</th>\n",
              "      <td>0.00632</td>\n",
              "      <td>18.0</td>\n",
              "      <td>2.31</td>\n",
              "      <td>0.0</td>\n",
              "      <td>0.538</td>\n",
              "      <td>6.575</td>\n",
              "      <td>65.2</td>\n",
              "      <td>4.0900</td>\n",
              "      <td>1.0</td>\n",
              "      <td>296.0</td>\n",
              "      <td>15.3</td>\n",
              "      <td>396.90</td>\n",
              "      <td>4.98</td>\n",
              "      <td>24.0</td>\n",
              "    </tr>\n",
              "    <tr>\n",
              "      <th>1</th>\n",
              "      <td>0.02731</td>\n",
              "      <td>0.0</td>\n",
              "      <td>7.07</td>\n",
              "      <td>0.0</td>\n",
              "      <td>0.469</td>\n",
              "      <td>6.421</td>\n",
              "      <td>78.9</td>\n",
              "      <td>4.9671</td>\n",
              "      <td>2.0</td>\n",
              "      <td>242.0</td>\n",
              "      <td>17.8</td>\n",
              "      <td>396.90</td>\n",
              "      <td>9.14</td>\n",
              "      <td>21.6</td>\n",
              "    </tr>\n",
              "    <tr>\n",
              "      <th>2</th>\n",
              "      <td>0.02729</td>\n",
              "      <td>0.0</td>\n",
              "      <td>7.07</td>\n",
              "      <td>0.0</td>\n",
              "      <td>0.469</td>\n",
              "      <td>7.185</td>\n",
              "      <td>61.1</td>\n",
              "      <td>4.9671</td>\n",
              "      <td>2.0</td>\n",
              "      <td>242.0</td>\n",
              "      <td>17.8</td>\n",
              "      <td>392.83</td>\n",
              "      <td>4.03</td>\n",
              "      <td>34.7</td>\n",
              "    </tr>\n",
              "    <tr>\n",
              "      <th>3</th>\n",
              "      <td>0.03237</td>\n",
              "      <td>0.0</td>\n",
              "      <td>2.18</td>\n",
              "      <td>0.0</td>\n",
              "      <td>0.458</td>\n",
              "      <td>6.998</td>\n",
              "      <td>45.8</td>\n",
              "      <td>6.0622</td>\n",
              "      <td>3.0</td>\n",
              "      <td>222.0</td>\n",
              "      <td>18.7</td>\n",
              "      <td>394.63</td>\n",
              "      <td>2.94</td>\n",
              "      <td>33.4</td>\n",
              "    </tr>\n",
              "    <tr>\n",
              "      <th>4</th>\n",
              "      <td>0.06905</td>\n",
              "      <td>0.0</td>\n",
              "      <td>2.18</td>\n",
              "      <td>0.0</td>\n",
              "      <td>0.458</td>\n",
              "      <td>7.147</td>\n",
              "      <td>54.2</td>\n",
              "      <td>6.0622</td>\n",
              "      <td>3.0</td>\n",
              "      <td>222.0</td>\n",
              "      <td>18.7</td>\n",
              "      <td>396.90</td>\n",
              "      <td>5.33</td>\n",
              "      <td>36.2</td>\n",
              "    </tr>\n",
              "  </tbody>\n",
              "</table>\n",
              "</div>"
            ],
            "text/plain": [
              "      CRIM    ZN  INDUS  CHAS    NOX  ...    TAX  PTRATIO       B  LSTAT  target\n",
              "0  0.00632  18.0   2.31   0.0  0.538  ...  296.0     15.3  396.90   4.98    24.0\n",
              "1  0.02731   0.0   7.07   0.0  0.469  ...  242.0     17.8  396.90   9.14    21.6\n",
              "2  0.02729   0.0   7.07   0.0  0.469  ...  242.0     17.8  392.83   4.03    34.7\n",
              "3  0.03237   0.0   2.18   0.0  0.458  ...  222.0     18.7  394.63   2.94    33.4\n",
              "4  0.06905   0.0   2.18   0.0  0.458  ...  222.0     18.7  396.90   5.33    36.2\n",
              "\n",
              "[5 rows x 14 columns]"
            ]
          },
          "metadata": {
            "tags": []
          },
          "execution_count": 3
        }
      ]
    },
    {
      "cell_type": "code",
      "metadata": {
        "colab": {
          "base_uri": "https://localhost:8080/"
        },
        "id": "pSpiWH_Igq2e",
        "outputId": "0684cf0d-1474-43a6-9910-d4c6694e5dd7"
      },
      "source": [
        "X, y = load_boston(return_X_y=True)\n",
        "print(y.shape)"
      ],
      "execution_count": 4,
      "outputs": [
        {
          "output_type": "stream",
          "text": [
            "(506,)\n"
          ],
          "name": "stdout"
        }
      ]
    },
    {
      "cell_type": "code",
      "metadata": {
        "id": "aIX6iYmTjl0x"
      },
      "source": [
        "X_train, X_test, y_train, y_test = train_test_split(X, y, test_size=0.30, random_state=42)"
      ],
      "execution_count": 5,
      "outputs": []
    },
    {
      "cell_type": "code",
      "metadata": {
        "id": "pNtPzjZ92aCM"
      },
      "source": [
        "X = tf.constant( X_train , dtype=tf.float32 )\n",
        "Y = tf.constant( y_train , dtype=tf.float32 ) "
      ],
      "execution_count": 6,
      "outputs": []
    },
    {
      "cell_type": "code",
      "metadata": {
        "id": "bagG5jo0jv2J"
      },
      "source": [
        "num_features = X_train.shape[1]\n",
        "num_classes = len(np.unique(y_train))"
      ],
      "execution_count": 7,
      "outputs": []
    },
    {
      "cell_type": "code",
      "metadata": {
        "id": "oEwIVRJfmhSU"
      },
      "source": [
        "normalizer = preprocessing.Normalization(axis=-1)\n",
        "normalizer.adapt(np.array(X))"
      ],
      "execution_count": 8,
      "outputs": []
    },
    {
      "cell_type": "code",
      "metadata": {
        "colab": {
          "base_uri": "https://localhost:8080/"
        },
        "id": "zwZMmU3bmjHQ",
        "outputId": "c66a38e5-1638-43b3-d034-d4d7ca94bb9b"
      },
      "source": [
        "first = np.array(X_train[:1])\n",
        "\n",
        "with np.printoptions(precision=2, suppress=True):\n",
        "  print('First example:', first)\n",
        "  print()\n",
        "  print('Normalized:', normalizer(first).numpy())"
      ],
      "execution_count": 9,
      "outputs": [
        {
          "output_type": "stream",
          "text": [
            "First example: [[  0.03   0.     2.18   0.     0.46   6.43  58.7    6.06   3.   222.\n",
            "   18.7  394.12   5.21]]\n",
            "\n",
            "Normalized: [[-0.41 -0.51 -1.29 -0.28 -0.85  0.15 -0.37  1.08 -0.75 -1.11  0.19  0.4\n",
            "  -1.02]]\n"
          ],
          "name": "stdout"
        }
      ]
    },
    {
      "cell_type": "markdown",
      "metadata": {
        "id": "FxSwt_LgJLZP"
      },
      "source": [
        "Построение первой модели"
      ]
    },
    {
      "cell_type": "code",
      "metadata": {
        "id": "x2TBpLyyoouZ"
      },
      "source": [
        "model = Sequential([\n",
        "  normalizer,\n",
        "  Dense(128, activation='tanh', input_shape=(num_features,)),\n",
        "  Dense(128, activation='tanh'),\n",
        "  Dense(1),\n",
        "])\n",
        "\n",
        "\n",
        "model.compile(\n",
        "  optimizer='SGD',\n",
        "  loss='mean_squared_error',\n",
        "  metrics=['mae'],\n",
        ")\n",
        "\n",
        "model_fit = model.fit(X, Y, epochs=50, batch_size=15, validation_split=0.2, verbose=0)"
      ],
      "execution_count": 10,
      "outputs": []
    },
    {
      "cell_type": "code",
      "metadata": {
        "id": "L8s4S7MZMByu"
      },
      "source": [
        "def history_last(model):\n",
        "    last = list(model.history.history.values())[-1][-1]\n",
        "    return last"
      ],
      "execution_count": 11,
      "outputs": []
    },
    {
      "cell_type": "code",
      "metadata": {
        "id": "RBm7jq1oGzcO"
      },
      "source": [
        "first_note = [{\"name\": 'model', \"loss\": 'mse', 'metrics': 'mae', 'metric_value': history_last(model)}]"
      ],
      "execution_count": 12,
      "outputs": []
    },
    {
      "cell_type": "code",
      "metadata": {
        "id": "eMJCPJZ4G1xR"
      },
      "source": [
        "model_df = pd.DataFrame(first_note)"
      ],
      "execution_count": 13,
      "outputs": []
    },
    {
      "cell_type": "code",
      "metadata": {
        "colab": {
          "base_uri": "https://localhost:8080/",
          "height": 297
        },
        "id": "U_9ve5URG3-D",
        "outputId": "c9b984d3-6073-427a-f18e-0343944e8263"
      },
      "source": [
        "model_df"
      ],
      "execution_count": 35,
      "outputs": [
        {
          "output_type": "execute_result",
          "data": {
            "text/html": [
              "<div>\n",
              "<style scoped>\n",
              "    .dataframe tbody tr th:only-of-type {\n",
              "        vertical-align: middle;\n",
              "    }\n",
              "\n",
              "    .dataframe tbody tr th {\n",
              "        vertical-align: top;\n",
              "    }\n",
              "\n",
              "    .dataframe thead th {\n",
              "        text-align: right;\n",
              "    }\n",
              "</style>\n",
              "<table border=\"1\" class=\"dataframe\">\n",
              "  <thead>\n",
              "    <tr style=\"text-align: right;\">\n",
              "      <th></th>\n",
              "      <th>name</th>\n",
              "      <th>loss</th>\n",
              "      <th>metrics</th>\n",
              "      <th>metric_value</th>\n",
              "    </tr>\n",
              "  </thead>\n",
              "  <tbody>\n",
              "    <tr>\n",
              "      <th>0</th>\n",
              "      <td>model</td>\n",
              "      <td>mse</td>\n",
              "      <td>mae</td>\n",
              "      <td>2.251323</td>\n",
              "    </tr>\n",
              "    <tr>\n",
              "      <th>1</th>\n",
              "      <td>model1</td>\n",
              "      <td>logcosh</td>\n",
              "      <td>mae</td>\n",
              "      <td>2.578054</td>\n",
              "    </tr>\n",
              "    <tr>\n",
              "      <th>2</th>\n",
              "      <td>model2</td>\n",
              "      <td>mse</td>\n",
              "      <td>mae</td>\n",
              "      <td>2.217207</td>\n",
              "    </tr>\n",
              "    <tr>\n",
              "      <th>3</th>\n",
              "      <td>model3</td>\n",
              "      <td>msle</td>\n",
              "      <td>mae</td>\n",
              "      <td>4.075542</td>\n",
              "    </tr>\n",
              "    <tr>\n",
              "      <th>4</th>\n",
              "      <td>model4</td>\n",
              "      <td>msle</td>\n",
              "      <td>mae</td>\n",
              "      <td>3.881510</td>\n",
              "    </tr>\n",
              "    <tr>\n",
              "      <th>5</th>\n",
              "      <td>model5</td>\n",
              "      <td>mse</td>\n",
              "      <td>mape</td>\n",
              "      <td>11.108685</td>\n",
              "    </tr>\n",
              "    <tr>\n",
              "      <th>6</th>\n",
              "      <td>model6</td>\n",
              "      <td>mse</td>\n",
              "      <td>rmse</td>\n",
              "      <td>3.328029</td>\n",
              "    </tr>\n",
              "    <tr>\n",
              "      <th>7</th>\n",
              "      <td>model7</td>\n",
              "      <td>mae</td>\n",
              "      <td>mae</td>\n",
              "      <td>2.534641</td>\n",
              "    </tr>\n",
              "  </tbody>\n",
              "</table>\n",
              "</div>"
            ],
            "text/plain": [
              "     name     loss metrics  metric_value\n",
              "0   model      mse     mae      2.251323\n",
              "1  model1  logcosh     mae      2.578054\n",
              "2  model2      mse     mae      2.217207\n",
              "3  model3     msle     mae      4.075542\n",
              "4  model4     msle     mae      3.881510\n",
              "5  model5      mse    mape     11.108685\n",
              "6  model6      mse    rmse      3.328029\n",
              "7  model7      mae     mae      2.534641"
            ]
          },
          "metadata": {
            "tags": []
          },
          "execution_count": 35
        }
      ]
    },
    {
      "cell_type": "code",
      "metadata": {
        "id": "lpX6TuFgLuCe"
      },
      "source": [
        "model1 = Sequential([\n",
        "  normalizer,\n",
        "  Dense(128, activation='relu', input_shape=(num_features,)),\n",
        "  Dense(128, activation='tanh'),\n",
        "  Dense(1),\n",
        "])\n",
        "\n",
        "\n",
        "model1.compile(\n",
        "  optimizer='SGD',\n",
        "  loss='logcosh',\n",
        "  metrics=['mae'],\n",
        ")\n",
        "\n",
        "model_fit = model1.fit(X, Y, epochs=50, batch_size=15, validation_split=0.2, verbose=0)"
      ],
      "execution_count": 14,
      "outputs": []
    },
    {
      "cell_type": "code",
      "metadata": {
        "id": "fw7l1NJFLuEr"
      },
      "source": [
        "model_df.loc[len(model_df)] = ['model1', 'logcosh', 'mae', history_last(model1)]"
      ],
      "execution_count": 15,
      "outputs": []
    },
    {
      "cell_type": "code",
      "metadata": {
        "id": "fMfafbvWLuHB",
        "colab": {
          "base_uri": "https://localhost:8080/"
        },
        "outputId": "016782ec-4871-46e4-e16c-168425fd1532"
      },
      "source": [
        "model2 = Sequential([\n",
        "  normalizer,\n",
        "  Dense(128, activation='relu', input_shape=(num_features,)),\n",
        "  Dense(128, activation='relu'),\n",
        "  Dense(1),\n",
        "])\n",
        "\n",
        "\n",
        "model2.compile(\n",
        "  optimizer='SGD',\n",
        "  loss='mean_squared_error',\n",
        "  metrics=['mae'],\n",
        ")\n",
        "\n",
        "model_fit = model2.fit(X, Y, epochs=50, batch_size=15, validation_split=0.2)"
      ],
      "execution_count": 16,
      "outputs": [
        {
          "output_type": "stream",
          "text": [
            "Epoch 1/50\n",
            "19/19 [==============================] - 1s 15ms/step - loss: 287.2487 - mae: 13.8504 - val_loss: 111.6963 - val_mae: 8.0258\n",
            "Epoch 2/50\n",
            "19/19 [==============================] - 0s 3ms/step - loss: 307.6246 - mae: 14.1640 - val_loss: 63.7324 - val_mae: 5.6007\n",
            "Epoch 3/50\n",
            "19/19 [==============================] - 0s 3ms/step - loss: 198.4789 - mae: 11.1290 - val_loss: 112.6451 - val_mae: 7.6729\n",
            "Epoch 4/50\n",
            "19/19 [==============================] - 0s 3ms/step - loss: 91.5591 - mae: 6.8532 - val_loss: 50.9297 - val_mae: 5.2629\n",
            "Epoch 5/50\n",
            "19/19 [==============================] - 0s 3ms/step - loss: 42.4825 - mae: 4.6003 - val_loss: 45.6961 - val_mae: 4.5926\n",
            "Epoch 6/50\n",
            "19/19 [==============================] - 0s 3ms/step - loss: 27.6305 - mae: 3.8778 - val_loss: 78.6783 - val_mae: 6.6188\n",
            "Epoch 7/50\n",
            "19/19 [==============================] - 0s 4ms/step - loss: 42.2358 - mae: 4.4659 - val_loss: 51.0925 - val_mae: 4.9630\n",
            "Epoch 8/50\n",
            "19/19 [==============================] - 0s 3ms/step - loss: 30.6269 - mae: 3.7546 - val_loss: 16.4832 - val_mae: 2.7995\n",
            "Epoch 9/50\n",
            "19/19 [==============================] - 0s 3ms/step - loss: 22.8763 - mae: 3.4219 - val_loss: 16.5370 - val_mae: 2.9306\n",
            "Epoch 10/50\n",
            "19/19 [==============================] - 0s 4ms/step - loss: 13.9723 - mae: 2.7603 - val_loss: 23.5698 - val_mae: 3.5331\n",
            "Epoch 11/50\n",
            "19/19 [==============================] - 0s 3ms/step - loss: 17.9013 - mae: 3.0616 - val_loss: 14.5100 - val_mae: 2.7453\n",
            "Epoch 12/50\n",
            "19/19 [==============================] - 0s 3ms/step - loss: 12.3233 - mae: 2.6014 - val_loss: 13.2425 - val_mae: 2.6150\n",
            "Epoch 13/50\n",
            "19/19 [==============================] - 0s 3ms/step - loss: 10.3087 - mae: 2.3896 - val_loss: 16.7730 - val_mae: 3.0524\n",
            "Epoch 14/50\n",
            "19/19 [==============================] - 0s 3ms/step - loss: 9.2525 - mae: 2.3330 - val_loss: 18.4736 - val_mae: 3.1726\n",
            "Epoch 15/50\n",
            "19/19 [==============================] - 0s 3ms/step - loss: 11.3436 - mae: 2.4924 - val_loss: 20.6472 - val_mae: 3.2951\n",
            "Epoch 16/50\n",
            "19/19 [==============================] - 0s 3ms/step - loss: 9.2675 - mae: 2.2873 - val_loss: 12.5540 - val_mae: 2.6697\n",
            "Epoch 17/50\n",
            "19/19 [==============================] - 0s 3ms/step - loss: 6.5596 - mae: 1.9467 - val_loss: 10.7117 - val_mae: 2.3374\n",
            "Epoch 18/50\n",
            "19/19 [==============================] - 0s 3ms/step - loss: 7.3719 - mae: 1.9891 - val_loss: 11.5241 - val_mae: 2.5272\n",
            "Epoch 19/50\n",
            "19/19 [==============================] - 0s 3ms/step - loss: 9.7794 - mae: 2.2392 - val_loss: 25.4171 - val_mae: 3.0689\n",
            "Epoch 20/50\n",
            "19/19 [==============================] - 0s 3ms/step - loss: 9.2011 - mae: 2.2299 - val_loss: 11.6203 - val_mae: 2.4656\n",
            "Epoch 21/50\n",
            "19/19 [==============================] - 0s 3ms/step - loss: 8.4149 - mae: 2.0496 - val_loss: 10.6360 - val_mae: 2.4508\n",
            "Epoch 22/50\n",
            "19/19 [==============================] - 0s 3ms/step - loss: 6.9828 - mae: 1.9137 - val_loss: 19.9197 - val_mae: 3.2650\n",
            "Epoch 23/50\n",
            "19/19 [==============================] - 0s 4ms/step - loss: 7.6298 - mae: 1.9657 - val_loss: 11.5474 - val_mae: 2.4607\n",
            "Epoch 24/50\n",
            "19/19 [==============================] - 0s 3ms/step - loss: 5.8939 - mae: 1.7720 - val_loss: 11.0743 - val_mae: 2.5818\n",
            "Epoch 25/50\n",
            "19/19 [==============================] - 0s 4ms/step - loss: 4.9835 - mae: 1.6305 - val_loss: 10.8413 - val_mae: 2.3883\n",
            "Epoch 26/50\n",
            "19/19 [==============================] - 0s 4ms/step - loss: 5.2807 - mae: 1.7140 - val_loss: 10.8208 - val_mae: 2.3833\n",
            "Epoch 27/50\n",
            "19/19 [==============================] - 0s 3ms/step - loss: 6.1189 - mae: 1.7676 - val_loss: 10.0468 - val_mae: 2.3822\n",
            "Epoch 28/50\n",
            "19/19 [==============================] - 0s 3ms/step - loss: 7.0723 - mae: 1.8861 - val_loss: 13.5545 - val_mae: 2.7869\n",
            "Epoch 29/50\n",
            "19/19 [==============================] - 0s 4ms/step - loss: 12.3328 - mae: 2.2733 - val_loss: 13.7634 - val_mae: 2.7483\n",
            "Epoch 30/50\n",
            "19/19 [==============================] - 0s 3ms/step - loss: 7.9843 - mae: 1.9784 - val_loss: 12.6723 - val_mae: 2.7338\n",
            "Epoch 31/50\n",
            "19/19 [==============================] - 0s 3ms/step - loss: 6.1145 - mae: 1.8017 - val_loss: 11.2905 - val_mae: 2.3802\n",
            "Epoch 32/50\n",
            "19/19 [==============================] - 0s 3ms/step - loss: 6.6496 - mae: 1.8512 - val_loss: 13.7798 - val_mae: 2.8508\n",
            "Epoch 33/50\n",
            "19/19 [==============================] - 0s 3ms/step - loss: 7.8316 - mae: 2.0353 - val_loss: 11.8522 - val_mae: 2.4719\n",
            "Epoch 34/50\n",
            "19/19 [==============================] - 0s 3ms/step - loss: 5.3763 - mae: 1.6825 - val_loss: 10.4278 - val_mae: 2.3922\n",
            "Epoch 35/50\n",
            "19/19 [==============================] - 0s 3ms/step - loss: 8.1067 - mae: 1.9914 - val_loss: 11.7505 - val_mae: 2.5177\n",
            "Epoch 36/50\n",
            "19/19 [==============================] - 0s 3ms/step - loss: 7.4725 - mae: 1.9129 - val_loss: 11.2267 - val_mae: 2.6212\n",
            "Epoch 37/50\n",
            "19/19 [==============================] - 0s 3ms/step - loss: 7.2558 - mae: 1.8211 - val_loss: 11.8682 - val_mae: 2.4003\n",
            "Epoch 38/50\n",
            "19/19 [==============================] - 0s 3ms/step - loss: 4.8084 - mae: 1.5517 - val_loss: 9.8650 - val_mae: 2.4192\n",
            "Epoch 39/50\n",
            "19/19 [==============================] - 0s 3ms/step - loss: 4.7910 - mae: 1.6285 - val_loss: 12.9795 - val_mae: 2.6096\n",
            "Epoch 40/50\n",
            "19/19 [==============================] - 0s 3ms/step - loss: 4.2632 - mae: 1.5623 - val_loss: 12.2737 - val_mae: 2.6028\n",
            "Epoch 41/50\n",
            "19/19 [==============================] - 0s 3ms/step - loss: 7.2036 - mae: 1.7964 - val_loss: 10.5242 - val_mae: 2.3910\n",
            "Epoch 42/50\n",
            "19/19 [==============================] - 0s 3ms/step - loss: 4.3922 - mae: 1.4876 - val_loss: 10.7181 - val_mae: 2.3656\n",
            "Epoch 43/50\n",
            "19/19 [==============================] - 0s 4ms/step - loss: 10.1245 - mae: 2.0676 - val_loss: 13.7861 - val_mae: 2.8005\n",
            "Epoch 44/50\n",
            "19/19 [==============================] - 0s 3ms/step - loss: 5.3925 - mae: 1.6241 - val_loss: 8.4494 - val_mae: 2.1687\n",
            "Epoch 45/50\n",
            "19/19 [==============================] - 0s 3ms/step - loss: 5.1232 - mae: 1.6070 - val_loss: 11.1621 - val_mae: 2.4030\n",
            "Epoch 46/50\n",
            "19/19 [==============================] - 0s 3ms/step - loss: 4.3951 - mae: 1.5163 - val_loss: 17.6368 - val_mae: 3.3786\n",
            "Epoch 47/50\n",
            "19/19 [==============================] - 0s 3ms/step - loss: 5.4657 - mae: 1.6172 - val_loss: 12.9330 - val_mae: 2.7420\n",
            "Epoch 48/50\n",
            "19/19 [==============================] - 0s 4ms/step - loss: 4.9447 - mae: 1.5713 - val_loss: 9.6197 - val_mae: 2.2236\n",
            "Epoch 49/50\n",
            "19/19 [==============================] - 0s 4ms/step - loss: 4.0607 - mae: 1.4203 - val_loss: 9.2391 - val_mae: 2.2522\n",
            "Epoch 50/50\n",
            "19/19 [==============================] - 0s 5ms/step - loss: 3.9422 - mae: 1.4343 - val_loss: 8.9713 - val_mae: 2.2172\n"
          ],
          "name": "stdout"
        }
      ]
    },
    {
      "cell_type": "code",
      "metadata": {
        "id": "xoPrlI6CLuI7"
      },
      "source": [
        "model_df.loc[len(model_df)] = ['model2', 'mse', 'mae', history_last(model2)]"
      ],
      "execution_count": 17,
      "outputs": []
    },
    {
      "cell_type": "code",
      "metadata": {
        "id": "A-JNkIKOLuK6"
      },
      "source": [
        "model3 = Sequential([\n",
        "  normalizer,\n",
        "  Dense(128, activation='relu', input_shape=(num_features,)),\n",
        "  Dense(128, activation='relu'),\n",
        "  Dense(1),\n",
        "])\n",
        "\n",
        "\n",
        "model3.compile(\n",
        "  optimizer='SGD',\n",
        "  loss='mean_squared_logarithmic_error',\n",
        "  metrics=['mae'],\n",
        ")\n",
        "\n",
        "model_fit = model3.fit(X, Y, epochs=50, batch_size=15, validation_split=0.2, verbose=0)"
      ],
      "execution_count": 18,
      "outputs": []
    },
    {
      "cell_type": "code",
      "metadata": {
        "id": "arl4B4nsLuM_"
      },
      "source": [
        "model_df.loc[len(model_df)] = ['model3', 'msle', 'mae', history_last(model3)]"
      ],
      "execution_count": 19,
      "outputs": []
    },
    {
      "cell_type": "code",
      "metadata": {
        "id": "Y4ZNYBgzMzqr"
      },
      "source": [
        "model4 = Sequential([\n",
        "  normalizer,\n",
        "  Dense(128, activation='relu', input_shape=(num_features,)),\n",
        "  Dense(128, activation='relu'),\n",
        "  Dense(1),\n",
        "])\n",
        "\n",
        "\n",
        "model4.compile(\n",
        "  optimizer='SGD',\n",
        "  loss='mean_squared_logarithmic_error',\n",
        "  metrics=['mae'],\n",
        ")\n",
        "\n",
        "model_fit = model4.fit(X, Y, epochs=50, batch_size=15, validation_split=0.2, verbose=0)"
      ],
      "execution_count": 20,
      "outputs": []
    },
    {
      "cell_type": "code",
      "metadata": {
        "id": "CaIBl4RWMztG"
      },
      "source": [
        "model_df.loc[len(model_df)] = ['model4', 'msle', 'mae', history_last(model4)]"
      ],
      "execution_count": 21,
      "outputs": []
    },
    {
      "cell_type": "code",
      "metadata": {
        "colab": {
          "base_uri": "https://localhost:8080/"
        },
        "id": "4-6V--IgMzvF",
        "outputId": "a8ad9ae1-e997-44ec-bef4-50379ff05ae5"
      },
      "source": [
        "model5 = Sequential([\n",
        "  normalizer,\n",
        "  Dense(128, activation='relu', input_shape=(num_features,)),\n",
        "  Dense(128, activation='relu'),\n",
        "  Dense(1),\n",
        "])\n",
        "\n",
        "\n",
        "model5.compile(\n",
        "  optimizer='SGD',\n",
        "  loss='mean_squared_error',\n",
        "  metrics=[tf.keras.metrics.MeanAbsolutePercentageError()],\n",
        ")\n",
        "\n",
        "model_fit = model5.fit(X, Y, epochs=50, batch_size=15, validation_split=0.2)"
      ],
      "execution_count": 23,
      "outputs": [
        {
          "output_type": "stream",
          "text": [
            "Epoch 1/50\n",
            "19/19 [==============================] - 0s 9ms/step - loss: 472.5196 - mean_absolute_percentage_error: 78.7242 - val_loss: 361.5710 - val_mean_absolute_percentage_error: 71.7501\n",
            "Epoch 2/50\n",
            "19/19 [==============================] - 0s 4ms/step - loss: 299.9220 - mean_absolute_percentage_error: 58.9338 - val_loss: 172.2305 - val_mean_absolute_percentage_error: 42.3813\n",
            "Epoch 3/50\n",
            "19/19 [==============================] - 0s 3ms/step - loss: 191.4231 - mean_absolute_percentage_error: 43.5257 - val_loss: 180.8069 - val_mean_absolute_percentage_error: 43.0956\n",
            "Epoch 4/50\n",
            "19/19 [==============================] - 0s 3ms/step - loss: 101.3282 - mean_absolute_percentage_error: 27.8217 - val_loss: 116.0933 - val_mean_absolute_percentage_error: 31.2778\n",
            "Epoch 5/50\n",
            "19/19 [==============================] - 0s 3ms/step - loss: 52.7104 - mean_absolute_percentage_error: 22.0087 - val_loss: 38.5469 - val_mean_absolute_percentage_error: 20.3824\n",
            "Epoch 6/50\n",
            "19/19 [==============================] - 0s 3ms/step - loss: 25.3165 - mean_absolute_percentage_error: 16.7333 - val_loss: 20.4695 - val_mean_absolute_percentage_error: 14.7099\n",
            "Epoch 7/50\n",
            "19/19 [==============================] - 0s 3ms/step - loss: 21.2684 - mean_absolute_percentage_error: 15.2463 - val_loss: 13.7932 - val_mean_absolute_percentage_error: 12.3794\n",
            "Epoch 8/50\n",
            "19/19 [==============================] - 0s 4ms/step - loss: 15.7098 - mean_absolute_percentage_error: 13.4584 - val_loss: 12.3563 - val_mean_absolute_percentage_error: 12.5603\n",
            "Epoch 9/50\n",
            "19/19 [==============================] - 0s 4ms/step - loss: 12.1301 - mean_absolute_percentage_error: 12.4539 - val_loss: 16.9370 - val_mean_absolute_percentage_error: 14.7271\n",
            "Epoch 10/50\n",
            "19/19 [==============================] - 0s 4ms/step - loss: 11.0627 - mean_absolute_percentage_error: 12.0531 - val_loss: 17.5209 - val_mean_absolute_percentage_error: 14.6560\n",
            "Epoch 11/50\n",
            "19/19 [==============================] - 0s 3ms/step - loss: 10.5997 - mean_absolute_percentage_error: 11.9820 - val_loss: 12.1332 - val_mean_absolute_percentage_error: 13.0122\n",
            "Epoch 12/50\n",
            "19/19 [==============================] - 0s 3ms/step - loss: 11.2997 - mean_absolute_percentage_error: 12.0014 - val_loss: 21.3592 - val_mean_absolute_percentage_error: 14.7475\n",
            "Epoch 13/50\n",
            "19/19 [==============================] - 0s 3ms/step - loss: 13.7896 - mean_absolute_percentage_error: 13.1156 - val_loss: 17.8849 - val_mean_absolute_percentage_error: 14.0317\n",
            "Epoch 14/50\n",
            "19/19 [==============================] - 0s 4ms/step - loss: 15.2125 - mean_absolute_percentage_error: 12.6823 - val_loss: 15.2078 - val_mean_absolute_percentage_error: 12.7252\n",
            "Epoch 15/50\n",
            "19/19 [==============================] - 0s 3ms/step - loss: 10.0606 - mean_absolute_percentage_error: 11.8486 - val_loss: 14.7640 - val_mean_absolute_percentage_error: 14.3062\n",
            "Epoch 16/50\n",
            "19/19 [==============================] - 0s 3ms/step - loss: 8.3279 - mean_absolute_percentage_error: 10.9942 - val_loss: 13.0721 - val_mean_absolute_percentage_error: 13.5919\n",
            "Epoch 17/50\n",
            "19/19 [==============================] - 0s 3ms/step - loss: 8.4453 - mean_absolute_percentage_error: 10.8472 - val_loss: 18.4313 - val_mean_absolute_percentage_error: 15.0627\n",
            "Epoch 18/50\n",
            "19/19 [==============================] - 0s 4ms/step - loss: 10.0903 - mean_absolute_percentage_error: 11.3191 - val_loss: 14.7713 - val_mean_absolute_percentage_error: 12.9704\n",
            "Epoch 19/50\n",
            "19/19 [==============================] - 0s 3ms/step - loss: 13.0064 - mean_absolute_percentage_error: 11.9800 - val_loss: 12.5903 - val_mean_absolute_percentage_error: 13.5125\n",
            "Epoch 20/50\n",
            "19/19 [==============================] - 0s 3ms/step - loss: 11.3622 - mean_absolute_percentage_error: 11.1724 - val_loss: 15.1109 - val_mean_absolute_percentage_error: 12.8201\n",
            "Epoch 21/50\n",
            "19/19 [==============================] - 0s 3ms/step - loss: 28.3730 - mean_absolute_percentage_error: 15.4123 - val_loss: 15.3883 - val_mean_absolute_percentage_error: 13.7683\n",
            "Epoch 22/50\n",
            "19/19 [==============================] - 0s 3ms/step - loss: 11.5078 - mean_absolute_percentage_error: 12.0208 - val_loss: 12.4464 - val_mean_absolute_percentage_error: 12.1633\n",
            "Epoch 23/50\n",
            "19/19 [==============================] - 0s 3ms/step - loss: 11.0637 - mean_absolute_percentage_error: 11.6117 - val_loss: 9.7967 - val_mean_absolute_percentage_error: 11.1686\n",
            "Epoch 24/50\n",
            "19/19 [==============================] - 0s 3ms/step - loss: 7.1945 - mean_absolute_percentage_error: 10.3149 - val_loss: 12.5857 - val_mean_absolute_percentage_error: 11.6352\n",
            "Epoch 25/50\n",
            "19/19 [==============================] - 0s 3ms/step - loss: 16.3436 - mean_absolute_percentage_error: 12.6853 - val_loss: 12.0784 - val_mean_absolute_percentage_error: 10.8892\n",
            "Epoch 26/50\n",
            "19/19 [==============================] - 0s 3ms/step - loss: 10.4931 - mean_absolute_percentage_error: 10.8269 - val_loss: 14.3860 - val_mean_absolute_percentage_error: 13.3600\n",
            "Epoch 27/50\n",
            "19/19 [==============================] - 0s 3ms/step - loss: 10.3794 - mean_absolute_percentage_error: 11.2890 - val_loss: 12.4350 - val_mean_absolute_percentage_error: 12.4323\n",
            "Epoch 28/50\n",
            "19/19 [==============================] - 0s 3ms/step - loss: 7.5782 - mean_absolute_percentage_error: 9.7269 - val_loss: 10.2309 - val_mean_absolute_percentage_error: 11.5601\n",
            "Epoch 29/50\n",
            "19/19 [==============================] - 0s 3ms/step - loss: 8.7164 - mean_absolute_percentage_error: 10.4980 - val_loss: 8.4711 - val_mean_absolute_percentage_error: 10.8529\n",
            "Epoch 30/50\n",
            "19/19 [==============================] - 0s 3ms/step - loss: 7.6890 - mean_absolute_percentage_error: 10.0819 - val_loss: 12.9305 - val_mean_absolute_percentage_error: 12.0899\n",
            "Epoch 31/50\n",
            "19/19 [==============================] - 0s 3ms/step - loss: 8.0467 - mean_absolute_percentage_error: 9.5969 - val_loss: 10.5142 - val_mean_absolute_percentage_error: 12.5174\n",
            "Epoch 32/50\n",
            "19/19 [==============================] - 0s 3ms/step - loss: 7.8626 - mean_absolute_percentage_error: 9.5125 - val_loss: 9.8786 - val_mean_absolute_percentage_error: 11.5443\n",
            "Epoch 33/50\n",
            "19/19 [==============================] - 0s 3ms/step - loss: 7.7277 - mean_absolute_percentage_error: 9.3373 - val_loss: 10.5728 - val_mean_absolute_percentage_error: 11.1722\n",
            "Epoch 34/50\n",
            "19/19 [==============================] - 0s 3ms/step - loss: 5.3255 - mean_absolute_percentage_error: 8.5902 - val_loss: 12.0947 - val_mean_absolute_percentage_error: 12.3655\n",
            "Epoch 35/50\n",
            "19/19 [==============================] - 0s 4ms/step - loss: 4.4890 - mean_absolute_percentage_error: 8.2539 - val_loss: 8.6347 - val_mean_absolute_percentage_error: 11.0491\n",
            "Epoch 36/50\n",
            "19/19 [==============================] - 0s 3ms/step - loss: 5.4999 - mean_absolute_percentage_error: 8.4428 - val_loss: 9.6588 - val_mean_absolute_percentage_error: 11.3668\n",
            "Epoch 37/50\n",
            "19/19 [==============================] - 0s 3ms/step - loss: 4.4357 - mean_absolute_percentage_error: 7.7041 - val_loss: 15.8407 - val_mean_absolute_percentage_error: 14.3411\n",
            "Epoch 38/50\n",
            "19/19 [==============================] - 0s 3ms/step - loss: 4.9392 - mean_absolute_percentage_error: 8.2352 - val_loss: 8.3481 - val_mean_absolute_percentage_error: 10.8205\n",
            "Epoch 39/50\n",
            "19/19 [==============================] - 0s 3ms/step - loss: 4.8713 - mean_absolute_percentage_error: 7.9842 - val_loss: 8.2156 - val_mean_absolute_percentage_error: 10.5498\n",
            "Epoch 40/50\n",
            "19/19 [==============================] - 0s 3ms/step - loss: 4.9400 - mean_absolute_percentage_error: 8.2594 - val_loss: 11.1051 - val_mean_absolute_percentage_error: 12.1116\n",
            "Epoch 41/50\n",
            "19/19 [==============================] - 0s 3ms/step - loss: 7.2438 - mean_absolute_percentage_error: 8.5634 - val_loss: 9.2428 - val_mean_absolute_percentage_error: 10.8758\n",
            "Epoch 42/50\n",
            "19/19 [==============================] - 0s 3ms/step - loss: 5.7561 - mean_absolute_percentage_error: 8.2800 - val_loss: 15.3290 - val_mean_absolute_percentage_error: 13.9835\n",
            "Epoch 43/50\n",
            "19/19 [==============================] - 0s 3ms/step - loss: 4.5493 - mean_absolute_percentage_error: 8.1490 - val_loss: 9.6115 - val_mean_absolute_percentage_error: 10.7012\n",
            "Epoch 44/50\n",
            "19/19 [==============================] - 0s 3ms/step - loss: 5.2324 - mean_absolute_percentage_error: 8.2766 - val_loss: 9.0486 - val_mean_absolute_percentage_error: 11.3478\n",
            "Epoch 45/50\n",
            "19/19 [==============================] - 0s 3ms/step - loss: 4.5530 - mean_absolute_percentage_error: 8.0917 - val_loss: 9.6391 - val_mean_absolute_percentage_error: 11.2577\n",
            "Epoch 46/50\n",
            "19/19 [==============================] - 0s 4ms/step - loss: 4.2278 - mean_absolute_percentage_error: 7.5997 - val_loss: 9.8933 - val_mean_absolute_percentage_error: 10.6777\n",
            "Epoch 47/50\n",
            "19/19 [==============================] - 0s 3ms/step - loss: 6.0131 - mean_absolute_percentage_error: 8.2768 - val_loss: 9.0469 - val_mean_absolute_percentage_error: 11.4975\n",
            "Epoch 48/50\n",
            "19/19 [==============================] - 0s 3ms/step - loss: 3.7955 - mean_absolute_percentage_error: 7.3195 - val_loss: 7.8696 - val_mean_absolute_percentage_error: 10.6573\n",
            "Epoch 49/50\n",
            "19/19 [==============================] - 0s 3ms/step - loss: 4.3021 - mean_absolute_percentage_error: 7.2528 - val_loss: 9.3218 - val_mean_absolute_percentage_error: 10.9445\n",
            "Epoch 50/50\n",
            "19/19 [==============================] - 0s 3ms/step - loss: 4.4042 - mean_absolute_percentage_error: 7.6294 - val_loss: 8.5456 - val_mean_absolute_percentage_error: 11.1087\n"
          ],
          "name": "stdout"
        }
      ]
    },
    {
      "cell_type": "code",
      "metadata": {
        "id": "9r0WQOwjMzxC"
      },
      "source": [
        "model_df.loc[len(model_df)] = ['model5', 'mse', 'mape', history_last(model5)]"
      ],
      "execution_count": 24,
      "outputs": []
    },
    {
      "cell_type": "code",
      "metadata": {
        "id": "hzGlV_DAMzyz",
        "colab": {
          "base_uri": "https://localhost:8080/"
        },
        "outputId": "94e93e2e-5cd1-4cce-d0c9-344cc52632c9"
      },
      "source": [
        "model6 = Sequential([\n",
        "  normalizer,\n",
        "  Dense(128, activation='relu', input_shape=(num_features,)),\n",
        "  Dense(128, activation='relu'),\n",
        "  Dense(1),\n",
        "])\n",
        "\n",
        "\n",
        "model6.compile(\n",
        "  optimizer='SGD',\n",
        "  loss='mean_squared_error',\n",
        "  metrics=[tf.keras.metrics.RootMeanSquaredError()],\n",
        ")\n",
        "\n",
        "model_fit = model6.fit(X, Y, epochs=50, batch_size=15, validation_split=0.2)"
      ],
      "execution_count": 28,
      "outputs": [
        {
          "output_type": "stream",
          "text": [
            "Epoch 1/50\n",
            "19/19 [==============================] - 0s 8ms/step - loss: 360.2763 - root_mean_squared_error: 18.9809 - val_loss: 381.5254 - val_root_mean_squared_error: 19.5327\n",
            "Epoch 2/50\n",
            "19/19 [==============================] - 0s 3ms/step - loss: 240.3837 - root_mean_squared_error: 15.5043 - val_loss: 79.2591 - val_root_mean_squared_error: 8.9028\n",
            "Epoch 3/50\n",
            "19/19 [==============================] - 0s 3ms/step - loss: 228.9868 - root_mean_squared_error: 15.1323 - val_loss: 129.9556 - val_root_mean_squared_error: 11.3998\n",
            "Epoch 4/50\n",
            "19/19 [==============================] - 0s 3ms/step - loss: 77.4242 - root_mean_squared_error: 8.7991 - val_loss: 93.4235 - val_root_mean_squared_error: 9.6656\n",
            "Epoch 5/50\n",
            "19/19 [==============================] - 0s 3ms/step - loss: 81.3543 - root_mean_squared_error: 9.0197 - val_loss: 70.0985 - val_root_mean_squared_error: 8.3725\n",
            "Epoch 6/50\n",
            "19/19 [==============================] - 0s 3ms/step - loss: 75.6203 - root_mean_squared_error: 8.6960 - val_loss: 178.8993 - val_root_mean_squared_error: 13.3753\n",
            "Epoch 7/50\n",
            "19/19 [==============================] - 0s 3ms/step - loss: 107.5031 - root_mean_squared_error: 10.3684 - val_loss: 91.5436 - val_root_mean_squared_error: 9.5678\n",
            "Epoch 8/50\n",
            "19/19 [==============================] - 0s 3ms/step - loss: 53.8322 - root_mean_squared_error: 7.3370 - val_loss: 96.8448 - val_root_mean_squared_error: 9.8410\n",
            "Epoch 9/50\n",
            "19/19 [==============================] - 0s 3ms/step - loss: 49.4678 - root_mean_squared_error: 7.0333 - val_loss: 32.8564 - val_root_mean_squared_error: 5.7321\n",
            "Epoch 10/50\n",
            "19/19 [==============================] - 0s 4ms/step - loss: 23.5152 - root_mean_squared_error: 4.8492 - val_loss: 61.1295 - val_root_mean_squared_error: 7.8185\n",
            "Epoch 11/50\n",
            "19/19 [==============================] - 0s 3ms/step - loss: 32.3356 - root_mean_squared_error: 5.6864 - val_loss: 15.8015 - val_root_mean_squared_error: 3.9751\n",
            "Epoch 12/50\n",
            "19/19 [==============================] - 0s 3ms/step - loss: 13.8586 - root_mean_squared_error: 3.7227 - val_loss: 18.5044 - val_root_mean_squared_error: 4.3017\n",
            "Epoch 13/50\n",
            "19/19 [==============================] - 0s 3ms/step - loss: 18.1533 - root_mean_squared_error: 4.2607 - val_loss: 29.1977 - val_root_mean_squared_error: 5.4035\n",
            "Epoch 14/50\n",
            "19/19 [==============================] - 0s 3ms/step - loss: 13.5401 - root_mean_squared_error: 3.6797 - val_loss: 13.8365 - val_root_mean_squared_error: 3.7197\n",
            "Epoch 15/50\n",
            "19/19 [==============================] - 0s 4ms/step - loss: 13.2704 - root_mean_squared_error: 3.6429 - val_loss: 18.4180 - val_root_mean_squared_error: 4.2916\n",
            "Epoch 16/50\n",
            "19/19 [==============================] - 0s 3ms/step - loss: 14.6348 - root_mean_squared_error: 3.8255 - val_loss: 21.3691 - val_root_mean_squared_error: 4.6227\n",
            "Epoch 17/50\n",
            "19/19 [==============================] - 0s 4ms/step - loss: 8.6725 - root_mean_squared_error: 2.9449 - val_loss: 16.4259 - val_root_mean_squared_error: 4.0529\n",
            "Epoch 18/50\n",
            "19/19 [==============================] - 0s 3ms/step - loss: 7.5637 - root_mean_squared_error: 2.7502 - val_loss: 14.0349 - val_root_mean_squared_error: 3.7463\n",
            "Epoch 19/50\n",
            "19/19 [==============================] - 0s 4ms/step - loss: 14.6783 - root_mean_squared_error: 3.8312 - val_loss: 18.5449 - val_root_mean_squared_error: 4.3064\n",
            "Epoch 20/50\n",
            "19/19 [==============================] - 0s 3ms/step - loss: 8.4635 - root_mean_squared_error: 2.9092 - val_loss: 14.9659 - val_root_mean_squared_error: 3.8686\n",
            "Epoch 21/50\n",
            "19/19 [==============================] - 0s 3ms/step - loss: 8.6226 - root_mean_squared_error: 2.9364 - val_loss: 15.5115 - val_root_mean_squared_error: 3.9385\n",
            "Epoch 22/50\n",
            "19/19 [==============================] - 0s 3ms/step - loss: 7.6229 - root_mean_squared_error: 2.7610 - val_loss: 12.5665 - val_root_mean_squared_error: 3.5449\n",
            "Epoch 23/50\n",
            "19/19 [==============================] - 0s 3ms/step - loss: 7.3005 - root_mean_squared_error: 2.7019 - val_loss: 10.5878 - val_root_mean_squared_error: 3.2539\n",
            "Epoch 24/50\n",
            "19/19 [==============================] - 0s 3ms/step - loss: 7.4491 - root_mean_squared_error: 2.7293 - val_loss: 10.6313 - val_root_mean_squared_error: 3.2606\n",
            "Epoch 25/50\n",
            "19/19 [==============================] - 0s 3ms/step - loss: 8.6801 - root_mean_squared_error: 2.9462 - val_loss: 10.8436 - val_root_mean_squared_error: 3.2930\n",
            "Epoch 26/50\n",
            "19/19 [==============================] - 0s 3ms/step - loss: 6.4668 - root_mean_squared_error: 2.5430 - val_loss: 10.9562 - val_root_mean_squared_error: 3.3100\n",
            "Epoch 27/50\n",
            "19/19 [==============================] - 0s 3ms/step - loss: 7.4118 - root_mean_squared_error: 2.7225 - val_loss: 10.5376 - val_root_mean_squared_error: 3.2462\n",
            "Epoch 28/50\n",
            "19/19 [==============================] - 0s 3ms/step - loss: 5.2669 - root_mean_squared_error: 2.2950 - val_loss: 10.5182 - val_root_mean_squared_error: 3.2432\n",
            "Epoch 29/50\n",
            "19/19 [==============================] - 0s 3ms/step - loss: 7.2205 - root_mean_squared_error: 2.6871 - val_loss: 20.2482 - val_root_mean_squared_error: 4.4998\n",
            "Epoch 30/50\n",
            "19/19 [==============================] - 0s 3ms/step - loss: 11.7515 - root_mean_squared_error: 3.4280 - val_loss: 15.6283 - val_root_mean_squared_error: 3.9533\n",
            "Epoch 31/50\n",
            "19/19 [==============================] - 0s 3ms/step - loss: 6.1939 - root_mean_squared_error: 2.4888 - val_loss: 11.5153 - val_root_mean_squared_error: 3.3934\n",
            "Epoch 32/50\n",
            "19/19 [==============================] - 0s 3ms/step - loss: 6.5616 - root_mean_squared_error: 2.5616 - val_loss: 11.6082 - val_root_mean_squared_error: 3.4071\n",
            "Epoch 33/50\n",
            "19/19 [==============================] - 0s 3ms/step - loss: 6.8166 - root_mean_squared_error: 2.6109 - val_loss: 10.8319 - val_root_mean_squared_error: 3.2912\n",
            "Epoch 34/50\n",
            "19/19 [==============================] - 0s 3ms/step - loss: 5.3559 - root_mean_squared_error: 2.3143 - val_loss: 11.6457 - val_root_mean_squared_error: 3.4126\n",
            "Epoch 35/50\n",
            "19/19 [==============================] - 0s 3ms/step - loss: 6.4044 - root_mean_squared_error: 2.5307 - val_loss: 13.0483 - val_root_mean_squared_error: 3.6122\n",
            "Epoch 36/50\n",
            "19/19 [==============================] - 0s 3ms/step - loss: 7.5646 - root_mean_squared_error: 2.7504 - val_loss: 13.2960 - val_root_mean_squared_error: 3.6464\n",
            "Epoch 37/50\n",
            "19/19 [==============================] - 0s 3ms/step - loss: 5.7013 - root_mean_squared_error: 2.3877 - val_loss: 13.1869 - val_root_mean_squared_error: 3.6314\n",
            "Epoch 38/50\n",
            "19/19 [==============================] - 0s 4ms/step - loss: 5.5118 - root_mean_squared_error: 2.3477 - val_loss: 16.0003 - val_root_mean_squared_error: 4.0000\n",
            "Epoch 39/50\n",
            "19/19 [==============================] - 0s 3ms/step - loss: 4.9165 - root_mean_squared_error: 2.2173 - val_loss: 11.5157 - val_root_mean_squared_error: 3.3935\n",
            "Epoch 40/50\n",
            "19/19 [==============================] - 0s 3ms/step - loss: 6.5624 - root_mean_squared_error: 2.5617 - val_loss: 11.5968 - val_root_mean_squared_error: 3.4054\n",
            "Epoch 41/50\n",
            "19/19 [==============================] - 0s 3ms/step - loss: 5.0267 - root_mean_squared_error: 2.2420 - val_loss: 16.1448 - val_root_mean_squared_error: 4.0181\n",
            "Epoch 42/50\n",
            "19/19 [==============================] - 0s 3ms/step - loss: 6.0648 - root_mean_squared_error: 2.4627 - val_loss: 11.6038 - val_root_mean_squared_error: 3.4064\n",
            "Epoch 43/50\n",
            "19/19 [==============================] - 0s 3ms/step - loss: 4.6727 - root_mean_squared_error: 2.1616 - val_loss: 14.2521 - val_root_mean_squared_error: 3.7752\n",
            "Epoch 44/50\n",
            "19/19 [==============================] - 0s 3ms/step - loss: 4.8025 - root_mean_squared_error: 2.1915 - val_loss: 12.9974 - val_root_mean_squared_error: 3.6052\n",
            "Epoch 45/50\n",
            "19/19 [==============================] - 0s 3ms/step - loss: 5.0426 - root_mean_squared_error: 2.2456 - val_loss: 11.6648 - val_root_mean_squared_error: 3.4154\n",
            "Epoch 46/50\n",
            "19/19 [==============================] - 0s 3ms/step - loss: 4.2642 - root_mean_squared_error: 2.0650 - val_loss: 10.9822 - val_root_mean_squared_error: 3.3139\n",
            "Epoch 47/50\n",
            "19/19 [==============================] - 0s 3ms/step - loss: 3.7925 - root_mean_squared_error: 1.9474 - val_loss: 11.2162 - val_root_mean_squared_error: 3.3491\n",
            "Epoch 48/50\n",
            "19/19 [==============================] - 0s 3ms/step - loss: 4.1428 - root_mean_squared_error: 2.0354 - val_loss: 9.8362 - val_root_mean_squared_error: 3.1363\n",
            "Epoch 49/50\n",
            "19/19 [==============================] - 0s 3ms/step - loss: 5.2254 - root_mean_squared_error: 2.2859 - val_loss: 12.2471 - val_root_mean_squared_error: 3.4996\n",
            "Epoch 50/50\n",
            "19/19 [==============================] - 0s 3ms/step - loss: 7.3258 - root_mean_squared_error: 2.7066 - val_loss: 11.0758 - val_root_mean_squared_error: 3.3280\n"
          ],
          "name": "stdout"
        }
      ]
    },
    {
      "cell_type": "code",
      "metadata": {
        "id": "F8dd37GQnofA"
      },
      "source": [
        "model_df.loc[len(model_df)] = ['model6', 'mse', 'rmse', history_last(model6)]"
      ],
      "execution_count": 29,
      "outputs": []
    },
    {
      "cell_type": "code",
      "metadata": {
        "colab": {
          "base_uri": "https://localhost:8080/"
        },
        "id": "y1XCPXhcnoh-",
        "outputId": "2fb29528-2c90-48d8-e52e-6c00dbe100ce"
      },
      "source": [
        "model7 = Sequential([\n",
        "  normalizer,\n",
        "  Dense(128, activation='relu', input_shape=(num_features,)),\n",
        "  Dense(128, activation='relu'),\n",
        "  Dense(1),\n",
        "])\n",
        "\n",
        "\n",
        "model7.compile(\n",
        "  optimizer='SGD',\n",
        "  loss='mae',\n",
        "  metrics=['mae'],\n",
        ")\n",
        "\n",
        "model_fit = model7.fit(X, Y, epochs=50, batch_size=15, validation_split=0.2)"
      ],
      "execution_count": 33,
      "outputs": [
        {
          "output_type": "stream",
          "text": [
            "Epoch 1/50\n",
            "19/19 [==============================] - 0s 9ms/step - loss: 22.4221 - mae: 22.4221 - val_loss: 21.1780 - val_mae: 21.1780\n",
            "Epoch 2/50\n",
            "19/19 [==============================] - 0s 3ms/step - loss: 20.1096 - mae: 20.1096 - val_loss: 18.0042 - val_mae: 18.0042\n",
            "Epoch 3/50\n",
            "19/19 [==============================] - 0s 3ms/step - loss: 15.3041 - mae: 15.3041 - val_loss: 10.6753 - val_mae: 10.6753\n",
            "Epoch 4/50\n",
            "19/19 [==============================] - 0s 3ms/step - loss: 8.6538 - mae: 8.6538 - val_loss: 5.4600 - val_mae: 5.4600\n",
            "Epoch 5/50\n",
            "19/19 [==============================] - 0s 3ms/step - loss: 5.2688 - mae: 5.2688 - val_loss: 3.8701 - val_mae: 3.8701\n",
            "Epoch 6/50\n",
            "19/19 [==============================] - 0s 3ms/step - loss: 3.6933 - mae: 3.6933 - val_loss: 3.4258 - val_mae: 3.4258\n",
            "Epoch 7/50\n",
            "19/19 [==============================] - 0s 3ms/step - loss: 3.1891 - mae: 3.1891 - val_loss: 3.1610 - val_mae: 3.1610\n",
            "Epoch 8/50\n",
            "19/19 [==============================] - 0s 3ms/step - loss: 2.9803 - mae: 2.9803 - val_loss: 3.0414 - val_mae: 3.0414\n",
            "Epoch 9/50\n",
            "19/19 [==============================] - 0s 3ms/step - loss: 2.7873 - mae: 2.7873 - val_loss: 3.1898 - val_mae: 3.1898\n",
            "Epoch 10/50\n",
            "19/19 [==============================] - 0s 3ms/step - loss: 2.7725 - mae: 2.7725 - val_loss: 3.0503 - val_mae: 3.0503\n",
            "Epoch 11/50\n",
            "19/19 [==============================] - 0s 3ms/step - loss: 2.6610 - mae: 2.6610 - val_loss: 2.9955 - val_mae: 2.9955\n",
            "Epoch 12/50\n",
            "19/19 [==============================] - 0s 3ms/step - loss: 2.6369 - mae: 2.6369 - val_loss: 2.8944 - val_mae: 2.8944\n",
            "Epoch 13/50\n",
            "19/19 [==============================] - 0s 3ms/step - loss: 2.5379 - mae: 2.5379 - val_loss: 2.8968 - val_mae: 2.8968\n",
            "Epoch 14/50\n",
            "19/19 [==============================] - 0s 3ms/step - loss: 2.4615 - mae: 2.4615 - val_loss: 2.9034 - val_mae: 2.9034\n",
            "Epoch 15/50\n",
            "19/19 [==============================] - 0s 3ms/step - loss: 2.5054 - mae: 2.5054 - val_loss: 3.0173 - val_mae: 3.0173\n",
            "Epoch 16/50\n",
            "19/19 [==============================] - 0s 3ms/step - loss: 2.3546 - mae: 2.3546 - val_loss: 2.8929 - val_mae: 2.8929\n",
            "Epoch 17/50\n",
            "19/19 [==============================] - 0s 3ms/step - loss: 2.3929 - mae: 2.3929 - val_loss: 2.8687 - val_mae: 2.8687\n",
            "Epoch 18/50\n",
            "19/19 [==============================] - 0s 3ms/step - loss: 2.2876 - mae: 2.2876 - val_loss: 2.8116 - val_mae: 2.8116\n",
            "Epoch 19/50\n",
            "19/19 [==============================] - 0s 4ms/step - loss: 2.2650 - mae: 2.2650 - val_loss: 2.8692 - val_mae: 2.8692\n",
            "Epoch 20/50\n",
            "19/19 [==============================] - 0s 3ms/step - loss: 2.3566 - mae: 2.3566 - val_loss: 2.6965 - val_mae: 2.6965\n",
            "Epoch 21/50\n",
            "19/19 [==============================] - 0s 3ms/step - loss: 2.2698 - mae: 2.2698 - val_loss: 2.7254 - val_mae: 2.7254\n",
            "Epoch 22/50\n",
            "19/19 [==============================] - 0s 3ms/step - loss: 2.2406 - mae: 2.2406 - val_loss: 2.8444 - val_mae: 2.8444\n",
            "Epoch 23/50\n",
            "19/19 [==============================] - 0s 3ms/step - loss: 2.2037 - mae: 2.2037 - val_loss: 3.1356 - val_mae: 3.1356\n",
            "Epoch 24/50\n",
            "19/19 [==============================] - 0s 3ms/step - loss: 2.1358 - mae: 2.1358 - val_loss: 2.8073 - val_mae: 2.8073\n",
            "Epoch 25/50\n",
            "19/19 [==============================] - 0s 3ms/step - loss: 2.1975 - mae: 2.1975 - val_loss: 3.0397 - val_mae: 3.0397\n",
            "Epoch 26/50\n",
            "19/19 [==============================] - 0s 3ms/step - loss: 2.1957 - mae: 2.1957 - val_loss: 2.5581 - val_mae: 2.5581\n",
            "Epoch 27/50\n",
            "19/19 [==============================] - 0s 3ms/step - loss: 2.1953 - mae: 2.1953 - val_loss: 2.7824 - val_mae: 2.7824\n",
            "Epoch 28/50\n",
            "19/19 [==============================] - 0s 3ms/step - loss: 2.1618 - mae: 2.1618 - val_loss: 2.7564 - val_mae: 2.7564\n",
            "Epoch 29/50\n",
            "19/19 [==============================] - 0s 4ms/step - loss: 2.0937 - mae: 2.0937 - val_loss: 2.6394 - val_mae: 2.6394\n",
            "Epoch 30/50\n",
            "19/19 [==============================] - 0s 3ms/step - loss: 2.0957 - mae: 2.0957 - val_loss: 2.6385 - val_mae: 2.6385\n",
            "Epoch 31/50\n",
            "19/19 [==============================] - 0s 3ms/step - loss: 2.0874 - mae: 2.0874 - val_loss: 2.7838 - val_mae: 2.7838\n",
            "Epoch 32/50\n",
            "19/19 [==============================] - 0s 3ms/step - loss: 2.1412 - mae: 2.1412 - val_loss: 2.7155 - val_mae: 2.7155\n",
            "Epoch 33/50\n",
            "19/19 [==============================] - 0s 3ms/step - loss: 2.0949 - mae: 2.0949 - val_loss: 3.0526 - val_mae: 3.0526\n",
            "Epoch 34/50\n",
            "19/19 [==============================] - 0s 3ms/step - loss: 1.9998 - mae: 1.9998 - val_loss: 2.5959 - val_mae: 2.5959\n",
            "Epoch 35/50\n",
            "19/19 [==============================] - 0s 3ms/step - loss: 2.0647 - mae: 2.0647 - val_loss: 2.7559 - val_mae: 2.7559\n",
            "Epoch 36/50\n",
            "19/19 [==============================] - 0s 3ms/step - loss: 2.0910 - mae: 2.0910 - val_loss: 2.5684 - val_mae: 2.5684\n",
            "Epoch 37/50\n",
            "19/19 [==============================] - 0s 3ms/step - loss: 2.0720 - mae: 2.0720 - val_loss: 2.9548 - val_mae: 2.9548\n",
            "Epoch 38/50\n",
            "19/19 [==============================] - 0s 3ms/step - loss: 2.0968 - mae: 2.0968 - val_loss: 2.8030 - val_mae: 2.8030\n",
            "Epoch 39/50\n",
            "19/19 [==============================] - 0s 4ms/step - loss: 2.0096 - mae: 2.0096 - val_loss: 2.8484 - val_mae: 2.8484\n",
            "Epoch 40/50\n",
            "19/19 [==============================] - 0s 3ms/step - loss: 1.9935 - mae: 1.9935 - val_loss: 2.6042 - val_mae: 2.6042\n",
            "Epoch 41/50\n",
            "19/19 [==============================] - 0s 3ms/step - loss: 2.0558 - mae: 2.0558 - val_loss: 2.9175 - val_mae: 2.9175\n",
            "Epoch 42/50\n",
            "19/19 [==============================] - 0s 3ms/step - loss: 1.9798 - mae: 1.9798 - val_loss: 2.7057 - val_mae: 2.7057\n",
            "Epoch 43/50\n",
            "19/19 [==============================] - 0s 3ms/step - loss: 1.9951 - mae: 1.9951 - val_loss: 2.5473 - val_mae: 2.5473\n",
            "Epoch 44/50\n",
            "19/19 [==============================] - 0s 3ms/step - loss: 2.0126 - mae: 2.0126 - val_loss: 2.5802 - val_mae: 2.5802\n",
            "Epoch 45/50\n",
            "19/19 [==============================] - 0s 4ms/step - loss: 2.0493 - mae: 2.0493 - val_loss: 2.6616 - val_mae: 2.6616\n",
            "Epoch 46/50\n",
            "19/19 [==============================] - 0s 4ms/step - loss: 1.9189 - mae: 1.9189 - val_loss: 2.6892 - val_mae: 2.6892\n",
            "Epoch 47/50\n",
            "19/19 [==============================] - 0s 3ms/step - loss: 1.9047 - mae: 1.9047 - val_loss: 2.6583 - val_mae: 2.6583\n",
            "Epoch 48/50\n",
            "19/19 [==============================] - 0s 3ms/step - loss: 1.8581 - mae: 1.8581 - val_loss: 2.8964 - val_mae: 2.8964\n",
            "Epoch 49/50\n",
            "19/19 [==============================] - 0s 4ms/step - loss: 1.9573 - mae: 1.9573 - val_loss: 3.0828 - val_mae: 3.0828\n",
            "Epoch 50/50\n",
            "19/19 [==============================] - 0s 3ms/step - loss: 1.9799 - mae: 1.9799 - val_loss: 2.5346 - val_mae: 2.5346\n"
          ],
          "name": "stdout"
        }
      ]
    },
    {
      "cell_type": "code",
      "metadata": {
        "id": "Gy5po1qhnokX"
      },
      "source": [
        "model_df.loc[len(model_df)] = ['model7', 'mae', 'mae', history_last(model7)]"
      ],
      "execution_count": 34,
      "outputs": []
    },
    {
      "cell_type": "code",
      "metadata": {
        "colab": {
          "base_uri": "https://localhost:8080/"
        },
        "id": "sR60UOCcnonG",
        "outputId": "8d4e8e15-8399-4528-830c-4a46d607e135"
      },
      "source": [
        "model8 = Sequential([\n",
        "  normalizer,\n",
        "  Dense(128, activation='relu', input_shape=(num_features,)),\n",
        "  Dense(128, activation='relu'),\n",
        "  Dense(1),\n",
        "])\n",
        "\n",
        "\n",
        "model8.compile(\n",
        "  optimizer='SGD',\n",
        "  loss='mae',\n",
        "  metrics=[tf.keras.metrics.MeanAbsolutePercentageError()],\n",
        ")\n",
        "\n",
        "model_fit = model8.fit(X, Y, epochs=50, batch_size=15, validation_split=0.2)"
      ],
      "execution_count": 36,
      "outputs": [
        {
          "output_type": "stream",
          "text": [
            "Epoch 1/50\n",
            "19/19 [==============================] - 1s 20ms/step - loss: 22.0690 - mean_absolute_percentage_error: 94.2710 - val_loss: 20.6695 - val_mean_absolute_percentage_error: 89.0458\n",
            "Epoch 2/50\n",
            "19/19 [==============================] - 0s 3ms/step - loss: 19.1751 - mean_absolute_percentage_error: 78.7179 - val_loss: 16.7898 - val_mean_absolute_percentage_error: 70.7766\n",
            "Epoch 3/50\n",
            "19/19 [==============================] - 0s 3ms/step - loss: 13.4790 - mean_absolute_percentage_error: 55.6470 - val_loss: 8.1514 - val_mean_absolute_percentage_error: 35.4589\n",
            "Epoch 4/50\n",
            "19/19 [==============================] - 0s 4ms/step - loss: 7.2229 - mean_absolute_percentage_error: 34.3030 - val_loss: 5.2353 - val_mean_absolute_percentage_error: 24.6907\n",
            "Epoch 5/50\n",
            "19/19 [==============================] - 0s 4ms/step - loss: 4.8656 - mean_absolute_percentage_error: 23.9482 - val_loss: 4.3010 - val_mean_absolute_percentage_error: 20.2996\n",
            "Epoch 6/50\n",
            "19/19 [==============================] - 0s 3ms/step - loss: 3.8841 - mean_absolute_percentage_error: 19.1505 - val_loss: 3.8789 - val_mean_absolute_percentage_error: 17.9433\n",
            "Epoch 7/50\n",
            "19/19 [==============================] - 0s 3ms/step - loss: 3.5523 - mean_absolute_percentage_error: 17.4409 - val_loss: 3.5409 - val_mean_absolute_percentage_error: 16.6479\n",
            "Epoch 8/50\n",
            "19/19 [==============================] - 0s 3ms/step - loss: 3.2855 - mean_absolute_percentage_error: 16.0821 - val_loss: 3.5280 - val_mean_absolute_percentage_error: 16.2039\n",
            "Epoch 9/50\n",
            "19/19 [==============================] - 0s 3ms/step - loss: 3.1075 - mean_absolute_percentage_error: 14.8588 - val_loss: 3.4372 - val_mean_absolute_percentage_error: 15.7940\n",
            "Epoch 10/50\n",
            "19/19 [==============================] - 0s 3ms/step - loss: 2.9581 - mean_absolute_percentage_error: 14.0553 - val_loss: 3.2973 - val_mean_absolute_percentage_error: 15.2571\n",
            "Epoch 11/50\n",
            "19/19 [==============================] - 0s 3ms/step - loss: 2.8002 - mean_absolute_percentage_error: 13.2913 - val_loss: 3.2362 - val_mean_absolute_percentage_error: 15.0558\n",
            "Epoch 12/50\n",
            "19/19 [==============================] - 0s 4ms/step - loss: 2.7289 - mean_absolute_percentage_error: 12.9606 - val_loss: 3.0872 - val_mean_absolute_percentage_error: 14.4830\n",
            "Epoch 13/50\n",
            "19/19 [==============================] - 0s 4ms/step - loss: 2.5064 - mean_absolute_percentage_error: 11.9293 - val_loss: 3.2268 - val_mean_absolute_percentage_error: 15.1485\n",
            "Epoch 14/50\n",
            "19/19 [==============================] - 0s 3ms/step - loss: 2.5550 - mean_absolute_percentage_error: 11.9105 - val_loss: 3.0932 - val_mean_absolute_percentage_error: 14.6233\n",
            "Epoch 15/50\n",
            "19/19 [==============================] - 0s 3ms/step - loss: 2.4654 - mean_absolute_percentage_error: 11.5881 - val_loss: 3.0893 - val_mean_absolute_percentage_error: 14.6600\n",
            "Epoch 16/50\n",
            "19/19 [==============================] - 0s 3ms/step - loss: 2.4538 - mean_absolute_percentage_error: 11.3000 - val_loss: 2.8890 - val_mean_absolute_percentage_error: 13.8273\n",
            "Epoch 17/50\n",
            "19/19 [==============================] - 0s 3ms/step - loss: 2.5699 - mean_absolute_percentage_error: 11.9186 - val_loss: 2.9974 - val_mean_absolute_percentage_error: 14.1785\n",
            "Epoch 18/50\n",
            "19/19 [==============================] - 0s 4ms/step - loss: 2.3879 - mean_absolute_percentage_error: 11.0464 - val_loss: 3.2060 - val_mean_absolute_percentage_error: 14.9753\n",
            "Epoch 19/50\n",
            "19/19 [==============================] - 0s 3ms/step - loss: 2.3385 - mean_absolute_percentage_error: 10.7591 - val_loss: 2.8120 - val_mean_absolute_percentage_error: 13.4093\n",
            "Epoch 20/50\n",
            "19/19 [==============================] - 0s 4ms/step - loss: 2.3130 - mean_absolute_percentage_error: 10.7345 - val_loss: 2.8173 - val_mean_absolute_percentage_error: 13.3093\n",
            "Epoch 21/50\n",
            "19/19 [==============================] - 0s 3ms/step - loss: 2.2892 - mean_absolute_percentage_error: 10.4813 - val_loss: 2.8360 - val_mean_absolute_percentage_error: 13.5440\n",
            "Epoch 22/50\n",
            "19/19 [==============================] - 0s 3ms/step - loss: 2.3411 - mean_absolute_percentage_error: 10.7090 - val_loss: 2.6607 - val_mean_absolute_percentage_error: 13.0193\n",
            "Epoch 23/50\n",
            "19/19 [==============================] - 0s 4ms/step - loss: 2.3226 - mean_absolute_percentage_error: 10.9508 - val_loss: 2.9737 - val_mean_absolute_percentage_error: 13.6559\n",
            "Epoch 24/50\n",
            "19/19 [==============================] - 0s 3ms/step - loss: 2.3257 - mean_absolute_percentage_error: 10.6502 - val_loss: 2.7029 - val_mean_absolute_percentage_error: 12.7326\n",
            "Epoch 25/50\n",
            "19/19 [==============================] - 0s 3ms/step - loss: 2.2717 - mean_absolute_percentage_error: 10.5387 - val_loss: 2.6402 - val_mean_absolute_percentage_error: 12.3915\n",
            "Epoch 26/50\n",
            "19/19 [==============================] - 0s 3ms/step - loss: 2.2318 - mean_absolute_percentage_error: 10.3170 - val_loss: 2.8430 - val_mean_absolute_percentage_error: 13.5569\n",
            "Epoch 27/50\n",
            "19/19 [==============================] - 0s 4ms/step - loss: 2.1866 - mean_absolute_percentage_error: 10.1323 - val_loss: 2.6353 - val_mean_absolute_percentage_error: 12.6058\n",
            "Epoch 28/50\n",
            "19/19 [==============================] - 0s 4ms/step - loss: 2.1961 - mean_absolute_percentage_error: 10.1540 - val_loss: 2.7909 - val_mean_absolute_percentage_error: 13.6288\n",
            "Epoch 29/50\n",
            "19/19 [==============================] - 0s 3ms/step - loss: 2.1896 - mean_absolute_percentage_error: 10.2370 - val_loss: 2.6982 - val_mean_absolute_percentage_error: 12.7034\n",
            "Epoch 30/50\n",
            "19/19 [==============================] - 0s 3ms/step - loss: 2.1894 - mean_absolute_percentage_error: 9.9631 - val_loss: 2.6677 - val_mean_absolute_percentage_error: 12.8158\n",
            "Epoch 31/50\n",
            "19/19 [==============================] - 0s 3ms/step - loss: 2.1069 - mean_absolute_percentage_error: 9.8039 - val_loss: 2.8295 - val_mean_absolute_percentage_error: 13.4645\n",
            "Epoch 32/50\n",
            "19/19 [==============================] - 0s 3ms/step - loss: 2.2177 - mean_absolute_percentage_error: 10.3781 - val_loss: 2.7003 - val_mean_absolute_percentage_error: 12.8209\n",
            "Epoch 33/50\n",
            "19/19 [==============================] - 0s 3ms/step - loss: 2.2310 - mean_absolute_percentage_error: 10.2759 - val_loss: 2.8500 - val_mean_absolute_percentage_error: 13.5615\n",
            "Epoch 34/50\n",
            "19/19 [==============================] - 0s 3ms/step - loss: 2.1004 - mean_absolute_percentage_error: 9.8285 - val_loss: 2.6122 - val_mean_absolute_percentage_error: 12.4429\n",
            "Epoch 35/50\n",
            "19/19 [==============================] - 0s 4ms/step - loss: 2.1109 - mean_absolute_percentage_error: 9.7636 - val_loss: 2.8377 - val_mean_absolute_percentage_error: 13.5171\n",
            "Epoch 36/50\n",
            "19/19 [==============================] - 0s 3ms/step - loss: 2.0997 - mean_absolute_percentage_error: 9.7802 - val_loss: 2.5966 - val_mean_absolute_percentage_error: 12.3883\n",
            "Epoch 37/50\n",
            "19/19 [==============================] - 0s 3ms/step - loss: 2.0600 - mean_absolute_percentage_error: 9.4287 - val_loss: 2.7653 - val_mean_absolute_percentage_error: 13.1905\n",
            "Epoch 38/50\n",
            "19/19 [==============================] - 0s 3ms/step - loss: 2.1162 - mean_absolute_percentage_error: 10.0653 - val_loss: 2.8215 - val_mean_absolute_percentage_error: 13.5098\n",
            "Epoch 39/50\n",
            "19/19 [==============================] - 0s 3ms/step - loss: 2.1054 - mean_absolute_percentage_error: 9.6124 - val_loss: 2.5622 - val_mean_absolute_percentage_error: 12.3419\n",
            "Epoch 40/50\n",
            "19/19 [==============================] - 0s 3ms/step - loss: 2.0496 - mean_absolute_percentage_error: 9.4975 - val_loss: 2.5838 - val_mean_absolute_percentage_error: 12.2266\n",
            "Epoch 41/50\n",
            "19/19 [==============================] - 0s 3ms/step - loss: 2.0340 - mean_absolute_percentage_error: 9.3411 - val_loss: 2.5089 - val_mean_absolute_percentage_error: 12.0051\n",
            "Epoch 42/50\n",
            "19/19 [==============================] - 0s 3ms/step - loss: 1.9824 - mean_absolute_percentage_error: 9.2162 - val_loss: 2.6453 - val_mean_absolute_percentage_error: 12.5882\n",
            "Epoch 43/50\n",
            "19/19 [==============================] - 0s 3ms/step - loss: 2.0873 - mean_absolute_percentage_error: 9.5873 - val_loss: 2.8533 - val_mean_absolute_percentage_error: 13.3419\n",
            "Epoch 44/50\n",
            "19/19 [==============================] - 0s 3ms/step - loss: 2.0405 - mean_absolute_percentage_error: 9.6022 - val_loss: 2.5408 - val_mean_absolute_percentage_error: 12.2264\n",
            "Epoch 45/50\n",
            "19/19 [==============================] - 0s 3ms/step - loss: 1.9656 - mean_absolute_percentage_error: 9.1923 - val_loss: 2.6625 - val_mean_absolute_percentage_error: 12.8179\n",
            "Epoch 46/50\n",
            "19/19 [==============================] - 0s 3ms/step - loss: 2.0077 - mean_absolute_percentage_error: 9.2889 - val_loss: 2.7227 - val_mean_absolute_percentage_error: 12.8216\n",
            "Epoch 47/50\n",
            "19/19 [==============================] - 0s 3ms/step - loss: 1.9208 - mean_absolute_percentage_error: 8.9432 - val_loss: 3.0661 - val_mean_absolute_percentage_error: 14.8275\n",
            "Epoch 48/50\n",
            "19/19 [==============================] - 0s 3ms/step - loss: 2.0093 - mean_absolute_percentage_error: 9.5095 - val_loss: 2.8023 - val_mean_absolute_percentage_error: 13.5629\n",
            "Epoch 49/50\n",
            "19/19 [==============================] - 0s 3ms/step - loss: 2.0318 - mean_absolute_percentage_error: 9.5692 - val_loss: 3.0140 - val_mean_absolute_percentage_error: 14.6034\n",
            "Epoch 50/50\n",
            "19/19 [==============================] - 0s 3ms/step - loss: 1.9514 - mean_absolute_percentage_error: 9.1042 - val_loss: 2.6083 - val_mean_absolute_percentage_error: 12.6378\n"
          ],
          "name": "stdout"
        }
      ]
    },
    {
      "cell_type": "code",
      "metadata": {
        "id": "cz-ZNaSMnopJ"
      },
      "source": [
        "model_df.loc[len(model_df)] = ['model8', 'mae', 'mape', history_last(model8)]"
      ],
      "execution_count": 37,
      "outputs": []
    },
    {
      "cell_type": "code",
      "metadata": {
        "colab": {
          "base_uri": "https://localhost:8080/",
          "height": 328
        },
        "id": "NUuigH11norZ",
        "outputId": "2ea7f539-4e18-4c1d-b300-8551a1fc3bd5"
      },
      "source": [
        "model_df"
      ],
      "execution_count": 38,
      "outputs": [
        {
          "output_type": "execute_result",
          "data": {
            "text/html": [
              "<div>\n",
              "<style scoped>\n",
              "    .dataframe tbody tr th:only-of-type {\n",
              "        vertical-align: middle;\n",
              "    }\n",
              "\n",
              "    .dataframe tbody tr th {\n",
              "        vertical-align: top;\n",
              "    }\n",
              "\n",
              "    .dataframe thead th {\n",
              "        text-align: right;\n",
              "    }\n",
              "</style>\n",
              "<table border=\"1\" class=\"dataframe\">\n",
              "  <thead>\n",
              "    <tr style=\"text-align: right;\">\n",
              "      <th></th>\n",
              "      <th>name</th>\n",
              "      <th>loss</th>\n",
              "      <th>metrics</th>\n",
              "      <th>metric_value</th>\n",
              "    </tr>\n",
              "  </thead>\n",
              "  <tbody>\n",
              "    <tr>\n",
              "      <th>0</th>\n",
              "      <td>model</td>\n",
              "      <td>mse</td>\n",
              "      <td>mae</td>\n",
              "      <td>2.251323</td>\n",
              "    </tr>\n",
              "    <tr>\n",
              "      <th>1</th>\n",
              "      <td>model1</td>\n",
              "      <td>logcosh</td>\n",
              "      <td>mae</td>\n",
              "      <td>2.578054</td>\n",
              "    </tr>\n",
              "    <tr>\n",
              "      <th>2</th>\n",
              "      <td>model2</td>\n",
              "      <td>mse</td>\n",
              "      <td>mae</td>\n",
              "      <td>2.217207</td>\n",
              "    </tr>\n",
              "    <tr>\n",
              "      <th>3</th>\n",
              "      <td>model3</td>\n",
              "      <td>msle</td>\n",
              "      <td>mae</td>\n",
              "      <td>4.075542</td>\n",
              "    </tr>\n",
              "    <tr>\n",
              "      <th>4</th>\n",
              "      <td>model4</td>\n",
              "      <td>msle</td>\n",
              "      <td>mae</td>\n",
              "      <td>3.881510</td>\n",
              "    </tr>\n",
              "    <tr>\n",
              "      <th>5</th>\n",
              "      <td>model5</td>\n",
              "      <td>mse</td>\n",
              "      <td>mape</td>\n",
              "      <td>11.108685</td>\n",
              "    </tr>\n",
              "    <tr>\n",
              "      <th>6</th>\n",
              "      <td>model6</td>\n",
              "      <td>mse</td>\n",
              "      <td>rmse</td>\n",
              "      <td>3.328029</td>\n",
              "    </tr>\n",
              "    <tr>\n",
              "      <th>7</th>\n",
              "      <td>model7</td>\n",
              "      <td>mae</td>\n",
              "      <td>mae</td>\n",
              "      <td>2.534641</td>\n",
              "    </tr>\n",
              "    <tr>\n",
              "      <th>8</th>\n",
              "      <td>model8</td>\n",
              "      <td>mae</td>\n",
              "      <td>mape</td>\n",
              "      <td>12.637752</td>\n",
              "    </tr>\n",
              "  </tbody>\n",
              "</table>\n",
              "</div>"
            ],
            "text/plain": [
              "     name     loss metrics  metric_value\n",
              "0   model      mse     mae      2.251323\n",
              "1  model1  logcosh     mae      2.578054\n",
              "2  model2      mse     mae      2.217207\n",
              "3  model3     msle     mae      4.075542\n",
              "4  model4     msle     mae      3.881510\n",
              "5  model5      mse    mape     11.108685\n",
              "6  model6      mse    rmse      3.328029\n",
              "7  model7      mae     mae      2.534641\n",
              "8  model8      mae    mape     12.637752"
            ]
          },
          "metadata": {
            "tags": []
          },
          "execution_count": 38
        }
      ]
    },
    {
      "cell_type": "markdown",
      "metadata": {
        "id": "EssmnGt-pgyC"
      },
      "source": [
        "Из документации взял команды нормализации, так же очень много посидел в разделах Loss и metrics, понял что многие метрики не подходят для задачи регрессии (напрмиер, такие как, accuracy). По таблице лучше всего показали loss: mse, metrics: mae."
      ]
    }
  ]
}
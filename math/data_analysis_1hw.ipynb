{
 "cells": [
  {
   "cell_type": "markdown",
   "metadata": {},
   "source": [
    "## Домашняя работа №1"
   ]
  },
  {
   "cell_type": "markdown",
   "metadata": {},
   "source": [
    "**Задание:** Реализовать оптимизацию методом градиентного спуска для x^2(np.sin(0,5_x)^2+1). Какие параметры шага и количества итераций оптимальны? При каких значениях шага оптимизиция не выходит из локальных минимумов?"
   ]
  },
  {
   "cell_type": "code",
   "execution_count": 3,
   "metadata": {},
   "outputs": [],
   "source": [
    "import numpy as np\n",
    "import matplotlib\n",
    "import matplotlib.pyplot as plt\n",
    "import pprint"
   ]
  },
  {
   "cell_type": "code",
   "execution_count": 5,
   "metadata": {},
   "outputs": [],
   "source": [
    "def func1(_x): return _x**2 * (np.sin(_x/2)**2 + 1)\n",
    "def calculate_grad(func, x0, delta=0.01): return (func(x0+delta)-func(x0))/delta"
   ]
  },
  {
   "cell_type": "code",
   "execution_count": 20,
   "metadata": {},
   "outputs": [
    {
     "data": {
      "image/png": "[encoded data removed]",
      "text/plain": [
       "<Figure size 432x288 with 1 Axes>"
      ]
     },
     "metadata": {
      "needs_background": "light"
     },
     "output_type": "display_data"
    }
   ],
   "source": [
    "x = np.linspace(-50, 50, 5000)\n",
    "plt.plot(x, func1(x))\n",
    "plt.show()"
   ]
  },
  {
   "cell_type": "code",
   "execution_count": 25,
   "metadata": {
    "scrolled": false
   },
   "outputs": [
    {
     "name": "stdout",
     "output_type": "stream",
     "text": [
      "{10.01: 19.5,\n",
      " 10.02: -14.88,\n",
      " 10.03: -12.11,\n",
      " 10.04: -5.18,\n",
      " 10.05: -5.08,\n",
      " 10.06: 1.252597895640806e+23,\n",
      " 10.07: -0.41,\n",
      " 10.08: 0.02,\n",
      " 10.09: -2.28,\n",
      " 10.1: 0.19,\n",
      " 10.11: 1.0271963692845984e+25,\n",
      " 10.12: -1.9100911790448692e+16,\n",
      " 10.13: -1.9758736134041287e+21,\n",
      " 10.14: -1392301413711822.5,\n",
      " 10.15: 3.107004410617181e+23,\n",
      " 10.16: 3.26780112451126e+16,\n",
      " 10.17: -11190959046.97,\n",
      " 10.18: -0.02,\n",
      " 10.19: -0.01,\n",
      " 10.2: 0.0,\n",
      " 25.01: 18.63,\n",
      " 25.02: -12.23,\n",
      " 25.03: -12.24,\n",
      " 25.04: -0.57,\n",
      " 25.05: -0.27,\n",
      " 25.06: 1.252597895640806e+23,\n",
      " 25.07: -0.01,\n",
      " 25.08: -0.0,\n",
      " 25.09: -0.01,\n",
      " 25.1: -0.0,\n",
      " 25.11: 1.0271963692845984e+25,\n",
      " 25.12: -1.9100911790448692e+16,\n",
      " 25.13: -1.9758736134041287e+21,\n",
      " 25.14: -1392301413711822.5,\n",
      " 25.15: 3.107004410617181e+23,\n",
      " 25.16: 3.26780112451126e+16,\n",
      " 25.17: 1.060284071238789e+19,\n",
      " 25.18: -0.01,\n",
      " 25.19: -0.01,\n",
      " 25.2: -0.0,\n",
      " 50.01: 18.63,\n",
      " 50.02: -12.23,\n",
      " 50.03: -12.23,\n",
      " 50.04: -0.01,\n",
      " 50.05: -0.01,\n",
      " 50.06: 1.252597895640806e+23,\n",
      " 50.07: -0.01,\n",
      " 50.08: -0.0,\n",
      " 50.09: -0.01,\n",
      " 50.1: -0.0,\n",
      " 50.11: 1.0271963692845984e+25,\n",
      " 50.12: -1.9100911790448692e+16,\n",
      " 50.13: -1.9758736134041287e+21,\n",
      " 50.14: -1392301413711822.5,\n",
      " 50.15: 3.107004410617181e+23,\n",
      " 50.16: 3.26780112451126e+16,\n",
      " 50.17: 1.060284071238789e+19,\n",
      " 50.18: -0.01,\n",
      " 50.19: -0.01,\n",
      " 50.2: -0.0,\n",
      " 75.01: 18.63,\n",
      " 75.02: -12.23,\n",
      " 75.03: -12.23,\n",
      " 75.04: -0.01,\n",
      " 75.05: -0.01,\n",
      " 75.06: 1.252597895640806e+23,\n",
      " 75.07: -0.01,\n",
      " 75.08: -0.0,\n",
      " 75.09: -0.01,\n",
      " 75.1: -0.0,\n",
      " 75.11: 1.0271963692845984e+25,\n",
      " 75.12: -1.9100911790448692e+16,\n",
      " 75.13: -1.9758736134041287e+21,\n",
      " 75.14: -1392301413711822.5,\n",
      " 75.15: 3.107004410617181e+23,\n",
      " 75.16: 3.26780112451126e+16,\n",
      " 75.17: 1.060284071238789e+19,\n",
      " 75.18: -0.01,\n",
      " 75.19: -0.01,\n",
      " 75.2: -0.0,\n",
      " 100.01: 18.63,\n",
      " 100.02: -12.23,\n",
      " 100.03: -12.23,\n",
      " 100.04: -0.01,\n",
      " 100.05: -0.01,\n",
      " 100.06: 1.252597895640806e+23,\n",
      " 100.07: -0.01,\n",
      " 100.08: -0.0,\n",
      " 100.09: -0.01,\n",
      " 100.1: -0.0,\n",
      " 100.11: 1.0271963692845984e+25,\n",
      " 100.12: -1.9100911790448692e+16,\n",
      " 100.13: -1.9758736134041287e+21,\n",
      " 100.14: -1392301413711822.5,\n",
      " 100.15: 3.107004410617181e+23,\n",
      " 100.16: 3.26780112451126e+16,\n",
      " 100.17: 1.060284071238789e+19,\n",
      " 100.18: -0.01,\n",
      " 100.19: -0.01,\n",
      " 100.2: -0.0,\n",
      " 250.01: 18.63,\n",
      " 250.02: -12.23,\n",
      " 250.03: -12.23,\n",
      " 250.04: -0.01,\n",
      " 250.05: -0.01,\n",
      " 250.06: 1.252597895640806e+23,\n",
      " 250.07: -0.01,\n",
      " 250.08: -0.0,\n",
      " 250.09: -0.01,\n",
      " 250.1: -0.0,\n",
      " 250.11: 1.0271963692845984e+25,\n",
      " 250.12: -1.9100911790448692e+16,\n",
      " 250.13: -1.9758736134041287e+21,\n",
      " 250.14: -1392301413711822.5,\n",
      " 250.15: 3.107004410617181e+23,\n",
      " 250.16: 3.26780112451126e+16,\n",
      " 250.17: 1.060284071238789e+19,\n",
      " 250.18: -0.01,\n",
      " 250.19: -0.01,\n",
      " 250.2: -0.0,\n",
      " 500.01: 18.63,\n",
      " 500.02: -12.23,\n",
      " 500.03: -12.23,\n",
      " 500.04: -0.01,\n",
      " 500.05: -0.01,\n",
      " 500.06: 1.252597895640806e+23,\n",
      " 500.07: -0.01,\n",
      " 500.08: -0.0,\n",
      " 500.09: -0.01,\n",
      " 500.1: -0.0,\n",
      " 500.11: 1.0271963692845984e+25,\n",
      " 500.12: -1.9100911790448692e+16,\n",
      " 500.13: -1.9758736134041287e+21,\n",
      " 500.14: -1392301413711822.5,\n",
      " 500.15: 3.107004410617181e+23,\n",
      " 500.16: 3.26780112451126e+16,\n",
      " 500.17: 1.060284071238789e+19,\n",
      " 500.18: -0.01,\n",
      " 500.19: -0.01,\n",
      " 500.2: -0.0}\n"
     ]
    }
   ],
   "source": [
    "alpha = 0.01\n",
    "n_iter=[10, 25, 50, 75, 100, 250, 500]\n",
    "my_dict = {}\n",
    "while alpha <= 0.21:\n",
    "    x0=np.random.uniform(-50, 50)\n",
    "    for i in n_iter:\n",
    "        for x in range(i):\n",
    "            x0-=alpha*calculate_grad(func1, x0)\n",
    "        my_dict[i + round(alpha, 2)] = round(x0, 2)\n",
    "    alpha += 0.01\n",
    "pprint.pprint(my_dict)"
   ]
  },
  {
   "cell_type": "markdown",
   "metadata": {},
   "source": [
    "Посмотрев по параметру альфа (от 0.01 до 0.5) и параметру n_iter, можно сделать вывод, что наилучший параметр альфа лежит в промежутке от 0.04 до 0.13. На остальных значениях функция застревает в локальном минимуме или же перепрыгивает его, не давая сойтись в глобальном минимуме.\n",
    "Число итераций лучше брать больше 25."
   ]
  }
 ],
 "metadata": {
  "kernelspec": {
   "display_name": "Python 3",
   "language": "python",
   "name": "python3"
  },
  "language_info": {
   "codemirror_mode": {
    "name": "ipython",
    "version": 3
   },
   "file_extension": ".py",
   "mimetype": "text/x-python",
   "name": "python",
   "nbconvert_exporter": "python",
   "pygments_lexer": "ipython3",
   "version": "3.8.6"
  }
 },
 "nbformat": 4,
 "nbformat_minor": 4
}

{
 "cells": [
  {
   "cell_type": "markdown",
   "metadata": {},
   "source": [
    "## Домашняя работа №2"
   ]
  },
  {
   "cell_type": "code",
   "execution_count": 240,
   "metadata": {},
   "outputs": [],
   "source": [
    "import numpy as np\n",
    "import matplotlib\n",
    "import matplotlib.pyplot as plt\n",
    "from sklearn.linear_model import LinearRegression as sklearn_LR\n",
    "from sklearn.model_selection import train_test_split\n",
    "%matplotlib inline"
   ]
  },
  {
   "cell_type": "code",
   "execution_count": 221,
   "metadata": {},
   "outputs": [],
   "source": [
    "class linear_regression:\n",
    "    def __init__(self, eta = 0.9, max_iter = 1e4, min_weight_dist = 1e-8):\n",
    "        self._eta = eta\n",
    "        self.max_iter = max_iter\n",
    "        self.min_weight_dist = min_weight_dist\n",
    "    \n",
    "    def _calculate_eta(self, X, Y):\n",
    "        gr_w, gr_c=self.mserror_grad(X, np.zeros((1, X.shape[1])), 0, Y)\n",
    "        return self._eta/np.sqrt(np.linalg.norm(gr_w)**2+(gr_c)**2)\n",
    "    \n",
    "    def fit(self, X, Y):\n",
    "        iter_num = 0\n",
    "        weight_dist = np.inf\n",
    "        w = np.zeros((1, X.shape[1]))\n",
    "        c=0\n",
    "        eta=self._calculate_eta(X, Y)\n",
    "        while weight_dist > self.min_weight_dist and iter_num < self.max_iter:\n",
    "            gr_w, gr_c=self.mserror_grad(X, w, c, Y)\n",
    "            new_w = w - 2 * eta * gr_w\n",
    "            new_c = c - 2 * eta * gr_c\n",
    "            weight_dist = np.sqrt(np.linalg.norm(new_w - w)**2+(new_c - c)**2)\n",
    "            iter_num += 1\n",
    "            w = new_w\n",
    "            c = new_c\n",
    "        self.w=w\n",
    "        self.c=c\n",
    "        \n",
    "    def predict(self, X):\n",
    "        return X.dot(self.w.T)+self.c\n",
    "    \n",
    "    def test(self, X, Y):\n",
    "        return self.mserror(X, self.w, self.c, Y)\n",
    "    \n",
    "    @staticmethod\n",
    "    def mserror(X, w, c0, y_real):\n",
    "        y = X.dot(w.T)+c0\n",
    "        return (np.sum((y - y_real)**2) / y_real.shape[0]) + 0.5 * np.sum(w**2)\n",
    "    \n",
    "    @staticmethod\n",
    "    def mserror_grad(X, w, c0, y_real):\n",
    "        delta=(X.dot(w.T)+c0-y_real)\n",
    "        return (2*delta.T.dot(X)/y_real.shape[0]) + 1 * w, (np.sum(2*delta)/y_real.shape[0])"
   ]
  },
  {
   "cell_type": "code",
   "execution_count": 222,
   "metadata": {},
   "outputs": [],
   "source": [
    "class polynomial_regression(linear_regression):\n",
    "    def __init__(self, max_power, *args, **kwargs):\n",
    "        self.max_power=max_power\n",
    "        super().__init__(*args, **kwargs)\n",
    "        \n",
    "    @staticmethod\n",
    "    def generate_features(x, max_power):\n",
    "        x=x[:, np.newaxis]\n",
    "        return np.concatenate([x**i for i in range(1, max_power+1)], axis=1)\n",
    "    \n",
    "    def fit(self, x, y):\n",
    "        super().fit(self.generate_features(x, self.max_power), y[:, np.newaxis])\n",
    "        \n",
    "    def predict(self, x):\n",
    "        return super().predict(self.generate_features(x, self.max_power)).flatten()\n",
    "    \n",
    "    def test(self, x, y):\n",
    "        return super().test(self.generate_features(x, self.max_power), y[:, np.newaxis])\n",
    "    \n",
    "    @staticmethod\n",
    "    def mserror(X, w, c0, y_real):\n",
    "        y = X.dot(w.T)+c0\n",
    "        return (np.sum((y - y_real)**2) / y_real.shape[0]) + 0.5 * np.sum(w**2)\n",
    "    \n",
    "    @staticmethod\n",
    "    def mserror_grad(X, w, c0, y_real):\n",
    "        delta=(X.dot(w.T)+c0-y_real)\n",
    "        return (2*delta.T.dot(X)/y_real.shape[0]) + 1 * w, (np.sum(2*delta)/y_real.shape[0])\n",
    "    \n",
    "class polynomial_regression_sklearn(sklearn_LR):\n",
    "    def __init__(self, max_power, *args, **kwargs):\n",
    "        self.max_power=max_power\n",
    "        super().__init__(*args, **kwargs)\n",
    "    generate_features=staticmethod(polynomial_regression.generate_features)\n",
    "    \n",
    "    def fit(self, x, y):\n",
    "        super().fit(self.generate_features(x, self.max_power), y)\n",
    "        \n",
    "    def predict(self, x):\n",
    "        return super().predict(self.generate_features(x, self.max_power))"
   ]
  },
  {
   "cell_type": "code",
   "execution_count": 223,
   "metadata": {},
   "outputs": [
    {
     "name": "stdout",
     "output_type": "stream",
     "text": [
      "[[-240.42847287   -7.60087465]]\n",
      "[-245.99569456   -5.82400107]\n",
      "-89.67756117894679 -219.69194405215603\n"
     ]
    }
   ],
   "source": [
    "our_mod=polynomial_regression(2)\n",
    "our_mod.fit(x_data, f_data)\n",
    "sk_mod=polynomial_regression_sklearn(2)\n",
    "sk_mod.fit(x_data, f_data)\n",
    "print(our_mod.w)\n",
    "print(sk_mod.coef_)\n",
    "print(our_mod.c, sk_mod.intercept_)"
   ]
  },
  {
   "cell_type": "code",
   "execution_count": 224,
   "metadata": {},
   "outputs": [],
   "source": [
    "def f(x):\n",
    "    return 0.6 - 13.2 * x - 5.3 * x ** 2 - 4.17 * x ** 3\n",
    "np.random.seed(16)\n",
    "x_data = np.random.uniform(-10, 10, 10)\n",
    "f_data = [f(i) for i in x_data] + np.random.uniform(-1000, 1000, 10)"
   ]
  },
  {
   "cell_type": "code",
   "execution_count": 277,
   "metadata": {},
   "outputs": [
    {
     "data": {
      "text/plain": [
       "[<matplotlib.lines.Line2D at 0x211852e2f40>]"
      ]
     },
     "execution_count": 277,
     "metadata": {},
     "output_type": "execute_result"
    },
    {
     "data": {
      "image/png": "[encoded data removed]",
      "text/plain": [
       "<Figure size 432x288 with 1 Axes>"
      ]
     },
     "metadata": {
      "needs_background": "light"
     },
     "output_type": "display_data"
    }
   ],
   "source": [
    "#Актуальные данные\n",
    "dots = np.linspace(-10, 10, 100)\n",
    "plt.xlabel('x')\n",
    "plt.ylabel('f(x)')\n",
    "plt.ylim(-5000, 5000)\n",
    "plt.xlim(-10,10)\n",
    "plt.plot(dots, f(dots), color='g')\n",
    "plt.scatter(x_data, f_data)\n",
    "\n",
    "#Наша модель\n",
    "model1 = polynomial_regression(5, 0.01)\n",
    "model1.fit(x_data, f_data)\n",
    "plt.plot(dots, model1.predict(dots), color='r')\n",
    "\n",
    "#Sklearn\n",
    "model2 = polynomial_regression_sklearn(4)\n",
    "model2.fit(x_data, f_data)\n",
    "plt.plot(dots, model2.predict(dots), 'm--', linewidth=2)"
   ]
  },
  {
   "cell_type": "code",
   "execution_count": 215,
   "metadata": {},
   "outputs": [
    {
     "data": {
      "text/plain": [
       "array([ 1008.10352262,  -202.69136765,  -341.29467471,  1467.56291837,\n",
       "         521.04549126,  1008.76027505, -1105.47027487,  1183.50095152,\n",
       "        1415.13358078, -2801.62831804])"
      ]
     },
     "execution_count": 215,
     "metadata": {},
     "output_type": "execute_result"
    }
   ],
   "source": [
    "our_mod.predict(x_data)"
   ]
  },
  {
   "cell_type": "code",
   "execution_count": 216,
   "metadata": {},
   "outputs": [
    {
     "data": {
      "text/plain": [
       "array([  963.31967725,  -334.90351389,  -475.12730327,  1534.8970571 ,\n",
       "         420.32419835,   964.08251447, -1231.1831019 ,  1171.29729954,\n",
       "        1464.18020411, -2842.51273709])"
      ]
     },
     "execution_count": 216,
     "metadata": {},
     "output_type": "execute_result"
    }
   ],
   "source": [
    "sk_mod.predict(x_data)"
   ]
  },
  {
   "cell_type": "markdown",
   "metadata": {},
   "source": [
    "После применения l2 регуляризации видно, что предсказания изменились."
   ]
  },
  {
   "cell_type": "code",
   "execution_count": 217,
   "metadata": {},
   "outputs": [
    {
     "name": "stdout",
     "output_type": "stream",
     "text": [
      "0.9607644096888515\n"
     ]
    }
   ],
   "source": [
    "def r_square(y, y_real):\n",
    "    ss_total=np.sum((y_real-np.mean(y_real))**2)\n",
    "    ss_res=np.sum((y_real-y)**2)\n",
    "    return 1-ss_res/ss_total\n",
    "print(r_square(model2.predict(x_data), f_data))"
   ]
  },
  {
   "cell_type": "code",
   "execution_count": 231,
   "metadata": {},
   "outputs": [
    {
     "name": "stdout",
     "output_type": "stream",
     "text": [
      "-7794.627883580687\n"
     ]
    }
   ],
   "source": [
    "indexes=np.arange(len(f_data))%5\n",
    "y_actual=[]\n",
    "y_predicted=[]\n",
    "\n",
    "for i in range(5):\n",
    "    y_actual.append(f_data[indexes==i])\n",
    "    mod=polynomial_regression_sklearn(6)\n",
    "    mod.fit(x_data[indexes!=i], f_data[indexes!=i])\n",
    "    y_predicted.append(mod.predict(x_data[indexes==i]))\n",
    "    \n",
    "y_actual=np.concatenate(y_actual)\n",
    "y_predicted=np.concatenate(y_predicted)\n",
    "print(r_square(y_predicted, y_actual))"
   ]
  },
  {
   "cell_type": "code",
   "execution_count": 219,
   "metadata": {},
   "outputs": [
    {
     "data": {
      "text/plain": [
       "2249573.810796306"
      ]
     },
     "execution_count": 219,
     "metadata": {},
     "output_type": "execute_result"
    }
   ],
   "source": [
    "np.sum((y_actual-np.mean(y_actual))**2)/len(y_actual)"
   ]
  },
  {
   "cell_type": "code",
   "execution_count": 266,
   "metadata": {},
   "outputs": [],
   "source": [
    "X_train, X_test, y_train, y_test = train_test_split(x_data, f_data, test_size=0.33, random_state=42)"
   ]
  },
  {
   "cell_type": "code",
   "execution_count": 267,
   "metadata": {},
   "outputs": [
    {
     "name": "stdout",
     "output_type": "stream",
     "text": [
      "0.02371611999682499\n"
     ]
    }
   ],
   "source": [
    "mod=polynomial_regression_sklearn(6)\n",
    "mod.fit(X_train, y_train)\n",
    "print(r_square(mod.predict(X_test), y_test))"
   ]
  },
  {
   "cell_type": "markdown",
   "metadata": {},
   "source": [
    "Определенно, кросс валидация лучше, чем просто обучать на части от датасета. R square стал лучше, но это не так явно выражено почему-то."
   ]
  },
  {
   "cell_type": "code",
   "execution_count": 271,
   "metadata": {},
   "outputs": [
    {
     "data": {
      "text/plain": [
       "array([1799.10906399, -851.08250932,  206.52054624,  745.4884675 ])"
      ]
     },
     "execution_count": 271,
     "metadata": {},
     "output_type": "execute_result"
    }
   ],
   "source": [
    "y_test"
   ]
  },
  {
   "cell_type": "code",
   "execution_count": 270,
   "metadata": {},
   "outputs": [
    {
     "data": {
      "text/plain": [
       "array([2629.60090629,  482.3645782 , -213.55373556, -216.80808708])"
      ]
     },
     "execution_count": 270,
     "metadata": {},
     "output_type": "execute_result"
    }
   ],
   "source": [
    "mod.predict(X_test)"
   ]
  },
  {
   "cell_type": "code",
   "execution_count": 233,
   "metadata": {},
   "outputs": [
    {
     "data": {
      "text/plain": [
       "array([ 8.70967833e+02,  8.72533799e+02,  4.15762579e+02, -3.02967752e+03,\n",
       "       -7.94091698e+02,  9.08462214e+02,  6.58242889e+04,  3.74014108e+04,\n",
       "       -2.14694296e+03, -4.15840205e+05])"
      ]
     },
     "execution_count": 233,
     "metadata": {},
     "output_type": "execute_result"
    }
   ],
   "source": [
    "y_predicted"
   ]
  },
  {
   "cell_type": "code",
   "execution_count": 237,
   "metadata": {},
   "outputs": [
    {
     "data": {
      "text/plain": [
       "array([  745.4884675 ,  -851.08250932,   422.69810766,  2129.66866668,\n",
       "        -413.07267878,   206.52054624,    44.24369404,  1046.66448866,\n",
       "        1799.10906399, -3495.863552  ])"
      ]
     },
     "execution_count": 237,
     "metadata": {},
     "output_type": "execute_result"
    }
   ],
   "source": [
    "f_data"
   ]
  },
  {
   "cell_type": "code",
   "execution_count": 245,
   "metadata": {},
   "outputs": [
    {
     "data": {
      "text/plain": [
       "array([-5.53417842,  0.46326683,  1.01402913, -9.087961  , -2.78542329,\n",
       "       -5.53838117,  3.77452324, -6.7253715 , -8.59350266,  8.8202172 ])"
      ]
     },
     "execution_count": 245,
     "metadata": {},
     "output_type": "execute_result"
    }
   ],
   "source": [
    "x_data"
   ]
  }
 ],
 "metadata": {
  "kernelspec": {
   "display_name": "Python 3",
   "language": "python",
   "name": "python3"
  },
  "language_info": {
   "codemirror_mode": {
    "name": "ipython",
    "version": 3
   },
   "file_extension": ".py",
   "mimetype": "text/x-python",
   "name": "python",
   "nbconvert_exporter": "python",
   "pygments_lexer": "ipython3",
   "version": "3.8.6"
  }
 },
 "nbformat": 4,
 "nbformat_minor": 4
}

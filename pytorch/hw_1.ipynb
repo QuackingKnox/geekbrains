{
  "nbformat": 4,
  "nbformat_minor": 0,
  "metadata": {
    "kernelspec": {
      "display_name": "Python 3",
      "language": "python",
      "name": "python3"
    },
    "language_info": {
      "codemirror_mode": {
        "name": "ipython",
        "version": 3
      },
      "file_extension": ".py",
      "mimetype": "text/x-python",
      "name": "python",
      "nbconvert_exporter": "python",
      "pygments_lexer": "ipython3",
      "version": "3.7.4"
    },
    "colab": {
      "name": "hw_1.ipynb",
      "provenance": []
    }
  },
  "cells": [
    {
      "cell_type": "code",
      "metadata": {
        "id": "VmeD9fObAT_z"
      },
      "source": [
        "import torch\n",
        "import numpy as np\n",
        "from torch.autograd import Variable"
      ],
      "execution_count": 1,
      "outputs": []
    },
    {
      "cell_type": "code",
      "metadata": {
        "id": "uxf0GbzaAT_3",
        "colab": {
          "base_uri": "https://localhost:8080/"
        },
        "outputId": "08d5ed00-f6e4-4fcf-939c-90d841e73fe0"
      },
      "source": [
        "# Создайте случайный FloatTensor размера 3x4x5\n",
        "x = torch.FloatTensor([[[1, 1, 1, 1, 1], [2, 2, 2, 2, 2], [3, 3, 3, 3, 3], [4, 4, 4, 4, 4]],\n",
        "                       [[1, 1, 1, 1, 1], [2, 2, 2, 2, 2], [3, 3, 3, 3, 3], [4, 4, 4, 4, 4]],\n",
        "                       [[1, 1, 1, 1, 1], [2, 2, 2, 2, 2], [3, 3, 3, 3, 3], [4, 4, 4, 4, 4]]])\n",
        "x"
      ],
      "execution_count": 24,
      "outputs": [
        {
          "output_type": "execute_result",
          "data": {
            "text/plain": [
              "tensor([[[1., 1., 1., 1., 1.],\n",
              "         [2., 2., 2., 2., 2.],\n",
              "         [3., 3., 3., 3., 3.],\n",
              "         [4., 4., 4., 4., 4.]],\n",
              "\n",
              "        [[1., 1., 1., 1., 1.],\n",
              "         [2., 2., 2., 2., 2.],\n",
              "         [3., 3., 3., 3., 3.],\n",
              "         [4., 4., 4., 4., 4.]],\n",
              "\n",
              "        [[1., 1., 1., 1., 1.],\n",
              "         [2., 2., 2., 2., 2.],\n",
              "         [3., 3., 3., 3., 3.],\n",
              "         [4., 4., 4., 4., 4.]]])"
            ]
          },
          "metadata": {},
          "execution_count": 24
        }
      ]
    },
    {
      "cell_type": "code",
      "metadata": {
        "id": "B1nKWhG3AT_4",
        "colab": {
          "base_uri": "https://localhost:8080/"
        },
        "outputId": "2326b774-ed37-4e75-884c-d18e51a001b0"
      },
      "source": [
        "# Выведите его форму (shape)\n",
        "x.shape"
      ],
      "execution_count": 25,
      "outputs": [
        {
          "output_type": "execute_result",
          "data": {
            "text/plain": [
              "torch.Size([3, 4, 5])"
            ]
          },
          "metadata": {},
          "execution_count": 25
        }
      ]
    },
    {
      "cell_type": "code",
      "metadata": {
        "id": "18FaL3lWAT_4"
      },
      "source": [
        "# Приведите его к форме 6 X 10\n",
        "x = x.view(-1, 10)"
      ],
      "execution_count": 26,
      "outputs": []
    },
    {
      "cell_type": "code",
      "metadata": {
        "colab": {
          "base_uri": "https://localhost:8080/"
        },
        "id": "c31CMIaOK1Dv",
        "outputId": "acfe1c5e-9878-4e60-b5b5-7924a8b5cda4"
      },
      "source": [
        "x"
      ],
      "execution_count": 27,
      "outputs": [
        {
          "output_type": "execute_result",
          "data": {
            "text/plain": [
              "tensor([[1., 1., 1., 1., 1., 2., 2., 2., 2., 2.],\n",
              "        [3., 3., 3., 3., 3., 4., 4., 4., 4., 4.],\n",
              "        [1., 1., 1., 1., 1., 2., 2., 2., 2., 2.],\n",
              "        [3., 3., 3., 3., 3., 4., 4., 4., 4., 4.],\n",
              "        [1., 1., 1., 1., 1., 2., 2., 2., 2., 2.],\n",
              "        [3., 3., 3., 3., 3., 4., 4., 4., 4., 4.]])"
            ]
          },
          "metadata": {},
          "execution_count": 27
        }
      ]
    },
    {
      "cell_type": "code",
      "metadata": {
        "id": "l_4-pNTVAT_5",
        "colab": {
          "base_uri": "https://localhost:8080/"
        },
        "outputId": "60abd4c0-fe93-4fb9-9dfc-614efe955612"
      },
      "source": [
        "# Умножьте его на вектор [1, 4, 2, 2, 1] поэлементно\n",
        "x * torch.FloatTensor([1, 4, 2, 2, 1, 1, 4, 2, 2, 1])"
      ],
      "execution_count": 35,
      "outputs": [
        {
          "output_type": "execute_result",
          "data": {
            "text/plain": [
              "tensor([[ 1.,  4.,  2.,  2.,  1.,  2.,  8.,  4.,  4.,  2.],\n",
              "        [ 3., 12.,  6.,  6.,  3.,  4., 16.,  8.,  8.,  4.],\n",
              "        [ 1.,  4.,  2.,  2.,  1.,  2.,  8.,  4.,  4.,  2.],\n",
              "        [ 3., 12.,  6.,  6.,  3.,  4., 16.,  8.,  8.,  4.],\n",
              "        [ 1.,  4.,  2.,  2.,  1.,  2.,  8.,  4.,  4.,  2.],\n",
              "        [ 3., 12.,  6.,  6.,  3.,  4., 16.,  8.,  8.,  4.]])"
            ]
          },
          "metadata": {},
          "execution_count": 35
        }
      ]
    },
    {
      "cell_type": "code",
      "metadata": {
        "id": "nAdR1ruKAT_5",
        "colab": {
          "base_uri": "https://localhost:8080/"
        },
        "outputId": "15d5c468-945b-4d69-aa51-7cc14d71656b"
      },
      "source": [
        "# Умножьте тензор матрично на себя, чтобы результат был размерности 6x6\n",
        "torch.matmul(x, x.T)"
      ],
      "execution_count": 39,
      "outputs": [
        {
          "output_type": "execute_result",
          "data": {
            "text/plain": [
              "tensor([[ 25.,  55.,  25.,  55.,  25.,  55.],\n",
              "        [ 55., 125.,  55., 125.,  55., 125.],\n",
              "        [ 25.,  55.,  25.,  55.,  25.,  55.],\n",
              "        [ 55., 125.,  55., 125.,  55., 125.],\n",
              "        [ 25.,  55.,  25.,  55.,  25.,  55.],\n",
              "        [ 55., 125.,  55., 125.,  55., 125.]])"
            ]
          },
          "metadata": {},
          "execution_count": 39
        }
      ]
    },
    {
      "cell_type": "code",
      "metadata": {
        "id": "EKH8UNbnAT_6",
        "colab": {
          "base_uri": "https://localhost:8080/"
        },
        "outputId": "a57439b7-7b53-476e-9c4b-cb1eb112a5d1"
      },
      "source": [
        "# Посчитайте производную функции y = x**3 + z - 75t в точке (1, 0.5, 2)\n",
        "x = Variable(torch.FloatTensor([1, 0.5, 2]), requires_grad = True)\n",
        "y = x**3 + x - 75*x\n",
        "y.backward(x)\n",
        "print(x.grad)"
      ],
      "execution_count": 51,
      "outputs": [
        {
          "output_type": "stream",
          "name": "stdout",
          "text": [
            "tensor([ -71.0000,  -36.6250, -124.0000])\n"
          ]
        }
      ]
    },
    {
      "cell_type": "code",
      "metadata": {
        "id": "I91ekVfEAT_6",
        "colab": {
          "base_uri": "https://localhost:8080/"
        },
        "outputId": "da94be4e-2baf-453f-9419-e28cf75d4bd3"
      },
      "source": [
        "# Создайте единичный тензор размера 5x6\n",
        "y = torch.IntTensor(np.ones([5, 6]))\n",
        "y"
      ],
      "execution_count": 56,
      "outputs": [
        {
          "output_type": "execute_result",
          "data": {
            "text/plain": [
              "tensor([[1, 1, 1, 1, 1, 1],\n",
              "        [1, 1, 1, 1, 1, 1],\n",
              "        [1, 1, 1, 1, 1, 1],\n",
              "        [1, 1, 1, 1, 1, 1],\n",
              "        [1, 1, 1, 1, 1, 1]], dtype=torch.int32)"
            ]
          },
          "metadata": {},
          "execution_count": 56
        }
      ]
    },
    {
      "cell_type": "code",
      "metadata": {
        "id": "Rn5vyRDHAT_7",
        "colab": {
          "base_uri": "https://localhost:8080/"
        },
        "outputId": "d5565cad-3bb7-4198-f7cd-8f4affeaf69f"
      },
      "source": [
        "# Переведите его в формат numpy\n",
        "y.numpy()"
      ],
      "execution_count": 63,
      "outputs": [
        {
          "output_type": "execute_result",
          "data": {
            "text/plain": [
              "array([[1, 1, 1, 1, 1, 1],\n",
              "       [1, 1, 1, 1, 1, 1],\n",
              "       [1, 1, 1, 1, 1, 1],\n",
              "       [1, 1, 1, 1, 1, 1],\n",
              "       [1, 1, 1, 1, 1, 1]], dtype=int32)"
            ]
          },
          "metadata": {},
          "execution_count": 63
        }
      ]
    },
    {
      "cell_type": "code",
      "metadata": {
        "id": "NTKv-r5lAT_8",
        "colab": {
          "base_uri": "https://localhost:8080/"
        },
        "outputId": "e423778f-f066-48f5-dbbe-0437ab06d934"
      },
      "source": [
        "# Давайте теперь пооптимизируем: возьмите функцию y = x**w1 - 2 * x**2 + 5\n",
        "# Посчитайте \n",
        "linear = nn.Linear(3, 3)\n",
        "y = x ** linear.weight - 2 * x ** 2 + 5\n",
        "criterion = nn.MSELoss()\n",
        "optimizer = torch.optim.SGD(linear.parameters(), lr=0.01)\n",
        "optimizer.zero_grad()\n",
        "pred = linear(y)\n",
        "loss = criterion(pred, y)\n",
        "print('loss: ', loss.item())\n"
      ],
      "execution_count": 71,
      "outputs": [
        {
          "output_type": "stream",
          "name": "stdout",
          "text": [
            "loss:  27.806800842285156\n"
          ]
        }
      ]
    }
  ]
}
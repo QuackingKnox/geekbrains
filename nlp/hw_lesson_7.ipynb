{
  "nbformat": 4,
  "nbformat_minor": 0,
  "metadata": {
    "colab": {
      "name": "hw_lesson_7.ipynb",
      "provenance": [],
      "collapsed_sections": []
    },
    "kernelspec": {
      "display_name": "Python 3",
      "language": "python",
      "name": "python3"
    },
    "language_info": {
      "codemirror_mode": {
        "name": "ipython",
        "version": 3
      },
      "file_extension": ".py",
      "mimetype": "text/x-python",
      "name": "python",
      "nbconvert_exporter": "python",
      "pygments_lexer": "ipython3",
      "version": "3.8.3"
    }
  },
  "cells": [
    {
      "cell_type": "code",
      "metadata": {
        "id": "2H5tFUEMCE7d"
      },
      "source": [
        "import pandas as pd\n",
        "max_words = 2000\n",
        "max_len = 20\n",
        "num_classes = 6\n",
        "\n",
        "# Training\n",
        "epochs = 10\n",
        "batch_size = 512\n",
        "print_batch_n = 100"
      ],
      "execution_count": 29,
      "outputs": []
    },
    {
      "cell_type": "code",
      "metadata": {
        "colab": {
          "base_uri": "https://localhost:8080/"
        },
        "id": "LUCk-5M2yg3S",
        "outputId": "eaa4d916-16ff-41ab-b9cf-e0af41865a57"
      },
      "source": [
        "!wget 'https://rusvectores.org/static/models/rusvectores4/unigrams/ruwikiruscorpora-nobigrams_upos_skipgram_300_5_2018.vec.gz'\n",
        "df_train = pd.read_excel(\"/content/feedback.xls\")\n",
        "# !gunzip 'ruwikiruscorpora-nobigrams_upos_skipgram_300_5_2018.vec.gz' -d '/content/pretrained_emb'\n",
        "# df_test = pd.read_csv(\"data/test.csv\")\n",
        "# df_val = pd.read_csv(\"data/val.csv\")"
      ],
      "execution_count": 7,
      "outputs": [
        {
          "output_type": "stream",
          "text": [
            "gzip: /content/pretrained_emb.gz: No such file or directory\n"
          ],
          "name": "stdout"
        }
      ]
    },
    {
      "cell_type": "code",
      "metadata": {
        "colab": {
          "base_uri": "https://localhost:8080/",
          "height": 419
        },
        "id": "KBSf-OfDzWOI",
        "outputId": "812f1226-c908-448b-cf00-64d1c1ca242e"
      },
      "source": [
        "df_train"
      ],
      "execution_count": 14,
      "outputs": [
        {
          "output_type": "execute_result",
          "data": {
            "text/html": [
              "<div>\n",
              "<style scoped>\n",
              "    .dataframe tbody tr th:only-of-type {\n",
              "        vertical-align: middle;\n",
              "    }\n",
              "\n",
              "    .dataframe tbody tr th {\n",
              "        vertical-align: top;\n",
              "    }\n",
              "\n",
              "    .dataframe thead th {\n",
              "        text-align: right;\n",
              "    }\n",
              "</style>\n",
              "<table border=\"1\" class=\"dataframe\">\n",
              "  <thead>\n",
              "    <tr style=\"text-align: right;\">\n",
              "      <th></th>\n",
              "      <th>Rating</th>\n",
              "      <th>Content</th>\n",
              "      <th>Date</th>\n",
              "    </tr>\n",
              "  </thead>\n",
              "  <tbody>\n",
              "    <tr>\n",
              "      <th>0</th>\n",
              "      <td>5</td>\n",
              "      <td>It just works!</td>\n",
              "      <td>2017-08-14</td>\n",
              "    </tr>\n",
              "    <tr>\n",
              "      <th>1</th>\n",
              "      <td>4</td>\n",
              "      <td>В целом удобноное приложение...из минусов хотя...</td>\n",
              "      <td>2017-08-14</td>\n",
              "    </tr>\n",
              "    <tr>\n",
              "      <th>2</th>\n",
              "      <td>5</td>\n",
              "      <td>Отлично все</td>\n",
              "      <td>2017-08-14</td>\n",
              "    </tr>\n",
              "    <tr>\n",
              "      <th>3</th>\n",
              "      <td>5</td>\n",
              "      <td>Стал зависать на 1% работы антивируса. Дальше ...</td>\n",
              "      <td>2017-08-14</td>\n",
              "    </tr>\n",
              "    <tr>\n",
              "      <th>4</th>\n",
              "      <td>5</td>\n",
              "      <td>Очень удобно, работает быстро.</td>\n",
              "      <td>2017-08-14</td>\n",
              "    </tr>\n",
              "    <tr>\n",
              "      <th>...</th>\n",
              "      <td>...</td>\n",
              "      <td>...</td>\n",
              "      <td>...</td>\n",
              "    </tr>\n",
              "    <tr>\n",
              "      <th>20654</th>\n",
              "      <td>1</td>\n",
              "      <td>Ну и шляпа,с роот правами бесполезная прога,ра...</td>\n",
              "      <td>2017-06-01</td>\n",
              "    </tr>\n",
              "    <tr>\n",
              "      <th>20655</th>\n",
              "      <td>5</td>\n",
              "      <td>Ок</td>\n",
              "      <td>2017-06-01</td>\n",
              "    </tr>\n",
              "    <tr>\n",
              "      <th>20656</th>\n",
              "      <td>4</td>\n",
              "      <td>Доволен</td>\n",
              "      <td>2017-06-01</td>\n",
              "    </tr>\n",
              "    <tr>\n",
              "      <th>20657</th>\n",
              "      <td>1</td>\n",
              "      <td>Песопаснасть, рут ни нужын</td>\n",
              "      <td>2017-06-01</td>\n",
              "    </tr>\n",
              "    <tr>\n",
              "      <th>20658</th>\n",
              "      <td>5</td>\n",
              "      <td>Сбербанк бомбовая компания на сегодняшний день...</td>\n",
              "      <td>2017-06-01</td>\n",
              "    </tr>\n",
              "  </tbody>\n",
              "</table>\n",
              "<p>20659 rows × 3 columns</p>\n",
              "</div>"
            ],
            "text/plain": [
              "       Rating                                            Content        Date\n",
              "0           5                                     It just works!  2017-08-14\n",
              "1           4  В целом удобноное приложение...из минусов хотя...  2017-08-14\n",
              "2           5                                        Отлично все  2017-08-14\n",
              "3           5  Стал зависать на 1% работы антивируса. Дальше ...  2017-08-14\n",
              "4           5                     Очень удобно, работает быстро.  2017-08-14\n",
              "...       ...                                                ...         ...\n",
              "20654       1  Ну и шляпа,с роот правами бесполезная прога,ра...  2017-06-01\n",
              "20655       5                                                 Ок  2017-06-01\n",
              "20656       4                                            Доволен  2017-06-01\n",
              "20657       1                         Песопаснасть, рут ни нужын  2017-06-01\n",
              "20658       5  Сбербанк бомбовая компания на сегодняшний день...  2017-06-01\n",
              "\n",
              "[20659 rows x 3 columns]"
            ]
          },
          "metadata": {},
          "execution_count": 14
        }
      ]
    },
    {
      "cell_type": "markdown",
      "metadata": {
        "id": "qEyvOxoOJDTP"
      },
      "source": [
        "### Предобработка"
      ]
    },
    {
      "cell_type": "code",
      "metadata": {
        "colab": {
          "base_uri": "https://localhost:8080/"
        },
        "id": "WZQTcVM0Xv0c",
        "outputId": "22aadf09-f5f0-458e-b734-0e5421b7470c"
      },
      "source": [
        "import nltk\n",
        "nltk.download('stopwords')\n",
        "from nltk.corpus import stopwords\n",
        "from string import punctuation\n",
        "!pip install stop_words\n",
        "from stop_words import get_stop_words\n",
        "!pip install pymorphy2\n",
        "from pymorphy2 import MorphAnalyzer\n",
        "import re\n",
        "from sklearn.model_selection import train_test_split\n",
        "import pandas as pd\n"
      ],
      "execution_count": 15,
      "outputs": [
        {
          "output_type": "stream",
          "text": [
            "[nltk_data] Downloading package stopwords to /root/nltk_data...\n",
            "[nltk_data]   Unzipping corpora/stopwords.zip.\n",
            "Collecting stop_words\n",
            "  Downloading stop-words-2018.7.23.tar.gz (31 kB)\n",
            "Building wheels for collected packages: stop-words\n",
            "  Building wheel for stop-words (setup.py) ... \u001b[?25l\u001b[?25hdone\n",
            "  Created wheel for stop-words: filename=stop_words-2018.7.23-py3-none-any.whl size=32912 sha256=74b79ede65ff1b9c23fe6bfab416d6be5b75695d23048005f2aa80fec9f91679\n",
            "  Stored in directory: /root/.cache/pip/wheels/fb/86/b2/277b10b1ce9f73ce15059bf6975d4547cc4ec3feeb651978e9\n",
            "Successfully built stop-words\n",
            "Installing collected packages: stop-words\n",
            "Successfully installed stop-words-2018.7.23\n",
            "Collecting pymorphy2\n",
            "  Downloading pymorphy2-0.9.1-py3-none-any.whl (55 kB)\n",
            "\u001b[K     |████████████████████████████████| 55 kB 2.2 MB/s \n",
            "\u001b[?25hCollecting dawg-python>=0.7.1\n",
            "  Downloading DAWG_Python-0.7.2-py2.py3-none-any.whl (11 kB)\n",
            "Collecting pymorphy2-dicts-ru<3.0,>=2.4\n",
            "  Downloading pymorphy2_dicts_ru-2.4.417127.4579844-py2.py3-none-any.whl (8.2 MB)\n",
            "\u001b[K     |████████████████████████████████| 8.2 MB 7.2 MB/s \n",
            "\u001b[?25hRequirement already satisfied: docopt>=0.6 in /usr/local/lib/python3.7/dist-packages (from pymorphy2) (0.6.2)\n",
            "Installing collected packages: pymorphy2-dicts-ru, dawg-python, pymorphy2\n",
            "Successfully installed dawg-python-0.7.2 pymorphy2-0.9.1 pymorphy2-dicts-ru-2.4.417127.4579844\n"
          ],
          "name": "stdout"
        }
      ]
    },
    {
      "cell_type": "code",
      "metadata": {
        "id": "y-GdGO2lXv0d"
      },
      "source": [
        "sw = set(get_stop_words(\"ru\"))\n",
        "exclude = set(punctuation)\n",
        "morpher = MorphAnalyzer()\n",
        "\n",
        "def preprocess_text(txt):\n",
        "    txt = str(txt)\n",
        "    txt = \"\".join(c for c in txt if c not in exclude)\n",
        "    txt = txt.lower()\n",
        "    txt = re.sub(\"\\sне\", \"не\", txt)\n",
        "    txt = [morpher.parse(word)[0].normal_form for word in txt.split() if word not in sw]\n",
        "    return \" \".join(txt)\n",
        "\n",
        "df_train['Content'] = df_train['Content'].apply(preprocess_text)\n",
        "# df_val['text'] = df_val['text'].apply(preprocess_text)\n",
        "# df_test['text'] = df_test['text'].apply(preprocess_text)"
      ],
      "execution_count": 16,
      "outputs": []
    },
    {
      "cell_type": "code",
      "metadata": {
        "id": "C4o9QgmWI3Pw"
      },
      "source": [
        "train_corpus = \" \".join(df_train[\"Content\"])\n",
        "train_corpus = train_corpus.lower()"
      ],
      "execution_count": 17,
      "outputs": []
    },
    {
      "cell_type": "code",
      "metadata": {
        "colab": {
          "base_uri": "https://localhost:8080/"
        },
        "id": "Hed2ySbwJH6B",
        "outputId": "e41fb0fd-fd7b-49da-e15f-b2f4caea37fa"
      },
      "source": [
        "import nltk\n",
        "from nltk.tokenize import word_tokenize\n",
        "nltk.download(\"punkt\")\n",
        "\n",
        "tokens = word_tokenize(train_corpus)"
      ],
      "execution_count": 18,
      "outputs": [
        {
          "output_type": "stream",
          "text": [
            "[nltk_data] Downloading package punkt to /root/nltk_data...\n",
            "[nltk_data]   Unzipping tokenizers/punkt.zip.\n"
          ],
          "name": "stdout"
        }
      ]
    },
    {
      "cell_type": "markdown",
      "metadata": {
        "id": "yJ8T0fwYJYJX"
      },
      "source": [
        "Отфильтруем данные\n",
        "\n",
        "и соберём в корпус N наиболее частых токенов"
      ]
    },
    {
      "cell_type": "code",
      "metadata": {
        "id": "EXOLVK1tJLT8"
      },
      "source": [
        "tokens_filtered = [word for word in tokens if word.isalnum()]"
      ],
      "execution_count": 19,
      "outputs": []
    },
    {
      "cell_type": "code",
      "metadata": {
        "id": "8qCQH5nIJoiB"
      },
      "source": [
        "from nltk.probability import FreqDist\n",
        "dist = FreqDist(tokens_filtered)\n",
        "tokens_filtered_top = [pair[0] for pair in dist.most_common(max_words-1)]"
      ],
      "execution_count": 20,
      "outputs": []
    },
    {
      "cell_type": "code",
      "metadata": {
        "colab": {
          "base_uri": "https://localhost:8080/"
        },
        "id": "bRQ-6wwjJrGo",
        "outputId": "addfdec9-6279-4024-abe2-e6a2d779dc83"
      },
      "source": [
        "tokens_filtered_top[:10]"
      ],
      "execution_count": 21,
      "outputs": [
        {
          "output_type": "execute_result",
          "data": {
            "text/plain": [
              "['приложение',\n",
              " 'удобно',\n",
              " 'работать',\n",
              " 'удобный',\n",
              " 'отлично',\n",
              " 'нравиться',\n",
              " 'хороший',\n",
              " 'отличный',\n",
              " 'телефон',\n",
              " 'супер']"
            ]
          },
          "metadata": {},
          "execution_count": 21
        }
      ]
    },
    {
      "cell_type": "code",
      "metadata": {
        "id": "Tdk777qGJtz4"
      },
      "source": [
        "vocabulary = {v: k for k, v in dict(enumerate(tokens_filtered_top, 1)).items()}"
      ],
      "execution_count": 22,
      "outputs": []
    },
    {
      "cell_type": "code",
      "metadata": {
        "id": "5OULZgvkJzpj"
      },
      "source": [
        "import numpy as np\n",
        "\n",
        "def text_to_sequence(text, maxlen):\n",
        "    result = []\n",
        "    tokens = word_tokenize(text.lower())\n",
        "    tokens_filtered = [word for word in tokens if word.isalnum()]\n",
        "    for word in tokens_filtered:\n",
        "        if word in vocabulary:\n",
        "            result.append(vocabulary[word])\n",
        "    padding = [0]*(maxlen-len(result))\n",
        "    return padding + result[-maxlen:]"
      ],
      "execution_count": 23,
      "outputs": []
    },
    {
      "cell_type": "code",
      "metadata": {
        "id": "pqHlf5nNJ2hl"
      },
      "source": [
        "x_train = np.asarray([text_to_sequence(text, max_len) for text in df_train[\"Content\"]], dtype=np.int32)\n",
        "y_train = df_train.Rating\n",
        "# x_test = np.asarray([text_to_sequence(text, max_len) for text in df_test[\"text\"]], dtype=np.int32)\n",
        "# x_val = np.asarray([text_to_sequence(text, max_len) for text in df_val[\"text\"]], dtype=np.int32)"
      ],
      "execution_count": 132,
      "outputs": []
    },
    {
      "cell_type": "code",
      "metadata": {
        "colab": {
          "base_uri": "https://localhost:8080/"
        },
        "id": "lI4NUg_TJ6NK",
        "outputId": "8dbd98bb-4de4-4b2e-b24f-c844834cea87"
      },
      "source": [
        "x_train.shape"
      ],
      "execution_count": 31,
      "outputs": [
        {
          "output_type": "execute_result",
          "data": {
            "text/plain": [
              "(20659, 20)"
            ]
          },
          "metadata": {},
          "execution_count": 31
        }
      ]
    },
    {
      "cell_type": "code",
      "metadata": {
        "colab": {
          "base_uri": "https://localhost:8080/"
        },
        "id": "sB3HyEFBXv0f",
        "outputId": "501bccd9-3d87-4df8-937c-8e549c59e2ab"
      },
      "source": [
        "max_len"
      ],
      "execution_count": 32,
      "outputs": [
        {
          "output_type": "execute_result",
          "data": {
            "text/plain": [
              "20"
            ]
          },
          "metadata": {},
          "execution_count": 32
        }
      ]
    },
    {
      "cell_type": "code",
      "metadata": {
        "colab": {
          "base_uri": "https://localhost:8080/"
        },
        "id": "9QlLvXd9KDf3",
        "outputId": "a79b97a1-8df9-4544-8f96-c593fbea8e6c"
      },
      "source": [
        "x_train[1]"
      ],
      "execution_count": 33,
      "outputs": [
        {
          "output_type": "execute_result",
          "data": {
            "text/plain": [
              "array([   0,    0,    0,    0,    0,    0,    0,    0,    0,    0,  103,\n",
              "        128,  170,  113,   77, 1451,  413,   16,  550,  449], dtype=int32)"
            ]
          },
          "metadata": {},
          "execution_count": 33
        }
      ]
    },
    {
      "cell_type": "markdown",
      "metadata": {
        "id": "-FAcEIo-Xv0g"
      },
      "source": [
        "# Keras model"
      ]
    },
    {
      "cell_type": "code",
      "metadata": {
        "id": "jr9OuZ8KXv0g"
      },
      "source": [
        "import numpy as np\n",
        "import keras\n",
        "from keras.models import Sequential, Model\n",
        "from keras.layers import Dense, Dropout, Activation, Input, Embedding, Conv1D, GlobalMaxPool1D\n",
        "from keras.preprocessing.text import Tokenizer\n",
        "from keras.preprocessing.sequence import pad_sequences\n",
        "from keras.callbacks import TensorBoard \n",
        "# from keras.objectives import categorical_crossentropy\n",
        "from keras.callbacks import EarlyStopping  "
      ],
      "execution_count": 28,
      "outputs": []
    },
    {
      "cell_type": "code",
      "metadata": {
        "id": "APEN-oUuXv0g"
      },
      "source": [
        "num_classes = 6\n",
        "# y_train = keras.utils.to_categorical(df_train[\"Rating\"], num_classes)\n",
        "# y_val = keras.utils.to_categorical(df_val[\"class\"], num_classes)"
      ],
      "execution_count": 34,
      "outputs": []
    },
    {
      "cell_type": "code",
      "metadata": {
        "id": "wug0KjPDXv0g"
      },
      "source": [
        "GlobalMaxPool1D?"
      ],
      "execution_count": null,
      "outputs": []
    },
    {
      "cell_type": "code",
      "metadata": {
        "id": "WfrDKFNAXv0g"
      },
      "source": [
        "model = Sequential()\n",
        "model.add(Embedding(input_dim=max_words, output_dim=128, input_length=max_len))\n",
        "model.add(Conv1D(128, 3))\n",
        "model.add(Activation(\"relu\"))\n",
        "model.add(GlobalMaxPool1D())\n",
        "model.add(Dense(10))\n",
        "model.add(Activation(\"relu\"))\n",
        "model.add(Dense(num_classes))\n",
        "model.add(Activation('softmax'))"
      ],
      "execution_count": 35,
      "outputs": []
    },
    {
      "cell_type": "code",
      "metadata": {
        "id": "luJ1j0XdXv0h"
      },
      "source": [
        "model.compile(loss='sparse_categorical_crossentropy',\n",
        "              optimizer='adam',\n",
        "              metrics=['accuracy'])"
      ],
      "execution_count": 36,
      "outputs": []
    },
    {
      "cell_type": "code",
      "metadata": {
        "colab": {
          "base_uri": "https://localhost:8080/"
        },
        "id": "16vNt554Xv0h",
        "outputId": "bff1fb90-c956-4ce5-c647-556b14f774f6"
      },
      "source": [
        "tensorboard=TensorBoard(log_dir='./logs', write_graph=True, write_images=True)\n",
        "early_stopping=EarlyStopping(monitor='val_loss')  \n",
        "\n",
        "\n",
        "history = model.fit(x_train, y_train,\n",
        "                    batch_size=batch_size,\n",
        "                    epochs=epochs,\n",
        "                    verbose=1,\n",
        "                    validation_split=0.1,\n",
        "                    )"
      ],
      "execution_count": 37,
      "outputs": [
        {
          "output_type": "stream",
          "text": [
            "Epoch 1/10\n",
            "19/19 [==============================] - 4s 155ms/step - loss: 1.3649 - accuracy: 0.6874 - val_loss: 1.2436 - val_accuracy: 0.5954\n",
            "Epoch 2/10\n",
            "19/19 [==============================] - 3s 143ms/step - loss: 0.9392 - accuracy: 0.7231 - val_loss: 1.0674 - val_accuracy: 0.6273\n",
            "Epoch 3/10\n",
            "19/19 [==============================] - 3s 144ms/step - loss: 0.8122 - accuracy: 0.7427 - val_loss: 0.8938 - val_accuracy: 0.7154\n",
            "Epoch 4/10\n",
            "19/19 [==============================] - 3s 143ms/step - loss: 0.7132 - accuracy: 0.7657 - val_loss: 0.8398 - val_accuracy: 0.7323\n",
            "Epoch 5/10\n",
            "19/19 [==============================] - 3s 143ms/step - loss: 0.6610 - accuracy: 0.7772 - val_loss: 0.8014 - val_accuracy: 0.7430\n",
            "Epoch 6/10\n",
            "19/19 [==============================] - 3s 144ms/step - loss: 0.6230 - accuracy: 0.7857 - val_loss: 0.7811 - val_accuracy: 0.7512\n",
            "Epoch 7/10\n",
            "19/19 [==============================] - 3s 144ms/step - loss: 0.5941 - accuracy: 0.7919 - val_loss: 0.7774 - val_accuracy: 0.7478\n",
            "Epoch 8/10\n",
            "19/19 [==============================] - 3s 143ms/step - loss: 0.5670 - accuracy: 0.8028 - val_loss: 0.7750 - val_accuracy: 0.7478\n",
            "Epoch 9/10\n",
            "19/19 [==============================] - 3s 144ms/step - loss: 0.5452 - accuracy: 0.8106 - val_loss: 0.7721 - val_accuracy: 0.7493\n",
            "Epoch 10/10\n",
            "19/19 [==============================] - 3s 144ms/step - loss: 0.5247 - accuracy: 0.8192 - val_loss: 0.7741 - val_accuracy: 0.7415\n"
          ],
          "name": "stdout"
        }
      ]
    },
    {
      "cell_type": "code",
      "metadata": {
        "colab": {
          "base_uri": "https://localhost:8080/"
        },
        "id": "MjVyjit67NJE",
        "outputId": "e46be2fd-9e77-47e7-a037-38f16ef627e2"
      },
      "source": [
        "from keras.preprocessing.text import Tokenizer\n",
        "from keras.preprocessing.sequence import pad_sequences\n",
        "\n",
        "tokenizer = Tokenizer(num_words=max_words)\n",
        "tokenizer.fit_on_texts([x for x in df_train.Content])\n",
        "sequences = tokenizer.texts_to_sequences([x for x in df_train.Content])\n",
        "\n",
        "word_index = tokenizer.word_index\n",
        "print('Found %s unique tokens.' % len(word_index))"
      ],
      "execution_count": 57,
      "outputs": [
        {
          "output_type": "stream",
          "text": [
            "Found 13485 unique tokens.\n"
          ],
          "name": "stdout"
        }
      ]
    },
    {
      "cell_type": "code",
      "metadata": {
        "colab": {
          "base_uri": "https://localhost:8080/"
        },
        "id": "m887B8lL6RHV",
        "outputId": "29f8cef2-b270-40ce-b37b-17f3c1c36ef6"
      },
      "source": [
        "import itertools\n",
        "embeddings_index = {}\n",
        "f = open('/content/ruwikiruscorpora-nobigrams_upos_skipgram_300_5_2018.vec')\n",
        "for line in f:\n",
        "    values = line.split()\n",
        "    word = values[0].split('_')[0]\n",
        "    coefs = np.asarray(values[1:], dtype='float32')\n",
        "    embeddings_index[word] = coefs\n",
        "f.close()\n",
        "\n",
        "print('Found %s word vectors.' % len(embeddings_index))"
      ],
      "execution_count": 100,
      "outputs": [
        {
          "output_type": "stream",
          "text": [
            "Found 323348 word vectors.\n"
          ],
          "name": "stdout"
        }
      ]
    },
    {
      "cell_type": "code",
      "metadata": {
        "colab": {
          "base_uri": "https://localhost:8080/"
        },
        "id": "3C4Mas7kGToB",
        "outputId": "b0e74ace-fc5f-4044-d5bc-97ac05abb3cb"
      },
      "source": [
        "from itertools import islice\n",
        "\n",
        "def take(n, iterable):\n",
        "    \"Return first n items of the iterable as a list\"\n",
        "    return list(islice(iterable, n))\n",
        "\n",
        "print(take(20, embeddings_index.keys()))"
      ],
      "execution_count": 96,
      "outputs": [
        {
          "output_type": "stream",
          "text": [
            "['394332', 'xxxx_NUM', 'год_NOUN', 'xx_NUM', 'xxx_NUM', 'категория_PROPN', 'человек_NOUN', 'время_NOUN', 'первый_ADJ', 'мочь_VERB', 'также_ADV', 'район_NOUN', 'город_NOUN', 'становиться_VERB', 'область_NOUN', 'новый_ADJ', 'россия_PROPN', 'место_NOUN', 'являться_VERB', 'часть_NOUN']\n"
          ],
          "name": "stdout"
        }
      ]
    },
    {
      "cell_type": "code",
      "metadata": {
        "id": "oUJGkFNR-wy3"
      },
      "source": [
        "embedding_matrix = np.zeros((len(word_index) + 1, 300))\n",
        "for word, i in word_index.items():\n",
        "    embedding_vector = embeddings_index.get(word)\n",
        "    if embedding_vector is not None:\n",
        "        # words not found in embedding index will be all-zeros.\n",
        "        embedding_matrix[i] = embedding_vector"
      ],
      "execution_count": 102,
      "outputs": []
    },
    {
      "cell_type": "code",
      "metadata": {
        "colab": {
          "base_uri": "https://localhost:8080/"
        },
        "id": "5L6yI6JhIZPK",
        "outputId": "cab9e601-151b-4524-f379-9aafd3fe0e60"
      },
      "source": [
        "embedding_matrix.shape"
      ],
      "execution_count": 104,
      "outputs": [
        {
          "output_type": "execute_result",
          "data": {
            "text/plain": [
              "(13486, 300)"
            ]
          },
          "metadata": {},
          "execution_count": 104
        }
      ]
    },
    {
      "cell_type": "code",
      "metadata": {
        "id": "1Sj2kGS14e6U"
      },
      "source": [
        "from keras.layers import Embedding\n",
        "\n",
        "embedding_layer = Embedding(len(word_index) + 1,\n",
        "                            300,\n",
        "                            weights=[embedding_matrix],\n",
        "                            input_length=20,\n",
        "                            trainable=False)"
      ],
      "execution_count": 105,
      "outputs": []
    },
    {
      "cell_type": "code",
      "metadata": {
        "colab": {
          "base_uri": "https://localhost:8080/"
        },
        "id": "UF19diYUImi1",
        "outputId": "714976f5-bb49-4aad-b090-0be378a21383"
      },
      "source": [
        "from keras.layers import MaxPooling1D, Conv1D, Dense, Flatten\n",
        "from tensorflow.keras.utils import to_categorical\n",
        "sequence_input = Input(shape=(20,), dtype='int32')\n",
        "embedded_sequences = embedding_layer(sequence_input)\n",
        "x = Conv1D(128, 3, activation='relu')(embedded_sequences)\n",
        "x = MaxPooling1D(5)(x)\n",
        "x = Conv1D(128, 3, activation='relu')(x)\n",
        "x = MaxPooling1D(1)(x)\n",
        "x = Flatten()(x)\n",
        "x = Dense(128, activation='relu')(x)\n",
        "preds = Dense(6, activation='softmax')(x)\n",
        "\n",
        "model = Model(sequence_input, preds)\n",
        "model.compile(loss='categorical_crossentropy',\n",
        "              optimizer='adam',\n",
        "              metrics=['acc'])\n",
        "\n",
        "model.summary()\n",
        "\n",
        "y_train = to_categorical(y_train, 6)\n",
        "\n",
        "model.fit(x_train, y_train, validation_split=0.2,\n",
        "          epochs=epochs, batch_size=batch_size)"
      ],
      "execution_count": 124,
      "outputs": [
        {
          "output_type": "stream",
          "text": [
            "Model: \"model_12\"\n",
            "_________________________________________________________________\n",
            "Layer (type)                 Output Shape              Param #   \n",
            "=================================================================\n",
            "input_17 (InputLayer)        [(None, 20)]              0         \n",
            "_________________________________________________________________\n",
            "embedding_1 (Embedding)      (None, 20, 300)           4045800   \n",
            "_________________________________________________________________\n",
            "conv1d_32 (Conv1D)           (None, 18, 128)           115328    \n",
            "_________________________________________________________________\n",
            "max_pooling1d_28 (MaxPooling (None, 3, 128)            0         \n",
            "_________________________________________________________________\n",
            "conv1d_33 (Conv1D)           (None, 1, 128)            49280     \n",
            "_________________________________________________________________\n",
            "max_pooling1d_29 (MaxPooling (None, 1, 128)            0         \n",
            "_________________________________________________________________\n",
            "flatten_12 (Flatten)         (None, 128)               0         \n",
            "_________________________________________________________________\n",
            "dense_26 (Dense)             (None, 128)               16512     \n",
            "_________________________________________________________________\n",
            "dense_27 (Dense)             (None, 6)                 774       \n",
            "=================================================================\n",
            "Total params: 4,227,694\n",
            "Trainable params: 181,894\n",
            "Non-trainable params: 4,045,800\n",
            "_________________________________________________________________\n",
            "Epoch 1/10\n",
            "17/17 [==============================] - 5s 245ms/step - loss: 1.6479 - acc: 0.6898 - val_loss: 1.4269 - val_acc: 0.6307\n",
            "Epoch 2/10\n",
            "17/17 [==============================] - 4s 231ms/step - loss: 1.0196 - acc: 0.7392 - val_loss: 0.9979 - val_acc: 0.6873\n",
            "Epoch 3/10\n",
            "17/17 [==============================] - 4s 230ms/step - loss: 0.7987 - acc: 0.7462 - val_loss: 0.9298 - val_acc: 0.6856\n",
            "Epoch 4/10\n",
            "17/17 [==============================] - 4s 231ms/step - loss: 0.7651 - acc: 0.7525 - val_loss: 0.9054 - val_acc: 0.7093\n",
            "Epoch 5/10\n",
            "17/17 [==============================] - 4s 228ms/step - loss: 0.7506 - acc: 0.7578 - val_loss: 0.9119 - val_acc: 0.7028\n",
            "Epoch 6/10\n",
            "17/17 [==============================] - 4s 228ms/step - loss: 0.7393 - acc: 0.7623 - val_loss: 0.9046 - val_acc: 0.7076\n",
            "Epoch 7/10\n",
            "17/17 [==============================] - 4s 225ms/step - loss: 0.7272 - acc: 0.7678 - val_loss: 0.8969 - val_acc: 0.7135\n",
            "Epoch 8/10\n",
            "17/17 [==============================] - 4s 223ms/step - loss: 0.7124 - acc: 0.7751 - val_loss: 0.9011 - val_acc: 0.7135\n",
            "Epoch 9/10\n",
            "17/17 [==============================] - 4s 228ms/step - loss: 0.6949 - acc: 0.7812 - val_loss: 0.8869 - val_acc: 0.7183\n",
            "Epoch 10/10\n",
            "17/17 [==============================] - 4s 226ms/step - loss: 0.6723 - acc: 0.7914 - val_loss: 0.8959 - val_acc: 0.7178\n"
          ],
          "name": "stdout"
        },
        {
          "output_type": "execute_result",
          "data": {
            "text/plain": [
              "<keras.callbacks.History at 0x7fdc5640b610>"
            ]
          },
          "metadata": {},
          "execution_count": 124
        }
      ]
    },
    {
      "cell_type": "code",
      "metadata": {
        "colab": {
          "base_uri": "https://localhost:8080/"
        },
        "id": "-JxauGhiXv0m",
        "outputId": "fbcf3e80-11e0-4e1c-a3b0-da956aca82bc"
      },
      "source": [
        "from tensorflow.keras.layers import Embedding\n",
        "sequence_input = Input(shape=(20,), dtype='int32')\n",
        "embedding_layer = Embedding(max_words, 300)(sequence_input)\n",
        "x = Conv1D(128, 3, activation='relu')(embedding_layer)\n",
        "x = MaxPooling1D(5)(x)\n",
        "x = Conv1D(128, 3, activation='relu')(x)\n",
        "x = MaxPooling1D(1)(x)\n",
        "x = Flatten()(x)\n",
        "x = Dense(128, activation='tanh')(x)\n",
        "preds = Dense(6, activation='softmax')(x)\n",
        "\n",
        "model = Model(sequence_input, preds)\n",
        "model.compile(loss='categorical_crossentropy',\n",
        "              optimizer='adam',\n",
        "              metrics=['acc'])\n",
        "\n",
        "model.summary()\n",
        "\n",
        "# y_train = to_categorical(y_train, 6)\n",
        "\n",
        "model.fit(x_train, y_train, validation_split=0.2,\n",
        "          epochs=epochs, batch_size=batch_size)\n"
      ],
      "execution_count": 139,
      "outputs": [
        {
          "output_type": "stream",
          "text": [
            "Model: \"model_23\"\n",
            "_________________________________________________________________\n",
            "Layer (type)                 Output Shape              Param #   \n",
            "=================================================================\n",
            "input_30 (InputLayer)        [(None, 20)]              0         \n",
            "_________________________________________________________________\n",
            "embedding_13 (Embedding)     (None, 20, 300)           600000    \n",
            "_________________________________________________________________\n",
            "conv1d_55 (Conv1D)           (None, 18, 128)           115328    \n",
            "_________________________________________________________________\n",
            "max_pooling1d_50 (MaxPooling (None, 3, 128)            0         \n",
            "_________________________________________________________________\n",
            "conv1d_56 (Conv1D)           (None, 1, 128)            49280     \n",
            "_________________________________________________________________\n",
            "max_pooling1d_51 (MaxPooling (None, 1, 128)            0         \n",
            "_________________________________________________________________\n",
            "flatten_23 (Flatten)         (None, 128)               0         \n",
            "_________________________________________________________________\n",
            "dense_48 (Dense)             (None, 128)               16512     \n",
            "_________________________________________________________________\n",
            "dense_49 (Dense)             (None, 6)                 774       \n",
            "=================================================================\n",
            "Total params: 781,894\n",
            "Trainable params: 781,894\n",
            "Non-trainable params: 0\n",
            "_________________________________________________________________\n",
            "Epoch 1/10\n",
            "17/17 [==============================] - 10s 574ms/step - loss: 1.1664 - acc: 0.6920 - val_loss: 1.0523 - val_acc: 0.6609\n",
            "Epoch 2/10\n",
            "17/17 [==============================] - 9s 557ms/step - loss: 0.8524 - acc: 0.7408 - val_loss: 0.9544 - val_acc: 0.6871\n",
            "Epoch 3/10\n",
            "17/17 [==============================] - 10s 561ms/step - loss: 0.7722 - acc: 0.7525 - val_loss: 0.9124 - val_acc: 0.7137\n",
            "Epoch 4/10\n",
            "17/17 [==============================] - 9s 559ms/step - loss: 0.7319 - acc: 0.7686 - val_loss: 0.8806 - val_acc: 0.7268\n",
            "Epoch 5/10\n",
            "17/17 [==============================] - 10s 559ms/step - loss: 0.7061 - acc: 0.7753 - val_loss: 0.8880 - val_acc: 0.7258\n",
            "Epoch 6/10\n",
            "17/17 [==============================] - 10s 561ms/step - loss: 0.6840 - acc: 0.7844 - val_loss: 0.9016 - val_acc: 0.7166\n",
            "Epoch 7/10\n",
            "17/17 [==============================] - 10s 559ms/step - loss: 0.6545 - acc: 0.8005 - val_loss: 0.9017 - val_acc: 0.7156\n",
            "Epoch 8/10\n",
            "17/17 [==============================] - 10s 562ms/step - loss: 0.6204 - acc: 0.8200 - val_loss: 0.9245 - val_acc: 0.7050\n",
            "Epoch 9/10\n",
            "17/17 [==============================] - 9s 557ms/step - loss: 0.5783 - acc: 0.8394 - val_loss: 0.9441 - val_acc: 0.7098\n",
            "Epoch 10/10\n",
            "17/17 [==============================] - 10s 559ms/step - loss: 0.5385 - acc: 0.8551 - val_loss: 0.9931 - val_acc: 0.7043\n"
          ],
          "name": "stdout"
        },
        {
          "output_type": "execute_result",
          "data": {
            "text/plain": [
              "<keras.callbacks.History at 0x7fdc6025e290>"
            ]
          },
          "metadata": {},
          "execution_count": 139
        }
      ]
    },
    {
      "cell_type": "markdown",
      "metadata": {
        "id": "j1xOklgLQGI2"
      },
      "source": [
        "Сказать, что есть большой прирост точности у модели с предобученым Embedding'ом не могу. Лучше всего показала себя первая простенькая модель."
      ]
    }
  ]
}
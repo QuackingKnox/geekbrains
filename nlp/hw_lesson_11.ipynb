{
  "nbformat": 4,
  "nbformat_minor": 0,
  "metadata": {
    "accelerator": "GPU",
    "colab": {
      "name": "hw_lesson_11.ipynb",
      "provenance": [],
      "collapsed_sections": [],
      "toc_visible": true
    },
    "kernelspec": {
      "display_name": "Python 3",
      "name": "python3"
    }
  },
  "cells": [
    {
      "cell_type": "markdown",
      "metadata": {
        "id": "J0Qjg6vuaHNt"
      },
      "source": [
        "# Neural machine translation with attention"
      ]
    },
    {
      "cell_type": "code",
      "metadata": {
        "id": "tnxXKDjq3jEL"
      },
      "source": [
        "import tensorflow as tf\n",
        "\n",
        "import matplotlib.pyplot as plt\n",
        "import matplotlib.ticker as ticker\n",
        "from sklearn.model_selection import train_test_split\n",
        "\n",
        "import unicodedata\n",
        "import re\n",
        "import numpy as np\n",
        "import os\n",
        "import io\n",
        "import time"
      ],
      "execution_count": 1,
      "outputs": []
    },
    {
      "cell_type": "markdown",
      "metadata": {
        "id": "wfodePkj3jEa"
      },
      "source": [
        "## Download and prepare the dataset\n",
        "\n",
        "We'll use a language dataset provided by http://www.manythings.org/anki/"
      ]
    },
    {
      "cell_type": "code",
      "metadata": {
        "id": "CNvjhDyAKk3U",
        "colab": {
          "base_uri": "https://localhost:8080/"
        },
        "outputId": "ac24a193-8a86-4618-ad54-06ebbbcbed93"
      },
      "source": [
        "!wget http://www.manythings.org/anki/rus-eng.zip"
      ],
      "execution_count": 2,
      "outputs": [
        {
          "output_type": "stream",
          "name": "stdout",
          "text": [
            "--2021-09-07 14:03:48--  http://www.manythings.org/anki/rus-eng.zip\n",
            "Resolving www.manythings.org (www.manythings.org)... 104.21.92.44, 172.67.186.54, 2606:4700:3030::6815:5c2c, ...\n",
            "Connecting to www.manythings.org (www.manythings.org)|104.21.92.44|:80... connected.\n",
            "HTTP request sent, awaiting response... 200 OK\n",
            "Length: 14385451 (14M) [application/zip]\n",
            "Saving to: ‘rus-eng.zip’\n",
            "\n",
            "rus-eng.zip         100%[===================>]  13.72M  38.7MB/s    in 0.4s    \n",
            "\n",
            "2021-09-07 14:03:48 (38.7 MB/s) - ‘rus-eng.zip’ saved [14385451/14385451]\n",
            "\n"
          ]
        }
      ]
    },
    {
      "cell_type": "code",
      "metadata": {
        "id": "83bg17Lr-7XK",
        "colab": {
          "base_uri": "https://localhost:8080/"
        },
        "outputId": "bd95f9af-3e4f-4900-a726-71d5640ba999"
      },
      "source": [
        "!mkdir rus-eng\n",
        "!unzip rus-eng.zip -d rus-eng/"
      ],
      "execution_count": 3,
      "outputs": [
        {
          "output_type": "stream",
          "name": "stdout",
          "text": [
            "Archive:  rus-eng.zip\n",
            "  inflating: rus-eng/rus.txt         \n",
            "  inflating: rus-eng/_about.txt      \n"
          ]
        }
      ]
    },
    {
      "cell_type": "code",
      "metadata": {
        "id": "7o5L92efMMhf",
        "colab": {
          "base_uri": "https://localhost:8080/"
        },
        "outputId": "0cf45957-a574-4db3-9aaa-41834fb0b2c4"
      },
      "source": [
        "!ls /content/rus-eng/ -lah"
      ],
      "execution_count": 4,
      "outputs": [
        {
          "output_type": "stream",
          "name": "stdout",
          "text": [
            "total 69M\n",
            "drwxr-xr-x 2 root root 4.0K Sep  7 14:03 .\n",
            "drwxr-xr-x 1 root root 4.0K Sep  7 14:03 ..\n",
            "-rw-r--r-- 1 root root 1.5K Jul 14 10:16 _about.txt\n",
            "-rw-r--r-- 1 root root  69M Jul 14 10:16 rus.txt\n"
          ]
        }
      ]
    },
    {
      "cell_type": "code",
      "metadata": {
        "id": "kRVATYOgJs1b"
      },
      "source": [
        "# Download the file\n",
        "path_to_file = \"/content/rus-eng/rus.txt\""
      ],
      "execution_count": 5,
      "outputs": []
    },
    {
      "cell_type": "code",
      "metadata": {
        "id": "rd0jw-eC3jEh"
      },
      "source": [
        "def preprocess_sentence(w):\n",
        "  w = w.lower().strip()\n",
        "\n",
        "  # creating a space between a word and the punctuation following it\n",
        "  # eg: \"he is a boy.\" => \"he is a boy .\"\n",
        "  # Reference:- https://stackoverflow.com/questions/3645931/python-padding-punctuation-with-white-spaces-keeping-punctuation\n",
        "  w = re.sub(r\"([?.!,])\", r\" \\1 \", w)\n",
        "  w = re.sub(r'[\" \"]+', \" \", w)\n",
        "\n",
        "  # replacing everything with space except (a-z, A-Z, \".\", \"?\", \"!\", \",\")\n",
        "  w = re.sub(r\"[^a-zA-Zа-яА-Я?.!,']+\", \" \", w)\n",
        "\n",
        "  w = w.strip()\n",
        "\n",
        "  # adding a start and an end token to the sentence\n",
        "  # so that the model know when to start and stop predicting.\n",
        "  w = '<start> ' + w + ' <end>'\n",
        "  return w"
      ],
      "execution_count": 6,
      "outputs": []
    },
    {
      "cell_type": "code",
      "metadata": {
        "id": "yV9lZXQXNbnH",
        "colab": {
          "base_uri": "https://localhost:8080/",
          "height": 35
        },
        "outputId": "cd1e66cb-6f7a-4338-dc6e-f4660013d58e"
      },
      "source": [
        "preprocess_sentence(\"I can't go.\")"
      ],
      "execution_count": 7,
      "outputs": [
        {
          "output_type": "execute_result",
          "data": {
            "application/vnd.google.colaboratory.intrinsic+json": {
              "type": "string"
            },
            "text/plain": [
              "\"<start> i can't go . <end>\""
            ]
          },
          "metadata": {},
          "execution_count": 7
        }
      ]
    },
    {
      "cell_type": "code",
      "metadata": {
        "id": "OHn4Dct23jEm"
      },
      "source": [
        "# 1. Remove the accents\n",
        "# 2. Clean the sentences\n",
        "# 3. Return word pairs in the format: [ENG, RUS]\n",
        "def create_dataset(path, num_examples):\n",
        "  lines = io.open(path, encoding='UTF-8').read().strip().split('\\n')\n",
        "\n",
        "  word_pairs = [[preprocess_sentence(w) for w in l.split('\\t')[:2]]  for l in lines[:num_examples]]\n",
        "\n",
        "  return zip(*word_pairs)"
      ],
      "execution_count": 8,
      "outputs": []
    },
    {
      "cell_type": "code",
      "metadata": {
        "id": "cTbSbBz55QtF",
        "colab": {
          "base_uri": "https://localhost:8080/"
        },
        "outputId": "651cba1a-45c3-45f9-9935-3c11304e039b"
      },
      "source": [
        "en, ru = create_dataset(path_to_file, None)\n",
        "print(en[-1])\n",
        "print(ru[-1])"
      ],
      "execution_count": 9,
      "outputs": [
        {
          "output_type": "stream",
          "name": "stdout",
          "text": [
            "<start> doubtless there exists in this world precisely the right woman for any given man to marry and vice versa but when you consider that a human being has the opportunity of being acquainted with only a few hundred people , and out of the few hundred that there are but a dozen or less whom he knows intimately , and out of the dozen , one or two friends at most , it will easily be seen , when we remember the number of millions who inhabit this world , that probably , since the earth was created , the right man has never yet met the right woman . <end>\n",
            "<start> несомненно , для каждого мужчины в этом мире где то есть подходящая женщина , которая может стать ему женой , обратное верно и для женщин . но если учесть , что у человека может быть максимум несколько сотен знакомых , из которых лишь дюжина , а то и меньше , тех , кого он знает близко , а из этой дюжины у него один или от силы два друга , то можно легко увидеть , что с уч том миллионов живущих на земле людей , ни один подходящий мужчина , возможно , ещ не встретил подходящую женщину . <end>\n"
          ]
        }
      ]
    },
    {
      "cell_type": "code",
      "metadata": {
        "id": "bIOn8RCNDJXG"
      },
      "source": [
        "def tokenize(lang):\n",
        "  lang_tokenizer = tf.keras.preprocessing.text.Tokenizer(\n",
        "      filters='')\n",
        "  lang_tokenizer.fit_on_texts(lang)\n",
        "\n",
        "  tensor = lang_tokenizer.texts_to_sequences(lang)\n",
        "\n",
        "  tensor = tf.keras.preprocessing.sequence.pad_sequences(tensor,\n",
        "                                                         padding='post')\n",
        "\n",
        "  return tensor, lang_tokenizer"
      ],
      "execution_count": 10,
      "outputs": []
    },
    {
      "cell_type": "code",
      "metadata": {
        "id": "eAY9k49G3jE_"
      },
      "source": [
        "def load_dataset(path, num_examples=None):\n",
        "  # creating cleaned input, output pairs\n",
        "  targ_lang, inp_lang = create_dataset(path, num_examples)\n",
        "\n",
        "  input_tensor, inp_lang_tokenizer = tokenize(inp_lang)\n",
        "  target_tensor, targ_lang_tokenizer = tokenize(targ_lang)\n",
        "\n",
        "  return input_tensor, target_tensor, inp_lang_tokenizer, targ_lang_tokenizer"
      ],
      "execution_count": 11,
      "outputs": []
    },
    {
      "cell_type": "markdown",
      "metadata": {
        "id": "GOi42V79Ydlr"
      },
      "source": [
        "### Limit the size of the dataset to experiment faster (optional)\n"
      ]
    },
    {
      "cell_type": "code",
      "metadata": {
        "id": "C8j9g9AnIeZV",
        "colab": {
          "base_uri": "https://localhost:8080/"
        },
        "outputId": "32d96c44-e189-4275-fab8-1fdfe498116a"
      },
      "source": [
        "len(en), len(ru)"
      ],
      "execution_count": 12,
      "outputs": [
        {
          "output_type": "execute_result",
          "data": {
            "text/plain": [
              "(431097, 431097)"
            ]
          },
          "metadata": {},
          "execution_count": 12
        }
      ]
    },
    {
      "cell_type": "code",
      "metadata": {
        "id": "cnxC7q-j3jFD"
      },
      "source": [
        "# Try experimenting with the size of that dataset\n",
        "num_examples = 100000\n",
        "input_tensor, target_tensor, inp_lang, targ_lang = load_dataset(path_to_file, num_examples)\n",
        "\n",
        "# Calculate max_length of the target tensors\n",
        "max_length_targ, max_length_inp = target_tensor.shape[1], input_tensor.shape[1]"
      ],
      "execution_count": 13,
      "outputs": []
    },
    {
      "cell_type": "code",
      "metadata": {
        "id": "4QILQkOs3jFG",
        "colab": {
          "base_uri": "https://localhost:8080/"
        },
        "outputId": "2c6e5bce-1db4-40bf-d216-42d9b0c6ca42"
      },
      "source": [
        "# Creating training and validation sets using an 80-20 split\n",
        "input_tensor_train, input_tensor_val, target_tensor_train, target_tensor_val = train_test_split(input_tensor, target_tensor, test_size=0.2)\n",
        "\n",
        "# Show length\n",
        "print(len(input_tensor_train), len(target_tensor_train), len(input_tensor_val), len(target_tensor_val))"
      ],
      "execution_count": 14,
      "outputs": [
        {
          "output_type": "stream",
          "name": "stdout",
          "text": [
            "80000 80000 20000 20000\n"
          ]
        }
      ]
    },
    {
      "cell_type": "code",
      "metadata": {
        "id": "lJPmLZGMeD5q"
      },
      "source": [
        "def convert(lang, tensor):\n",
        "  for t in tensor:\n",
        "    if t!=0:\n",
        "      print (\"%d ----> %s\" % (t, lang.index_word[t]))"
      ],
      "execution_count": 15,
      "outputs": []
    },
    {
      "cell_type": "code",
      "metadata": {
        "id": "VXukARTDd7MT",
        "colab": {
          "base_uri": "https://localhost:8080/"
        },
        "outputId": "fb1e19c9-96bd-42d8-96fe-bb2155da098b"
      },
      "source": [
        "print (\"Input Language; index to word mapping\")\n",
        "convert(inp_lang, input_tensor_train[0])\n",
        "print ()\n",
        "print (\"Target Language; index to word mapping\")\n",
        "convert(targ_lang, target_tensor_train[0])"
      ],
      "execution_count": 16,
      "outputs": [
        {
          "output_type": "stream",
          "name": "stdout",
          "text": [
            "Input Language; index to word mapping\n",
            "1 ----> <start>\n",
            "1083 ----> яблоки\n",
            "60 ----> сейчас\n",
            "1385 ----> деш\n",
            "7029 ----> вые\n",
            "3 ----> .\n",
            "2 ----> <end>\n",
            "\n",
            "Target Language; index to word mapping\n",
            "1 ----> <start>\n",
            "902 ----> apples\n",
            "22 ----> are\n",
            "700 ----> cheap\n",
            "47 ----> now\n",
            "3 ----> .\n",
            "2 ----> <end>\n"
          ]
        }
      ]
    },
    {
      "cell_type": "markdown",
      "metadata": {
        "id": "rgCLkfv5uO3d"
      },
      "source": [
        "### Create a tf.data dataset"
      ]
    },
    {
      "cell_type": "code",
      "metadata": {
        "id": "TqHsArVZ3jFS"
      },
      "source": [
        "BUFFER_SIZE = len(input_tensor_train)\n",
        "BATCH_SIZE = 64\n",
        "steps_per_epoch = len(input_tensor_train)//BATCH_SIZE\n",
        "embedding_dim = 256\n",
        "units = 1024\n",
        "vocab_inp_size = len(inp_lang.word_index)+1\n",
        "vocab_tar_size = len(targ_lang.word_index)+1\n",
        "\n",
        "dataset = tf.data.Dataset.from_tensor_slices((input_tensor_train, target_tensor_train)).shuffle(BUFFER_SIZE)\n",
        "dataset = dataset.batch(BATCH_SIZE, drop_remainder=True)"
      ],
      "execution_count": 17,
      "outputs": []
    },
    {
      "cell_type": "code",
      "metadata": {
        "id": "qc6-NK1GtWQt",
        "colab": {
          "base_uri": "https://localhost:8080/"
        },
        "outputId": "9162bbb8-87af-45ab-87bd-a45bbe8b7648"
      },
      "source": [
        "example_input_batch, example_target_batch = next(iter(dataset))\n",
        "example_input_batch.shape, example_target_batch.shape"
      ],
      "execution_count": 18,
      "outputs": [
        {
          "output_type": "execute_result",
          "data": {
            "text/plain": [
              "(TensorShape([64, 15]), TensorShape([64, 11]))"
            ]
          },
          "metadata": {},
          "execution_count": 18
        }
      ]
    },
    {
      "cell_type": "code",
      "metadata": {
        "id": "nZ2rI24i3jFg"
      },
      "source": [
        "class Encoder(tf.keras.Model):\n",
        "  def __init__(self, vocab_size, embedding_dim, enc_units, batch_sz):\n",
        "    super(Encoder, self).__init__()\n",
        "    self.batch_sz = batch_sz\n",
        "    self.enc_units = enc_units\n",
        "    self.embedding = tf.keras.layers.Embedding(vocab_size, embedding_dim)\n",
        "    self.gru = tf.keras.layers.GRU(self.enc_units,\n",
        "                                   return_sequences=True,\n",
        "                                   return_state=True,\n",
        "                                   recurrent_initializer='glorot_uniform')\n",
        "\n",
        "  def call(self, x, hidden):\n",
        "    x = self.embedding(x)\n",
        "    output, state = self.gru(x, initial_state = hidden)\n",
        "    return output, state\n",
        "\n",
        "  def initialize_hidden_state(self):\n",
        "    return tf.zeros((self.batch_sz, self.enc_units))"
      ],
      "execution_count": 19,
      "outputs": []
    },
    {
      "cell_type": "code",
      "metadata": {
        "id": "60gSVh05Jl6l",
        "colab": {
          "base_uri": "https://localhost:8080/"
        },
        "outputId": "ee5ea808-2b6e-4238-da4b-40e9f9b76344"
      },
      "source": [
        "encoder = Encoder(vocab_inp_size, embedding_dim, units, BATCH_SIZE)\n",
        "\n",
        "# sample input\n",
        "sample_hidden = encoder.initialize_hidden_state()\n",
        "sample_output, sample_hidden = encoder(example_input_batch, sample_hidden)\n",
        "print ('Encoder output shape: (batch size, sequence length, units) {}'.format(sample_output.shape))\n",
        "print ('Encoder Hidden state shape: (batch size, units) {}'.format(sample_hidden.shape))"
      ],
      "execution_count": 20,
      "outputs": [
        {
          "output_type": "stream",
          "name": "stdout",
          "text": [
            "Encoder output shape: (batch size, sequence length, units) (64, 15, 1024)\n",
            "Encoder Hidden state shape: (batch size, units) (64, 1024)\n"
          ]
        }
      ]
    },
    {
      "cell_type": "code",
      "metadata": {
        "id": "YTyhL28Niqk1"
      },
      "source": [
        "class BahdanauAttention(tf.keras.layers.Layer):\n",
        "  def __init__(self, units):\n",
        "    super(BahdanauAttention, self).__init__()\n",
        "    self.W1 = tf.keras.layers.Dense(units)\n",
        "    self.W2 = tf.keras.layers.Dense(units)\n",
        "    self.V = tf.keras.layers.Dense(1)\n",
        "\n",
        "  def call(self, query, values):\n",
        "    # query hidden state shape == (batch_size, hidden size)\n",
        "    # query_with_time_axis shape == (batch_size, 1, hidden size)\n",
        "    # values shape == (batch_size, max_len, hidden size)\n",
        "    # we are doing this to broadcast addition along the time axis to calculate the score\n",
        "    query_with_time_axis = tf.expand_dims(query, 1)\n",
        "\n",
        "    # score shape == (batch_size, max_length, 1)\n",
        "    # we get 1 at the last axis because we are applying score to self.V\n",
        "    # the shape of the tensor before applying self.V is (batch_size, max_length, units)\n",
        "    score = self.V(tf.nn.tanh(\n",
        "        self.W1(query_with_time_axis) + self.W2(values)))\n",
        "\n",
        "    # attention_weights shape == (batch_size, max_length, 1)\n",
        "    attention_weights = tf.nn.softmax(score, axis=1)\n",
        "\n",
        "    # context_vector shape after sum == (batch_size, hidden_size)\n",
        "    context_vector = attention_weights * values\n",
        "    context_vector = tf.reduce_sum(context_vector, axis=1)\n",
        "\n",
        "    return context_vector, attention_weights"
      ],
      "execution_count": 21,
      "outputs": []
    },
    {
      "cell_type": "code",
      "metadata": {
        "colab": {
          "base_uri": "https://localhost:8080/"
        },
        "id": "XUqssWcci1XJ",
        "outputId": "92f2e263-fc65-43a1-c1fb-7bd413e94644"
      },
      "source": [
        "attention_layer = BahdanauAttention(10)\n",
        "attention_result, attention_weights = attention_layer(sample_hidden, sample_output)\n",
        "\n",
        "print(\"Attention result shape: (batch size, units) {}\".format(attention_result.shape))\n",
        "print(\"Attention weights shape: (batch_size, sequence_length, 1) {}\".format(attention_weights.shape))"
      ],
      "execution_count": 22,
      "outputs": [
        {
          "output_type": "stream",
          "name": "stdout",
          "text": [
            "Attention result shape: (batch size, units) (64, 1024)\n",
            "Attention weights shape: (batch_size, sequence_length, 1) (64, 15, 1)\n"
          ]
        }
      ]
    },
    {
      "cell_type": "code",
      "metadata": {
        "id": "yJ_B3mhW3jFk"
      },
      "source": [
        "class Decoder(tf.keras.Model):\n",
        "  def __init__(self, vocab_size, embedding_dim, dec_units, batch_sz):\n",
        "    super(Decoder, self).__init__()\n",
        "    self.batch_sz = batch_sz\n",
        "    self.dec_units = dec_units\n",
        "    self.embedding = tf.keras.layers.Embedding(vocab_size, embedding_dim)\n",
        "    self.gru = tf.keras.layers.GRU(self.dec_units,\n",
        "                                   return_sequences=True,\n",
        "                                   return_state=True,\n",
        "                                   recurrent_initializer='glorot_uniform')\n",
        "    self.fc = tf.keras.layers.Dense(vocab_size)\n",
        "\n",
        "    # used for attention\n",
        "    self.attention = BahdanauAttention(self.dec_units)\n",
        "\n",
        "  def call(self, x, hidden, enc_output):\n",
        "    # enc_output shape == (batch_size, max_length, hidden_size)\n",
        "    context_vector, attention_weights = self.attention(hidden, enc_output)\n",
        "\n",
        "    # x shape after passing through embedding == (batch_size, 1, embedding_dim)\n",
        "    x = self.embedding(x)\n",
        "\n",
        "    # x shape after concatenation == (batch_size, 1, embedding_dim + hidden_size)\n",
        "    x = tf.concat([tf.expand_dims(context_vector, 1), x], axis=-1)\n",
        "\n",
        "    # passing the concatenated vector to the GRU\n",
        "    output, state = self.gru(x)\n",
        "\n",
        "    # output shape == (batch_size * 1, hidden_size)\n",
        "    output = tf.reshape(output, (-1, output.shape[2]))\n",
        "\n",
        "    # output shape == (batch_size, vocab)\n",
        "    x = self.fc(output)\n",
        "\n",
        "    return x, state, attention_weights"
      ],
      "execution_count": 23,
      "outputs": []
    },
    {
      "cell_type": "code",
      "metadata": {
        "id": "P5UY8wko3jFp",
        "colab": {
          "base_uri": "https://localhost:8080/"
        },
        "outputId": "6340baed-2766-4758-e0f7-e4955200ca4c"
      },
      "source": [
        "decoder = Decoder(vocab_tar_size, embedding_dim, units, BATCH_SIZE)\n",
        "\n",
        "sample_decoder_output, _, _ = decoder(tf.random.uniform((BATCH_SIZE, 1)),\n",
        "                                      sample_hidden, sample_output)\n",
        "\n",
        "print ('Decoder output shape: (batch_size, vocab size) {}'.format(sample_decoder_output.shape))"
      ],
      "execution_count": 24,
      "outputs": [
        {
          "output_type": "stream",
          "name": "stdout",
          "text": [
            "Decoder output shape: (batch_size, vocab size) (64, 7260)\n"
          ]
        }
      ]
    },
    {
      "cell_type": "markdown",
      "metadata": {
        "id": "_ch_71VbIRfK"
      },
      "source": [
        "## Define the optimizer and the loss function"
      ]
    },
    {
      "cell_type": "code",
      "metadata": {
        "id": "WmTHr5iV3jFr"
      },
      "source": [
        "optimizer = tf.keras.optimizers.Adam()\n",
        "loss_object = tf.keras.losses.SparseCategoricalCrossentropy(\n",
        "    from_logits=True, reduction='none')\n",
        "\n",
        "def loss_function(real, pred):\n",
        "  mask = tf.math.logical_not(tf.math.equal(real, 0))\n",
        "  loss_ = loss_object(real, pred)\n",
        "\n",
        "  mask = tf.cast(mask, dtype=loss_.dtype)\n",
        "  loss_ *= mask\n",
        "\n",
        "  return tf.reduce_mean(loss_)"
      ],
      "execution_count": 25,
      "outputs": []
    },
    {
      "cell_type": "markdown",
      "metadata": {
        "id": "DMVWzzsfNl4e"
      },
      "source": [
        "## Checkpoints (Object-based saving)"
      ]
    },
    {
      "cell_type": "code",
      "metadata": {
        "id": "Zj8bXQTgNwrF"
      },
      "source": [
        "checkpoint_dir = './training_attention_checkpoints'\n",
        "checkpoint_prefix = os.path.join(checkpoint_dir, \"ckpt\")\n",
        "checkpoint = tf.train.Checkpoint(optimizer=optimizer,\n",
        "                                 encoder=encoder,\n",
        "                                 decoder=decoder)"
      ],
      "execution_count": 26,
      "outputs": []
    },
    {
      "cell_type": "code",
      "metadata": {
        "id": "sC9ArXSsVfqn"
      },
      "source": [
        "@tf.function\n",
        "def train_step(inp, targ, enc_hidden):\n",
        "  loss = 0\n",
        "\n",
        "  with tf.GradientTape() as tape:\n",
        "    enc_output, enc_hidden = encoder(inp, enc_hidden)\n",
        "\n",
        "    dec_hidden = enc_hidden\n",
        "\n",
        "    dec_input = tf.expand_dims([targ_lang.word_index['<start>']] * BATCH_SIZE, 1)\n",
        "\n",
        "    # Teacher forcing - feeding the target as the next input\n",
        "    for t in range(1, targ.shape[1]):\n",
        "      # passing enc_output to the decoder\n",
        "      predictions, dec_hidden, _ = decoder(dec_input, dec_hidden, enc_output)\n",
        "\n",
        "      loss += loss_function(targ[:, t], predictions)\n",
        "\n",
        "      # using teacher forcing\n",
        "      dec_input = tf.expand_dims(targ[:, t], 1)\n",
        "\n",
        "  batch_loss = (loss / int(targ.shape[1]))\n",
        "\n",
        "  variables = encoder.trainable_variables + decoder.trainable_variables\n",
        "\n",
        "  gradients = tape.gradient(loss, variables)\n",
        "\n",
        "  optimizer.apply_gradients(zip(gradients, variables))\n",
        "\n",
        "  return batch_loss"
      ],
      "execution_count": 27,
      "outputs": []
    },
    {
      "cell_type": "code",
      "metadata": {
        "id": "ddefjBMa3jF0",
        "colab": {
          "base_uri": "https://localhost:8080/"
        },
        "outputId": "7a4c0f60-7f5c-4a37-fe7e-149a3ebfea95"
      },
      "source": [
        "EPOCHS = 50\n",
        "\n",
        "for epoch in range(EPOCHS):\n",
        "  start = time.time()\n",
        "\n",
        "  enc_hidden = encoder.initialize_hidden_state()\n",
        "  total_loss = 0\n",
        "\n",
        "  for (batch, (inp, targ)) in enumerate(dataset.take(steps_per_epoch)):\n",
        "    batch_loss = train_step(inp, targ, enc_hidden)\n",
        "    total_loss += batch_loss\n",
        "\n",
        "    if batch % 100 == 0:\n",
        "      print('Epoch {} Batch {} Loss {:.4f}'.format(epoch + 1,\n",
        "                                                   batch,\n",
        "                                                   batch_loss.numpy()))\n",
        "  # saving (checkpoint) the model every 2 epochs\n",
        "  if (epoch + 1) % 2 == 0:\n",
        "    checkpoint.save(file_prefix = checkpoint_prefix)\n",
        "\n",
        "  print('Epoch {} Loss {:.4f}'.format(epoch + 1,\n",
        "                                      total_loss / steps_per_epoch))\n",
        "  print('Time taken for 1 epoch {} sec\\n'.format(time.time() - start))"
      ],
      "execution_count": 28,
      "outputs": [
        {
          "output_type": "stream",
          "name": "stdout",
          "text": [
            "Epoch 1 Batch 0 Loss 4.7480\n",
            "Epoch 1 Batch 100 Loss 2.1758\n",
            "Epoch 1 Batch 200 Loss 1.8920\n",
            "Epoch 1 Batch 300 Loss 1.8210\n",
            "Epoch 1 Batch 400 Loss 1.5930\n",
            "Epoch 1 Batch 500 Loss 1.4586\n",
            "Epoch 1 Batch 600 Loss 1.4368\n",
            "Epoch 1 Batch 700 Loss 1.3810\n",
            "Epoch 1 Batch 800 Loss 1.2239\n",
            "Epoch 1 Batch 900 Loss 1.1611\n",
            "Epoch 1 Batch 1000 Loss 1.0155\n",
            "Epoch 1 Batch 1100 Loss 0.9315\n",
            "Epoch 1 Batch 1200 Loss 0.9558\n",
            "Epoch 1 Loss 1.4825\n",
            "Time taken for 1 epoch 239.51066398620605 sec\n",
            "\n",
            "Epoch 2 Batch 0 Loss 0.9154\n",
            "Epoch 2 Batch 100 Loss 0.8524\n",
            "Epoch 2 Batch 200 Loss 0.6718\n",
            "Epoch 2 Batch 300 Loss 0.6783\n",
            "Epoch 2 Batch 400 Loss 0.6912\n",
            "Epoch 2 Batch 500 Loss 0.7264\n",
            "Epoch 2 Batch 600 Loss 0.6205\n",
            "Epoch 2 Batch 700 Loss 0.5646\n",
            "Epoch 2 Batch 800 Loss 0.6790\n",
            "Epoch 2 Batch 900 Loss 0.7343\n",
            "Epoch 2 Batch 1000 Loss 0.5092\n",
            "Epoch 2 Batch 1100 Loss 0.4445\n",
            "Epoch 2 Batch 1200 Loss 0.5165\n",
            "Epoch 2 Loss 0.6355\n",
            "Time taken for 1 epoch 223.63096809387207 sec\n",
            "\n",
            "Epoch 3 Batch 0 Loss 0.4232\n",
            "Epoch 3 Batch 100 Loss 0.3787\n",
            "Epoch 3 Batch 200 Loss 0.3620\n",
            "Epoch 3 Batch 300 Loss 0.2426\n",
            "Epoch 3 Batch 400 Loss 0.3862\n",
            "Epoch 3 Batch 500 Loss 0.3493\n",
            "Epoch 3 Batch 600 Loss 0.2644\n",
            "Epoch 3 Batch 700 Loss 0.2871\n",
            "Epoch 3 Batch 800 Loss 0.3235\n",
            "Epoch 3 Batch 900 Loss 0.3393\n",
            "Epoch 3 Batch 1000 Loss 0.3130\n",
            "Epoch 3 Batch 1100 Loss 0.3363\n",
            "Epoch 3 Batch 1200 Loss 0.2497\n",
            "Epoch 3 Loss 0.3355\n",
            "Time taken for 1 epoch 222.54106330871582 sec\n",
            "\n",
            "Epoch 4 Batch 0 Loss 0.1515\n",
            "Epoch 4 Batch 100 Loss 0.1671\n",
            "Epoch 4 Batch 200 Loss 0.2091\n",
            "Epoch 4 Batch 300 Loss 0.2310\n",
            "Epoch 4 Batch 400 Loss 0.2222\n",
            "Epoch 4 Batch 500 Loss 0.1812\n",
            "Epoch 4 Batch 600 Loss 0.1812\n",
            "Epoch 4 Batch 700 Loss 0.1485\n",
            "Epoch 4 Batch 800 Loss 0.2160\n",
            "Epoch 4 Batch 900 Loss 0.2073\n",
            "Epoch 4 Batch 1000 Loss 0.2152\n",
            "Epoch 4 Batch 1100 Loss 0.1895\n",
            "Epoch 4 Batch 1200 Loss 0.1987\n",
            "Epoch 4 Loss 0.2086\n",
            "Time taken for 1 epoch 223.3326666355133 sec\n",
            "\n",
            "Epoch 5 Batch 0 Loss 0.1857\n",
            "Epoch 5 Batch 100 Loss 0.0997\n",
            "Epoch 5 Batch 200 Loss 0.1115\n",
            "Epoch 5 Batch 300 Loss 0.1128\n",
            "Epoch 5 Batch 400 Loss 0.1575\n",
            "Epoch 5 Batch 500 Loss 0.1257\n",
            "Epoch 5 Batch 600 Loss 0.1364\n",
            "Epoch 5 Batch 700 Loss 0.1714\n",
            "Epoch 5 Batch 800 Loss 0.1578\n",
            "Epoch 5 Batch 900 Loss 0.1517\n",
            "Epoch 5 Batch 1000 Loss 0.1439\n",
            "Epoch 5 Batch 1100 Loss 0.1359\n",
            "Epoch 5 Batch 1200 Loss 0.1495\n",
            "Epoch 5 Loss 0.1489\n",
            "Time taken for 1 epoch 222.61254453659058 sec\n",
            "\n",
            "Epoch 6 Batch 0 Loss 0.0703\n",
            "Epoch 6 Batch 100 Loss 0.0815\n",
            "Epoch 6 Batch 200 Loss 0.0987\n",
            "Epoch 6 Batch 300 Loss 0.1245\n",
            "Epoch 6 Batch 400 Loss 0.1060\n",
            "Epoch 6 Batch 500 Loss 0.1386\n",
            "Epoch 6 Batch 600 Loss 0.1365\n",
            "Epoch 6 Batch 700 Loss 0.1347\n",
            "Epoch 6 Batch 800 Loss 0.1480\n",
            "Epoch 6 Batch 900 Loss 0.1623\n",
            "Epoch 6 Batch 1000 Loss 0.1069\n",
            "Epoch 6 Batch 1100 Loss 0.1711\n",
            "Epoch 6 Batch 1200 Loss 0.1018\n",
            "Epoch 6 Loss 0.1176\n",
            "Time taken for 1 epoch 222.44687485694885 sec\n",
            "\n",
            "Epoch 7 Batch 0 Loss 0.1045\n",
            "Epoch 7 Batch 100 Loss 0.1246\n",
            "Epoch 7 Batch 200 Loss 0.0882\n",
            "Epoch 7 Batch 300 Loss 0.0628\n",
            "Epoch 7 Batch 400 Loss 0.0754\n",
            "Epoch 7 Batch 500 Loss 0.1164\n",
            "Epoch 7 Batch 600 Loss 0.1424\n",
            "Epoch 7 Batch 700 Loss 0.1509\n",
            "Epoch 7 Batch 800 Loss 0.1078\n",
            "Epoch 7 Batch 900 Loss 0.0715\n",
            "Epoch 7 Batch 1000 Loss 0.0957\n",
            "Epoch 7 Batch 1100 Loss 0.1323\n",
            "Epoch 7 Batch 1200 Loss 0.1040\n",
            "Epoch 7 Loss 0.0987\n",
            "Time taken for 1 epoch 221.7870888710022 sec\n",
            "\n",
            "Epoch 8 Batch 0 Loss 0.1018\n",
            "Epoch 8 Batch 100 Loss 0.0648\n",
            "Epoch 8 Batch 200 Loss 0.1063\n",
            "Epoch 8 Batch 300 Loss 0.1098\n",
            "Epoch 8 Batch 400 Loss 0.0752\n",
            "Epoch 8 Batch 500 Loss 0.0728\n",
            "Epoch 8 Batch 600 Loss 0.0824\n",
            "Epoch 8 Batch 700 Loss 0.0858\n",
            "Epoch 8 Batch 800 Loss 0.1532\n",
            "Epoch 8 Batch 900 Loss 0.0856\n",
            "Epoch 8 Batch 1000 Loss 0.1217\n",
            "Epoch 8 Batch 1100 Loss 0.1132\n",
            "Epoch 8 Batch 1200 Loss 0.0662\n",
            "Epoch 8 Loss 0.0886\n",
            "Time taken for 1 epoch 222.56152820587158 sec\n",
            "\n",
            "Epoch 9 Batch 0 Loss 0.0514\n",
            "Epoch 9 Batch 100 Loss 0.0952\n",
            "Epoch 9 Batch 200 Loss 0.0625\n",
            "Epoch 9 Batch 300 Loss 0.0652\n",
            "Epoch 9 Batch 400 Loss 0.0665\n",
            "Epoch 9 Batch 500 Loss 0.0782\n",
            "Epoch 9 Batch 600 Loss 0.0892\n",
            "Epoch 9 Batch 700 Loss 0.0695\n",
            "Epoch 9 Batch 800 Loss 0.0512\n",
            "Epoch 9 Batch 900 Loss 0.0875\n",
            "Epoch 9 Batch 1000 Loss 0.0703\n",
            "Epoch 9 Batch 1100 Loss 0.0824\n",
            "Epoch 9 Batch 1200 Loss 0.0867\n",
            "Epoch 9 Loss 0.0815\n",
            "Time taken for 1 epoch 221.89832496643066 sec\n",
            "\n",
            "Epoch 10 Batch 0 Loss 0.0665\n",
            "Epoch 10 Batch 100 Loss 0.0560\n",
            "Epoch 10 Batch 200 Loss 0.0646\n",
            "Epoch 10 Batch 300 Loss 0.0723\n",
            "Epoch 10 Batch 400 Loss 0.0859\n",
            "Epoch 10 Batch 500 Loss 0.0658\n",
            "Epoch 10 Batch 600 Loss 0.0846\n",
            "Epoch 10 Batch 700 Loss 0.0595\n",
            "Epoch 10 Batch 800 Loss 0.0553\n",
            "Epoch 10 Batch 900 Loss 0.0704\n",
            "Epoch 10 Batch 1000 Loss 0.0592\n",
            "Epoch 10 Batch 1100 Loss 0.0706\n",
            "Epoch 10 Batch 1200 Loss 0.0732\n",
            "Epoch 10 Loss 0.0762\n",
            "Time taken for 1 epoch 222.40383529663086 sec\n",
            "\n",
            "Epoch 11 Batch 0 Loss 0.0682\n",
            "Epoch 11 Batch 100 Loss 0.0551\n",
            "Epoch 11 Batch 200 Loss 0.0644\n",
            "Epoch 11 Batch 300 Loss 0.0665\n",
            "Epoch 11 Batch 400 Loss 0.0520\n",
            "Epoch 11 Batch 500 Loss 0.0900\n",
            "Epoch 11 Batch 600 Loss 0.0632\n",
            "Epoch 11 Batch 700 Loss 0.1109\n",
            "Epoch 11 Batch 800 Loss 0.0929\n",
            "Epoch 11 Batch 900 Loss 0.0752\n",
            "Epoch 11 Batch 1000 Loss 0.0707\n",
            "Epoch 11 Batch 1100 Loss 0.0959\n",
            "Epoch 11 Batch 1200 Loss 0.0662\n",
            "Epoch 11 Loss 0.0717\n",
            "Time taken for 1 epoch 221.55938959121704 sec\n",
            "\n",
            "Epoch 12 Batch 0 Loss 0.0679\n",
            "Epoch 12 Batch 100 Loss 0.0400\n",
            "Epoch 12 Batch 200 Loss 0.0517\n",
            "Epoch 12 Batch 300 Loss 0.0746\n",
            "Epoch 12 Batch 400 Loss 0.0792\n",
            "Epoch 12 Batch 500 Loss 0.0731\n",
            "Epoch 12 Batch 600 Loss 0.0783\n",
            "Epoch 12 Batch 700 Loss 0.0701\n",
            "Epoch 12 Batch 800 Loss 0.0507\n",
            "Epoch 12 Batch 900 Loss 0.0834\n",
            "Epoch 12 Batch 1000 Loss 0.0629\n",
            "Epoch 12 Batch 1100 Loss 0.0784\n",
            "Epoch 12 Batch 1200 Loss 0.0632\n",
            "Epoch 12 Loss 0.0680\n",
            "Time taken for 1 epoch 222.18201065063477 sec\n",
            "\n",
            "Epoch 13 Batch 0 Loss 0.0917\n",
            "Epoch 13 Batch 100 Loss 0.0695\n",
            "Epoch 13 Batch 200 Loss 0.0516\n",
            "Epoch 13 Batch 300 Loss 0.0500\n",
            "Epoch 13 Batch 400 Loss 0.0654\n",
            "Epoch 13 Batch 500 Loss 0.0730\n",
            "Epoch 13 Batch 600 Loss 0.0657\n",
            "Epoch 13 Batch 700 Loss 0.0516\n",
            "Epoch 13 Batch 800 Loss 0.1015\n",
            "Epoch 13 Batch 900 Loss 0.0740\n",
            "Epoch 13 Batch 1000 Loss 0.0735\n",
            "Epoch 13 Batch 1100 Loss 0.0499\n",
            "Epoch 13 Batch 1200 Loss 0.0622\n",
            "Epoch 13 Loss 0.0658\n",
            "Time taken for 1 epoch 221.2719328403473 sec\n",
            "\n",
            "Epoch 14 Batch 0 Loss 0.0591\n",
            "Epoch 14 Batch 100 Loss 0.0652\n",
            "Epoch 14 Batch 200 Loss 0.0677\n",
            "Epoch 14 Batch 300 Loss 0.0358\n",
            "Epoch 14 Batch 400 Loss 0.0527\n",
            "Epoch 14 Batch 500 Loss 0.1029\n",
            "Epoch 14 Batch 600 Loss 0.0663\n",
            "Epoch 14 Batch 700 Loss 0.0681\n",
            "Epoch 14 Batch 800 Loss 0.0952\n",
            "Epoch 14 Batch 900 Loss 0.0859\n",
            "Epoch 14 Batch 1000 Loss 0.1084\n",
            "Epoch 14 Batch 1100 Loss 0.0825\n",
            "Epoch 14 Batch 1200 Loss 0.0969\n",
            "Epoch 14 Loss 0.0631\n",
            "Time taken for 1 epoch 222.50827288627625 sec\n",
            "\n",
            "Epoch 15 Batch 0 Loss 0.0345\n",
            "Epoch 15 Batch 100 Loss 0.0653\n",
            "Epoch 15 Batch 200 Loss 0.0483\n",
            "Epoch 15 Batch 300 Loss 0.0406\n",
            "Epoch 15 Batch 400 Loss 0.0539\n",
            "Epoch 15 Batch 500 Loss 0.0664\n",
            "Epoch 15 Batch 600 Loss 0.0720\n",
            "Epoch 15 Batch 700 Loss 0.0702\n",
            "Epoch 15 Batch 800 Loss 0.0420\n",
            "Epoch 15 Batch 900 Loss 0.0555\n",
            "Epoch 15 Batch 1000 Loss 0.0764\n",
            "Epoch 15 Batch 1100 Loss 0.0621\n",
            "Epoch 15 Batch 1200 Loss 0.0575\n",
            "Epoch 15 Loss 0.0604\n",
            "Time taken for 1 epoch 222.04499626159668 sec\n",
            "\n",
            "Epoch 16 Batch 0 Loss 0.0474\n",
            "Epoch 16 Batch 100 Loss 0.0301\n",
            "Epoch 16 Batch 200 Loss 0.0399\n",
            "Epoch 16 Batch 300 Loss 0.0506\n",
            "Epoch 16 Batch 400 Loss 0.0480\n",
            "Epoch 16 Batch 500 Loss 0.0705\n",
            "Epoch 16 Batch 600 Loss 0.0297\n",
            "Epoch 16 Batch 700 Loss 0.1069\n",
            "Epoch 16 Batch 800 Loss 0.0672\n",
            "Epoch 16 Batch 900 Loss 0.0465\n",
            "Epoch 16 Batch 1000 Loss 0.0775\n",
            "Epoch 16 Batch 1100 Loss 0.0306\n",
            "Epoch 16 Batch 1200 Loss 0.0396\n",
            "Epoch 16 Loss 0.0593\n",
            "Time taken for 1 epoch 222.62800240516663 sec\n",
            "\n",
            "Epoch 17 Batch 0 Loss 0.0408\n",
            "Epoch 17 Batch 100 Loss 0.0404\n",
            "Epoch 17 Batch 200 Loss 0.0434\n",
            "Epoch 17 Batch 300 Loss 0.0378\n",
            "Epoch 17 Batch 400 Loss 0.0283\n",
            "Epoch 17 Batch 500 Loss 0.0748\n",
            "Epoch 17 Batch 600 Loss 0.0528\n",
            "Epoch 17 Batch 700 Loss 0.0380\n",
            "Epoch 17 Batch 800 Loss 0.0836\n",
            "Epoch 17 Batch 900 Loss 0.0820\n",
            "Epoch 17 Batch 1000 Loss 0.0910\n",
            "Epoch 17 Batch 1100 Loss 0.0428\n",
            "Epoch 17 Batch 1200 Loss 0.0368\n",
            "Epoch 17 Loss 0.0580\n",
            "Time taken for 1 epoch 222.07100009918213 sec\n",
            "\n",
            "Epoch 18 Batch 0 Loss 0.0493\n",
            "Epoch 18 Batch 100 Loss 0.0574\n",
            "Epoch 18 Batch 200 Loss 0.0426\n",
            "Epoch 18 Batch 300 Loss 0.0638\n",
            "Epoch 18 Batch 400 Loss 0.0562\n",
            "Epoch 18 Batch 500 Loss 0.0357\n",
            "Epoch 18 Batch 600 Loss 0.0584\n",
            "Epoch 18 Batch 700 Loss 0.0419\n",
            "Epoch 18 Batch 800 Loss 0.0661\n",
            "Epoch 18 Batch 900 Loss 0.0591\n",
            "Epoch 18 Batch 1000 Loss 0.0282\n",
            "Epoch 18 Batch 1100 Loss 0.0456\n",
            "Epoch 18 Batch 1200 Loss 0.0691\n",
            "Epoch 18 Loss 0.0560\n",
            "Time taken for 1 epoch 222.7431902885437 sec\n",
            "\n",
            "Epoch 19 Batch 0 Loss 0.0308\n",
            "Epoch 19 Batch 100 Loss 0.0532\n",
            "Epoch 19 Batch 200 Loss 0.0299\n",
            "Epoch 19 Batch 300 Loss 0.0470\n",
            "Epoch 19 Batch 400 Loss 0.0478\n",
            "Epoch 19 Batch 500 Loss 0.0525\n",
            "Epoch 19 Batch 600 Loss 0.0344\n",
            "Epoch 19 Batch 700 Loss 0.0623\n",
            "Epoch 19 Batch 800 Loss 0.0798\n",
            "Epoch 19 Batch 900 Loss 0.0597\n",
            "Epoch 19 Batch 1000 Loss 0.0708\n",
            "Epoch 19 Batch 1100 Loss 0.0697\n",
            "Epoch 19 Batch 1200 Loss 0.0413\n",
            "Epoch 19 Loss 0.0551\n",
            "Time taken for 1 epoch 222.46229648590088 sec\n",
            "\n",
            "Epoch 20 Batch 0 Loss 0.0463\n",
            "Epoch 20 Batch 100 Loss 0.0452\n",
            "Epoch 20 Batch 200 Loss 0.0638\n",
            "Epoch 20 Batch 300 Loss 0.0471\n",
            "Epoch 20 Batch 400 Loss 0.0410\n",
            "Epoch 20 Batch 500 Loss 0.0460\n",
            "Epoch 20 Batch 600 Loss 0.0298\n",
            "Epoch 20 Batch 700 Loss 0.0659\n",
            "Epoch 20 Batch 800 Loss 0.0369\n",
            "Epoch 20 Batch 900 Loss 0.0642\n",
            "Epoch 20 Batch 1000 Loss 0.0841\n",
            "Epoch 20 Batch 1100 Loss 0.0678\n",
            "Epoch 20 Batch 1200 Loss 0.0656\n",
            "Epoch 20 Loss 0.0533\n",
            "Time taken for 1 epoch 222.86856818199158 sec\n",
            "\n",
            "Epoch 21 Batch 0 Loss 0.0369\n",
            "Epoch 21 Batch 100 Loss 0.0680\n",
            "Epoch 21 Batch 200 Loss 0.0662\n",
            "Epoch 21 Batch 300 Loss 0.0533\n",
            "Epoch 21 Batch 400 Loss 0.0595\n",
            "Epoch 21 Batch 500 Loss 0.0776\n",
            "Epoch 21 Batch 600 Loss 0.0479\n",
            "Epoch 21 Batch 700 Loss 0.0742\n",
            "Epoch 21 Batch 800 Loss 0.0334\n",
            "Epoch 21 Batch 900 Loss 0.0713\n",
            "Epoch 21 Batch 1000 Loss 0.0560\n",
            "Epoch 21 Batch 1100 Loss 0.0781\n",
            "Epoch 21 Batch 1200 Loss 0.0833\n",
            "Epoch 21 Loss 0.0521\n",
            "Time taken for 1 epoch 221.80302000045776 sec\n",
            "\n",
            "Epoch 22 Batch 0 Loss 0.0359\n",
            "Epoch 22 Batch 100 Loss 0.0567\n",
            "Epoch 22 Batch 200 Loss 0.0382\n",
            "Epoch 22 Batch 300 Loss 0.0511\n",
            "Epoch 22 Batch 400 Loss 0.0409\n",
            "Epoch 22 Batch 500 Loss 0.0617\n",
            "Epoch 22 Batch 600 Loss 0.0406\n",
            "Epoch 22 Batch 700 Loss 0.0518\n",
            "Epoch 22 Batch 800 Loss 0.0561\n",
            "Epoch 22 Batch 900 Loss 0.0805\n",
            "Epoch 22 Batch 1000 Loss 0.0486\n",
            "Epoch 22 Batch 1100 Loss 0.0546\n",
            "Epoch 22 Batch 1200 Loss 0.0461\n",
            "Epoch 22 Loss 0.0515\n",
            "Time taken for 1 epoch 222.94869112968445 sec\n",
            "\n",
            "Epoch 23 Batch 0 Loss 0.0243\n",
            "Epoch 23 Batch 100 Loss 0.0421\n",
            "Epoch 23 Batch 200 Loss 0.0352\n",
            "Epoch 23 Batch 300 Loss 0.0510\n",
            "Epoch 23 Batch 400 Loss 0.0357\n",
            "Epoch 23 Batch 500 Loss 0.0627\n",
            "Epoch 23 Batch 600 Loss 0.0586\n",
            "Epoch 23 Batch 700 Loss 0.0360\n",
            "Epoch 23 Batch 800 Loss 0.0511\n",
            "Epoch 23 Batch 900 Loss 0.0648\n",
            "Epoch 23 Batch 1000 Loss 0.0584\n",
            "Epoch 23 Batch 1100 Loss 0.0857\n",
            "Epoch 23 Batch 1200 Loss 0.0390\n",
            "Epoch 23 Loss 0.0508\n",
            "Time taken for 1 epoch 222.26177310943604 sec\n",
            "\n",
            "Epoch 24 Batch 0 Loss 0.0168\n",
            "Epoch 24 Batch 100 Loss 0.0522\n",
            "Epoch 24 Batch 200 Loss 0.0523\n",
            "Epoch 24 Batch 300 Loss 0.0376\n",
            "Epoch 24 Batch 400 Loss 0.0446\n",
            "Epoch 24 Batch 500 Loss 0.0666\n",
            "Epoch 24 Batch 600 Loss 0.0481\n",
            "Epoch 24 Batch 700 Loss 0.0490\n",
            "Epoch 24 Batch 800 Loss 0.0372\n",
            "Epoch 24 Batch 900 Loss 0.0480\n",
            "Epoch 24 Batch 1000 Loss 0.0438\n",
            "Epoch 24 Batch 1100 Loss 0.0553\n",
            "Epoch 24 Batch 1200 Loss 0.0554\n",
            "Epoch 24 Loss 0.0491\n",
            "Time taken for 1 epoch 223.0403552055359 sec\n",
            "\n",
            "Epoch 25 Batch 0 Loss 0.0332\n",
            "Epoch 25 Batch 100 Loss 0.0419\n",
            "Epoch 25 Batch 200 Loss 0.0511\n",
            "Epoch 25 Batch 300 Loss 0.0357\n",
            "Epoch 25 Batch 400 Loss 0.0477\n",
            "Epoch 25 Batch 500 Loss 0.0447\n",
            "Epoch 25 Batch 600 Loss 0.0263\n",
            "Epoch 25 Batch 700 Loss 0.0724\n",
            "Epoch 25 Batch 800 Loss 0.0388\n",
            "Epoch 25 Batch 900 Loss 0.0863\n",
            "Epoch 25 Batch 1000 Loss 0.0520\n",
            "Epoch 25 Batch 1100 Loss 0.0391\n",
            "Epoch 25 Batch 1200 Loss 0.0575\n",
            "Epoch 25 Loss 0.0484\n",
            "Time taken for 1 epoch 221.9543685913086 sec\n",
            "\n",
            "Epoch 26 Batch 0 Loss 0.0382\n",
            "Epoch 26 Batch 100 Loss 0.0385\n",
            "Epoch 26 Batch 200 Loss 0.0277\n",
            "Epoch 26 Batch 300 Loss 0.0490\n",
            "Epoch 26 Batch 400 Loss 0.0616\n",
            "Epoch 26 Batch 500 Loss 0.0450\n",
            "Epoch 26 Batch 600 Loss 0.0361\n",
            "Epoch 26 Batch 700 Loss 0.0429\n",
            "Epoch 26 Batch 800 Loss 0.0751\n",
            "Epoch 26 Batch 900 Loss 0.0508\n",
            "Epoch 26 Batch 1000 Loss 0.0318\n",
            "Epoch 26 Batch 1100 Loss 0.0797\n",
            "Epoch 26 Batch 1200 Loss 0.0740\n",
            "Epoch 26 Loss 0.0477\n",
            "Time taken for 1 epoch 222.89181852340698 sec\n",
            "\n",
            "Epoch 27 Batch 0 Loss 0.0273\n",
            "Epoch 27 Batch 100 Loss 0.0285\n",
            "Epoch 27 Batch 200 Loss 0.0277\n",
            "Epoch 27 Batch 300 Loss 0.0241\n",
            "Epoch 27 Batch 400 Loss 0.0382\n",
            "Epoch 27 Batch 500 Loss 0.0780\n",
            "Epoch 27 Batch 600 Loss 0.0210\n",
            "Epoch 27 Batch 700 Loss 0.0576\n",
            "Epoch 27 Batch 800 Loss 0.0492\n",
            "Epoch 27 Batch 900 Loss 0.0674\n",
            "Epoch 27 Batch 1000 Loss 0.0505\n",
            "Epoch 27 Batch 1100 Loss 0.0573\n",
            "Epoch 27 Batch 1200 Loss 0.0483\n",
            "Epoch 27 Loss 0.0479\n",
            "Time taken for 1 epoch 221.72125458717346 sec\n",
            "\n",
            "Epoch 28 Batch 0 Loss 0.0417\n",
            "Epoch 28 Batch 100 Loss 0.0306\n",
            "Epoch 28 Batch 200 Loss 0.0298\n",
            "Epoch 28 Batch 300 Loss 0.0431\n",
            "Epoch 28 Batch 400 Loss 0.0458\n",
            "Epoch 28 Batch 500 Loss 0.0350\n",
            "Epoch 28 Batch 600 Loss 0.0284\n",
            "Epoch 28 Batch 700 Loss 0.0632\n",
            "Epoch 28 Batch 800 Loss 0.0753\n",
            "Epoch 28 Batch 900 Loss 0.0550\n",
            "Epoch 28 Batch 1000 Loss 0.0524\n",
            "Epoch 28 Batch 1100 Loss 0.0631\n",
            "Epoch 28 Batch 1200 Loss 0.0830\n",
            "Epoch 28 Loss 0.0463\n",
            "Time taken for 1 epoch 222.44030809402466 sec\n",
            "\n",
            "Epoch 29 Batch 0 Loss 0.0400\n",
            "Epoch 29 Batch 100 Loss 0.0232\n",
            "Epoch 29 Batch 200 Loss 0.0298\n",
            "Epoch 29 Batch 300 Loss 0.0290\n",
            "Epoch 29 Batch 400 Loss 0.0414\n",
            "Epoch 29 Batch 500 Loss 0.0424\n",
            "Epoch 29 Batch 600 Loss 0.0534\n",
            "Epoch 29 Batch 700 Loss 0.0280\n",
            "Epoch 29 Batch 800 Loss 0.0427\n",
            "Epoch 29 Batch 900 Loss 0.0641\n",
            "Epoch 29 Batch 1000 Loss 0.0468\n",
            "Epoch 29 Batch 1100 Loss 0.0653\n",
            "Epoch 29 Batch 1200 Loss 0.0487\n",
            "Epoch 29 Loss 0.0460\n",
            "Time taken for 1 epoch 222.25127696990967 sec\n",
            "\n",
            "Epoch 30 Batch 0 Loss 0.0348\n",
            "Epoch 30 Batch 100 Loss 0.0221\n",
            "Epoch 30 Batch 200 Loss 0.0435\n",
            "Epoch 30 Batch 300 Loss 0.0447\n",
            "Epoch 30 Batch 400 Loss 0.0370\n",
            "Epoch 30 Batch 500 Loss 0.0398\n",
            "Epoch 30 Batch 600 Loss 0.0374\n",
            "Epoch 30 Batch 700 Loss 0.0320\n",
            "Epoch 30 Batch 800 Loss 0.0456\n",
            "Epoch 30 Batch 900 Loss 0.0252\n",
            "Epoch 30 Batch 1000 Loss 0.0591\n",
            "Epoch 30 Batch 1100 Loss 0.0378\n",
            "Epoch 30 Batch 1200 Loss 0.0505\n",
            "Epoch 30 Loss 0.0449\n",
            "Time taken for 1 epoch 222.66095209121704 sec\n",
            "\n",
            "Epoch 31 Batch 0 Loss 0.0294\n",
            "Epoch 31 Batch 100 Loss 0.0271\n",
            "Epoch 31 Batch 200 Loss 0.0500\n",
            "Epoch 31 Batch 300 Loss 0.0326\n",
            "Epoch 31 Batch 400 Loss 0.0419\n",
            "Epoch 31 Batch 500 Loss 0.0327\n",
            "Epoch 31 Batch 600 Loss 0.0559\n",
            "Epoch 31 Batch 700 Loss 0.0176\n",
            "Epoch 31 Batch 800 Loss 0.0549\n",
            "Epoch 31 Batch 900 Loss 0.0481\n",
            "Epoch 31 Batch 1000 Loss 0.0544\n",
            "Epoch 31 Batch 1100 Loss 0.0385\n",
            "Epoch 31 Batch 1200 Loss 0.0439\n",
            "Epoch 31 Loss 0.0450\n",
            "Time taken for 1 epoch 221.92943739891052 sec\n",
            "\n",
            "Epoch 32 Batch 0 Loss 0.0286\n",
            "Epoch 32 Batch 100 Loss 0.0268\n",
            "Epoch 32 Batch 200 Loss 0.0459\n",
            "Epoch 32 Batch 300 Loss 0.0378\n",
            "Epoch 32 Batch 400 Loss 0.0625\n",
            "Epoch 32 Batch 500 Loss 0.0452\n",
            "Epoch 32 Batch 600 Loss 0.0669\n",
            "Epoch 32 Batch 700 Loss 0.0361\n",
            "Epoch 32 Batch 800 Loss 0.0277\n",
            "Epoch 32 Batch 900 Loss 0.0481\n",
            "Epoch 32 Batch 1000 Loss 0.0575\n",
            "Epoch 32 Batch 1100 Loss 0.0347\n",
            "Epoch 32 Batch 1200 Loss 0.0350\n",
            "Epoch 32 Loss 0.0437\n",
            "Time taken for 1 epoch 222.6637887954712 sec\n",
            "\n",
            "Epoch 33 Batch 0 Loss 0.0276\n",
            "Epoch 33 Batch 100 Loss 0.0456\n",
            "Epoch 33 Batch 200 Loss 0.0492\n",
            "Epoch 33 Batch 300 Loss 0.0392\n",
            "Epoch 33 Batch 400 Loss 0.0343\n",
            "Epoch 33 Batch 500 Loss 0.0216\n",
            "Epoch 33 Batch 600 Loss 0.0458\n",
            "Epoch 33 Batch 700 Loss 0.0166\n",
            "Epoch 33 Batch 800 Loss 0.0455\n",
            "Epoch 33 Batch 900 Loss 0.0394\n",
            "Epoch 33 Batch 1000 Loss 0.0599\n",
            "Epoch 33 Batch 1100 Loss 0.0521\n",
            "Epoch 33 Batch 1200 Loss 0.0600\n",
            "Epoch 33 Loss 0.0435\n",
            "Time taken for 1 epoch 222.37796020507812 sec\n",
            "\n",
            "Epoch 34 Batch 0 Loss 0.0254\n",
            "Epoch 34 Batch 100 Loss 0.0471\n",
            "Epoch 34 Batch 200 Loss 0.0153\n",
            "Epoch 34 Batch 300 Loss 0.0352\n",
            "Epoch 34 Batch 400 Loss 0.0256\n",
            "Epoch 34 Batch 500 Loss 0.0296\n",
            "Epoch 34 Batch 600 Loss 0.0582\n",
            "Epoch 34 Batch 700 Loss 0.0451\n",
            "Epoch 34 Batch 800 Loss 0.0333\n",
            "Epoch 34 Batch 900 Loss 0.0668\n",
            "Epoch 34 Batch 1000 Loss 0.0347\n",
            "Epoch 34 Batch 1100 Loss 0.0604\n",
            "Epoch 34 Batch 1200 Loss 0.0391\n",
            "Epoch 34 Loss 0.0435\n",
            "Time taken for 1 epoch 222.6079399585724 sec\n",
            "\n",
            "Epoch 35 Batch 0 Loss 0.0209\n",
            "Epoch 35 Batch 100 Loss 0.0641\n",
            "Epoch 35 Batch 200 Loss 0.0550\n",
            "Epoch 35 Batch 300 Loss 0.0229\n",
            "Epoch 35 Batch 400 Loss 0.0602\n",
            "Epoch 35 Batch 500 Loss 0.0245\n",
            "Epoch 35 Batch 600 Loss 0.0296\n",
            "Epoch 35 Batch 700 Loss 0.0453\n",
            "Epoch 35 Batch 800 Loss 0.0495\n",
            "Epoch 35 Batch 900 Loss 0.0381\n",
            "Epoch 35 Batch 1000 Loss 0.0294\n",
            "Epoch 35 Batch 1100 Loss 0.0347\n",
            "Epoch 35 Batch 1200 Loss 0.0389\n",
            "Epoch 35 Loss 0.0427\n",
            "Time taken for 1 epoch 222.03322052955627 sec\n",
            "\n",
            "Epoch 36 Batch 0 Loss 0.0398\n",
            "Epoch 36 Batch 100 Loss 0.0424\n",
            "Epoch 36 Batch 200 Loss 0.0309\n",
            "Epoch 36 Batch 300 Loss 0.0229\n",
            "Epoch 36 Batch 400 Loss 0.0369\n",
            "Epoch 36 Batch 500 Loss 0.0521\n",
            "Epoch 36 Batch 600 Loss 0.0505\n",
            "Epoch 36 Batch 700 Loss 0.0477\n",
            "Epoch 36 Batch 800 Loss 0.0463\n",
            "Epoch 36 Batch 900 Loss 0.0592\n",
            "Epoch 36 Batch 1000 Loss 0.0394\n",
            "Epoch 36 Batch 1100 Loss 0.0472\n",
            "Epoch 36 Batch 1200 Loss 0.0765\n",
            "Epoch 36 Loss 0.0422\n",
            "Time taken for 1 epoch 222.97723722457886 sec\n",
            "\n",
            "Epoch 37 Batch 0 Loss 0.0258\n",
            "Epoch 37 Batch 100 Loss 0.0320\n",
            "Epoch 37 Batch 200 Loss 0.0414\n",
            "Epoch 37 Batch 300 Loss 0.0463\n",
            "Epoch 37 Batch 400 Loss 0.0232\n",
            "Epoch 37 Batch 500 Loss 0.0476\n",
            "Epoch 37 Batch 600 Loss 0.0479\n",
            "Epoch 37 Batch 700 Loss 0.0392\n",
            "Epoch 37 Batch 800 Loss 0.0366\n",
            "Epoch 37 Batch 900 Loss 0.0307\n",
            "Epoch 37 Batch 1000 Loss 0.0334\n",
            "Epoch 37 Batch 1100 Loss 0.0337\n",
            "Epoch 37 Batch 1200 Loss 0.0477\n",
            "Epoch 37 Loss 0.0416\n",
            "Time taken for 1 epoch 223.03317832946777 sec\n",
            "\n",
            "Epoch 38 Batch 0 Loss 0.0319\n",
            "Epoch 38 Batch 100 Loss 0.0297\n",
            "Epoch 38 Batch 200 Loss 0.0353\n",
            "Epoch 38 Batch 300 Loss 0.0615\n",
            "Epoch 38 Batch 400 Loss 0.0429\n",
            "Epoch 38 Batch 500 Loss 0.0701\n",
            "Epoch 38 Batch 600 Loss 0.0532\n",
            "Epoch 38 Batch 700 Loss 0.0297\n",
            "Epoch 38 Batch 800 Loss 0.0430\n",
            "Epoch 38 Batch 900 Loss 0.0331\n",
            "Epoch 38 Batch 1000 Loss 0.0756\n",
            "Epoch 38 Batch 1100 Loss 0.0507\n",
            "Epoch 38 Batch 1200 Loss 0.0408\n",
            "Epoch 38 Loss 0.0414\n",
            "Time taken for 1 epoch 223.56096601486206 sec\n",
            "\n",
            "Epoch 39 Batch 0 Loss 0.0250\n",
            "Epoch 39 Batch 100 Loss 0.0224\n",
            "Epoch 39 Batch 200 Loss 0.0385\n",
            "Epoch 39 Batch 300 Loss 0.0304\n",
            "Epoch 39 Batch 400 Loss 0.0282\n",
            "Epoch 39 Batch 500 Loss 0.0181\n",
            "Epoch 39 Batch 600 Loss 0.0334\n",
            "Epoch 39 Batch 700 Loss 0.0322\n",
            "Epoch 39 Batch 800 Loss 0.0459\n",
            "Epoch 39 Batch 900 Loss 0.0680\n",
            "Epoch 39 Batch 1000 Loss 0.0303\n",
            "Epoch 39 Batch 1100 Loss 0.0460\n",
            "Epoch 39 Batch 1200 Loss 0.0349\n",
            "Epoch 39 Loss 0.0414\n",
            "Time taken for 1 epoch 222.50817966461182 sec\n",
            "\n",
            "Epoch 40 Batch 0 Loss 0.0414\n",
            "Epoch 40 Batch 100 Loss 0.0381\n",
            "Epoch 40 Batch 200 Loss 0.0315\n",
            "Epoch 40 Batch 300 Loss 0.0462\n",
            "Epoch 40 Batch 400 Loss 0.0553\n",
            "Epoch 40 Batch 500 Loss 0.0576\n",
            "Epoch 40 Batch 600 Loss 0.0531\n",
            "Epoch 40 Batch 700 Loss 0.0507\n",
            "Epoch 40 Batch 800 Loss 0.0435\n",
            "Epoch 40 Batch 900 Loss 0.0528\n",
            "Epoch 40 Batch 1000 Loss 0.0492\n",
            "Epoch 40 Batch 1100 Loss 0.0638\n",
            "Epoch 40 Batch 1200 Loss 0.0456\n",
            "Epoch 40 Loss 0.0425\n",
            "Time taken for 1 epoch 223.1431267261505 sec\n",
            "\n",
            "Epoch 41 Batch 0 Loss 0.0207\n",
            "Epoch 41 Batch 100 Loss 0.0318\n",
            "Epoch 41 Batch 200 Loss 0.0458\n",
            "Epoch 41 Batch 300 Loss 0.0333\n",
            "Epoch 41 Batch 400 Loss 0.0508\n",
            "Epoch 41 Batch 500 Loss 0.0301\n",
            "Epoch 41 Batch 600 Loss 0.0182\n",
            "Epoch 41 Batch 700 Loss 0.0532\n",
            "Epoch 41 Batch 800 Loss 0.0460\n",
            "Epoch 41 Batch 900 Loss 0.0287\n",
            "Epoch 41 Batch 1000 Loss 0.0404\n",
            "Epoch 41 Batch 1100 Loss 0.0593\n",
            "Epoch 41 Batch 1200 Loss 0.0434\n",
            "Epoch 41 Loss 0.0396\n",
            "Time taken for 1 epoch 222.49309372901917 sec\n",
            "\n",
            "Epoch 42 Batch 0 Loss 0.0258\n",
            "Epoch 42 Batch 100 Loss 0.0239\n",
            "Epoch 42 Batch 200 Loss 0.0402\n",
            "Epoch 42 Batch 300 Loss 0.0391\n",
            "Epoch 42 Batch 400 Loss 0.0278\n",
            "Epoch 42 Batch 500 Loss 0.0586\n",
            "Epoch 42 Batch 600 Loss 0.0329\n",
            "Epoch 42 Batch 700 Loss 0.0273\n",
            "Epoch 42 Batch 800 Loss 0.0610\n",
            "Epoch 42 Batch 900 Loss 0.0350\n",
            "Epoch 42 Batch 1000 Loss 0.0447\n",
            "Epoch 42 Batch 1100 Loss 0.0651\n",
            "Epoch 42 Batch 1200 Loss 0.0469\n",
            "Epoch 42 Loss 0.0386\n",
            "Time taken for 1 epoch 223.08340620994568 sec\n",
            "\n",
            "Epoch 43 Batch 0 Loss 0.0369\n",
            "Epoch 43 Batch 100 Loss 0.0329\n",
            "Epoch 43 Batch 200 Loss 0.0315\n",
            "Epoch 43 Batch 300 Loss 0.0212\n",
            "Epoch 43 Batch 400 Loss 0.0690\n",
            "Epoch 43 Batch 500 Loss 0.0329\n",
            "Epoch 43 Batch 600 Loss 0.0518\n",
            "Epoch 43 Batch 700 Loss 0.0252\n",
            "Epoch 43 Batch 800 Loss 0.0159\n",
            "Epoch 43 Batch 900 Loss 0.0461\n",
            "Epoch 43 Batch 1000 Loss 0.0474\n",
            "Epoch 43 Batch 1100 Loss 0.0318\n",
            "Epoch 43 Batch 1200 Loss 0.0490\n",
            "Epoch 43 Loss 0.0396\n",
            "Time taken for 1 epoch 222.53327989578247 sec\n",
            "\n",
            "Epoch 44 Batch 0 Loss 0.0323\n",
            "Epoch 44 Batch 100 Loss 0.0252\n",
            "Epoch 44 Batch 200 Loss 0.0275\n",
            "Epoch 44 Batch 300 Loss 0.0359\n",
            "Epoch 44 Batch 400 Loss 0.0310\n",
            "Epoch 44 Batch 500 Loss 0.0318\n",
            "Epoch 44 Batch 600 Loss 0.0274\n",
            "Epoch 44 Batch 700 Loss 0.0413\n",
            "Epoch 44 Batch 800 Loss 0.0544\n",
            "Epoch 44 Batch 900 Loss 0.0464\n",
            "Epoch 44 Batch 1000 Loss 0.0257\n",
            "Epoch 44 Batch 1100 Loss 0.0512\n",
            "Epoch 44 Batch 1200 Loss 0.0565\n",
            "Epoch 44 Loss 0.0399\n",
            "Time taken for 1 epoch 223.05990386009216 sec\n",
            "\n",
            "Epoch 45 Batch 0 Loss 0.0271\n",
            "Epoch 45 Batch 100 Loss 0.0100\n",
            "Epoch 45 Batch 200 Loss 0.0179\n",
            "Epoch 45 Batch 300 Loss 0.0423\n",
            "Epoch 45 Batch 400 Loss 0.0632\n",
            "Epoch 45 Batch 500 Loss 0.0300\n",
            "Epoch 45 Batch 600 Loss 0.0349\n",
            "Epoch 45 Batch 700 Loss 0.0171\n",
            "Epoch 45 Batch 800 Loss 0.0603\n",
            "Epoch 45 Batch 900 Loss 0.0490\n",
            "Epoch 45 Batch 1000 Loss 0.0319\n",
            "Epoch 45 Batch 1100 Loss 0.0291\n",
            "Epoch 45 Batch 1200 Loss 0.0746\n",
            "Epoch 45 Loss 0.0397\n",
            "Time taken for 1 epoch 222.45233035087585 sec\n",
            "\n",
            "Epoch 46 Batch 0 Loss 0.0307\n",
            "Epoch 46 Batch 100 Loss 0.0227\n",
            "Epoch 46 Batch 200 Loss 0.0155\n",
            "Epoch 46 Batch 300 Loss 0.0319\n",
            "Epoch 46 Batch 400 Loss 0.0351\n",
            "Epoch 46 Batch 500 Loss 0.0313\n",
            "Epoch 46 Batch 600 Loss 0.0490\n",
            "Epoch 46 Batch 700 Loss 0.0471\n",
            "Epoch 46 Batch 800 Loss 0.0401\n",
            "Epoch 46 Batch 900 Loss 0.0359\n",
            "Epoch 46 Batch 1000 Loss 0.0533\n",
            "Epoch 46 Batch 1100 Loss 0.0175\n",
            "Epoch 46 Batch 1200 Loss 0.0540\n",
            "Epoch 46 Loss 0.0395\n",
            "Time taken for 1 epoch 223.1010546684265 sec\n",
            "\n",
            "Epoch 47 Batch 0 Loss 0.0223\n",
            "Epoch 47 Batch 100 Loss 0.0151\n",
            "Epoch 47 Batch 200 Loss 0.0131\n",
            "Epoch 47 Batch 300 Loss 0.0295\n",
            "Epoch 47 Batch 400 Loss 0.0612\n",
            "Epoch 47 Batch 500 Loss 0.0316\n",
            "Epoch 47 Batch 600 Loss 0.0245\n",
            "Epoch 47 Batch 700 Loss 0.0310\n",
            "Epoch 47 Batch 800 Loss 0.0429\n",
            "Epoch 47 Batch 900 Loss 0.0459\n",
            "Epoch 47 Batch 1000 Loss 0.0463\n",
            "Epoch 47 Batch 1100 Loss 0.0446\n",
            "Epoch 47 Batch 1200 Loss 0.0418\n",
            "Epoch 47 Loss 0.0390\n",
            "Time taken for 1 epoch 222.45667552947998 sec\n",
            "\n",
            "Epoch 48 Batch 0 Loss 0.0156\n",
            "Epoch 48 Batch 100 Loss 0.0265\n",
            "Epoch 48 Batch 200 Loss 0.0202\n",
            "Epoch 48 Batch 300 Loss 0.0429\n",
            "Epoch 48 Batch 400 Loss 0.0328\n",
            "Epoch 48 Batch 500 Loss 0.0337\n",
            "Epoch 48 Batch 600 Loss 0.0439\n",
            "Epoch 48 Batch 700 Loss 0.0323\n",
            "Epoch 48 Batch 800 Loss 0.0478\n",
            "Epoch 48 Batch 900 Loss 0.0275\n",
            "Epoch 48 Batch 1000 Loss 0.0351\n",
            "Epoch 48 Batch 1100 Loss 0.0335\n",
            "Epoch 48 Batch 1200 Loss 0.0467\n",
            "Epoch 48 Loss 0.0386\n",
            "Time taken for 1 epoch 223.14382219314575 sec\n",
            "\n",
            "Epoch 49 Batch 0 Loss 0.0260\n",
            "Epoch 49 Batch 100 Loss 0.0453\n",
            "Epoch 49 Batch 200 Loss 0.0262\n",
            "Epoch 49 Batch 300 Loss 0.0290\n",
            "Epoch 49 Batch 400 Loss 0.0332\n",
            "Epoch 49 Batch 500 Loss 0.0355\n",
            "Epoch 49 Batch 600 Loss 0.0367\n",
            "Epoch 49 Batch 700 Loss 0.0506\n",
            "Epoch 49 Batch 800 Loss 0.0469\n",
            "Epoch 49 Batch 900 Loss 0.0412\n",
            "Epoch 49 Batch 1000 Loss 0.0554\n",
            "Epoch 49 Batch 1100 Loss 0.0376\n",
            "Epoch 49 Batch 1200 Loss 0.0312\n",
            "Epoch 49 Loss 0.0392\n",
            "Time taken for 1 epoch 222.16886448860168 sec\n",
            "\n",
            "Epoch 50 Batch 0 Loss 0.0196\n",
            "Epoch 50 Batch 100 Loss 0.0313\n",
            "Epoch 50 Batch 200 Loss 0.0270\n",
            "Epoch 50 Batch 300 Loss 0.0300\n",
            "Epoch 50 Batch 400 Loss 0.0331\n",
            "Epoch 50 Batch 500 Loss 0.0389\n",
            "Epoch 50 Batch 600 Loss 0.0434\n",
            "Epoch 50 Batch 700 Loss 0.0383\n",
            "Epoch 50 Batch 800 Loss 0.0325\n",
            "Epoch 50 Batch 900 Loss 0.0277\n",
            "Epoch 50 Batch 1000 Loss 0.0469\n",
            "Epoch 50 Batch 1100 Loss 0.0747\n",
            "Epoch 50 Batch 1200 Loss 0.0325\n",
            "Epoch 50 Loss 0.0383\n",
            "Time taken for 1 epoch 222.9893298149109 sec\n",
            "\n"
          ]
        }
      ]
    },
    {
      "cell_type": "markdown",
      "metadata": {
        "id": "mU3Ce8M6I3rz"
      },
      "source": [
        "## Translate\n",
        "\n",
        "* The evaluate function is similar to the training loop, except we don't use *teacher forcing* here. The input to the decoder at each time step is its previous predictions along with the hidden state and the encoder output.\n",
        "* Stop predicting when the model predicts the *end token*.\n",
        "* And store the *attention weights for every time step*.\n",
        "\n",
        "Note: The encoder output is calculated only once for one input."
      ]
    },
    {
      "cell_type": "code",
      "metadata": {
        "id": "EbQpyYs13jF_"
      },
      "source": [
        "def evaluate(sentence):\n",
        "  attention_plot = np.zeros((max_length_targ, max_length_inp))\n",
        "\n",
        "  sentence = preprocess_sentence(sentence)\n",
        "\n",
        "  inputs = [inp_lang.word_index[i] for i in sentence.split(' ')]\n",
        "  inputs = tf.keras.preprocessing.sequence.pad_sequences([inputs],\n",
        "                                                         maxlen=max_length_inp,\n",
        "                                                         padding='post')\n",
        "  inputs = tf.convert_to_tensor(inputs)\n",
        "\n",
        "  result = ''\n",
        "\n",
        "  hidden = [tf.zeros((1, units))]\n",
        "  enc_out, enc_hidden = encoder(inputs, hidden)\n",
        "\n",
        "  dec_hidden = enc_hidden\n",
        "  dec_input = tf.expand_dims([targ_lang.word_index['<start>']], 0)\n",
        "\n",
        "  for t in range(max_length_targ):\n",
        "    predictions, dec_hidden, attention_weights = decoder(dec_input,\n",
        "                                                         dec_hidden,\n",
        "                                                         enc_out)\n",
        "\n",
        "    # storing the attention weights to plot later on\n",
        "    attention_weights = tf.reshape(attention_weights, (-1, ))\n",
        "    attention_plot[t] = attention_weights.numpy()\n",
        "\n",
        "    predicted_id = tf.argmax(predictions[0]).numpy()\n",
        "\n",
        "    result += targ_lang.index_word[predicted_id] + ' '\n",
        "\n",
        "    if targ_lang.index_word[predicted_id] == '<end>':\n",
        "      return result, sentence, attention_plot\n",
        "\n",
        "    # the predicted ID is fed back into the model\n",
        "    dec_input = tf.expand_dims([predicted_id], 0)\n",
        "\n",
        "  return result, sentence, attention_plot"
      ],
      "execution_count": 29,
      "outputs": []
    },
    {
      "cell_type": "code",
      "metadata": {
        "id": "Qjy26Fe8Bv5d"
      },
      "source": [
        "# function for plotting the attention weights\n",
        "def plot_attention(attention, sentence, predicted_sentence):\n",
        "  fig = plt.figure(figsize=(10,10))\n",
        "  ax = fig.add_subplot(1, 1, 1)\n",
        "  ax.matshow(attention, cmap='viridis')\n",
        "\n",
        "  fontdict = {'fontsize': 14}\n",
        "\n",
        "  ax.set_xticklabels([''] + sentence, fontdict=fontdict, rotation=90)\n",
        "  ax.set_yticklabels([''] + predicted_sentence, fontdict=fontdict)\n",
        "\n",
        "  ax.xaxis.set_major_locator(ticker.MultipleLocator(1))\n",
        "  ax.yaxis.set_major_locator(ticker.MultipleLocator(1))\n",
        "\n",
        "  plt.show()"
      ],
      "execution_count": 30,
      "outputs": []
    },
    {
      "cell_type": "code",
      "metadata": {
        "id": "sl9zUHzg3jGI"
      },
      "source": [
        "def translate(sentence):\n",
        "  result, sentence, attention_plot = evaluate(sentence)\n",
        "\n",
        "  print('Input: %s' % (sentence))\n",
        "  print('Predicted translation: {}'.format(result))\n",
        "\n",
        "  attention_plot = attention_plot[:len(result.split(' ')), :len(sentence.split(' '))]\n",
        "  plot_attention(attention_plot, sentence.split(' '), result.split(' '))"
      ],
      "execution_count": 31,
      "outputs": []
    },
    {
      "cell_type": "markdown",
      "metadata": {
        "id": "n250XbnjOaqP"
      },
      "source": [
        "## Restore the latest checkpoint and test"
      ]
    },
    {
      "cell_type": "code",
      "metadata": {
        "id": "UJpT9D5_OgP6",
        "colab": {
          "base_uri": "https://localhost:8080/"
        },
        "outputId": "8b2dbbd2-ed91-42eb-853c-33fa01efa2fc"
      },
      "source": [
        "# restoring the latest checkpoint in checkpoint_dir\n",
        "checkpoint.restore(tf.train.latest_checkpoint(checkpoint_dir))"
      ],
      "execution_count": 32,
      "outputs": [
        {
          "output_type": "execute_result",
          "data": {
            "text/plain": [
              "<tensorflow.python.training.tracking.util.CheckpointLoadStatus at 0x7fbebe2aa9d0>"
            ]
          },
          "metadata": {},
          "execution_count": 32
        }
      ]
    },
    {
      "cell_type": "code",
      "metadata": {
        "id": "WrAM0FDomq3E",
        "colab": {
          "base_uri": "https://localhost:8080/",
          "height": 675
        },
        "outputId": "9ab86292-9c04-43d8-d2d8-3cf650510875"
      },
      "source": [
        "translate('Здесь хорошо.')"
      ],
      "execution_count": 33,
      "outputs": [
        {
          "output_type": "stream",
          "name": "stdout",
          "text": [
            "Input: <start> здесь хорошо . <end>\n",
            "Predicted translation: there's no one here . <end> \n"
          ]
        },
        {
          "output_type": "display_data",
          "data": {
            "image/png": "[encoded data removed]",
            "text/plain": [
              "<Figure size 720x720 with 1 Axes>"
            ]
          },
          "metadata": {
            "needs_background": "light"
          }
        }
      ]
    },
    {
      "cell_type": "code",
      "metadata": {
        "id": "5bhFfwcIMX5i",
        "colab": {
          "base_uri": "https://localhost:8080/",
          "height": 613
        },
        "outputId": "f8c66bdb-dc8d-4b9d-e657-2e871783e7d1"
      },
      "source": [
        "translate('Я не смогу поехать.')"
      ],
      "execution_count": 34,
      "outputs": [
        {
          "output_type": "stream",
          "name": "stdout",
          "text": [
            "Input: <start> я не смогу поехать . <end>\n",
            "Predicted translation: i can't go . <end> \n"
          ]
        },
        {
          "output_type": "display_data",
          "data": {
            "image/png": "[encoded data removed]",
            "text/plain": [
              "<Figure size 720x720 with 1 Axes>"
            ]
          },
          "metadata": {
            "needs_background": "light"
          }
        }
      ]
    },
    {
      "cell_type": "code",
      "metadata": {
        "id": "zSx2iM36EZQZ",
        "colab": {
          "base_uri": "https://localhost:8080/",
          "height": 675
        },
        "outputId": "122642de-3891-4452-9722-8b183180d39c"
      },
      "source": [
        "translate(u'Вы еще дома?')"
      ],
      "execution_count": 35,
      "outputs": [
        {
          "output_type": "stream",
          "name": "stdout",
          "text": [
            "Input: <start> вы еще дома ? <end>\n",
            "Predicted translation: are you still at home ? <end> \n"
          ]
        },
        {
          "output_type": "display_data",
          "data": {
            "image/png": "[encoded data removed]",
            "text/plain": [
              "<Figure size 720x720 with 1 Axes>"
            ]
          },
          "metadata": {
            "needs_background": "light"
          }
        }
      ]
    },
    {
      "cell_type": "code",
      "metadata": {
        "id": "A3LLCx3ZE0Ls",
        "colab": {
          "base_uri": "https://localhost:8080/",
          "height": 675
        },
        "outputId": "ef6959d3-1ead-4395-d75c-574042237c56"
      },
      "source": [
        "translate(u'Вы все еще дома?')"
      ],
      "execution_count": 36,
      "outputs": [
        {
          "output_type": "stream",
          "name": "stdout",
          "text": [
            "Input: <start> вы все еще дома ? <end>\n",
            "Predicted translation: are you still at home ? <end> \n"
          ]
        },
        {
          "output_type": "display_data",
          "data": {
            "image/png": "[encoded data removed]",
            "text/plain": [
              "<Figure size 720x720 with 1 Axes>"
            ]
          },
          "metadata": {
            "needs_background": "light"
          }
        }
      ]
    },
    {
      "cell_type": "code",
      "metadata": {
        "id": "DUQVLVqUE1YW",
        "colab": {
          "base_uri": "https://localhost:8080/",
          "height": 689
        },
        "outputId": "a6bdfbdd-6d6f-4a84-a7cf-7d67565da2b0"
      },
      "source": [
        "translate(u'Попробуй сделать это.')"
      ],
      "execution_count": 37,
      "outputs": [
        {
          "output_type": "stream",
          "name": "stdout",
          "text": [
            "Input: <start> попробуй сделать это . <end>\n",
            "Predicted translation: try doing that . <end> \n"
          ]
        },
        {
          "output_type": "display_data",
          "data": {
            "image/png": "[encoded data removed]",
            "text/plain": [
              "<Figure size 720x720 with 1 Axes>"
            ]
          },
          "metadata": {
            "needs_background": "light"
          }
        }
      ]
    },
    {
      "cell_type": "code",
      "metadata": {
        "id": "f09_hUFx9EJh",
        "colab": {
          "base_uri": "https://localhost:8080/",
          "height": 578
        },
        "outputId": "df1b1a50-2103-4b4c-d08a-a8ca704dcc12"
      },
      "source": [
        "translate(u'Я не люблю, когда идет снег.')"
      ],
      "execution_count": 38,
      "outputs": [
        {
          "output_type": "stream",
          "name": "stdout",
          "text": [
            "Input: <start> я не люблю , когда идет снег . <end>\n",
            "Predicted translation: i don't go it snow . <end> \n"
          ]
        },
        {
          "output_type": "display_data",
          "data": {
            "image/png": "[encoded data removed]",
            "text/plain": [
              "<Figure size 720x720 with 1 Axes>"
            ]
          },
          "metadata": {
            "needs_background": "light"
          }
        }
      ]
    },
    {
      "cell_type": "code",
      "metadata": {
        "id": "e7c5p8rmkHQG",
        "colab": {
          "base_uri": "https://localhost:8080/",
          "height": 625
        },
        "outputId": "75c8ef17-5ce6-4423-b3d8-bb3f674b4352"
      },
      "source": [
        "translate(u'Я никогда такого не делаю.')"
      ],
      "execution_count": 39,
      "outputs": [
        {
          "output_type": "stream",
          "name": "stdout",
          "text": [
            "Input: <start> я никогда такого не делаю . <end>\n",
            "Predicted translation: i never do that . <end> \n"
          ]
        },
        {
          "output_type": "display_data",
          "data": {
            "image/png": "[encoded data removed]",
            "text/plain": [
              "<Figure size 720x720 with 1 Axes>"
            ]
          },
          "metadata": {
            "needs_background": "light"
          }
        }
      ]
    },
    {
      "cell_type": "code",
      "metadata": {
        "id": "jdXES85KkTVS"
      },
      "source": [
        ""
      ],
      "execution_count": null,
      "outputs": []
    }
  ]
}
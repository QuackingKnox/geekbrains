{
  "nbformat": 4,
  "nbformat_minor": 0,
  "metadata": {
    "accelerator": "GPU",
    "colab": {
      "name": "hw_lesson_10.ipynb",
      "provenance": [],
      "collapsed_sections": []
    },
    "kernelspec": {
      "display_name": "Python 3",
      "name": "python3"
    }
  },
  "cells": [
    {
      "cell_type": "markdown",
      "metadata": {
        "id": "J0Qjg6vuaHNt"
      },
      "source": [
        "# Neural machine translation"
      ]
    },
    {
      "cell_type": "code",
      "metadata": {
        "id": "tnxXKDjq3jEL"
      },
      "source": [
        "import tensorflow as tf\n",
        "\n",
        "import matplotlib.pyplot as plt\n",
        "import matplotlib.ticker as ticker\n",
        "from sklearn.model_selection import train_test_split\n",
        "\n",
        "import unicodedata\n",
        "import re\n",
        "import numpy as np\n",
        "import os\n",
        "import io\n",
        "import time"
      ],
      "execution_count": 1,
      "outputs": []
    },
    {
      "cell_type": "markdown",
      "metadata": {
        "id": "wfodePkj3jEa"
      },
      "source": [
        "## Download and prepare the dataset\n",
        "\n",
        "We'll use a language dataset provided by http://www.manythings.org/anki/"
      ]
    },
    {
      "cell_type": "code",
      "metadata": {
        "id": "CNvjhDyAKk3U",
        "colab": {
          "base_uri": "https://localhost:8080/"
        },
        "outputId": "b0707a18-8cd0-47bf-84ce-f99e8eaa74d6"
      },
      "source": [
        "!wget http://www.manythings.org/anki/rus-eng.zip"
      ],
      "execution_count": 2,
      "outputs": [
        {
          "output_type": "stream",
          "name": "stdout",
          "text": [
            "--2021-09-03 14:09:16--  http://www.manythings.org/anki/rus-eng.zip\n",
            "Resolving www.manythings.org (www.manythings.org)... 172.67.186.54, 104.21.92.44, 2606:4700:3030::6815:5c2c, ...\n",
            "Connecting to www.manythings.org (www.manythings.org)|172.67.186.54|:80... connected.\n",
            "HTTP request sent, awaiting response... 200 OK\n",
            "Length: 14385451 (14M) [application/zip]\n",
            "Saving to: ‘rus-eng.zip’\n",
            "\n",
            "rus-eng.zip         100%[===================>]  13.72M  11.8MB/s    in 1.2s    \n",
            "\n",
            "2021-09-03 14:09:18 (11.8 MB/s) - ‘rus-eng.zip’ saved [14385451/14385451]\n",
            "\n"
          ]
        }
      ]
    },
    {
      "cell_type": "code",
      "metadata": {
        "id": "83bg17Lr-7XK",
        "colab": {
          "base_uri": "https://localhost:8080/"
        },
        "outputId": "b6f40c7b-1699-4629-d78a-feab38e059d8"
      },
      "source": [
        "!mkdir rus-eng\n",
        "!unzip rus-eng.zip -d rus-eng/"
      ],
      "execution_count": 3,
      "outputs": [
        {
          "output_type": "stream",
          "name": "stdout",
          "text": [
            "Archive:  rus-eng.zip\n",
            "  inflating: rus-eng/rus.txt         \n",
            "  inflating: rus-eng/_about.txt      \n"
          ]
        }
      ]
    },
    {
      "cell_type": "code",
      "metadata": {
        "id": "7o5L92efMMhf",
        "colab": {
          "base_uri": "https://localhost:8080/"
        },
        "outputId": "9a0c4b25-7061-4ad6-cef2-f6896f2ae204"
      },
      "source": [
        "!ls /content/rus-eng/ -lah"
      ],
      "execution_count": 4,
      "outputs": [
        {
          "output_type": "stream",
          "name": "stdout",
          "text": [
            "total 69M\n",
            "drwxr-xr-x 2 root root 4.0K Sep  3 14:09 .\n",
            "drwxr-xr-x 1 root root 4.0K Sep  3 14:09 ..\n",
            "-rw-r--r-- 1 root root 1.5K Jul 14 10:16 _about.txt\n",
            "-rw-r--r-- 1 root root  69M Jul 14 10:16 rus.txt\n"
          ]
        }
      ]
    },
    {
      "cell_type": "code",
      "metadata": {
        "id": "kRVATYOgJs1b"
      },
      "source": [
        "# Download the file\n",
        "path_to_file = \"/content/rus-eng/rus.txt\""
      ],
      "execution_count": 5,
      "outputs": []
    },
    {
      "cell_type": "code",
      "metadata": {
        "id": "rd0jw-eC3jEh"
      },
      "source": [
        "def preprocess_sentence(w):\n",
        "  w = w.lower().strip()\n",
        "\n",
        "  # creating a space between a word and the punctuation following it\n",
        "  # eg: \"he is a boy.\" => \"he is a boy .\"\n",
        "  # Reference:- https://stackoverflow.com/questions/3645931/python-padding-punctuation-with-white-spaces-keeping-punctuation\n",
        "  w = re.sub(r\"([?.!,])\", r\" \\1 \", w)\n",
        "  w = re.sub(r'[\" \"]+', \" \", w)\n",
        "\n",
        "  # replacing everything with space except (a-z, A-Z, \".\", \"?\", \"!\", \",\")\n",
        "  w = re.sub(r\"[^a-zA-Zа-яА-Я?.!,']+\", \" \", w)\n",
        "\n",
        "  w = w.strip()\n",
        "\n",
        "  # adding a start and an end token to the sentence\n",
        "  # so that the model know when to start and stop predicting.\n",
        "  w = '<start> ' + w + ' <end>'\n",
        "  return w"
      ],
      "execution_count": 6,
      "outputs": []
    },
    {
      "cell_type": "code",
      "metadata": {
        "id": "yV9lZXQXNbnH",
        "colab": {
          "base_uri": "https://localhost:8080/",
          "height": 35
        },
        "outputId": "9ee76334-fb6b-4e92-b808-dd773f5a95c1"
      },
      "source": [
        "preprocess_sentence(\"I can't go.\")"
      ],
      "execution_count": 7,
      "outputs": [
        {
          "output_type": "execute_result",
          "data": {
            "application/vnd.google.colaboratory.intrinsic+json": {
              "type": "string"
            },
            "text/plain": [
              "\"<start> i can't go . <end>\""
            ]
          },
          "metadata": {},
          "execution_count": 7
        }
      ]
    },
    {
      "cell_type": "code",
      "metadata": {
        "id": "OHn4Dct23jEm"
      },
      "source": [
        "# 1. Remove the accents\n",
        "# 2. Clean the sentences\n",
        "# 3. Return word pairs in the format: [ENG, RUS]\n",
        "def create_dataset(path, num_examples):\n",
        "  lines = io.open(path, encoding='UTF-8').read().strip().split('\\n')\n",
        "\n",
        "  word_pairs = [[preprocess_sentence(w) for w in l.split('\\t')[:2]]  for l in lines[:num_examples]]\n",
        "\n",
        "  return zip(*word_pairs)"
      ],
      "execution_count": 8,
      "outputs": []
    },
    {
      "cell_type": "code",
      "metadata": {
        "id": "cTbSbBz55QtF",
        "colab": {
          "base_uri": "https://localhost:8080/"
        },
        "outputId": "a3a365d9-31e6-45bc-c0ee-76ab6834546e"
      },
      "source": [
        "en, ru = create_dataset(path_to_file, None)\n",
        "print(en[0])\n",
        "print(ru[0])"
      ],
      "execution_count": 9,
      "outputs": [
        {
          "output_type": "stream",
          "name": "stdout",
          "text": [
            "<start> go . <end>\n",
            "<start> марш ! <end>\n"
          ]
        }
      ]
    },
    {
      "cell_type": "code",
      "metadata": {
        "id": "bIOn8RCNDJXG"
      },
      "source": [
        "def tokenize(lang):\n",
        "  lang_tokenizer = tf.keras.preprocessing.text.Tokenizer(\n",
        "      filters='')\n",
        "  lang_tokenizer.fit_on_texts(lang)\n",
        "\n",
        "  tensor = lang_tokenizer.texts_to_sequences(lang)\n",
        "\n",
        "  tensor = tf.keras.preprocessing.sequence.pad_sequences(tensor,\n",
        "                                                         padding='post')\n",
        "\n",
        "  return tensor, lang_tokenizer"
      ],
      "execution_count": 10,
      "outputs": []
    },
    {
      "cell_type": "code",
      "metadata": {
        "id": "eAY9k49G3jE_"
      },
      "source": [
        "def load_dataset(path, num_examples=None):\n",
        "  # creating cleaned input, output pairs\n",
        "  targ_lang, inp_lang = create_dataset(path, num_examples)\n",
        "\n",
        "  input_tensor, inp_lang_tokenizer = tokenize(inp_lang)\n",
        "  target_tensor, targ_lang_tokenizer = tokenize(targ_lang)\n",
        "\n",
        "  return input_tensor, target_tensor, inp_lang_tokenizer, targ_lang_tokenizer"
      ],
      "execution_count": 11,
      "outputs": []
    },
    {
      "cell_type": "markdown",
      "metadata": {
        "id": "GOi42V79Ydlr"
      },
      "source": [
        "### Limit the size of the dataset to experiment faster (optional)\n"
      ]
    },
    {
      "cell_type": "code",
      "metadata": {
        "id": "C8j9g9AnIeZV",
        "colab": {
          "base_uri": "https://localhost:8080/"
        },
        "outputId": "5cc2ada8-7b08-403d-e8a8-995933e14ac6"
      },
      "source": [
        "len(en), len(ru)"
      ],
      "execution_count": 12,
      "outputs": [
        {
          "output_type": "execute_result",
          "data": {
            "text/plain": [
              "(431097, 431097)"
            ]
          },
          "metadata": {},
          "execution_count": 12
        }
      ]
    },
    {
      "cell_type": "code",
      "metadata": {
        "id": "cnxC7q-j3jFD"
      },
      "source": [
        "# Try experimenting with the size of that dataset\n",
        "num_examples = 100000\n",
        "input_tensor, target_tensor, inp_lang, targ_lang = load_dataset(path_to_file, num_examples)\n",
        "\n",
        "# Calculate max_length of the target tensors\n",
        "max_length_targ, max_length_inp = target_tensor.shape[1], input_tensor.shape[1]"
      ],
      "execution_count": 13,
      "outputs": []
    },
    {
      "cell_type": "code",
      "metadata": {
        "id": "4QILQkOs3jFG",
        "colab": {
          "base_uri": "https://localhost:8080/"
        },
        "outputId": "5dd5fb45-f647-4e7f-9d45-11dc394d47c7"
      },
      "source": [
        "# Creating training and validation sets using an 80-20 split\n",
        "input_tensor_train, input_tensor_val, target_tensor_train, target_tensor_val = train_test_split(input_tensor, target_tensor, test_size=0.2)\n",
        "\n",
        "# Show length\n",
        "print(len(input_tensor_train), len(target_tensor_train), len(input_tensor_val), len(target_tensor_val))"
      ],
      "execution_count": 14,
      "outputs": [
        {
          "output_type": "stream",
          "name": "stdout",
          "text": [
            "80000 80000 20000 20000\n"
          ]
        }
      ]
    },
    {
      "cell_type": "code",
      "metadata": {
        "id": "lJPmLZGMeD5q"
      },
      "source": [
        "def convert(lang, tensor):\n",
        "  for t in tensor:\n",
        "    if t!=0:\n",
        "      print (\"%d ----> %s\" % (t, lang.index_word[t]))"
      ],
      "execution_count": 15,
      "outputs": []
    },
    {
      "cell_type": "code",
      "metadata": {
        "id": "VXukARTDd7MT",
        "colab": {
          "base_uri": "https://localhost:8080/"
        },
        "outputId": "f453a4a8-e461-440a-f0c9-7e088a36fe7a"
      },
      "source": [
        "print (\"Input Language; index to word mapping\")\n",
        "convert(inp_lang, input_tensor_train[0])\n",
        "print ()\n",
        "print (\"Target Language; index to word mapping\")\n",
        "convert(targ_lang, target_tensor_train[0])"
      ],
      "execution_count": 16,
      "outputs": [
        {
          "output_type": "stream",
          "name": "stdout",
          "text": [
            "Input Language; index to word mapping\n",
            "1 ----> <start>\n",
            "14 ----> у\n",
            "17 ----> меня\n",
            "66 ----> нет\n",
            "1234 ----> работы\n",
            "3 ----> .\n",
            "2 ----> <end>\n",
            "\n",
            "Target Language; index to word mapping\n",
            "1 ----> <start>\n",
            "4 ----> i\n",
            "20 ----> don't\n",
            "24 ----> have\n",
            "9 ----> a\n",
            "168 ----> job\n",
            "3 ----> .\n",
            "2 ----> <end>\n"
          ]
        }
      ]
    },
    {
      "cell_type": "markdown",
      "metadata": {
        "id": "rgCLkfv5uO3d"
      },
      "source": [
        "### Create a tf.data dataset"
      ]
    },
    {
      "cell_type": "code",
      "metadata": {
        "id": "TqHsArVZ3jFS"
      },
      "source": [
        "BUFFER_SIZE = len(input_tensor_train)\n",
        "BATCH_SIZE = 64\n",
        "steps_per_epoch = len(input_tensor_train)//BATCH_SIZE\n",
        "embedding_dim = 300\n",
        "units = 1024\n",
        "vocab_inp_size = len(inp_lang.word_index)+1\n",
        "vocab_tar_size = len(targ_lang.word_index)+1\n",
        "\n",
        "dataset = tf.data.Dataset.from_tensor_slices((input_tensor_train, target_tensor_train)).shuffle(BUFFER_SIZE)\n",
        "dataset = dataset.batch(BATCH_SIZE, drop_remainder=True)"
      ],
      "execution_count": 17,
      "outputs": []
    },
    {
      "cell_type": "code",
      "metadata": {
        "id": "qc6-NK1GtWQt",
        "colab": {
          "base_uri": "https://localhost:8080/"
        },
        "outputId": "48799325-d056-491e-869a-b71017fc7a77"
      },
      "source": [
        "example_input_batch, example_target_batch = next(iter(dataset))\n",
        "example_input_batch.shape, example_target_batch.shape"
      ],
      "execution_count": 18,
      "outputs": [
        {
          "output_type": "execute_result",
          "data": {
            "text/plain": [
              "(TensorShape([64, 15]), TensorShape([64, 11]))"
            ]
          },
          "metadata": {},
          "execution_count": 18
        }
      ]
    },
    {
      "cell_type": "code",
      "metadata": {
        "id": "nZ2rI24i3jFg"
      },
      "source": [
        "class Encoder(tf.keras.Model):\n",
        "  def __init__(self, vocab_size, embedding_dim, enc_units, batch_sz):\n",
        "    super(Encoder, self).__init__()\n",
        "    self.batch_sz = batch_sz\n",
        "    self.enc_units = enc_units\n",
        "    self.embedding = tf.keras.layers.Embedding(vocab_size, embedding_dim)\n",
        "    self.gru = tf.keras.layers.GRU(self.enc_units,\n",
        "                                   return_sequences=False,\n",
        "                                   return_state=True,\n",
        "                                   recurrent_initializer='glorot_uniform')\n",
        "    \n",
        "\n",
        "  def call(self, x, hidden):\n",
        "    x = self.embedding(x)\n",
        "    output, state = self.gru(x, initial_state = hidden)\n",
        "    return state\n",
        "\n",
        "  def initialize_hidden_state(self):\n",
        "    return tf.zeros((self.batch_sz, self.enc_units))"
      ],
      "execution_count": 19,
      "outputs": []
    },
    {
      "cell_type": "code",
      "metadata": {
        "id": "60gSVh05Jl6l",
        "colab": {
          "base_uri": "https://localhost:8080/"
        },
        "outputId": "ed8e185a-f56d-42b3-90a8-da196f561d0c"
      },
      "source": [
        "encoder = Encoder(vocab_inp_size, embedding_dim, units, BATCH_SIZE)\n",
        "\n",
        "# sample input\n",
        "sample_hidden = encoder.initialize_hidden_state()\n",
        "sample_hidden = encoder(example_input_batch, sample_hidden)\n",
        "# print ('Encoder output shape: (batch size, sequence length, units) {}'.format(sample_output.shape))\n",
        "print ('Encoder Hidden state shape: (batch size, units) {}'.format(sample_hidden.shape))"
      ],
      "execution_count": 20,
      "outputs": [
        {
          "output_type": "stream",
          "name": "stdout",
          "text": [
            "Encoder Hidden state shape: (batch size, units) (64, 1024)\n"
          ]
        }
      ]
    },
    {
      "cell_type": "code",
      "metadata": {
        "id": "yJ_B3mhW3jFk"
      },
      "source": [
        "class Decoder(tf.keras.Model):\n",
        "  def __init__(self, vocab_size, embedding_dim, dec_units, batch_sz):\n",
        "    super(Decoder, self).__init__()\n",
        "    self.batch_sz = batch_sz\n",
        "    self.dec_units = dec_units\n",
        "    self.embedding = tf.keras.layers.Embedding(vocab_size, embedding_dim)\n",
        "    self.gru = tf.keras.layers.GRU(self.dec_units,\n",
        "                                   return_sequences=True,\n",
        "                                   return_state=True,\n",
        "                                   recurrent_initializer='glorot_uniform')\n",
        "    self.fc = tf.keras.layers.Dense(vocab_size)\n",
        "\n",
        "  def call(self, x, hidden):\n",
        "    # enc_output shape == (batch_size, max_length, hidden_size)\n",
        "\n",
        "    # x shape after passing through embedding == (batch_size, 1, embedding_dim)\n",
        "    x = self.embedding(x)\n",
        "\n",
        "    # x shape after concatenation == (batch_size, 1, embedding_dim + hidden_size)\n",
        "\n",
        "    # passing the concatenated vector to the GRU\n",
        "    output, state = self.gru(x, initial_state=hidden)\n",
        "\n",
        "    # output shape == (batch_size * 1, hidden_size)\n",
        "    output = tf.reshape(output, (-1, output.shape[2]))\n",
        "\n",
        "    # output shape == (batch_size, vocab)\n",
        "    x = self.fc(output)\n",
        "\n",
        "    return x, state"
      ],
      "execution_count": 21,
      "outputs": []
    },
    {
      "cell_type": "code",
      "metadata": {
        "id": "P5UY8wko3jFp"
      },
      "source": [
        "decoder = Decoder(vocab_tar_size, embedding_dim, units, BATCH_SIZE)\n",
        "\n",
        "decoder_sample_x, decoder_sample_h = decoder(tf.random.uniform((BATCH_SIZE, 1)),\n",
        "                                      sample_hidden)\n",
        "\n"
      ],
      "execution_count": 22,
      "outputs": []
    },
    {
      "cell_type": "code",
      "metadata": {
        "colab": {
          "base_uri": "https://localhost:8080/"
        },
        "id": "XKcypC0AGeLR",
        "outputId": "120118b4-9201-4f14-a781-fee56117b85d"
      },
      "source": [
        "decoder_sample_x.shape"
      ],
      "execution_count": 23,
      "outputs": [
        {
          "output_type": "execute_result",
          "data": {
            "text/plain": [
              "TensorShape([64, 7260])"
            ]
          },
          "metadata": {},
          "execution_count": 23
        }
      ]
    },
    {
      "cell_type": "code",
      "metadata": {
        "id": "6y0HF-zMF_vp",
        "colab": {
          "base_uri": "https://localhost:8080/"
        },
        "outputId": "44eefff8-d970-4662-fd43-83d0cc659371"
      },
      "source": [
        "decoder_sample_h.shape"
      ],
      "execution_count": 24,
      "outputs": [
        {
          "output_type": "execute_result",
          "data": {
            "text/plain": [
              "TensorShape([64, 1024])"
            ]
          },
          "metadata": {},
          "execution_count": 24
        }
      ]
    },
    {
      "cell_type": "markdown",
      "metadata": {
        "id": "_ch_71VbIRfK"
      },
      "source": [
        "## Define the optimizer and the loss function"
      ]
    },
    {
      "cell_type": "code",
      "metadata": {
        "id": "WmTHr5iV3jFr"
      },
      "source": [
        "optimizer = tf.keras.optimizers.Adam()\n",
        "\n",
        "loss_object = tf.keras.losses.SparseCategoricalCrossentropy(\n",
        "    from_logits=True, reduction='none')\n",
        "\n",
        "def loss_function(real, pred):\n",
        "  mask = tf.math.logical_not(tf.math.equal(real, 0))\n",
        "  loss_ = loss_object(real, pred)\n",
        "\n",
        "  mask = tf.cast(mask, dtype=loss_.dtype)\n",
        "  loss_ *= mask\n",
        "\n",
        "  return tf.reduce_mean(loss_)"
      ],
      "execution_count": 25,
      "outputs": []
    },
    {
      "cell_type": "markdown",
      "metadata": {
        "id": "DMVWzzsfNl4e"
      },
      "source": [
        "## Checkpoints (Object-based saving)"
      ]
    },
    {
      "cell_type": "code",
      "metadata": {
        "id": "Zj8bXQTgNwrF"
      },
      "source": [
        "checkpoint_dir = './training_nmt_checkpoints'\n",
        "\n",
        "checkpoint_prefix = os.path.join(checkpoint_dir, \"ckpt\")\n",
        "\n",
        "checkpoint = tf.train.Checkpoint(optimizer=optimizer,\n",
        "                                 encoder=encoder,\n",
        "                                 decoder=decoder)"
      ],
      "execution_count": 26,
      "outputs": []
    },
    {
      "cell_type": "code",
      "metadata": {
        "id": "sC9ArXSsVfqn"
      },
      "source": [
        "@tf.function\n",
        "def train_step(inp, targ, enc_hidden):\n",
        "  loss = 0\n",
        "\n",
        "  with tf.GradientTape() as tape:\n",
        "    enc_hidden = encoder(inp, enc_hidden)\n",
        "\n",
        "    dec_hidden = enc_hidden\n",
        "\n",
        "    dec_input = tf.expand_dims([targ_lang.word_index['<start>']] * BATCH_SIZE, 1)\n",
        "\n",
        "    # Teacher forcing - feeding the target as the next input\n",
        "    for t in range(1, targ.shape[1]):\n",
        "      # passing enc_output to the decoder\n",
        "      predictions, dec_hidden = decoder(dec_input, dec_hidden)\n",
        "\n",
        "      loss += loss_function(targ[:, t], predictions)\n",
        "\n",
        "      # using teacher forcing\n",
        "      dec_input = tf.expand_dims(targ[:, t], 1)\n",
        "\n",
        "  batch_loss = (loss / int(targ.shape[1]))\n",
        "\n",
        "  variables = encoder.trainable_variables + decoder.trainable_variables\n",
        "\n",
        "  gradients = tape.gradient(loss, variables)\n",
        "\n",
        "  optimizer.apply_gradients(zip(gradients, variables))\n",
        "\n",
        "  return batch_loss"
      ],
      "execution_count": 27,
      "outputs": []
    },
    {
      "cell_type": "code",
      "metadata": {
        "id": "ddefjBMa3jF0",
        "colab": {
          "base_uri": "https://localhost:8080/"
        },
        "outputId": "a558b7cb-81fb-4834-b17a-327e4a0e9d4b"
      },
      "source": [
        "EPOCHS = 15\n",
        "\n",
        "for epoch in range(EPOCHS):\n",
        "  start = time.time()\n",
        "\n",
        "  enc_hidden = encoder.initialize_hidden_state()\n",
        "  total_loss = 0\n",
        "\n",
        "  for (batch, (inp, targ)) in enumerate(dataset.take(steps_per_epoch)):\n",
        "    batch_loss = train_step(inp, targ, enc_hidden)\n",
        "    total_loss += batch_loss\n",
        "\n",
        "    if batch % 100 == 0:\n",
        "      print('Epoch {} Batch {} Loss {:.4f}'.format(epoch + 1,\n",
        "                                                   batch,\n",
        "                                                   batch_loss.numpy()))\n",
        "  # saving (checkpoint) the model every 2 epochs\n",
        "  if (epoch + 1) % 2 == 0:\n",
        "    checkpoint.save(file_prefix = checkpoint_prefix)\n",
        "\n",
        "  print('Epoch {} Loss {:.4f}'.format(epoch + 1,\n",
        "                                      total_loss / steps_per_epoch))\n",
        "  print('Time taken for 1 epoch {} sec\\n'.format(time.time() - start))"
      ],
      "execution_count": 43,
      "outputs": [
        {
          "output_type": "stream",
          "name": "stdout",
          "text": [
            "Epoch 1 Batch 0 Loss 0.0783\n",
            "Epoch 1 Batch 100 Loss 0.0855\n",
            "Epoch 1 Batch 200 Loss 0.0741\n",
            "Epoch 1 Batch 300 Loss 0.0464\n",
            "Epoch 1 Batch 400 Loss 0.0430\n",
            "Epoch 1 Batch 500 Loss 0.0584\n",
            "Epoch 1 Batch 600 Loss 0.0701\n",
            "Epoch 1 Batch 700 Loss 0.0674\n",
            "Epoch 1 Batch 800 Loss 0.1032\n",
            "Epoch 1 Batch 900 Loss 0.0379\n",
            "Epoch 1 Batch 1000 Loss 0.0921\n",
            "Epoch 1 Batch 1100 Loss 0.0598\n",
            "Epoch 1 Batch 1200 Loss 0.0793\n",
            "Epoch 1 Loss 0.0764\n",
            "Time taken for 1 epoch 136.8540849685669 sec\n",
            "\n",
            "Epoch 2 Batch 0 Loss 0.0457\n",
            "Epoch 2 Batch 100 Loss 0.0495\n",
            "Epoch 2 Batch 200 Loss 0.0328\n",
            "Epoch 2 Batch 300 Loss 0.0567\n",
            "Epoch 2 Batch 400 Loss 0.0780\n",
            "Epoch 2 Batch 500 Loss 0.0847\n",
            "Epoch 2 Batch 600 Loss 0.1134\n",
            "Epoch 2 Batch 700 Loss 0.1027\n",
            "Epoch 2 Batch 800 Loss 0.1107\n",
            "Epoch 2 Batch 900 Loss 0.1110\n",
            "Epoch 2 Batch 1000 Loss 0.0867\n",
            "Epoch 2 Batch 1100 Loss 0.1167\n",
            "Epoch 2 Batch 1200 Loss 0.0908\n",
            "Epoch 2 Loss 0.0739\n",
            "Time taken for 1 epoch 137.70757055282593 sec\n",
            "\n",
            "Epoch 3 Batch 0 Loss 0.0382\n",
            "Epoch 3 Batch 100 Loss 0.0389\n",
            "Epoch 3 Batch 200 Loss 0.0572\n",
            "Epoch 3 Batch 300 Loss 0.0420\n",
            "Epoch 3 Batch 400 Loss 0.0519\n",
            "Epoch 3 Batch 500 Loss 0.0980\n",
            "Epoch 3 Batch 600 Loss 0.0635\n",
            "Epoch 3 Batch 700 Loss 0.0457\n",
            "Epoch 3 Batch 800 Loss 0.0614\n",
            "Epoch 3 Batch 900 Loss 0.0650\n",
            "Epoch 3 Batch 1000 Loss 0.0639\n",
            "Epoch 3 Batch 1100 Loss 0.0969\n",
            "Epoch 3 Batch 1200 Loss 0.1016\n",
            "Epoch 3 Loss 0.0715\n",
            "Time taken for 1 epoch 136.37431597709656 sec\n",
            "\n",
            "Epoch 4 Batch 0 Loss 0.0510\n",
            "Epoch 4 Batch 100 Loss 0.0527\n",
            "Epoch 4 Batch 200 Loss 0.0420\n",
            "Epoch 4 Batch 300 Loss 0.0282\n",
            "Epoch 4 Batch 400 Loss 0.0590\n",
            "Epoch 4 Batch 500 Loss 0.0801\n",
            "Epoch 4 Batch 600 Loss 0.0802\n",
            "Epoch 4 Batch 700 Loss 0.0752\n",
            "Epoch 4 Batch 800 Loss 0.0830\n",
            "Epoch 4 Batch 900 Loss 0.0493\n",
            "Epoch 4 Batch 1000 Loss 0.0594\n",
            "Epoch 4 Batch 1100 Loss 0.1146\n",
            "Epoch 4 Batch 1200 Loss 0.0592\n",
            "Epoch 4 Loss 0.0705\n",
            "Time taken for 1 epoch 137.1816017627716 sec\n",
            "\n",
            "Epoch 5 Batch 0 Loss 0.0637\n",
            "Epoch 5 Batch 100 Loss 0.0675\n",
            "Epoch 5 Batch 200 Loss 0.0901\n",
            "Epoch 5 Batch 300 Loss 0.0585\n",
            "Epoch 5 Batch 400 Loss 0.0379\n",
            "Epoch 5 Batch 500 Loss 0.1042\n",
            "Epoch 5 Batch 600 Loss 0.0648\n",
            "Epoch 5 Batch 700 Loss 0.0651\n",
            "Epoch 5 Batch 800 Loss 0.0603\n",
            "Epoch 5 Batch 900 Loss 0.0454\n",
            "Epoch 5 Batch 1000 Loss 0.1055\n",
            "Epoch 5 Batch 1100 Loss 0.0795\n",
            "Epoch 5 Batch 1200 Loss 0.0508\n",
            "Epoch 5 Loss 0.0679\n",
            "Time taken for 1 epoch 136.88926315307617 sec\n",
            "\n",
            "Epoch 6 Batch 0 Loss 0.0466\n",
            "Epoch 6 Batch 100 Loss 0.0761\n",
            "Epoch 6 Batch 200 Loss 0.0500\n",
            "Epoch 6 Batch 300 Loss 0.0312\n",
            "Epoch 6 Batch 400 Loss 0.0550\n",
            "Epoch 6 Batch 500 Loss 0.0865\n",
            "Epoch 6 Batch 600 Loss 0.0618\n",
            "Epoch 6 Batch 700 Loss 0.0663\n",
            "Epoch 6 Batch 800 Loss 0.0873\n",
            "Epoch 6 Batch 900 Loss 0.0752\n",
            "Epoch 6 Batch 1000 Loss 0.0780\n",
            "Epoch 6 Batch 1100 Loss 0.0430\n",
            "Epoch 6 Batch 1200 Loss 0.0763\n",
            "Epoch 6 Loss 0.0670\n",
            "Time taken for 1 epoch 137.29943871498108 sec\n",
            "\n",
            "Epoch 7 Batch 0 Loss 0.0604\n",
            "Epoch 7 Batch 100 Loss 0.0150\n",
            "Epoch 7 Batch 200 Loss 0.0314\n",
            "Epoch 7 Batch 300 Loss 0.0769\n",
            "Epoch 7 Batch 400 Loss 0.0530\n",
            "Epoch 7 Batch 500 Loss 0.0440\n",
            "Epoch 7 Batch 600 Loss 0.0553\n",
            "Epoch 7 Batch 700 Loss 0.0647\n",
            "Epoch 7 Batch 800 Loss 0.0739\n",
            "Epoch 7 Batch 900 Loss 0.1120\n",
            "Epoch 7 Batch 1000 Loss 0.1111\n",
            "Epoch 7 Batch 1100 Loss 0.0755\n",
            "Epoch 7 Batch 1200 Loss 0.0985\n",
            "Epoch 7 Loss 0.0654\n",
            "Time taken for 1 epoch 136.72148847579956 sec\n",
            "\n",
            "Epoch 8 Batch 0 Loss 0.0313\n",
            "Epoch 8 Batch 100 Loss 0.0303\n",
            "Epoch 8 Batch 200 Loss 0.0932\n",
            "Epoch 8 Batch 300 Loss 0.0453\n",
            "Epoch 8 Batch 400 Loss 0.0441\n",
            "Epoch 8 Batch 500 Loss 0.0963\n",
            "Epoch 8 Batch 600 Loss 0.0527\n",
            "Epoch 8 Batch 700 Loss 0.0649\n",
            "Epoch 8 Batch 800 Loss 0.1104\n",
            "Epoch 8 Batch 900 Loss 0.0672\n",
            "Epoch 8 Batch 1000 Loss 0.0520\n",
            "Epoch 8 Batch 1100 Loss 0.1411\n",
            "Epoch 8 Batch 1200 Loss 0.0465\n",
            "Epoch 8 Loss 0.0642\n",
            "Time taken for 1 epoch 137.36443758010864 sec\n",
            "\n",
            "Epoch 9 Batch 0 Loss 0.0676\n",
            "Epoch 9 Batch 100 Loss 0.0810\n",
            "Epoch 9 Batch 200 Loss 0.0422\n",
            "Epoch 9 Batch 300 Loss 0.0609\n",
            "Epoch 9 Batch 400 Loss 0.0507\n",
            "Epoch 9 Batch 500 Loss 0.0632\n",
            "Epoch 9 Batch 600 Loss 0.0532\n",
            "Epoch 9 Batch 700 Loss 0.0700\n",
            "Epoch 9 Batch 800 Loss 0.0370\n",
            "Epoch 9 Batch 900 Loss 0.0972\n",
            "Epoch 9 Batch 1000 Loss 0.0560\n",
            "Epoch 9 Batch 1100 Loss 0.0763\n",
            "Epoch 9 Batch 1200 Loss 0.0721\n",
            "Epoch 9 Loss 0.0641\n",
            "Time taken for 1 epoch 136.51491498947144 sec\n",
            "\n",
            "Epoch 10 Batch 0 Loss 0.0301\n",
            "Epoch 10 Batch 100 Loss 0.0764\n",
            "Epoch 10 Batch 200 Loss 0.0722\n",
            "Epoch 10 Batch 300 Loss 0.0767\n",
            "Epoch 10 Batch 400 Loss 0.0581\n",
            "Epoch 10 Batch 500 Loss 0.1102\n",
            "Epoch 10 Batch 600 Loss 0.0520\n",
            "Epoch 10 Batch 700 Loss 0.0643\n",
            "Epoch 10 Batch 800 Loss 0.0774\n",
            "Epoch 10 Batch 900 Loss 0.0615\n",
            "Epoch 10 Batch 1000 Loss 0.0746\n",
            "Epoch 10 Batch 1100 Loss 0.1096\n",
            "Epoch 10 Batch 1200 Loss 0.0700\n",
            "Epoch 10 Loss 0.0631\n",
            "Time taken for 1 epoch 137.3450219631195 sec\n",
            "\n",
            "Epoch 11 Batch 0 Loss 0.0324\n",
            "Epoch 11 Batch 100 Loss 0.0294\n",
            "Epoch 11 Batch 200 Loss 0.0373\n",
            "Epoch 11 Batch 300 Loss 0.0487\n",
            "Epoch 11 Batch 400 Loss 0.0557\n",
            "Epoch 11 Batch 500 Loss 0.0455\n",
            "Epoch 11 Batch 600 Loss 0.1313\n",
            "Epoch 11 Batch 700 Loss 0.0421\n",
            "Epoch 11 Batch 800 Loss 0.0897\n",
            "Epoch 11 Batch 900 Loss 0.0578\n",
            "Epoch 11 Batch 1000 Loss 0.0666\n",
            "Epoch 11 Batch 1100 Loss 0.0440\n",
            "Epoch 11 Batch 1200 Loss 0.0694\n",
            "Epoch 11 Loss 0.0613\n",
            "Time taken for 1 epoch 136.80605673789978 sec\n",
            "\n",
            "Epoch 12 Batch 0 Loss 0.0588\n",
            "Epoch 12 Batch 100 Loss 0.0385\n",
            "Epoch 12 Batch 200 Loss 0.0236\n",
            "Epoch 12 Batch 300 Loss 0.0666\n",
            "Epoch 12 Batch 400 Loss 0.0494\n",
            "Epoch 12 Batch 500 Loss 0.0544\n",
            "Epoch 12 Batch 600 Loss 0.0474\n",
            "Epoch 12 Batch 700 Loss 0.0827\n",
            "Epoch 12 Batch 800 Loss 0.0434\n",
            "Epoch 12 Batch 900 Loss 0.0760\n",
            "Epoch 12 Batch 1000 Loss 0.0604\n",
            "Epoch 12 Batch 1100 Loss 0.0686\n",
            "Epoch 12 Batch 1200 Loss 0.0790\n",
            "Epoch 12 Loss 0.0603\n",
            "Time taken for 1 epoch 137.1667366027832 sec\n",
            "\n",
            "Epoch 13 Batch 0 Loss 0.0922\n",
            "Epoch 13 Batch 100 Loss 0.0361\n",
            "Epoch 13 Batch 200 Loss 0.0441\n",
            "Epoch 13 Batch 300 Loss 0.0584\n",
            "Epoch 13 Batch 400 Loss 0.0359\n",
            "Epoch 13 Batch 500 Loss 0.0409\n",
            "Epoch 13 Batch 600 Loss 0.0507\n",
            "Epoch 13 Batch 700 Loss 0.0767\n",
            "Epoch 13 Batch 800 Loss 0.0599\n",
            "Epoch 13 Batch 900 Loss 0.0558\n",
            "Epoch 13 Batch 1000 Loss 0.0776\n",
            "Epoch 13 Batch 1100 Loss 0.0920\n",
            "Epoch 13 Batch 1200 Loss 0.0709\n",
            "Epoch 13 Loss 0.0601\n",
            "Time taken for 1 epoch 136.758198261261 sec\n",
            "\n",
            "Epoch 14 Batch 0 Loss 0.0461\n",
            "Epoch 14 Batch 100 Loss 0.0327\n",
            "Epoch 14 Batch 200 Loss 0.0593\n",
            "Epoch 14 Batch 300 Loss 0.0652\n",
            "Epoch 14 Batch 400 Loss 0.0349\n",
            "Epoch 14 Batch 500 Loss 0.0577\n",
            "Epoch 14 Batch 600 Loss 0.0497\n",
            "Epoch 14 Batch 700 Loss 0.0387\n",
            "Epoch 14 Batch 800 Loss 0.0518\n",
            "Epoch 14 Batch 900 Loss 0.0731\n",
            "Epoch 14 Batch 1000 Loss 0.0895\n",
            "Epoch 14 Batch 1100 Loss 0.0714\n",
            "Epoch 14 Batch 1200 Loss 0.0654\n",
            "Epoch 14 Loss 0.0589\n",
            "Time taken for 1 epoch 137.01748538017273 sec\n",
            "\n",
            "Epoch 15 Batch 0 Loss 0.0423\n",
            "Epoch 15 Batch 100 Loss 0.0665\n",
            "Epoch 15 Batch 200 Loss 0.0432\n",
            "Epoch 15 Batch 300 Loss 0.0259\n",
            "Epoch 15 Batch 400 Loss 0.0588\n",
            "Epoch 15 Batch 500 Loss 0.0486\n",
            "Epoch 15 Batch 600 Loss 0.0529\n",
            "Epoch 15 Batch 700 Loss 0.0291\n",
            "Epoch 15 Batch 800 Loss 0.0942\n",
            "Epoch 15 Batch 900 Loss 0.0872\n",
            "Epoch 15 Batch 1000 Loss 0.0478\n",
            "Epoch 15 Batch 1100 Loss 0.0818\n",
            "Epoch 15 Batch 1200 Loss 0.0544\n",
            "Epoch 15 Loss 0.0583\n",
            "Time taken for 1 epoch 136.74127459526062 sec\n",
            "\n"
          ]
        }
      ]
    },
    {
      "cell_type": "markdown",
      "metadata": {
        "id": "mU3Ce8M6I3rz"
      },
      "source": [
        "## Translate\n",
        "\n",
        "* The evaluate function is similar to the training loop, except we don't use *teacher forcing* here. The input to the decoder at each time step is its previous predictions along with the hidden state and the encoder output.\n",
        "* Stop predicting when the model predicts the *end token*.\n",
        "* And store the *attention weights for every time step*.\n",
        "\n",
        "Note: The encoder output is calculated only once for one input."
      ]
    },
    {
      "cell_type": "code",
      "metadata": {
        "id": "EbQpyYs13jF_"
      },
      "source": [
        "def evaluate(sentence):\n",
        "  attention_plot = np.zeros((max_length_targ, max_length_inp))\n",
        "\n",
        "  sentence = preprocess_sentence(sentence)\n",
        "\n",
        "  inputs = [inp_lang.word_index[i] for i in sentence.split(' ')]\n",
        "  inputs = tf.keras.preprocessing.sequence.pad_sequences([inputs],\n",
        "                                                         maxlen=max_length_inp,\n",
        "                                                         padding='post')\n",
        "  inputs = tf.convert_to_tensor(inputs)\n",
        "\n",
        "  result = ''\n",
        "\n",
        "  hidden = [tf.zeros((1, units))]\n",
        "  enc_hidden = encoder(inputs, hidden)\n",
        "\n",
        "  dec_hidden = enc_hidden\n",
        "  dec_input = tf.expand_dims([targ_lang.word_index['<start>']], 0)\n",
        "\n",
        "  for t in range(max_length_targ):\n",
        "    predictions, dec_hidden = decoder(dec_input, dec_hidden)\n",
        "\n",
        "    # storing the attention weights to plot later on\n",
        "    predicted_id = tf.argmax(predictions[0]).numpy()\n",
        "    result += targ_lang.index_word[predicted_id] + ' '\n",
        "\n",
        "    if targ_lang.index_word[predicted_id] == '<end>':\n",
        "      return result, sentence\n",
        "\n",
        "    # the predicted ID is fed back into the model\n",
        "    dec_input = tf.expand_dims([predicted_id], 0)\n",
        "\n",
        "  return result, sentence"
      ],
      "execution_count": 29,
      "outputs": []
    },
    {
      "cell_type": "code",
      "metadata": {
        "id": "sl9zUHzg3jGI"
      },
      "source": [
        "def translate(sentence):\n",
        "  result, sentence = evaluate(sentence)\n",
        "\n",
        "  print('Input: %s' % (sentence))\n",
        "  print('Predicted translation: {}'.format(result))"
      ],
      "execution_count": 30,
      "outputs": []
    },
    {
      "cell_type": "markdown",
      "metadata": {
        "id": "n250XbnjOaqP"
      },
      "source": [
        "## Restore the latest checkpoint and test"
      ]
    },
    {
      "cell_type": "code",
      "metadata": {
        "id": "UJpT9D5_OgP6",
        "colab": {
          "base_uri": "https://localhost:8080/"
        },
        "outputId": "2d01ccc4-826b-4fff-f2f9-f224593d35c6"
      },
      "source": [
        "# restoring the latest checkpoint in checkpoint_dir\n",
        "checkpoint.restore(tf.train.latest_checkpoint(checkpoint_dir))"
      ],
      "execution_count": 31,
      "outputs": [
        {
          "output_type": "execute_result",
          "data": {
            "text/plain": [
              "<tensorflow.python.training.tracking.util.CheckpointLoadStatus at 0x7f059beee9d0>"
            ]
          },
          "metadata": {},
          "execution_count": 31
        }
      ]
    },
    {
      "cell_type": "code",
      "metadata": {
        "id": "WrAM0FDomq3E",
        "colab": {
          "base_uri": "https://localhost:8080/"
        },
        "outputId": "c660c3cb-bdfc-43d0-a074-aaa1b649efbe"
      },
      "source": [
        "translate('Здесь хорошо.')"
      ],
      "execution_count": 48,
      "outputs": [
        {
          "output_type": "stream",
          "name": "stdout",
          "text": [
            "Input: <start> здесь хорошо . <end>\n",
            "Predicted translation: it's good here . <end> \n"
          ]
        }
      ]
    },
    {
      "cell_type": "code",
      "metadata": {
        "id": "5bhFfwcIMX5i",
        "colab": {
          "base_uri": "https://localhost:8080/"
        },
        "outputId": "2e368ae7-be6b-42a0-9060-9287c0b0b4ec"
      },
      "source": [
        "translate('Я не смогу поехать.')"
      ],
      "execution_count": 47,
      "outputs": [
        {
          "output_type": "stream",
          "name": "stdout",
          "text": [
            "Input: <start> я не смогу поехать . <end>\n",
            "Predicted translation: i can't go . <end> \n"
          ]
        }
      ]
    },
    {
      "cell_type": "code",
      "metadata": {
        "id": "zSx2iM36EZQZ",
        "colab": {
          "base_uri": "https://localhost:8080/"
        },
        "outputId": "1ed3d967-d50c-4d8b-bcd6-7520b75d2a7d"
      },
      "source": [
        "translate(u'Вы еще дома?')"
      ],
      "execution_count": 34,
      "outputs": [
        {
          "output_type": "stream",
          "name": "stdout",
          "text": [
            "Input: <start> вы еще дома ? <end>\n",
            "Predicted translation: are you still at home ? <end> \n"
          ]
        }
      ]
    },
    {
      "cell_type": "code",
      "metadata": {
        "id": "A3LLCx3ZE0Ls",
        "colab": {
          "base_uri": "https://localhost:8080/"
        },
        "outputId": "dce055b4-ae4b-45a7-ebae-3938abcc725f"
      },
      "source": [
        "translate(u'Вы все еще дома?')"
      ],
      "execution_count": 46,
      "outputs": [
        {
          "output_type": "stream",
          "name": "stdout",
          "text": [
            "Input: <start> вы все еще дома ? <end>\n",
            "Predicted translation: are you still at home ? <end> \n"
          ]
        }
      ]
    },
    {
      "cell_type": "code",
      "metadata": {
        "id": "DUQVLVqUE1YW",
        "colab": {
          "base_uri": "https://localhost:8080/"
        },
        "outputId": "80697ec5-4565-40da-c314-c9bdbb727568"
      },
      "source": [
        "translate(u'Попробуй сделать это.')"
      ],
      "execution_count": 45,
      "outputs": [
        {
          "output_type": "stream",
          "name": "stdout",
          "text": [
            "Input: <start> попробуй сделать это . <end>\n",
            "Predicted translation: try doing that . <end> \n"
          ]
        }
      ]
    },
    {
      "cell_type": "code",
      "metadata": {
        "id": "f09_hUFx9EJh",
        "colab": {
          "base_uri": "https://localhost:8080/"
        },
        "outputId": "e3c9a294-a16b-4e92-d2ad-16d1f7313a71"
      },
      "source": [
        "translate(u'Я люблю, когда идет снег.')"
      ],
      "execution_count": 44,
      "outputs": [
        {
          "output_type": "stream",
          "name": "stdout",
          "text": [
            "Input: <start> я люблю , когда идет снег . <end>\n",
            "Predicted translation: i like dark games . <end> \n"
          ]
        }
      ]
    },
    {
      "cell_type": "code",
      "metadata": {
        "colab": {
          "base_uri": "https://localhost:8080/"
        },
        "id": "7k8H9bzHOsqt",
        "outputId": "d14e5ab7-7001-4866-be8b-7f7cfd4b5f8f"
      },
      "source": [
        "translate(u'Зима очень длинная.')"
      ],
      "execution_count": 50,
      "outputs": [
        {
          "output_type": "stream",
          "name": "stdout",
          "text": [
            "Input: <start> зима очень длинная . <end>\n",
            "Predicted translation: spring has a lot to come . <end> \n"
          ]
        }
      ]
    },
    {
      "cell_type": "code",
      "metadata": {
        "id": "e7c5p8rmkHQG",
        "colab": {
          "base_uri": "https://localhost:8080/"
        },
        "outputId": "eb7a4fb4-6faf-4442-838d-aea650197aee"
      },
      "source": [
        "translate(u'Я никогда такого не делаю.')"
      ],
      "execution_count": 49,
      "outputs": [
        {
          "output_type": "stream",
          "name": "stdout",
          "text": [
            "Input: <start> я никогда такого не делаю . <end>\n",
            "Predicted translation: i never do that . <end> \n"
          ]
        }
      ]
    }
  ]
}
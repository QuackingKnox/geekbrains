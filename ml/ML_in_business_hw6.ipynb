{
  "nbformat": 4,
  "nbformat_minor": 0,
  "metadata": {
    "kernelspec": {
      "display_name": "Python 3",
      "language": "python",
      "name": "python3"
    },
    "language_info": {
      "codemirror_mode": {
        "name": "ipython",
        "version": 3
      },
      "file_extension": ".py",
      "mimetype": "text/x-python",
      "name": "python",
      "nbconvert_exporter": "python",
      "pygments_lexer": "ipython3",
      "version": "3.7.3"
    },
    "colab": {
      "name": "ML_in_business_hw6.ipynb",
      "provenance": [],
      "collapsed_sections": [],
      "toc_visible": true
    }
  },
  "cells": [
    {
      "cell_type": "markdown",
      "metadata": {
        "id": "NCVAI-IJ32D2"
      },
      "source": [
        "Расмотрим пример на датасете из репозитория UCI\n",
        "\n",
        "Описание данных - https://archive.ics.uci.edu/ml/datasets/banknote+authentication#"
      ]
    },
    {
      "cell_type": "code",
      "metadata": {
        "id": "E2orRxDc32D4"
      },
      "source": [
        "import pandas as pd\n",
        "import numpy as np\n",
        "\n",
        "from sklearn.metrics import recall_score, precision_score, roc_auc_score, accuracy_score, f1_score\n",
        "from sklearn.model_selection import train_test_split\n",
        "\n",
        "import xgboost as xgb\n",
        "from catboost import CatBoostClassifier"
      ],
      "execution_count": null,
      "outputs": []
    },
    {
      "cell_type": "code",
      "metadata": {
        "id": "uIvcl5nvVWjZ"
      },
      "source": [
        "pip install catboost"
      ],
      "execution_count": null,
      "outputs": []
    },
    {
      "cell_type": "code",
      "metadata": {
        "colab": {
          "base_uri": "https://localhost:8080/"
        },
        "id": "A_TVJt92Mnpu",
        "outputId": "f5bf7280-0188-450e-e0ff-4bfdb6eea306"
      },
      "source": [
        "from google.colab import drive\n",
        "drive.mount('gdrive')"
      ],
      "execution_count": null,
      "outputs": [
        {
          "output_type": "stream",
          "text": [
            "Mounted at gdrive\n"
          ],
          "name": "stdout"
        }
      ]
    },
    {
      "cell_type": "code",
      "metadata": {
        "colab": {
          "base_uri": "https://localhost:8080/",
          "height": 204
        },
        "id": "9npNy4Eq6Bk6",
        "outputId": "8fefe9e8-0c09-45b0-b0a4-e21ccf1e7106"
      },
      "source": [
        "data = pd.read_csv('/content/citrus.csv')\n",
        "data.head(5)"
      ],
      "execution_count": null,
      "outputs": [
        {
          "output_type": "execute_result",
          "data": {
            "text/html": [
              "<div>\n",
              "<style scoped>\n",
              "    .dataframe tbody tr th:only-of-type {\n",
              "        vertical-align: middle;\n",
              "    }\n",
              "\n",
              "    .dataframe tbody tr th {\n",
              "        vertical-align: top;\n",
              "    }\n",
              "\n",
              "    .dataframe thead th {\n",
              "        text-align: right;\n",
              "    }\n",
              "</style>\n",
              "<table border=\"1\" class=\"dataframe\">\n",
              "  <thead>\n",
              "    <tr style=\"text-align: right;\">\n",
              "      <th></th>\n",
              "      <th>name</th>\n",
              "      <th>diameter</th>\n",
              "      <th>weight</th>\n",
              "      <th>red</th>\n",
              "      <th>green</th>\n",
              "      <th>blue</th>\n",
              "    </tr>\n",
              "  </thead>\n",
              "  <tbody>\n",
              "    <tr>\n",
              "      <th>0</th>\n",
              "      <td>orange</td>\n",
              "      <td>2.96</td>\n",
              "      <td>86.76</td>\n",
              "      <td>172</td>\n",
              "      <td>85</td>\n",
              "      <td>2</td>\n",
              "    </tr>\n",
              "    <tr>\n",
              "      <th>1</th>\n",
              "      <td>orange</td>\n",
              "      <td>3.91</td>\n",
              "      <td>88.05</td>\n",
              "      <td>166</td>\n",
              "      <td>78</td>\n",
              "      <td>3</td>\n",
              "    </tr>\n",
              "    <tr>\n",
              "      <th>2</th>\n",
              "      <td>orange</td>\n",
              "      <td>4.42</td>\n",
              "      <td>95.17</td>\n",
              "      <td>156</td>\n",
              "      <td>81</td>\n",
              "      <td>2</td>\n",
              "    </tr>\n",
              "    <tr>\n",
              "      <th>3</th>\n",
              "      <td>orange</td>\n",
              "      <td>4.47</td>\n",
              "      <td>95.60</td>\n",
              "      <td>163</td>\n",
              "      <td>81</td>\n",
              "      <td>4</td>\n",
              "    </tr>\n",
              "    <tr>\n",
              "      <th>4</th>\n",
              "      <td>orange</td>\n",
              "      <td>4.48</td>\n",
              "      <td>95.76</td>\n",
              "      <td>161</td>\n",
              "      <td>72</td>\n",
              "      <td>9</td>\n",
              "    </tr>\n",
              "  </tbody>\n",
              "</table>\n",
              "</div>"
            ],
            "text/plain": [
              "     name  diameter  weight  red  green  blue\n",
              "0  orange      2.96   86.76  172     85     2\n",
              "1  orange      3.91   88.05  166     78     3\n",
              "2  orange      4.42   95.17  156     81     2\n",
              "3  orange      4.47   95.60  163     81     4\n",
              "4  orange      4.48   95.76  161     72     9"
            ]
          },
          "metadata": {
            "tags": []
          },
          "execution_count": 22
        }
      ]
    },
    {
      "cell_type": "markdown",
      "metadata": {
        "id": "2PHky8QIM5u1"
      },
      "source": [
        "Взял достаточно простой датасет, который можно найти тут https://www.kaggle.com/joshmcadams/oranges-vs-grapefruit"
      ]
    },
    {
      "cell_type": "code",
      "metadata": {
        "colab": {
          "base_uri": "https://localhost:8080/"
        },
        "id": "YujI14LPDoQV",
        "outputId": "48e5105c-13a9-4456-e090-1d8c3ce9d087"
      },
      "source": [
        "data.info()"
      ],
      "execution_count": null,
      "outputs": [
        {
          "output_type": "stream",
          "text": [
            "<class 'pandas.core.frame.DataFrame'>\n",
            "RangeIndex: 10000 entries, 0 to 9999\n",
            "Data columns (total 6 columns):\n",
            " #   Column    Non-Null Count  Dtype  \n",
            "---  ------    --------------  -----  \n",
            " 0   name      10000 non-null  int64  \n",
            " 1   diameter  10000 non-null  float64\n",
            " 2   weight    10000 non-null  float64\n",
            " 3   red       10000 non-null  int64  \n",
            " 4   green     10000 non-null  int64  \n",
            " 5   blue      10000 non-null  int64  \n",
            "dtypes: float64(2), int64(4)\n",
            "memory usage: 468.9 KB\n"
          ],
          "name": "stdout"
        }
      ]
    },
    {
      "cell_type": "code",
      "metadata": {
        "colab": {
          "base_uri": "https://localhost:8080/",
          "height": 297
        },
        "id": "dGTAQy_v93Ys",
        "outputId": "52bd154b-03c6-459d-8422-47523688352b"
      },
      "source": [
        "data.describe()"
      ],
      "execution_count": null,
      "outputs": [
        {
          "output_type": "execute_result",
          "data": {
            "text/html": [
              "<div>\n",
              "<style scoped>\n",
              "    .dataframe tbody tr th:only-of-type {\n",
              "        vertical-align: middle;\n",
              "    }\n",
              "\n",
              "    .dataframe tbody tr th {\n",
              "        vertical-align: top;\n",
              "    }\n",
              "\n",
              "    .dataframe thead th {\n",
              "        text-align: right;\n",
              "    }\n",
              "</style>\n",
              "<table border=\"1\" class=\"dataframe\">\n",
              "  <thead>\n",
              "    <tr style=\"text-align: right;\">\n",
              "      <th></th>\n",
              "      <th>diameter</th>\n",
              "      <th>weight</th>\n",
              "      <th>red</th>\n",
              "      <th>green</th>\n",
              "      <th>blue</th>\n",
              "    </tr>\n",
              "  </thead>\n",
              "  <tbody>\n",
              "    <tr>\n",
              "      <th>count</th>\n",
              "      <td>10000.000000</td>\n",
              "      <td>10000.000000</td>\n",
              "      <td>10000.000000</td>\n",
              "      <td>10000.000000</td>\n",
              "      <td>10000.000000</td>\n",
              "    </tr>\n",
              "    <tr>\n",
              "      <th>mean</th>\n",
              "      <td>9.975685</td>\n",
              "      <td>175.050792</td>\n",
              "      <td>153.847800</td>\n",
              "      <td>76.010600</td>\n",
              "      <td>11.363200</td>\n",
              "    </tr>\n",
              "    <tr>\n",
              "      <th>std</th>\n",
              "      <td>1.947844</td>\n",
              "      <td>29.212119</td>\n",
              "      <td>10.432954</td>\n",
              "      <td>11.708433</td>\n",
              "      <td>9.061275</td>\n",
              "    </tr>\n",
              "    <tr>\n",
              "      <th>min</th>\n",
              "      <td>2.960000</td>\n",
              "      <td>86.760000</td>\n",
              "      <td>115.000000</td>\n",
              "      <td>31.000000</td>\n",
              "      <td>2.000000</td>\n",
              "    </tr>\n",
              "    <tr>\n",
              "      <th>25%</th>\n",
              "      <td>8.460000</td>\n",
              "      <td>152.220000</td>\n",
              "      <td>147.000000</td>\n",
              "      <td>68.000000</td>\n",
              "      <td>2.000000</td>\n",
              "    </tr>\n",
              "    <tr>\n",
              "      <th>50%</th>\n",
              "      <td>9.980000</td>\n",
              "      <td>174.985000</td>\n",
              "      <td>154.000000</td>\n",
              "      <td>76.000000</td>\n",
              "      <td>10.000000</td>\n",
              "    </tr>\n",
              "    <tr>\n",
              "      <th>75%</th>\n",
              "      <td>11.480000</td>\n",
              "      <td>197.722500</td>\n",
              "      <td>161.000000</td>\n",
              "      <td>84.000000</td>\n",
              "      <td>17.000000</td>\n",
              "    </tr>\n",
              "    <tr>\n",
              "      <th>max</th>\n",
              "      <td>16.450000</td>\n",
              "      <td>261.510000</td>\n",
              "      <td>192.000000</td>\n",
              "      <td>116.000000</td>\n",
              "      <td>56.000000</td>\n",
              "    </tr>\n",
              "  </tbody>\n",
              "</table>\n",
              "</div>"
            ],
            "text/plain": [
              "           diameter        weight           red         green          blue\n",
              "count  10000.000000  10000.000000  10000.000000  10000.000000  10000.000000\n",
              "mean       9.975685    175.050792    153.847800     76.010600     11.363200\n",
              "std        1.947844     29.212119     10.432954     11.708433      9.061275\n",
              "min        2.960000     86.760000    115.000000     31.000000      2.000000\n",
              "25%        8.460000    152.220000    147.000000     68.000000      2.000000\n",
              "50%        9.980000    174.985000    154.000000     76.000000     10.000000\n",
              "75%       11.480000    197.722500    161.000000     84.000000     17.000000\n",
              "max       16.450000    261.510000    192.000000    116.000000     56.000000"
            ]
          },
          "metadata": {
            "tags": []
          },
          "execution_count": 8
        }
      ]
    },
    {
      "cell_type": "code",
      "metadata": {
        "id": "beh6CcSSNtDx"
      },
      "source": [
        "data.loc[data['name'] == 'orange', 'name'] = 1\n",
        "data.loc[data['name'] == 'grapefruit', 'name'] = 0"
      ],
      "execution_count": null,
      "outputs": []
    },
    {
      "cell_type": "code",
      "metadata": {
        "id": "5AT3zLpbNzjd"
      },
      "source": [
        "data.name = data.name.astype(int)"
      ],
      "execution_count": null,
      "outputs": []
    },
    {
      "cell_type": "code",
      "metadata": {
        "id": "31aAICxtN7Ki"
      },
      "source": [
        "x_data = data.drop(['name'], 1)\n",
        "y_data = data.name\n",
        "\n",
        "x_train, x_test, y_train, y_test = train_test_split(x_data, y_data, test_size=0.2, random_state=7)"
      ],
      "execution_count": null,
      "outputs": []
    },
    {
      "cell_type": "code",
      "metadata": {
        "id": "fF9b9uHw32D7",
        "colab": {
          "base_uri": "https://localhost:8080/"
        },
        "outputId": "b998ed64-1080-4507-bbd2-4f48d21c7445"
      },
      "source": [
        "y_data.value_counts()"
      ],
      "execution_count": null,
      "outputs": [
        {
          "output_type": "execute_result",
          "data": {
            "text/plain": [
              "True     5000\n",
              "False    5000\n",
              "Name: name, dtype: int64"
            ]
          },
          "metadata": {
            "tags": []
          },
          "execution_count": 15
        }
      ]
    },
    {
      "cell_type": "markdown",
      "metadata": {
        "id": "UtsQ4AuvVzI6"
      },
      "source": [
        "## XGBoost"
      ]
    },
    {
      "cell_type": "code",
      "metadata": {
        "id": "EGK0xIo9QjS1"
      },
      "source": [
        "model_xgb = xgb.XGBClassifier()\n",
        "\n",
        "model_xgb.fit(x_train, y_train)\n",
        "y_predict_xgb = model_xgb.predict(x_test)"
      ],
      "execution_count": null,
      "outputs": []
    },
    {
      "cell_type": "markdown",
      "metadata": {
        "id": "zkdtmDgjV3HD"
      },
      "source": [
        "## CatBoost"
      ]
    },
    {
      "cell_type": "code",
      "metadata": {
        "id": "pdzDipPYObJ_"
      },
      "source": [
        "model_cat = CatBoostClassifier(silent=True)\n",
        "\n",
        "model_cat.fit(x_train, y_train)\n",
        "y_predict_cat = model_cat.predict(x_test)"
      ],
      "execution_count": null,
      "outputs": []
    },
    {
      "cell_type": "markdown",
      "metadata": {
        "id": "RIYA9TVo32D7"
      },
      "source": [
        "Проверяем качество"
      ]
    },
    {
      "cell_type": "code",
      "metadata": {
        "id": "Go3SvlyH32D7",
        "colab": {
          "base_uri": "https://localhost:8080/"
        },
        "outputId": "9c8fd393-6e9f-4c49-fad1-91466a01b92f"
      },
      "source": [
        "def evaluate_results(y_test, y_predict):\n",
        "    f1 = f1_score(y_test, y_predict)\n",
        "    print(\"f1: %.2f%%\" % (f1 * 100.0)) \n",
        "    roc = roc_auc_score(y_test, y_predict)\n",
        "    print(\"roc: %.2f%%\" % (roc * 100.0)) \n",
        "    rec = recall_score(y_test, y_predict, average='binary')\n",
        "    print(\"recall: %.2f%%\" % (rec * 100.0)) \n",
        "    prc = precision_score(y_test, y_predict, average='binary')\n",
        "    print(\"precision: %.2f%%\" % (prc * 100.0)) \n",
        "\n",
        "    \n",
        "print('XGB results:')\n",
        "evaluate_results(y_test, y_predict_xgb)\n",
        "\n",
        "print('\\nCAT results:')\n",
        "evaluate_results(y_test, y_predict_cat)"
      ],
      "execution_count": null,
      "outputs": [
        {
          "output_type": "stream",
          "text": [
            "XGB results:\n",
            "f1: 93.10%\n",
            "roc: 93.10%\n",
            "recall: 92.73%\n",
            "precision: 93.47%\n",
            "\n",
            "CAT results:\n",
            "f1: 98.34%\n",
            "roc: 98.35%\n",
            "recall: 97.41%\n",
            "precision: 99.29%\n"
          ],
          "name": "stdout"
        }
      ]
    },
    {
      "cell_type": "code",
      "metadata": {
        "id": "n0hcFv0iZWSe"
      },
      "source": [
        "data = data[['diameter', 'weight', 'red', 'green', 'blue', 'name']]"
      ],
      "execution_count": null,
      "outputs": []
    },
    {
      "cell_type": "markdown",
      "metadata": {
        "id": "zXdhvW9B32D8"
      },
      "source": [
        "### Теперь очередь за PU learning"
      ]
    },
    {
      "cell_type": "markdown",
      "metadata": {
        "id": "OQOM3Ihb32D8"
      },
      "source": [
        "Представим, что нам неизвестны негативы и часть позитивов"
      ]
    },
    {
      "cell_type": "code",
      "metadata": {
        "id": "aCySfg4Z32D8",
        "colab": {
          "base_uri": "https://localhost:8080/"
        },
        "outputId": "2fe82f66-a8e8-4d1a-c1c8-12ad6c3d40a5"
      },
      "source": [
        "mod_data = data.copy()\n",
        "#get the indices of the positives samples\n",
        "pos_ind = np.where(mod_data.name.values == 1)[0]\n",
        "#shuffle them\n",
        "np.random.shuffle(pos_ind)\n",
        "# leave just 25% of the positives marked\n",
        "pos_sample_len = int(np.ceil(0.25 * len(pos_ind)))\n",
        "print(f'Using {pos_sample_len}/{len(pos_ind)} as positives and unlabeling the rest')\n",
        "pos_sample = pos_ind[:pos_sample_len]"
      ],
      "execution_count": null,
      "outputs": [
        {
          "output_type": "stream",
          "text": [
            "Using 1250/5000 as positives and unlabeling the rest\n"
          ],
          "name": "stdout"
        }
      ]
    },
    {
      "cell_type": "markdown",
      "metadata": {
        "id": "2bG88-NV32D9"
      },
      "source": [
        "Создаем столбец для новой целевой переменной, где у нас два класса - P (1) и U (-1)"
      ]
    },
    {
      "cell_type": "code",
      "metadata": {
        "id": "QBE_f4ap32D9",
        "colab": {
          "base_uri": "https://localhost:8080/"
        },
        "outputId": "f304e622-c2ed-439f-b49d-b0f1e17bd2e1"
      },
      "source": [
        "mod_data['class_test'] = -1\n",
        "mod_data.loc[pos_sample,'class_test'] = 1\n",
        "print('target variable:\\n', mod_data.iloc[:,-1].value_counts())"
      ],
      "execution_count": null,
      "outputs": [
        {
          "output_type": "stream",
          "text": [
            "target variable:\n",
            " -1    8750\n",
            " 1    1250\n",
            "Name: class_test, dtype: int64\n"
          ],
          "name": "stdout"
        }
      ]
    },
    {
      "cell_type": "code",
      "metadata": {
        "id": "p8Gugr1D32D-",
        "colab": {
          "base_uri": "https://localhost:8080/",
          "height": 359
        },
        "outputId": "b8992139-850b-43de-8811-f85d1a8611a4"
      },
      "source": [
        "mod_data.head(10)"
      ],
      "execution_count": null,
      "outputs": [
        {
          "output_type": "execute_result",
          "data": {
            "text/html": [
              "<div>\n",
              "<style scoped>\n",
              "    .dataframe tbody tr th:only-of-type {\n",
              "        vertical-align: middle;\n",
              "    }\n",
              "\n",
              "    .dataframe tbody tr th {\n",
              "        vertical-align: top;\n",
              "    }\n",
              "\n",
              "    .dataframe thead th {\n",
              "        text-align: right;\n",
              "    }\n",
              "</style>\n",
              "<table border=\"1\" class=\"dataframe\">\n",
              "  <thead>\n",
              "    <tr style=\"text-align: right;\">\n",
              "      <th></th>\n",
              "      <th>name</th>\n",
              "      <th>diameter</th>\n",
              "      <th>weight</th>\n",
              "      <th>red</th>\n",
              "      <th>green</th>\n",
              "      <th>blue</th>\n",
              "      <th>class_test</th>\n",
              "    </tr>\n",
              "  </thead>\n",
              "  <tbody>\n",
              "    <tr>\n",
              "      <th>0</th>\n",
              "      <td>1</td>\n",
              "      <td>2.96</td>\n",
              "      <td>86.76</td>\n",
              "      <td>172</td>\n",
              "      <td>85</td>\n",
              "      <td>2</td>\n",
              "      <td>-1</td>\n",
              "    </tr>\n",
              "    <tr>\n",
              "      <th>1</th>\n",
              "      <td>1</td>\n",
              "      <td>3.91</td>\n",
              "      <td>88.05</td>\n",
              "      <td>166</td>\n",
              "      <td>78</td>\n",
              "      <td>3</td>\n",
              "      <td>-1</td>\n",
              "    </tr>\n",
              "    <tr>\n",
              "      <th>2</th>\n",
              "      <td>1</td>\n",
              "      <td>4.42</td>\n",
              "      <td>95.17</td>\n",
              "      <td>156</td>\n",
              "      <td>81</td>\n",
              "      <td>2</td>\n",
              "      <td>-1</td>\n",
              "    </tr>\n",
              "    <tr>\n",
              "      <th>3</th>\n",
              "      <td>1</td>\n",
              "      <td>4.47</td>\n",
              "      <td>95.60</td>\n",
              "      <td>163</td>\n",
              "      <td>81</td>\n",
              "      <td>4</td>\n",
              "      <td>-1</td>\n",
              "    </tr>\n",
              "    <tr>\n",
              "      <th>4</th>\n",
              "      <td>1</td>\n",
              "      <td>4.48</td>\n",
              "      <td>95.76</td>\n",
              "      <td>161</td>\n",
              "      <td>72</td>\n",
              "      <td>9</td>\n",
              "      <td>-1</td>\n",
              "    </tr>\n",
              "    <tr>\n",
              "      <th>5</th>\n",
              "      <td>1</td>\n",
              "      <td>4.59</td>\n",
              "      <td>95.86</td>\n",
              "      <td>142</td>\n",
              "      <td>100</td>\n",
              "      <td>2</td>\n",
              "      <td>-1</td>\n",
              "    </tr>\n",
              "    <tr>\n",
              "      <th>6</th>\n",
              "      <td>1</td>\n",
              "      <td>4.64</td>\n",
              "      <td>97.94</td>\n",
              "      <td>156</td>\n",
              "      <td>85</td>\n",
              "      <td>2</td>\n",
              "      <td>1</td>\n",
              "    </tr>\n",
              "    <tr>\n",
              "      <th>7</th>\n",
              "      <td>1</td>\n",
              "      <td>4.65</td>\n",
              "      <td>98.50</td>\n",
              "      <td>142</td>\n",
              "      <td>74</td>\n",
              "      <td>2</td>\n",
              "      <td>-1</td>\n",
              "    </tr>\n",
              "    <tr>\n",
              "      <th>8</th>\n",
              "      <td>1</td>\n",
              "      <td>4.68</td>\n",
              "      <td>100.20</td>\n",
              "      <td>159</td>\n",
              "      <td>90</td>\n",
              "      <td>16</td>\n",
              "      <td>1</td>\n",
              "    </tr>\n",
              "    <tr>\n",
              "      <th>9</th>\n",
              "      <td>1</td>\n",
              "      <td>4.69</td>\n",
              "      <td>100.31</td>\n",
              "      <td>161</td>\n",
              "      <td>76</td>\n",
              "      <td>6</td>\n",
              "      <td>-1</td>\n",
              "    </tr>\n",
              "  </tbody>\n",
              "</table>\n",
              "</div>"
            ],
            "text/plain": [
              "   name  diameter  weight  red  green  blue  class_test\n",
              "0     1      2.96   86.76  172     85     2          -1\n",
              "1     1      3.91   88.05  166     78     3          -1\n",
              "2     1      4.42   95.17  156     81     2          -1\n",
              "3     1      4.47   95.60  163     81     4          -1\n",
              "4     1      4.48   95.76  161     72     9          -1\n",
              "5     1      4.59   95.86  142    100     2          -1\n",
              "6     1      4.64   97.94  156     85     2           1\n",
              "7     1      4.65   98.50  142     74     2          -1\n",
              "8     1      4.68  100.20  159     90    16           1\n",
              "9     1      4.69  100.31  161     76     6          -1"
            ]
          },
          "metadata": {
            "tags": []
          },
          "execution_count": 40
        }
      ]
    },
    {
      "cell_type": "code",
      "metadata": {
        "id": "xWYMQDdq32D-"
      },
      "source": [
        "x_data = mod_data.iloc[:,:-2].values # just the X \n",
        "y_labeled = mod_data.iloc[:,-1].values # new class (just the P & U)\n",
        "y_positive = mod_data.iloc[:,-2].values # original class"
      ],
      "execution_count": null,
      "outputs": []
    },
    {
      "cell_type": "markdown",
      "metadata": {
        "id": "JNI1Sp2h32D-"
      },
      "source": [
        "### 1. random negative sampling"
      ]
    },
    {
      "cell_type": "code",
      "metadata": {
        "scrolled": true,
        "id": "rhmQPX9Y32D_",
        "colab": {
          "base_uri": "https://localhost:8080/"
        },
        "outputId": "0f583baa-3976-4d83-f62b-e56e9b3be7f7"
      },
      "source": [
        "mod_data = mod_data.sample(frac=1)\n",
        "neg_sample = mod_data[mod_data['class_test']==-1][:len(mod_data[mod_data['class_test']==1])]\n",
        "sample_test = mod_data[mod_data['class_test']==-1][len(mod_data[mod_data['class_test']==1]):]\n",
        "pos_sample = mod_data[mod_data['class_test']==1]\n",
        "print(neg_sample.shape, pos_sample.shape)\n",
        "sample_train = pd.concat([neg_sample, pos_sample]).sample(frac=1)"
      ],
      "execution_count": null,
      "outputs": [
        {
          "output_type": "stream",
          "text": [
            "(1250, 7) (1250, 7)\n"
          ],
          "name": "stdout"
        }
      ]
    },
    {
      "cell_type": "code",
      "metadata": {
        "id": "CdoD9MJf32D_",
        "colab": {
          "base_uri": "https://localhost:8080/"
        },
        "outputId": "37549954-a66a-46c8-bb30-777aaf59f0d9"
      },
      "source": [
        "model_xgb_pu = xgb.XGBClassifier()\n",
        "\n",
        "model_xgb_pu.fit(sample_train.iloc[:,:-2].values, \n",
        "          sample_train.iloc[:,-2].values)\n",
        "y_predict_xgb_pu = model_xgb_pu.predict(sample_test.iloc[:,:-2].values)\n",
        "evaluate_results(sample_test.iloc[:,-2].values, y_predict_xgb_pu)"
      ],
      "execution_count": null,
      "outputs": [
        {
          "output_type": "stream",
          "text": [
            "f1: 90.88%\n",
            "roc: 92.28%\n",
            "recall: 96.74%\n",
            "precision: 85.68%\n"
          ],
          "name": "stdout"
        }
      ]
    },
    {
      "cell_type": "code",
      "metadata": {
        "colab": {
          "base_uri": "https://localhost:8080/"
        },
        "id": "AJxOrKyzYafx",
        "outputId": "657c1a80-420b-419f-eadd-4dd0f3ff4190"
      },
      "source": [
        "model_cat_pu = CatBoostClassifier(silent=True)\n",
        "\n",
        "model_cat_pu.fit(sample_train.iloc[:,:-2].values, \n",
        "          sample_train.iloc[:,-2].values)\n",
        "y_predict_cat_pu = model_cat_pu.predict(sample_test.iloc[:,:-2].values)\n",
        "evaluate_results(sample_test.iloc[:,-2].values, y_predict_cat_pu)"
      ],
      "execution_count": null,
      "outputs": [
        {
          "output_type": "stream",
          "text": [
            "f1: 92.27%\n",
            "roc: 93.50%\n",
            "recall: 96.90%\n",
            "precision: 88.07%\n"
          ],
          "name": "stdout"
        }
      ]
    },
    {
      "cell_type": "markdown",
      "metadata": {
        "id": "YbUDZlqrY6n9"
      },
      "source": [
        "Точность упала, как ни странно, ведь мы дали меньше данных для обучения. Однако, модели все равно показывают довольно хороший результат"
      ]
    },
    {
      "cell_type": "markdown",
      "metadata": {
        "id": "IIw32I5DYqbQ"
      },
      "source": [
        "### Возьмем другую долю P"
      ]
    },
    {
      "cell_type": "code",
      "metadata": {
        "colab": {
          "base_uri": "https://localhost:8080/"
        },
        "id": "2ysNn3-6ZMrB",
        "outputId": "760c6a17-fbed-4ae6-8f8e-d6139015d17d"
      },
      "source": [
        "mod_data = data.copy()\n",
        "#get the indices of the positives samples\n",
        "pos_ind = np.where(mod_data.name.values == 1)[0]\n",
        "#shuffle them\n",
        "np.random.shuffle(pos_ind)\n",
        "# leave just 25% of the positives marked\n",
        "pos_sample_len = int(np.ceil(0.5 * len(pos_ind)))\n",
        "print(f'Using {pos_sample_len}/{len(pos_ind)} as positives and unlabeling the rest')\n",
        "pos_sample = pos_ind[:pos_sample_len]"
      ],
      "execution_count": null,
      "outputs": [
        {
          "output_type": "stream",
          "text": [
            "Using 2500/5000 as positives and unlabeling the rest\n"
          ],
          "name": "stdout"
        }
      ]
    },
    {
      "cell_type": "code",
      "metadata": {
        "colab": {
          "base_uri": "https://localhost:8080/"
        },
        "id": "PFeWkMhEZMs-",
        "outputId": "263f6dfb-17b8-4518-f92e-3697e73ca477"
      },
      "source": [
        "mod_data['class_test'] = -1\n",
        "mod_data.loc[pos_sample,'class_test'] = 1\n",
        "print('target variable:\\n', mod_data.iloc[:,-1].value_counts())"
      ],
      "execution_count": null,
      "outputs": [
        {
          "output_type": "stream",
          "text": [
            "target variable:\n",
            " -1    7500\n",
            " 1    2500\n",
            "Name: class_test, dtype: int64\n"
          ],
          "name": "stdout"
        }
      ]
    },
    {
      "cell_type": "code",
      "metadata": {
        "colab": {
          "base_uri": "https://localhost:8080/",
          "height": 359
        },
        "id": "mG_fIFrEZTKA",
        "outputId": "19274fdf-3118-4a81-93f8-2760d8c3c739"
      },
      "source": [
        "mod_data.head(10)"
      ],
      "execution_count": null,
      "outputs": [
        {
          "output_type": "execute_result",
          "data": {
            "text/html": [
              "<div>\n",
              "<style scoped>\n",
              "    .dataframe tbody tr th:only-of-type {\n",
              "        vertical-align: middle;\n",
              "    }\n",
              "\n",
              "    .dataframe tbody tr th {\n",
              "        vertical-align: top;\n",
              "    }\n",
              "\n",
              "    .dataframe thead th {\n",
              "        text-align: right;\n",
              "    }\n",
              "</style>\n",
              "<table border=\"1\" class=\"dataframe\">\n",
              "  <thead>\n",
              "    <tr style=\"text-align: right;\">\n",
              "      <th></th>\n",
              "      <th>diameter</th>\n",
              "      <th>weight</th>\n",
              "      <th>red</th>\n",
              "      <th>green</th>\n",
              "      <th>blue</th>\n",
              "      <th>name</th>\n",
              "      <th>class_test</th>\n",
              "    </tr>\n",
              "  </thead>\n",
              "  <tbody>\n",
              "    <tr>\n",
              "      <th>0</th>\n",
              "      <td>2.96</td>\n",
              "      <td>86.76</td>\n",
              "      <td>172</td>\n",
              "      <td>85</td>\n",
              "      <td>2</td>\n",
              "      <td>1</td>\n",
              "      <td>1</td>\n",
              "    </tr>\n",
              "    <tr>\n",
              "      <th>1</th>\n",
              "      <td>3.91</td>\n",
              "      <td>88.05</td>\n",
              "      <td>166</td>\n",
              "      <td>78</td>\n",
              "      <td>3</td>\n",
              "      <td>1</td>\n",
              "      <td>1</td>\n",
              "    </tr>\n",
              "    <tr>\n",
              "      <th>2</th>\n",
              "      <td>4.42</td>\n",
              "      <td>95.17</td>\n",
              "      <td>156</td>\n",
              "      <td>81</td>\n",
              "      <td>2</td>\n",
              "      <td>1</td>\n",
              "      <td>-1</td>\n",
              "    </tr>\n",
              "    <tr>\n",
              "      <th>3</th>\n",
              "      <td>4.47</td>\n",
              "      <td>95.60</td>\n",
              "      <td>163</td>\n",
              "      <td>81</td>\n",
              "      <td>4</td>\n",
              "      <td>1</td>\n",
              "      <td>1</td>\n",
              "    </tr>\n",
              "    <tr>\n",
              "      <th>4</th>\n",
              "      <td>4.48</td>\n",
              "      <td>95.76</td>\n",
              "      <td>161</td>\n",
              "      <td>72</td>\n",
              "      <td>9</td>\n",
              "      <td>1</td>\n",
              "      <td>1</td>\n",
              "    </tr>\n",
              "    <tr>\n",
              "      <th>5</th>\n",
              "      <td>4.59</td>\n",
              "      <td>95.86</td>\n",
              "      <td>142</td>\n",
              "      <td>100</td>\n",
              "      <td>2</td>\n",
              "      <td>1</td>\n",
              "      <td>-1</td>\n",
              "    </tr>\n",
              "    <tr>\n",
              "      <th>6</th>\n",
              "      <td>4.64</td>\n",
              "      <td>97.94</td>\n",
              "      <td>156</td>\n",
              "      <td>85</td>\n",
              "      <td>2</td>\n",
              "      <td>1</td>\n",
              "      <td>-1</td>\n",
              "    </tr>\n",
              "    <tr>\n",
              "      <th>7</th>\n",
              "      <td>4.65</td>\n",
              "      <td>98.50</td>\n",
              "      <td>142</td>\n",
              "      <td>74</td>\n",
              "      <td>2</td>\n",
              "      <td>1</td>\n",
              "      <td>1</td>\n",
              "    </tr>\n",
              "    <tr>\n",
              "      <th>8</th>\n",
              "      <td>4.68</td>\n",
              "      <td>100.20</td>\n",
              "      <td>159</td>\n",
              "      <td>90</td>\n",
              "      <td>16</td>\n",
              "      <td>1</td>\n",
              "      <td>1</td>\n",
              "    </tr>\n",
              "    <tr>\n",
              "      <th>9</th>\n",
              "      <td>4.69</td>\n",
              "      <td>100.31</td>\n",
              "      <td>161</td>\n",
              "      <td>76</td>\n",
              "      <td>6</td>\n",
              "      <td>1</td>\n",
              "      <td>1</td>\n",
              "    </tr>\n",
              "  </tbody>\n",
              "</table>\n",
              "</div>"
            ],
            "text/plain": [
              "   diameter  weight  red  green  blue  name  class_test\n",
              "0      2.96   86.76  172     85     2     1           1\n",
              "1      3.91   88.05  166     78     3     1           1\n",
              "2      4.42   95.17  156     81     2     1          -1\n",
              "3      4.47   95.60  163     81     4     1           1\n",
              "4      4.48   95.76  161     72     9     1           1\n",
              "5      4.59   95.86  142    100     2     1          -1\n",
              "6      4.64   97.94  156     85     2     1          -1\n",
              "7      4.65   98.50  142     74     2     1           1\n",
              "8      4.68  100.20  159     90    16     1           1\n",
              "9      4.69  100.31  161     76     6     1           1"
            ]
          },
          "metadata": {
            "tags": []
          },
          "execution_count": 67
        }
      ]
    },
    {
      "cell_type": "code",
      "metadata": {
        "id": "_GeLXQvCZTMD"
      },
      "source": [
        "x_data = mod_data.iloc[:,:-2].values # just the X \n",
        "y_labeled = mod_data.iloc[:,-1].values # new class (just the P & U)\n",
        "y_positive = mod_data.iloc[:,-2].values # original class"
      ],
      "execution_count": null,
      "outputs": []
    },
    {
      "cell_type": "code",
      "metadata": {
        "colab": {
          "base_uri": "https://localhost:8080/"
        },
        "id": "7GFJoiicZTOE",
        "outputId": "762e00bd-e704-4731-c864-63ed3f133731"
      },
      "source": [
        "mod_data = mod_data.sample(frac=1)\n",
        "neg_sample = mod_data[mod_data['class_test']==-1][:len(mod_data[mod_data['class_test']==1])]\n",
        "sample_test = mod_data[mod_data['class_test']==-1][len(mod_data[mod_data['class_test']==1]):]\n",
        "pos_sample = mod_data[mod_data['class_test']==1]\n",
        "print(neg_sample.shape, pos_sample.shape)\n",
        "sample_train = pd.concat([neg_sample, pos_sample]).sample(frac=1)"
      ],
      "execution_count": null,
      "outputs": [
        {
          "output_type": "stream",
          "text": [
            "(2500, 7) (2500, 7)\n"
          ],
          "name": "stdout"
        }
      ]
    },
    {
      "cell_type": "code",
      "metadata": {
        "colab": {
          "base_uri": "https://localhost:8080/"
        },
        "id": "LPSLVPHCZh26",
        "outputId": "c043d86b-4db8-4fc9-afdb-6db250466357"
      },
      "source": [
        "model_xgb_pu_2 = xgb.XGBClassifier()\n",
        "\n",
        "model_xgb_pu_2.fit(sample_train.iloc[:,:-2].values, \n",
        "          sample_train.iloc[:,-2].values)\n",
        "y_predict_xgb_pu_2 = model_xgb_pu_2.predict(sample_test.iloc[:,:-2].values)\n",
        "evaluate_results(sample_test.iloc[:,-2].values, y_predict_xgb_pu_2)"
      ],
      "execution_count": null,
      "outputs": [
        {
          "output_type": "stream",
          "text": [
            "f1: 88.57%\n",
            "roc: 93.06%\n",
            "recall: 96.10%\n",
            "precision: 82.14%\n"
          ],
          "name": "stdout"
        }
      ]
    },
    {
      "cell_type": "code",
      "metadata": {
        "colab": {
          "base_uri": "https://localhost:8080/"
        },
        "id": "0qJWF8mmZm5I",
        "outputId": "de403da5-1cd5-4249-f7e0-afb4acd561dd"
      },
      "source": [
        "model_cat_pu_2 = CatBoostClassifier(silent=True)\n",
        "\n",
        "model_cat_pu_2.fit(sample_train.iloc[:,:-2].values, \n",
        "          sample_train.iloc[:,-2].values)\n",
        "y_predict_cat_pu_2 = model_cat_pu_2.predict(sample_test.iloc[:,:-2].values)\n",
        "evaluate_results(sample_test.iloc[:,-2].values, y_predict_cat_pu_2)"
      ],
      "execution_count": null,
      "outputs": [
        {
          "output_type": "stream",
          "text": [
            "f1: 93.84%\n",
            "roc: 96.31%\n",
            "recall: 97.59%\n",
            "precision: 90.38%\n"
          ],
          "name": "stdout"
        }
      ]
    },
    {
      "cell_type": "markdown",
      "metadata": {
        "id": "AylIGAxOZ9Ww"
      },
      "source": [
        "## Дав модели больше данных p - видим увеличение метрик качетсва. (На xgb почему-то упал f1)."
      ]
    },
    {
      "cell_type": "code",
      "metadata": {
        "id": "3FFFfFL332EA"
      },
      "source": [
        ""
      ],
      "execution_count": null,
      "outputs": []
    }
  ]
}